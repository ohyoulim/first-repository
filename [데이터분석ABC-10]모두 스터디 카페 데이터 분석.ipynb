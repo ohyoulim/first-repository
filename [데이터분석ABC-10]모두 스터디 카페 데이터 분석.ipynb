{
 "cells": [
  {
   "cell_type": "markdown",
   "id": "3d515a43",
   "metadata": {},
   "source": [
    "## 루브릭\n",
    "|평가문항|상세기준|self check|\n",
    "|:-------|:-------|:-----------------------|\n",
    "|1. 필수 문제 세 가지를 해결하였는가?|데이터 전처리 방법과 시각화 도구를 사용하여, 문제에서 제시된 요구사항들을 모두 만족했는가?|OK|\n",
    "|2. 프로젝트를 통해 해결하고 싶은 문제를 정의하였는가?|제공된 데이터에서 문제 해결에 필요한 부분을 선별해냈고, 이를 확인하기 위해 적절한 형태로 전처리했는가?|OK|\n",
    "|3. 내가 정의한 문제 해결 시도와 결과|스스로 정의한 문제에 대해 적절한 해결 시도를 하고 결과를 도출해냈는가?.|OK|\n"
   ]
  },
  {
   "cell_type": "markdown",
   "id": "d579bb71",
   "metadata": {},
   "source": [
    "## 학습목표\n",
    "* 기업이 처한 상황을 인식하고 문제를 정의\n",
    "* 문제를 해결하기 위해 필요한 데이터를 인지하고 이해\n",
    "* 적절한 분석 기법을 적용해 문제를 해결"
   ]
  },
  {
   "cell_type": "markdown",
   "id": "b5297d15",
   "metadata": {},
   "source": [
    "## 1. 상황인식"
   ]
  },
  {
   "cell_type": "markdown",
   "id": "c992d67d",
   "metadata": {},
   "source": [
    "> \"모두 스터디카페\"의 데이터를 분석하여 더 잘 되기위한 운영 전략을 제시 \n",
    "\n",
    "\n",
    "1. 제공되는 data\n",
    "  * entry_data: '모두 스터디카페'의 시간별 입장 기록 데이터  \n",
    "  * sales_data: '모두 스터디카페'의 시간별 음식/음료 판매 데이터  \n",
    "  * item_data: '모두 스터디카페'에서 판매하고 있는 음식/음료 종류와 가격  \n",
    "  * item_entry_data: '모두 스터디카페'에서 판매하고 있는 입장권 종류와 가격 \n",
    "2. 아래 내용에 대한 시각화 포함\n",
    "  * 월별 매출액 추세  \n",
    "  * 가장 인기있는 음식/음료  \n",
    "  * 가장 많이 팔린 입장권 종류  "
   ]
  },
  {
   "cell_type": "markdown",
   "id": "9c40a28e",
   "metadata": {},
   "source": [
    "## 2. 문제 정의"
   ]
  },
  {
   "cell_type": "markdown",
   "id": "2f0cb4df",
   "metadata": {},
   "source": [
    "### 2-1 핵심 문제"
   ]
  },
  {
   "cell_type": "markdown",
   "id": "32523c16",
   "metadata": {},
   "source": [
    "> 핵심문제 : 모두카페의 상태는 어떤가?\n",
    ">  * 월별 매출액 추세  \n",
    ">  * 가장 인기있는 음식/음료   \n",
    ">  * 가장 많이 팔린 입장권 종류  "
   ]
  },
  {
   "cell_type": "markdown",
   "id": "4eb7b20b",
   "metadata": {},
   "source": [
    "### 2-2 내가 정한 문제"
   ]
  },
  {
   "cell_type": "markdown",
   "id": "b4c8610c",
   "metadata": {},
   "source": [
    "> 문제 정의 : 단골 고객 확보를 위해서 어떻게 해야 할까?  \n",
    ">             단골 고객 대상으로 선호, 비선호 음식/음료를 조사하여 메뉴 개선  \n",
    ">  * 단골 고객이 선호하는 음식(단골 고객이 많이 주문한 음식/음료)\n",
    ">  * 단골 고객이 한번만 주문한 음식/음료(단골 고객이 선호하지 않는 음식)"
   ]
  },
  {
   "cell_type": "markdown",
   "id": "a3124b1c",
   "metadata": {},
   "source": [
    "## 3 데이터 분석"
   ]
  },
  {
   "cell_type": "markdown",
   "id": "199e1850",
   "metadata": {},
   "source": [
    "### 3-1 데이터 불러오기 "
   ]
  },
  {
   "cell_type": "code",
   "execution_count": 1,
   "id": "516307bf",
   "metadata": {},
   "outputs": [],
   "source": [
    "# 필요 라이브러리 호출하기\n",
    "# Pandas, Numpy, Matplotlib, Seaborn을 호출해봅니다.\n",
    "import pandas as pd\n",
    "import numpy as np\n",
    "import matplotlib.pyplot as plt\n",
    "plt.rc('font',family='Malgun Gothic')\n",
    "import seaborn as sns\n",
    "\n",
    "from IPython.core.interactiveshell import InteractiveShell\n",
    "InteractiveShell.ast_node_interactivity = \"all\"\n",
    "from IPython.display import Image"
   ]
  },
  {
   "cell_type": "code",
   "execution_count": 2,
   "id": "93ba514a",
   "metadata": {},
   "outputs": [],
   "source": [
    "# 데이터 호출하기\n",
    "# entry_data.csv, sales_data.csv, item_data.csv, item_entry_data.csv의\n",
    "# 총 네 가지 파일을 각각 호출합니다.\n",
    "# 파일들은 본 클라우드에 저장되어있어 다음을 참고하여 호출해주세요.\n",
    "# entry_data = pd.read_csv('~/aiffel/data_analysis_basic/data/entry_data.csv')\n",
    "\n",
    "entry_data = pd.read_csv('./entry_data.csv')\n",
    "sales_data = pd.read_csv('./sales_data.csv')\n",
    "item_data = pd.read_csv('./item_data.csv')\n",
    "item_entry_data = pd.read_csv('./item_entry_data.csv')"
   ]
  },
  {
   "cell_type": "code",
   "execution_count": 3,
   "id": "afe9c739",
   "metadata": {},
   "outputs": [
    {
     "data": {
      "text/html": [
       "<div>\n",
       "<style scoped>\n",
       "    .dataframe tbody tr th:only-of-type {\n",
       "        vertical-align: middle;\n",
       "    }\n",
       "\n",
       "    .dataframe tbody tr th {\n",
       "        vertical-align: top;\n",
       "    }\n",
       "\n",
       "    .dataframe thead th {\n",
       "        text-align: right;\n",
       "    }\n",
       "</style>\n",
       "<table border=\"1\" class=\"dataframe\">\n",
       "  <thead>\n",
       "    <tr style=\"text-align: right;\">\n",
       "      <th></th>\n",
       "      <th>요금제명</th>\n",
       "      <th>입실</th>\n",
       "      <th>퇴실</th>\n",
       "      <th>이용</th>\n",
       "      <th>위치</th>\n",
       "      <th>금액</th>\n",
       "      <th>구분</th>\n",
       "      <th>고객</th>\n",
       "    </tr>\n",
       "  </thead>\n",
       "  <tbody>\n",
       "    <tr>\n",
       "      <th>0</th>\n",
       "      <td>시간요금제(1시간)</td>\n",
       "      <td>2022-04-01 23:39</td>\n",
       "      <td>2022-04-02 0:39</td>\n",
       "      <td>오전 1:00:00</td>\n",
       "      <td>선불기2</td>\n",
       "      <td>3000</td>\n",
       "      <td>퇴실</td>\n",
       "      <td>customer263717</td>\n",
       "    </tr>\n",
       "    <tr>\n",
       "      <th>1</th>\n",
       "      <td>시간요금제(1시간)</td>\n",
       "      <td>2022-04-01 23:39</td>\n",
       "      <td>2022-04-02 0:39</td>\n",
       "      <td>오전 1:00:00</td>\n",
       "      <td>선불기2</td>\n",
       "      <td>3000</td>\n",
       "      <td>퇴실</td>\n",
       "      <td>customer263717</td>\n",
       "    </tr>\n",
       "    <tr>\n",
       "      <th>2</th>\n",
       "      <td>무제한 입장권</td>\n",
       "      <td>2022-04-01 20:55</td>\n",
       "      <td>2022-04-01 21:41</td>\n",
       "      <td>오전 12:46:00</td>\n",
       "      <td>선불기2</td>\n",
       "      <td>7400</td>\n",
       "      <td>퇴실</td>\n",
       "      <td>customer247263</td>\n",
       "    </tr>\n",
       "    <tr>\n",
       "      <th>3</th>\n",
       "      <td>무제한 입장권</td>\n",
       "      <td>2022-04-01 20:55</td>\n",
       "      <td>2022-04-01 21:41</td>\n",
       "      <td>오전 12:46:00</td>\n",
       "      <td>선불기2</td>\n",
       "      <td>7400</td>\n",
       "      <td>퇴실</td>\n",
       "      <td>customer247263</td>\n",
       "    </tr>\n",
       "    <tr>\n",
       "      <th>4</th>\n",
       "      <td>한국대생 무제한 입장권</td>\n",
       "      <td>2022-04-01 19:54</td>\n",
       "      <td>2022-04-01 22:28</td>\n",
       "      <td>오전 2:33:00</td>\n",
       "      <td>선불기2</td>\n",
       "      <td>7400</td>\n",
       "      <td>퇴실</td>\n",
       "      <td>customer388928</td>\n",
       "    </tr>\n",
       "    <tr>\n",
       "      <th>...</th>\n",
       "      <td>...</td>\n",
       "      <td>...</td>\n",
       "      <td>...</td>\n",
       "      <td>...</td>\n",
       "      <td>...</td>\n",
       "      <td>...</td>\n",
       "      <td>...</td>\n",
       "      <td>...</td>\n",
       "    </tr>\n",
       "    <tr>\n",
       "      <th>22550</th>\n",
       "      <td>종일요금제</td>\n",
       "      <td>2021-02-17 13:09</td>\n",
       "      <td>2021-02-17 14:19</td>\n",
       "      <td>오전 1:10:00</td>\n",
       "      <td>선불기1</td>\n",
       "      <td>6500</td>\n",
       "      <td>퇴실</td>\n",
       "      <td>customer774105</td>\n",
       "    </tr>\n",
       "    <tr>\n",
       "      <th>22551</th>\n",
       "      <td>종일요금제</td>\n",
       "      <td>2021-02-17 13:09</td>\n",
       "      <td>2021-02-17 14:19</td>\n",
       "      <td>오전 1:10:00</td>\n",
       "      <td>선불기1</td>\n",
       "      <td>6500</td>\n",
       "      <td>퇴실</td>\n",
       "      <td>customer774105</td>\n",
       "    </tr>\n",
       "    <tr>\n",
       "      <th>22552</th>\n",
       "      <td>종일요금제</td>\n",
       "      <td>2021-02-17 13:06</td>\n",
       "      <td>2021-02-17 14:19</td>\n",
       "      <td>오전 1:13:00</td>\n",
       "      <td>선불기1</td>\n",
       "      <td>7000</td>\n",
       "      <td>퇴실</td>\n",
       "      <td>customer774105</td>\n",
       "    </tr>\n",
       "    <tr>\n",
       "      <th>22553</th>\n",
       "      <td>종일요금제</td>\n",
       "      <td>2021-02-17 13:06</td>\n",
       "      <td>2021-02-17 14:19</td>\n",
       "      <td>오전 1:13:00</td>\n",
       "      <td>선불기1</td>\n",
       "      <td>7000</td>\n",
       "      <td>퇴실</td>\n",
       "      <td>customer774105</td>\n",
       "    </tr>\n",
       "    <tr>\n",
       "      <th>22554</th>\n",
       "      <td>종일요금제</td>\n",
       "      <td>2021-02-17 12:58</td>\n",
       "      <td>2021-02-17 14:19</td>\n",
       "      <td>오전 1:21:00</td>\n",
       "      <td>선불기1</td>\n",
       "      <td>7000</td>\n",
       "      <td>퇴실</td>\n",
       "      <td>customer774105</td>\n",
       "    </tr>\n",
       "  </tbody>\n",
       "</table>\n",
       "<p>22555 rows × 8 columns</p>\n",
       "</div>"
      ],
      "text/plain": [
       "               요금제명                입실                퇴실           이용    위치  \\\n",
       "0        시간요금제(1시간)  2022-04-01 23:39   2022-04-02 0:39   오전 1:00:00  선불기2   \n",
       "1        시간요금제(1시간)  2022-04-01 23:39   2022-04-02 0:39   오전 1:00:00  선불기2   \n",
       "2           무제한 입장권  2022-04-01 20:55  2022-04-01 21:41  오전 12:46:00  선불기2   \n",
       "3           무제한 입장권  2022-04-01 20:55  2022-04-01 21:41  오전 12:46:00  선불기2   \n",
       "4      한국대생 무제한 입장권  2022-04-01 19:54  2022-04-01 22:28   오전 2:33:00  선불기2   \n",
       "...             ...               ...               ...          ...   ...   \n",
       "22550         종일요금제  2021-02-17 13:09  2021-02-17 14:19   오전 1:10:00  선불기1   \n",
       "22551         종일요금제  2021-02-17 13:09  2021-02-17 14:19   오전 1:10:00  선불기1   \n",
       "22552         종일요금제  2021-02-17 13:06  2021-02-17 14:19   오전 1:13:00  선불기1   \n",
       "22553         종일요금제  2021-02-17 13:06  2021-02-17 14:19   오전 1:13:00  선불기1   \n",
       "22554         종일요금제  2021-02-17 12:58  2021-02-17 14:19   오전 1:21:00  선불기1   \n",
       "\n",
       "         금액  구분              고객  \n",
       "0      3000  퇴실  customer263717  \n",
       "1      3000  퇴실  customer263717  \n",
       "2      7400  퇴실  customer247263  \n",
       "3      7400  퇴실  customer247263  \n",
       "4      7400  퇴실  customer388928  \n",
       "...     ...  ..             ...  \n",
       "22550  6500  퇴실  customer774105  \n",
       "22551  6500  퇴실  customer774105  \n",
       "22552  7000  퇴실  customer774105  \n",
       "22553  7000  퇴실  customer774105  \n",
       "22554  7000  퇴실  customer774105  \n",
       "\n",
       "[22555 rows x 8 columns]"
      ]
     },
     "execution_count": 3,
     "metadata": {},
     "output_type": "execute_result"
    },
    {
     "data": {
      "text/plain": [
       "customer666446    168\n",
       "customer440840    150\n",
       "customer338849    142\n",
       "customer258946    138\n",
       "customer667032    101\n",
       "                 ... \n",
       "customer571779      1\n",
       "customer573555      1\n",
       "customer760674      1\n",
       "customer416215      1\n",
       "customer375764      1\n",
       "Name: 고객, Length: 5404, dtype: int64"
      ]
     },
     "execution_count": 3,
     "metadata": {},
     "output_type": "execute_result"
    }
   ],
   "source": [
    "# entry_data 데이터 정보 확인하기\n",
    "entry_data\n",
    "entry_data['고객'].value_counts()"
   ]
  },
  {
   "cell_type": "code",
   "execution_count": 4,
   "id": "a4bcdc62",
   "metadata": {},
   "outputs": [
    {
     "data": {
      "text/html": [
       "<div>\n",
       "<style scoped>\n",
       "    .dataframe tbody tr th:only-of-type {\n",
       "        vertical-align: middle;\n",
       "    }\n",
       "\n",
       "    .dataframe tbody tr th {\n",
       "        vertical-align: top;\n",
       "    }\n",
       "\n",
       "    .dataframe thead th {\n",
       "        text-align: right;\n",
       "    }\n",
       "</style>\n",
       "<table border=\"1\" class=\"dataframe\">\n",
       "  <thead>\n",
       "    <tr style=\"text-align: right;\">\n",
       "      <th></th>\n",
       "      <th>결제일시</th>\n",
       "      <th>판매위치</th>\n",
       "      <th>상품명</th>\n",
       "      <th>결제방식</th>\n",
       "      <th>비고</th>\n",
       "      <th>판매수량</th>\n",
       "      <th>결제금액</th>\n",
       "      <th>고객</th>\n",
       "    </tr>\n",
       "  </thead>\n",
       "  <tbody>\n",
       "    <tr>\n",
       "      <th>0</th>\n",
       "      <td>2022-04-01 19:41</td>\n",
       "      <td>선불기1</td>\n",
       "      <td>치킨카라아케 6pc</td>\n",
       "      <td>신용카드</td>\n",
       "      <td>결제완료</td>\n",
       "      <td>1</td>\n",
       "      <td>4,500</td>\n",
       "      <td>customer275507</td>\n",
       "    </tr>\n",
       "    <tr>\n",
       "      <th>1</th>\n",
       "      <td>2022-04-01 19:41</td>\n",
       "      <td>선불기1</td>\n",
       "      <td>짜장라면(계란추가)</td>\n",
       "      <td>신용카드</td>\n",
       "      <td>결제완료</td>\n",
       "      <td>1</td>\n",
       "      <td>5,500</td>\n",
       "      <td>customer275507</td>\n",
       "    </tr>\n",
       "    <tr>\n",
       "      <th>2</th>\n",
       "      <td>2022-04-01 19:41</td>\n",
       "      <td>선불기1</td>\n",
       "      <td>라면</td>\n",
       "      <td>신용카드</td>\n",
       "      <td>결제완료</td>\n",
       "      <td>1</td>\n",
       "      <td>4,000</td>\n",
       "      <td>customer275507</td>\n",
       "    </tr>\n",
       "    <tr>\n",
       "      <th>3</th>\n",
       "      <td>2022-04-01 19:41</td>\n",
       "      <td>선불기1</td>\n",
       "      <td>비엔나소세지(토핑)</td>\n",
       "      <td>신용카드</td>\n",
       "      <td>결제완료</td>\n",
       "      <td>1</td>\n",
       "      <td>1,000</td>\n",
       "      <td>customer275507</td>\n",
       "    </tr>\n",
       "    <tr>\n",
       "      <th>4</th>\n",
       "      <td>2022-04-01 19:41</td>\n",
       "      <td>선불기1</td>\n",
       "      <td>라면(계란/치즈추가)</td>\n",
       "      <td>신용카드</td>\n",
       "      <td>결제완료</td>\n",
       "      <td>1</td>\n",
       "      <td>5,000</td>\n",
       "      <td>customer275507</td>\n",
       "    </tr>\n",
       "    <tr>\n",
       "      <th>...</th>\n",
       "      <td>...</td>\n",
       "      <td>...</td>\n",
       "      <td>...</td>\n",
       "      <td>...</td>\n",
       "      <td>...</td>\n",
       "      <td>...</td>\n",
       "      <td>...</td>\n",
       "      <td>...</td>\n",
       "    </tr>\n",
       "    <tr>\n",
       "      <th>7100</th>\n",
       "      <td>2021-02-17 14:21</td>\n",
       "      <td>카운터</td>\n",
       "      <td>아메리카노(HOT)</td>\n",
       "      <td>현금</td>\n",
       "      <td>결제취소</td>\n",
       "      <td>-1</td>\n",
       "      <td>-3,500</td>\n",
       "      <td>NaN</td>\n",
       "    </tr>\n",
       "    <tr>\n",
       "      <th>7101</th>\n",
       "      <td>2021-02-17 13:51</td>\n",
       "      <td>선불기2</td>\n",
       "      <td>카페모카(HOT)</td>\n",
       "      <td>신용카드</td>\n",
       "      <td>결제완료</td>\n",
       "      <td>1</td>\n",
       "      <td>4,500</td>\n",
       "      <td>NaN</td>\n",
       "    </tr>\n",
       "    <tr>\n",
       "      <th>7102</th>\n",
       "      <td>2021-02-17 13:51</td>\n",
       "      <td>선불기2</td>\n",
       "      <td>카페모카(HOT)</td>\n",
       "      <td>신용카드</td>\n",
       "      <td>판매취소</td>\n",
       "      <td>-1</td>\n",
       "      <td>-4,500</td>\n",
       "      <td>NaN</td>\n",
       "    </tr>\n",
       "    <tr>\n",
       "      <th>7103</th>\n",
       "      <td>2021-02-17 13:26</td>\n",
       "      <td>카운터</td>\n",
       "      <td>카페라떼(HOT)</td>\n",
       "      <td>신용카드</td>\n",
       "      <td>결제완료</td>\n",
       "      <td>1</td>\n",
       "      <td>4,000</td>\n",
       "      <td>NaN</td>\n",
       "    </tr>\n",
       "    <tr>\n",
       "      <th>7104</th>\n",
       "      <td>2021-02-17 13:27</td>\n",
       "      <td>카운터</td>\n",
       "      <td>카페라떼(HOT)</td>\n",
       "      <td>신용카드</td>\n",
       "      <td>판매취소</td>\n",
       "      <td>-1</td>\n",
       "      <td>-4,000</td>\n",
       "      <td>NaN</td>\n",
       "    </tr>\n",
       "  </tbody>\n",
       "</table>\n",
       "<p>7105 rows × 8 columns</p>\n",
       "</div>"
      ],
      "text/plain": [
       "                  결제일시  판매위치          상품명  결제방식    비고  판매수량    결제금액  \\\n",
       "0     2022-04-01 19:41  선불기1   치킨카라아케 6pc  신용카드  결제완료     1   4,500   \n",
       "1     2022-04-01 19:41  선불기1   짜장라면(계란추가)  신용카드  결제완료     1   5,500   \n",
       "2     2022-04-01 19:41  선불기1           라면  신용카드  결제완료     1   4,000   \n",
       "3     2022-04-01 19:41  선불기1   비엔나소세지(토핑)  신용카드  결제완료     1   1,000   \n",
       "4     2022-04-01 19:41  선불기1  라면(계란/치즈추가)  신용카드  결제완료     1   5,000   \n",
       "...                ...   ...          ...   ...   ...   ...     ...   \n",
       "7100  2021-02-17 14:21   카운터   아메리카노(HOT)    현금  결제취소    -1  -3,500   \n",
       "7101  2021-02-17 13:51  선불기2    카페모카(HOT)  신용카드  결제완료     1   4,500   \n",
       "7102  2021-02-17 13:51  선불기2    카페모카(HOT)  신용카드  판매취소    -1  -4,500   \n",
       "7103  2021-02-17 13:26   카운터    카페라떼(HOT)  신용카드  결제완료     1   4,000   \n",
       "7104  2021-02-17 13:27   카운터    카페라떼(HOT)  신용카드  판매취소    -1  -4,000   \n",
       "\n",
       "                  고객  \n",
       "0     customer275507  \n",
       "1     customer275507  \n",
       "2     customer275507  \n",
       "3     customer275507  \n",
       "4     customer275507  \n",
       "...              ...  \n",
       "7100             NaN  \n",
       "7101             NaN  \n",
       "7102             NaN  \n",
       "7103             NaN  \n",
       "7104             NaN  \n",
       "\n",
       "[7105 rows x 8 columns]"
      ]
     },
     "execution_count": 4,
     "metadata": {},
     "output_type": "execute_result"
    }
   ],
   "source": [
    "# sales_data 데이터 정보 확인하기\n",
    "sales_data"
   ]
  },
  {
   "cell_type": "code",
   "execution_count": 5,
   "id": "6f6a8019",
   "metadata": {},
   "outputs": [
    {
     "data": {
      "text/plain": [
       "신용카드    6609\n",
       "현금       496\n",
       "Name: 결제방식, dtype: int64"
      ]
     },
     "execution_count": 5,
     "metadata": {},
     "output_type": "execute_result"
    }
   ],
   "source": [
    "sales_data['결제방식'].value_counts()"
   ]
  },
  {
   "cell_type": "code",
   "execution_count": 6,
   "id": "299d44ed",
   "metadata": {},
   "outputs": [
    {
     "data": {
      "text/plain": [
       "결제완료    6945\n",
       "판매취소     109\n",
       "결제취소      51\n",
       "Name: 비고, dtype: int64"
      ]
     },
     "execution_count": 6,
     "metadata": {},
     "output_type": "execute_result"
    }
   ],
   "source": [
    "sales_data['비고'].value_counts()"
   ]
  },
  {
   "cell_type": "code",
   "execution_count": 7,
   "id": "9b07f1bf",
   "metadata": {},
   "outputs": [
    {
     "name": "stdout",
     "output_type": "stream",
     "text": [
      "<class 'pandas.core.frame.DataFrame'>\n",
      "RangeIndex: 7105 entries, 0 to 7104\n",
      "Data columns (total 8 columns):\n",
      " #   Column  Non-Null Count  Dtype \n",
      "---  ------  --------------  ----- \n",
      " 0   결제일시    7105 non-null   object\n",
      " 1   판매위치    7105 non-null   object\n",
      " 2   상품명     7105 non-null   object\n",
      " 3   결제방식    7105 non-null   object\n",
      " 4   비고      7105 non-null   object\n",
      " 5   판매수량    7105 non-null   int64 \n",
      " 6   결제금액    7105 non-null   object\n",
      " 7   고객      6300 non-null   object\n",
      "dtypes: int64(1), object(7)\n",
      "memory usage: 444.2+ KB\n"
     ]
    }
   ],
   "source": [
    "sales_data.info()"
   ]
  },
  {
   "cell_type": "code",
   "execution_count": 8,
   "id": "cd198164",
   "metadata": {
    "scrolled": true
   },
   "outputs": [
    {
     "data": {
      "text/html": [
       "<div>\n",
       "<style scoped>\n",
       "    .dataframe tbody tr th:only-of-type {\n",
       "        vertical-align: middle;\n",
       "    }\n",
       "\n",
       "    .dataframe tbody tr th {\n",
       "        vertical-align: top;\n",
       "    }\n",
       "\n",
       "    .dataframe thead th {\n",
       "        text-align: right;\n",
       "    }\n",
       "</style>\n",
       "<table border=\"1\" class=\"dataframe\">\n",
       "  <thead>\n",
       "    <tr style=\"text-align: right;\">\n",
       "      <th></th>\n",
       "      <th>구분</th>\n",
       "      <th>분류</th>\n",
       "      <th>상품명</th>\n",
       "      <th>판매금액</th>\n",
       "    </tr>\n",
       "  </thead>\n",
       "  <tbody>\n",
       "    <tr>\n",
       "      <th>0</th>\n",
       "      <td>1</td>\n",
       "      <td>게임&amp;TV</td>\n",
       "      <td>이어폰(커널형)</td>\n",
       "      <td>3,000원</td>\n",
       "    </tr>\n",
       "    <tr>\n",
       "      <th>1</th>\n",
       "      <td>2</td>\n",
       "      <td>디저트</td>\n",
       "      <td>초코머핀</td>\n",
       "      <td>3,500원</td>\n",
       "    </tr>\n",
       "    <tr>\n",
       "      <th>2</th>\n",
       "      <td>3</td>\n",
       "      <td>디저트</td>\n",
       "      <td>쿠키(초코칩)</td>\n",
       "      <td>1,500원</td>\n",
       "    </tr>\n",
       "    <tr>\n",
       "      <th>3</th>\n",
       "      <td>4</td>\n",
       "      <td>디저트</td>\n",
       "      <td>쿠키(마카다미아)</td>\n",
       "      <td>1,500원</td>\n",
       "    </tr>\n",
       "    <tr>\n",
       "      <th>4</th>\n",
       "      <td>5</td>\n",
       "      <td>디저트</td>\n",
       "      <td>미니마카롱(3개)</td>\n",
       "      <td>2,000원</td>\n",
       "    </tr>\n",
       "    <tr>\n",
       "      <th>...</th>\n",
       "      <td>...</td>\n",
       "      <td>...</td>\n",
       "      <td>...</td>\n",
       "      <td>...</td>\n",
       "    </tr>\n",
       "    <tr>\n",
       "      <th>169</th>\n",
       "      <td>170</td>\n",
       "      <td>커피</td>\n",
       "      <td>카페모카(ICE)</td>\n",
       "      <td>2,500원</td>\n",
       "    </tr>\n",
       "    <tr>\n",
       "      <th>170</th>\n",
       "      <td>171</td>\n",
       "      <td>커피</td>\n",
       "      <td>헤이즐넛라떼(ICE)</td>\n",
       "      <td>2,500원</td>\n",
       "    </tr>\n",
       "    <tr>\n",
       "      <th>171</th>\n",
       "      <td>172</td>\n",
       "      <td>포장</td>\n",
       "      <td>오늘은 순살닭다리 덮밥</td>\n",
       "      <td>9,000원</td>\n",
       "    </tr>\n",
       "    <tr>\n",
       "      <th>172</th>\n",
       "      <td>173</td>\n",
       "      <td>포장</td>\n",
       "      <td>오늘은 한돈간장불고기</td>\n",
       "      <td>8,000원</td>\n",
       "    </tr>\n",
       "    <tr>\n",
       "      <th>173</th>\n",
       "      <td>174</td>\n",
       "      <td>포장</td>\n",
       "      <td>오늘은 한돈고추장불고기</td>\n",
       "      <td>8,000원</td>\n",
       "    </tr>\n",
       "  </tbody>\n",
       "</table>\n",
       "<p>174 rows × 4 columns</p>\n",
       "</div>"
      ],
      "text/plain": [
       "      구분     분류           상품명    판매금액\n",
       "0      1  게임&TV      이어폰(커널형)  3,000원\n",
       "1      2    디저트          초코머핀  3,500원\n",
       "2      3    디저트       쿠키(초코칩)  1,500원\n",
       "3      4    디저트     쿠키(마카다미아)  1,500원\n",
       "4      5    디저트     미니마카롱(3개)  2,000원\n",
       "..   ...    ...           ...     ...\n",
       "169  170     커피     카페모카(ICE)  2,500원\n",
       "170  171     커피   헤이즐넛라떼(ICE)  2,500원\n",
       "171  172     포장  오늘은 순살닭다리 덮밥  9,000원\n",
       "172  173     포장   오늘은 한돈간장불고기  8,000원\n",
       "173  174     포장  오늘은 한돈고추장불고기  8,000원\n",
       "\n",
       "[174 rows x 4 columns]"
      ]
     },
     "execution_count": 8,
     "metadata": {},
     "output_type": "execute_result"
    },
    {
     "data": {
      "text/plain": [
       "음식            60\n",
       "차가운음료(커피외)    34\n",
       "커피            29\n",
       "스무디&쉐이크       19\n",
       "따뜻한음료(커피외)    16\n",
       "디저트           12\n",
       "포장             3\n",
       "게임&TV          1\n",
       "Name: 분류, dtype: int64"
      ]
     },
     "execution_count": 8,
     "metadata": {},
     "output_type": "execute_result"
    }
   ],
   "source": [
    "# item_data 데이터 정보 확인하기\n",
    "item_data\n",
    "item_data['분류'].value_counts()"
   ]
  },
  {
   "cell_type": "code",
   "execution_count": 9,
   "id": "784fa747",
   "metadata": {},
   "outputs": [
    {
     "data": {
      "text/html": [
       "<div>\n",
       "<style scoped>\n",
       "    .dataframe tbody tr th:only-of-type {\n",
       "        vertical-align: middle;\n",
       "    }\n",
       "\n",
       "    .dataframe tbody tr th {\n",
       "        vertical-align: top;\n",
       "    }\n",
       "\n",
       "    .dataframe thead th {\n",
       "        text-align: right;\n",
       "    }\n",
       "</style>\n",
       "<table border=\"1\" class=\"dataframe\">\n",
       "  <thead>\n",
       "    <tr style=\"text-align: right;\">\n",
       "      <th></th>\n",
       "      <th>순위</th>\n",
       "      <th>분류</th>\n",
       "      <th>상품명</th>\n",
       "      <th>판매금액</th>\n",
       "    </tr>\n",
       "  </thead>\n",
       "  <tbody>\n",
       "    <tr>\n",
       "      <th>0</th>\n",
       "      <td>1</td>\n",
       "      <td>한국대생</td>\n",
       "      <td>한국대생 요금제</td>\n",
       "      <td>2,000원</td>\n",
       "    </tr>\n",
       "    <tr>\n",
       "      <th>1</th>\n",
       "      <td>2</td>\n",
       "      <td>심야-조조</td>\n",
       "      <td>심야-조조 요금제</td>\n",
       "      <td>5,000원</td>\n",
       "    </tr>\n",
       "    <tr>\n",
       "      <th>2</th>\n",
       "      <td>3</td>\n",
       "      <td>일반인</td>\n",
       "      <td>일반요금제</td>\n",
       "      <td>2,500원</td>\n",
       "    </tr>\n",
       "    <tr>\n",
       "      <th>3</th>\n",
       "      <td>4</td>\n",
       "      <td>한국대생</td>\n",
       "      <td>한국대생 요금제</td>\n",
       "      <td>2,500원</td>\n",
       "    </tr>\n",
       "    <tr>\n",
       "      <th>4</th>\n",
       "      <td>5</td>\n",
       "      <td>일반인</td>\n",
       "      <td>일반요금제</td>\n",
       "      <td>2,000원</td>\n",
       "    </tr>\n",
       "    <tr>\n",
       "      <th>5</th>\n",
       "      <td>6</td>\n",
       "      <td>한국대생</td>\n",
       "      <td>한국대생 요금제</td>\n",
       "      <td>1,500원</td>\n",
       "    </tr>\n",
       "    <tr>\n",
       "      <th>6</th>\n",
       "      <td>7</td>\n",
       "      <td>18시이후</td>\n",
       "      <td>거리두기4단계</td>\n",
       "      <td>1,000원</td>\n",
       "    </tr>\n",
       "    <tr>\n",
       "      <th>7</th>\n",
       "      <td>8</td>\n",
       "      <td>심야-조조</td>\n",
       "      <td>심야-조조 요금제</td>\n",
       "      <td>2,500원</td>\n",
       "    </tr>\n",
       "    <tr>\n",
       "      <th>8</th>\n",
       "      <td>9</td>\n",
       "      <td>일반인</td>\n",
       "      <td>일반요금제</td>\n",
       "      <td>3,000원</td>\n",
       "    </tr>\n",
       "    <tr>\n",
       "      <th>9</th>\n",
       "      <td>10</td>\n",
       "      <td>일반인</td>\n",
       "      <td>일반요금제</td>\n",
       "      <td>7,000원</td>\n",
       "    </tr>\n",
       "    <tr>\n",
       "      <th>10</th>\n",
       "      <td>11</td>\n",
       "      <td>심야-조조</td>\n",
       "      <td>심야-조조 요금제</td>\n",
       "      <td>4,000원</td>\n",
       "    </tr>\n",
       "    <tr>\n",
       "      <th>11</th>\n",
       "      <td>12</td>\n",
       "      <td>심야-조조</td>\n",
       "      <td>심야-조조 요금제</td>\n",
       "      <td>6,000원</td>\n",
       "    </tr>\n",
       "    <tr>\n",
       "      <th>12</th>\n",
       "      <td>13</td>\n",
       "      <td>심야-조조</td>\n",
       "      <td>심야-조조 요금제</td>\n",
       "      <td>7,000원</td>\n",
       "    </tr>\n",
       "    <tr>\n",
       "      <th>13</th>\n",
       "      <td>14</td>\n",
       "      <td>한국대생</td>\n",
       "      <td>한국대생 요금제</td>\n",
       "      <td>7,000원</td>\n",
       "    </tr>\n",
       "    <tr>\n",
       "      <th>14</th>\n",
       "      <td>15</td>\n",
       "      <td>한국대생</td>\n",
       "      <td>한국대생 요금제</td>\n",
       "      <td>3,000원</td>\n",
       "    </tr>\n",
       "    <tr>\n",
       "      <th>15</th>\n",
       "      <td>16</td>\n",
       "      <td>18시이후</td>\n",
       "      <td>거리두기4단계</td>\n",
       "      <td>2,500원</td>\n",
       "    </tr>\n",
       "    <tr>\n",
       "      <th>16</th>\n",
       "      <td>17</td>\n",
       "      <td>심야-조조</td>\n",
       "      <td>심야-조조 요금제</td>\n",
       "      <td>3,000원</td>\n",
       "    </tr>\n",
       "    <tr>\n",
       "      <th>17</th>\n",
       "      <td>18</td>\n",
       "      <td>18시이후</td>\n",
       "      <td>마감요금</td>\n",
       "      <td>2,500원</td>\n",
       "    </tr>\n",
       "    <tr>\n",
       "      <th>18</th>\n",
       "      <td>19</td>\n",
       "      <td>기본</td>\n",
       "      <td>기본요금제</td>\n",
       "      <td>2,500원</td>\n",
       "    </tr>\n",
       "    <tr>\n",
       "      <th>19</th>\n",
       "      <td>20</td>\n",
       "      <td>일반인</td>\n",
       "      <td>일반요금제</td>\n",
       "      <td>8,000원</td>\n",
       "    </tr>\n",
       "    <tr>\n",
       "      <th>20</th>\n",
       "      <td>21</td>\n",
       "      <td>심야-조조</td>\n",
       "      <td>심야-조조 요금제</td>\n",
       "      <td>8,000원</td>\n",
       "    </tr>\n",
       "    <tr>\n",
       "      <th>21</th>\n",
       "      <td>22</td>\n",
       "      <td>심야-조조</td>\n",
       "      <td>추석당일 요금제</td>\n",
       "      <td>5,000원</td>\n",
       "    </tr>\n",
       "    <tr>\n",
       "      <th>22</th>\n",
       "      <td>23</td>\n",
       "      <td>심야-조조</td>\n",
       "      <td>추석당일 요금제</td>\n",
       "      <td>7,000원</td>\n",
       "    </tr>\n",
       "    <tr>\n",
       "      <th>23</th>\n",
       "      <td>24</td>\n",
       "      <td>기본</td>\n",
       "      <td>기본요금제</td>\n",
       "      <td>2,000원</td>\n",
       "    </tr>\n",
       "    <tr>\n",
       "      <th>24</th>\n",
       "      <td>25</td>\n",
       "      <td>한국대생</td>\n",
       "      <td>한국대생 요금제</td>\n",
       "      <td>8,000원</td>\n",
       "    </tr>\n",
       "    <tr>\n",
       "      <th>25</th>\n",
       "      <td>26</td>\n",
       "      <td>18시이후</td>\n",
       "      <td>거리두기4단계</td>\n",
       "      <td>7,000원</td>\n",
       "    </tr>\n",
       "    <tr>\n",
       "      <th>26</th>\n",
       "      <td>27</td>\n",
       "      <td>기본</td>\n",
       "      <td>기본요금제</td>\n",
       "      <td>2,400원</td>\n",
       "    </tr>\n",
       "    <tr>\n",
       "      <th>27</th>\n",
       "      <td>28</td>\n",
       "      <td>기본그룹</td>\n",
       "      <td>기본요금제</td>\n",
       "      <td>2,500원</td>\n",
       "    </tr>\n",
       "    <tr>\n",
       "      <th>28</th>\n",
       "      <td>29</td>\n",
       "      <td>일반인</td>\n",
       "      <td>일반요금제</td>\n",
       "      <td>6,000원</td>\n",
       "    </tr>\n",
       "    <tr>\n",
       "      <th>29</th>\n",
       "      <td>30</td>\n",
       "      <td>심야-조조</td>\n",
       "      <td>추석당일 요금제</td>\n",
       "      <td>2,500원</td>\n",
       "    </tr>\n",
       "    <tr>\n",
       "      <th>30</th>\n",
       "      <td>31</td>\n",
       "      <td>기본그룹</td>\n",
       "      <td>기본요금제</td>\n",
       "      <td>2,000원</td>\n",
       "    </tr>\n",
       "    <tr>\n",
       "      <th>31</th>\n",
       "      <td>32</td>\n",
       "      <td>일반인</td>\n",
       "      <td>일반요금제</td>\n",
       "      <td>3,500원</td>\n",
       "    </tr>\n",
       "    <tr>\n",
       "      <th>32</th>\n",
       "      <td>33</td>\n",
       "      <td>일반인</td>\n",
       "      <td>일반요금제</td>\n",
       "      <td>6,500원</td>\n",
       "    </tr>\n",
       "    <tr>\n",
       "      <th>33</th>\n",
       "      <td>34</td>\n",
       "      <td>한국대생</td>\n",
       "      <td>한국대생 요금제</td>\n",
       "      <td>4,900원</td>\n",
       "    </tr>\n",
       "  </tbody>\n",
       "</table>\n",
       "</div>"
      ],
      "text/plain": [
       "    순위     분류        상품명    판매금액\n",
       "0    1   한국대생   한국대생 요금제  2,000원\n",
       "1    2  심야-조조  심야-조조 요금제  5,000원\n",
       "2    3    일반인      일반요금제  2,500원\n",
       "3    4   한국대생   한국대생 요금제  2,500원\n",
       "4    5    일반인      일반요금제  2,000원\n",
       "5    6   한국대생   한국대생 요금제  1,500원\n",
       "6    7  18시이후    거리두기4단계  1,000원\n",
       "7    8  심야-조조  심야-조조 요금제  2,500원\n",
       "8    9    일반인      일반요금제  3,000원\n",
       "9   10    일반인      일반요금제  7,000원\n",
       "10  11  심야-조조  심야-조조 요금제  4,000원\n",
       "11  12  심야-조조  심야-조조 요금제  6,000원\n",
       "12  13  심야-조조  심야-조조 요금제  7,000원\n",
       "13  14   한국대생   한국대생 요금제  7,000원\n",
       "14  15   한국대생   한국대생 요금제  3,000원\n",
       "15  16  18시이후    거리두기4단계  2,500원\n",
       "16  17  심야-조조  심야-조조 요금제  3,000원\n",
       "17  18  18시이후       마감요금  2,500원\n",
       "18  19     기본      기본요금제  2,500원\n",
       "19  20    일반인      일반요금제  8,000원\n",
       "20  21  심야-조조  심야-조조 요금제  8,000원\n",
       "21  22  심야-조조   추석당일 요금제  5,000원\n",
       "22  23  심야-조조   추석당일 요금제  7,000원\n",
       "23  24     기본      기본요금제  2,000원\n",
       "24  25   한국대생   한국대생 요금제  8,000원\n",
       "25  26  18시이후    거리두기4단계  7,000원\n",
       "26  27     기본      기본요금제  2,400원\n",
       "27  28   기본그룹      기본요금제  2,500원\n",
       "28  29    일반인      일반요금제  6,000원\n",
       "29  30  심야-조조   추석당일 요금제  2,500원\n",
       "30  31   기본그룹      기본요금제  2,000원\n",
       "31  32    일반인      일반요금제  3,500원\n",
       "32  33    일반인      일반요금제  6,500원\n",
       "33  34   한국대생   한국대생 요금제  4,900원"
      ]
     },
     "execution_count": 9,
     "metadata": {},
     "output_type": "execute_result"
    }
   ],
   "source": [
    "# item_entry_data 데이터 정보 확인하기\n",
    "item_entry_data"
   ]
  },
  {
   "cell_type": "markdown",
   "id": "087d9b46",
   "metadata": {},
   "source": [
    "## 3-2 데이터 분석하기 "
   ]
  },
  {
   "cell_type": "markdown",
   "id": "9f32c23f",
   "metadata": {},
   "source": [
    "* **필수 문제1 : 월별 매출액 추세(sales_data)**  \n",
    "월별 매출액 추세를 집계하고 그 결과를 시각화  \n",
    "hint : groupby()\n"
   ]
  },
  {
   "cell_type": "code",
   "execution_count": 10,
   "id": "8f2e98c8",
   "metadata": {
    "scrolled": true
   },
   "outputs": [
    {
     "name": "stdout",
     "output_type": "stream",
     "text": [
      "<class 'pandas.core.frame.DataFrame'>\n",
      "RangeIndex: 7105 entries, 0 to 7104\n",
      "Data columns (total 10 columns):\n",
      " #   Column   Non-Null Count  Dtype \n",
      "---  ------   --------------  ----- \n",
      " 0   결제일시     7105 non-null   object\n",
      " 1   판매위치     7105 non-null   object\n",
      " 2   상품명      7105 non-null   object\n",
      " 3   결제방식     7105 non-null   object\n",
      " 4   비고       7105 non-null   object\n",
      " 5   판매수량     7105 non-null   int64 \n",
      " 6   결제금액     7105 non-null   object\n",
      " 7   고객       6300 non-null   object\n",
      " 8   date     7105 non-null   object\n",
      " 9   payment  7105 non-null   int64 \n",
      "dtypes: int64(2), object(8)\n",
      "memory usage: 555.2+ KB\n"
     ]
    }
   ],
   "source": [
    "temp_var = sales_data\n",
    "temp_var['date'] = sales_data['결제일시'].str[:7]\n",
    "sales_data['결제금액'] = sales_data['결제금액'].str.replace(',','')\n",
    "temp_var['payment'] = pd.to_numeric(sales_data['결제금액'])\n",
    "temp_var.info()"
   ]
  },
  {
   "cell_type": "code",
   "execution_count": 11,
   "id": "0bf18024",
   "metadata": {},
   "outputs": [
    {
     "data": {
      "text/plain": [
       "Index(['2021-02', '2021-03', '2021-04', '2021-05', '2021-06', '2021-07',\n",
       "       '2021-08', '2021-09', '2021-10', '2021-11', '2021-12', '2022-01',\n",
       "       '2022-02', '2022-03', '2022-04'],\n",
       "      dtype='object', name='date')"
      ]
     },
     "execution_count": 11,
     "metadata": {},
     "output_type": "execute_result"
    },
    {
     "data": {
      "text/plain": [
       "array([   7000, 2104500, 3116600, 2537000, 3621500, 1215000, 1229000,\n",
       "       1197500, 2138500, 2748500, 3290000, 1430500, 1181500, 1870900,\n",
       "         49900], dtype=int64)"
      ]
     },
     "execution_count": 11,
     "metadata": {},
     "output_type": "execute_result"
    }
   ],
   "source": [
    "grouped = temp_var.groupby(by='date')['payment'].sum()\n",
    "grouped.index\n",
    "grouped.values"
   ]
  },
  {
   "cell_type": "code",
   "execution_count": 12,
   "id": "787307ac",
   "metadata": {
    "scrolled": false
   },
   "outputs": [
    {
     "data": {
      "text/plain": [
       "<AxesSubplot:xlabel='date'>"
      ]
     },
     "execution_count": 12,
     "metadata": {},
     "output_type": "execute_result"
    },
    {
     "data": {
      "text/plain": [
       "Text(0.5, 1.0, '월별 매출액')"
      ]
     },
     "execution_count": 12,
     "metadata": {},
     "output_type": "execute_result"
    },
    {
     "data": {
      "text/plain": [
       "Text(0.5, 0, 'month')"
      ]
     },
     "execution_count": 12,
     "metadata": {},
     "output_type": "execute_result"
    },
    {
     "data": {
      "text/plain": [
       "Text(0, 0.5, 'payment')"
      ]
     },
     "execution_count": 12,
     "metadata": {},
     "output_type": "execute_result"
    },
    {
     "data": {
      "text/plain": [
       "(array([ 0,  1,  2,  3,  4,  5,  6,  7,  8,  9, 10, 11, 12, 13, 14]),\n",
       " [Text(0, 0, '2021-02'),\n",
       "  Text(1, 0, '2021-03'),\n",
       "  Text(2, 0, '2021-04'),\n",
       "  Text(3, 0, '2021-05'),\n",
       "  Text(4, 0, '2021-06'),\n",
       "  Text(5, 0, '2021-07'),\n",
       "  Text(6, 0, '2021-08'),\n",
       "  Text(7, 0, '2021-09'),\n",
       "  Text(8, 0, '2021-10'),\n",
       "  Text(9, 0, '2021-11'),\n",
       "  Text(10, 0, '2021-12'),\n",
       "  Text(11, 0, '2022-01'),\n",
       "  Text(12, 0, '2022-02'),\n",
       "  Text(13, 0, '2022-03'),\n",
       "  Text(14, 0, '2022-04')])"
      ]
     },
     "execution_count": 12,
     "metadata": {},
     "output_type": "execute_result"
    },
    {
     "data": {
      "image/png": "[encoded data removed]",
      "text/plain": [
       "<Figure size 640x480 with 1 Axes>"
      ]
     },
     "metadata": {},
     "output_type": "display_data"
    }
   ],
   "source": [
    "sns.barplot(x=grouped.index,y=grouped.values)\n",
    "plt.title('월별 매출액')\n",
    "plt.xlabel('month')\n",
    "plt.ylabel('payment')\n",
    "plt.xticks(rotation=90)\n",
    "plt.show()"
   ]
  },
  {
   "cell_type": "markdown",
   "id": "8c5ee43b",
   "metadata": {},
   "source": [
    "* **필수문제2: 가장 인기있는 음식/음료(sales_data)**  \n",
    "여러 메뉴들(음식,음료)을 판매 개수 순으로 정렬하고 상위 10개를 뽑아 결과를 시각화  \n",
    "힌트: value_counts()\n"
   ]
  },
  {
   "cell_type": "code",
   "execution_count": 13,
   "id": "4a4d8c22",
   "metadata": {},
   "outputs": [
    {
     "data": {
      "text/html": [
       "<div>\n",
       "<style scoped>\n",
       "    .dataframe tbody tr th:only-of-type {\n",
       "        vertical-align: middle;\n",
       "    }\n",
       "\n",
       "    .dataframe tbody tr th {\n",
       "        vertical-align: top;\n",
       "    }\n",
       "\n",
       "    .dataframe thead th {\n",
       "        text-align: right;\n",
       "    }\n",
       "</style>\n",
       "<table border=\"1\" class=\"dataframe\">\n",
       "  <thead>\n",
       "    <tr style=\"text-align: right;\">\n",
       "      <th></th>\n",
       "      <th>상품명</th>\n",
       "      <th>판매량</th>\n",
       "    </tr>\n",
       "  </thead>\n",
       "  <tbody>\n",
       "    <tr>\n",
       "      <th>0</th>\n",
       "      <td>김치볶음밥</td>\n",
       "      <td>1204</td>\n",
       "    </tr>\n",
       "    <tr>\n",
       "      <th>1</th>\n",
       "      <td>라면</td>\n",
       "      <td>749</td>\n",
       "    </tr>\n",
       "    <tr>\n",
       "      <th>2</th>\n",
       "      <td>짜장라면</td>\n",
       "      <td>455</td>\n",
       "    </tr>\n",
       "    <tr>\n",
       "      <th>3</th>\n",
       "      <td>치즈불고기볶음밥</td>\n",
       "      <td>420</td>\n",
       "    </tr>\n",
       "    <tr>\n",
       "      <th>4</th>\n",
       "      <td>계란추가</td>\n",
       "      <td>314</td>\n",
       "    </tr>\n",
       "    <tr>\n",
       "      <th>5</th>\n",
       "      <td>낙지볶음밥</td>\n",
       "      <td>312</td>\n",
       "    </tr>\n",
       "    <tr>\n",
       "      <th>6</th>\n",
       "      <td>새우볶음밥</td>\n",
       "      <td>309</td>\n",
       "    </tr>\n",
       "    <tr>\n",
       "      <th>7</th>\n",
       "      <td>아메리카노(ICE)</td>\n",
       "      <td>284</td>\n",
       "    </tr>\n",
       "    <tr>\n",
       "      <th>8</th>\n",
       "      <td>치즈감자튀김</td>\n",
       "      <td>246</td>\n",
       "    </tr>\n",
       "    <tr>\n",
       "      <th>9</th>\n",
       "      <td>감자튀김</td>\n",
       "      <td>242</td>\n",
       "    </tr>\n",
       "  </tbody>\n",
       "</table>\n",
       "</div>"
      ],
      "text/plain": [
       "          상품명   판매량\n",
       "0       김치볶음밥  1204\n",
       "1          라면   749\n",
       "2        짜장라면   455\n",
       "3    치즈불고기볶음밥   420\n",
       "4        계란추가   314\n",
       "5       낙지볶음밥   312\n",
       "6       새우볶음밥   309\n",
       "7  아메리카노(ICE)   284\n",
       "8      치즈감자튀김   246\n",
       "9        감자튀김   242"
      ]
     },
     "execution_count": 13,
     "metadata": {},
     "output_type": "execute_result"
    }
   ],
   "source": [
    "# temp_var의 상품명을 value_counts를 이용해 집계하기\n",
    "# 주의! value_counts로 바로 집계하면 판매취소와 결제취소가 함께 집계됩니다.\n",
    "# 따라서 '판매수량' 칼럼 값이 '-1'인 데이터를 제외하고 집계해야 합니다.\n",
    "# 힌트 코드 : temp_var[temp_var['판매수량']==-1]\n",
    "mask_1 = temp_var['판매수량'] != -1\n",
    "count = temp_var[mask_1]['상품명'].value_counts().sort_values(ascending=False)\n",
    "# 집계 결과를 데이터프레임으로 변환하고, 상위 10개 선정하기\n",
    "top10 = pd.DataFrame(count.nlargest(10)).reset_index()\n",
    "top10.columns = ['상품명','판매량']\n",
    "top10"
   ]
  },
  {
   "cell_type": "code",
   "execution_count": 14,
   "id": "5e622825",
   "metadata": {},
   "outputs": [
    {
     "data": {
      "text/plain": [
       "<AxesSubplot:xlabel='상품명', ylabel='판매량'>"
      ]
     },
     "execution_count": 14,
     "metadata": {},
     "output_type": "execute_result"
    },
    {
     "data": {
      "text/plain": [
       "(array([0, 1, 2, 3, 4, 5, 6, 7, 8, 9]),\n",
       " [Text(0, 0, '김치볶음밥'),\n",
       "  Text(1, 0, '라면'),\n",
       "  Text(2, 0, '짜장라면'),\n",
       "  Text(3, 0, '치즈불고기볶음밥'),\n",
       "  Text(4, 0, '계란추가'),\n",
       "  Text(5, 0, '낙지볶음밥'),\n",
       "  Text(6, 0, '새우볶음밥'),\n",
       "  Text(7, 0, '아메리카노(ICE)'),\n",
       "  Text(8, 0, '치즈감자튀김'),\n",
       "  Text(9, 0, '감자튀김')])"
      ]
     },
     "execution_count": 14,
     "metadata": {},
     "output_type": "execute_result"
    },
    {
     "data": {
      "text/plain": [
       "Text(0.5, 1.0, '판매아이템별 상위10개 판매량')"
      ]
     },
     "execution_count": 14,
     "metadata": {},
     "output_type": "execute_result"
    },
    {
     "data": {
      "image/png": "[encoded data removed]",
      "text/plain": [
       "<Figure size 640x480 with 1 Axes>"
      ]
     },
     "metadata": {},
     "output_type": "display_data"
    }
   ],
   "source": [
    "# 한글이 포함된 시각화를 위해 Matplotlib 설정\n",
    "plt.rc('font',family='Malgun Gothic')\n",
    "# 집계 결과를 시각화하기\n",
    "sns.barplot(x=top10['상품명'],y=top10['판매량'])\n",
    "plt.xticks(rotation=90)\n",
    "plt.title('판매아이템별 상위10개 판매량')\n"
   ]
  },
  {
   "cell_type": "markdown",
   "id": "44cf68e3",
   "metadata": {},
   "source": [
    "* **필수문제2: 가장 인기있는 음식/음료(sales_data)**  \n",
    "여러 메뉴들(음식,음료)을 판매 매출(판매 개수 x 결제 금액) 순으로 정렬하고 상위 10개를 뽑아 결과를 시각화해봅니다.  \n",
    "힌트: value_counts() 함수를 사용하세요."
   ]
  },
  {
   "cell_type": "code",
   "execution_count": 15,
   "id": "3a525d55",
   "metadata": {
    "scrolled": true
   },
   "outputs": [
    {
     "data": {
      "text/html": [
       "<div>\n",
       "<style scoped>\n",
       "    .dataframe tbody tr th:only-of-type {\n",
       "        vertical-align: middle;\n",
       "    }\n",
       "\n",
       "    .dataframe tbody tr th {\n",
       "        vertical-align: top;\n",
       "    }\n",
       "\n",
       "    .dataframe thead th {\n",
       "        text-align: right;\n",
       "    }\n",
       "</style>\n",
       "<table border=\"1\" class=\"dataframe\">\n",
       "  <thead>\n",
       "    <tr style=\"text-align: right;\">\n",
       "      <th></th>\n",
       "      <th>상품명</th>\n",
       "      <th>판매금액</th>\n",
       "    </tr>\n",
       "  </thead>\n",
       "  <tbody>\n",
       "    <tr>\n",
       "      <th>0</th>\n",
       "      <td>김치볶음밥</td>\n",
       "      <td>6004400</td>\n",
       "    </tr>\n",
       "    <tr>\n",
       "      <th>1</th>\n",
       "      <td>라면</td>\n",
       "      <td>2941500</td>\n",
       "    </tr>\n",
       "    <tr>\n",
       "      <th>2</th>\n",
       "      <td>치즈불고기볶음밥</td>\n",
       "      <td>2292600</td>\n",
       "    </tr>\n",
       "    <tr>\n",
       "      <th>3</th>\n",
       "      <td>짜장라면</td>\n",
       "      <td>2038500</td>\n",
       "    </tr>\n",
       "    <tr>\n",
       "      <th>4</th>\n",
       "      <td>낙지볶음밥</td>\n",
       "      <td>1710700</td>\n",
       "    </tr>\n",
       "    <tr>\n",
       "      <th>5</th>\n",
       "      <td>새우볶음밥</td>\n",
       "      <td>1539800</td>\n",
       "    </tr>\n",
       "    <tr>\n",
       "      <th>6</th>\n",
       "      <td>치즈감자튀김</td>\n",
       "      <td>1354200</td>\n",
       "    </tr>\n",
       "    <tr>\n",
       "      <th>7</th>\n",
       "      <td>감자튀김</td>\n",
       "      <td>1083800</td>\n",
       "    </tr>\n",
       "    <tr>\n",
       "      <th>8</th>\n",
       "      <td>아메리카노(ICE)</td>\n",
       "      <td>1058100</td>\n",
       "    </tr>\n",
       "    <tr>\n",
       "      <th>9</th>\n",
       "      <td>불닭볶음면</td>\n",
       "      <td>693000</td>\n",
       "    </tr>\n",
       "  </tbody>\n",
       "</table>\n",
       "</div>"
      ],
      "text/plain": [
       "          상품명     판매금액\n",
       "0       김치볶음밥  6004400\n",
       "1          라면  2941500\n",
       "2    치즈불고기볶음밥  2292600\n",
       "3        짜장라면  2038500\n",
       "4       낙지볶음밥  1710700\n",
       "5       새우볶음밥  1539800\n",
       "6      치즈감자튀김  1354200\n",
       "7        감자튀김  1083800\n",
       "8  아메리카노(ICE)  1058100\n",
       "9       불닭볶음면   693000"
      ]
     },
     "execution_count": 15,
     "metadata": {},
     "output_type": "execute_result"
    }
   ],
   "source": [
    "# temp_var의 payment열을 상품명을 기준으로 집계하기\n",
    "mask_1 = temp_var['판매수량'] != -1\n",
    "item_payment =temp_var[mask_1].groupby('상품명')['payment'].sum()\n",
    "# item_payment의 값을 내림차순으로 정렬하고 상위 10개 도출하기\n",
    "top10 = item_payment.sort_values(ascending=False).nlargest(10)\n",
    "top10 = pd.DataFrame(top10).reset_index()\n",
    "top10.columns = ['상품명','판매금액']\n",
    "top10"
   ]
  },
  {
   "cell_type": "code",
   "execution_count": 16,
   "id": "fa6abe00",
   "metadata": {
    "scrolled": true
   },
   "outputs": [
    {
     "data": {
      "text/plain": [
       "<AxesSubplot:xlabel='상품명', ylabel='판매금액'>"
      ]
     },
     "execution_count": 16,
     "metadata": {},
     "output_type": "execute_result"
    },
    {
     "data": {
      "text/plain": [
       "(array([0, 1, 2, 3, 4, 5, 6, 7, 8, 9]),\n",
       " [Text(0, 0, '김치볶음밥'),\n",
       "  Text(1, 0, '라면'),\n",
       "  Text(2, 0, '치즈불고기볶음밥'),\n",
       "  Text(3, 0, '짜장라면'),\n",
       "  Text(4, 0, '낙지볶음밥'),\n",
       "  Text(5, 0, '새우볶음밥'),\n",
       "  Text(6, 0, '치즈감자튀김'),\n",
       "  Text(7, 0, '감자튀김'),\n",
       "  Text(8, 0, '아메리카노(ICE)'),\n",
       "  Text(9, 0, '불닭볶음면')])"
      ]
     },
     "execution_count": 16,
     "metadata": {},
     "output_type": "execute_result"
    },
    {
     "data": {
      "text/plain": [
       "Text(0.5, 1.0, '판매아이템별 상위10개 판매금액')"
      ]
     },
     "execution_count": 16,
     "metadata": {},
     "output_type": "execute_result"
    },
    {
     "data": {
      "image/png": "[encoded data removed]",
      "text/plain": [
       "<Figure size 640x480 with 1 Axes>"
      ]
     },
     "metadata": {},
     "output_type": "display_data"
    }
   ],
   "source": [
    "# 한글이 포함된 시각화를 위해 Matplotlib 설정\n",
    "plt.rc('font',family='Malgun Gothic')\n",
    "# 집계 결과를 시각화하기\n",
    "sns.barplot(x=top10['상품명'],y=top10['판매금액'])\n",
    "plt.xticks(rotation=90)\n",
    "plt.title('판매아이템별 상위10개 판매금액')"
   ]
  },
  {
   "cell_type": "markdown",
   "id": "db3703ed",
   "metadata": {},
   "source": [
    "* **필수 문제3: 가장 많이 팔린 입장권 종류(entry_data)**  \n",
    "여러 입장권 종류를 판매 매출(판매 개수 x 금액) 순으로 정렬하고 상위 10개를 뽑아 결과를 시각화  \n",
    "힌트: value_counts() 함수를 사용하세요."
   ]
  },
  {
   "cell_type": "code",
   "execution_count": 17,
   "id": "45f08ca8",
   "metadata": {},
   "outputs": [
    {
     "name": "stdout",
     "output_type": "stream",
     "text": [
      "<class 'pandas.core.frame.DataFrame'>\n",
      "RangeIndex: 22555 entries, 0 to 22554\n",
      "Data columns (total 8 columns):\n",
      " #   Column  Non-Null Count  Dtype \n",
      "---  ------  --------------  ----- \n",
      " 0   요금제명    22292 non-null  object\n",
      " 1   입실      22555 non-null  object\n",
      " 2   퇴실      22555 non-null  object\n",
      " 3   이용      22533 non-null  object\n",
      " 4   위치      22555 non-null  object\n",
      " 5   금액      22555 non-null  int64 \n",
      " 6   구분      22555 non-null  object\n",
      " 7   고객      22555 non-null  object\n",
      "dtypes: int64(1), object(7)\n",
      "memory usage: 1.4+ MB\n"
     ]
    },
    {
     "data": {
      "text/html": [
       "<div>\n",
       "<style scoped>\n",
       "    .dataframe tbody tr th:only-of-type {\n",
       "        vertical-align: middle;\n",
       "    }\n",
       "\n",
       "    .dataframe tbody tr th {\n",
       "        vertical-align: top;\n",
       "    }\n",
       "\n",
       "    .dataframe thead th {\n",
       "        text-align: right;\n",
       "    }\n",
       "</style>\n",
       "<table border=\"1\" class=\"dataframe\">\n",
       "  <thead>\n",
       "    <tr style=\"text-align: right;\">\n",
       "      <th></th>\n",
       "      <th>요금제명</th>\n",
       "      <th>입실</th>\n",
       "      <th>퇴실</th>\n",
       "      <th>이용</th>\n",
       "      <th>위치</th>\n",
       "      <th>금액</th>\n",
       "      <th>구분</th>\n",
       "      <th>고객</th>\n",
       "    </tr>\n",
       "  </thead>\n",
       "  <tbody>\n",
       "    <tr>\n",
       "      <th>0</th>\n",
       "      <td>시간요금제(1시간)</td>\n",
       "      <td>2022-04-01 23:39</td>\n",
       "      <td>2022-04-02 0:39</td>\n",
       "      <td>오전 1:00:00</td>\n",
       "      <td>선불기2</td>\n",
       "      <td>3000</td>\n",
       "      <td>퇴실</td>\n",
       "      <td>customer263717</td>\n",
       "    </tr>\n",
       "    <tr>\n",
       "      <th>1</th>\n",
       "      <td>시간요금제(1시간)</td>\n",
       "      <td>2022-04-01 23:39</td>\n",
       "      <td>2022-04-02 0:39</td>\n",
       "      <td>오전 1:00:00</td>\n",
       "      <td>선불기2</td>\n",
       "      <td>3000</td>\n",
       "      <td>퇴실</td>\n",
       "      <td>customer263717</td>\n",
       "    </tr>\n",
       "    <tr>\n",
       "      <th>2</th>\n",
       "      <td>무제한 입장권</td>\n",
       "      <td>2022-04-01 20:55</td>\n",
       "      <td>2022-04-01 21:41</td>\n",
       "      <td>오전 12:46:00</td>\n",
       "      <td>선불기2</td>\n",
       "      <td>7400</td>\n",
       "      <td>퇴실</td>\n",
       "      <td>customer247263</td>\n",
       "    </tr>\n",
       "    <tr>\n",
       "      <th>3</th>\n",
       "      <td>무제한 입장권</td>\n",
       "      <td>2022-04-01 20:55</td>\n",
       "      <td>2022-04-01 21:41</td>\n",
       "      <td>오전 12:46:00</td>\n",
       "      <td>선불기2</td>\n",
       "      <td>7400</td>\n",
       "      <td>퇴실</td>\n",
       "      <td>customer247263</td>\n",
       "    </tr>\n",
       "    <tr>\n",
       "      <th>4</th>\n",
       "      <td>한국대생 무제한 입장권</td>\n",
       "      <td>2022-04-01 19:54</td>\n",
       "      <td>2022-04-01 22:28</td>\n",
       "      <td>오전 2:33:00</td>\n",
       "      <td>선불기2</td>\n",
       "      <td>7400</td>\n",
       "      <td>퇴실</td>\n",
       "      <td>customer388928</td>\n",
       "    </tr>\n",
       "    <tr>\n",
       "      <th>...</th>\n",
       "      <td>...</td>\n",
       "      <td>...</td>\n",
       "      <td>...</td>\n",
       "      <td>...</td>\n",
       "      <td>...</td>\n",
       "      <td>...</td>\n",
       "      <td>...</td>\n",
       "      <td>...</td>\n",
       "    </tr>\n",
       "    <tr>\n",
       "      <th>22550</th>\n",
       "      <td>종일요금제</td>\n",
       "      <td>2021-02-17 13:09</td>\n",
       "      <td>2021-02-17 14:19</td>\n",
       "      <td>오전 1:10:00</td>\n",
       "      <td>선불기1</td>\n",
       "      <td>6500</td>\n",
       "      <td>퇴실</td>\n",
       "      <td>customer774105</td>\n",
       "    </tr>\n",
       "    <tr>\n",
       "      <th>22551</th>\n",
       "      <td>종일요금제</td>\n",
       "      <td>2021-02-17 13:09</td>\n",
       "      <td>2021-02-17 14:19</td>\n",
       "      <td>오전 1:10:00</td>\n",
       "      <td>선불기1</td>\n",
       "      <td>6500</td>\n",
       "      <td>퇴실</td>\n",
       "      <td>customer774105</td>\n",
       "    </tr>\n",
       "    <tr>\n",
       "      <th>22552</th>\n",
       "      <td>종일요금제</td>\n",
       "      <td>2021-02-17 13:06</td>\n",
       "      <td>2021-02-17 14:19</td>\n",
       "      <td>오전 1:13:00</td>\n",
       "      <td>선불기1</td>\n",
       "      <td>7000</td>\n",
       "      <td>퇴실</td>\n",
       "      <td>customer774105</td>\n",
       "    </tr>\n",
       "    <tr>\n",
       "      <th>22553</th>\n",
       "      <td>종일요금제</td>\n",
       "      <td>2021-02-17 13:06</td>\n",
       "      <td>2021-02-17 14:19</td>\n",
       "      <td>오전 1:13:00</td>\n",
       "      <td>선불기1</td>\n",
       "      <td>7000</td>\n",
       "      <td>퇴실</td>\n",
       "      <td>customer774105</td>\n",
       "    </tr>\n",
       "    <tr>\n",
       "      <th>22554</th>\n",
       "      <td>종일요금제</td>\n",
       "      <td>2021-02-17 12:58</td>\n",
       "      <td>2021-02-17 14:19</td>\n",
       "      <td>오전 1:21:00</td>\n",
       "      <td>선불기1</td>\n",
       "      <td>7000</td>\n",
       "      <td>퇴실</td>\n",
       "      <td>customer774105</td>\n",
       "    </tr>\n",
       "  </tbody>\n",
       "</table>\n",
       "<p>22555 rows × 8 columns</p>\n",
       "</div>"
      ],
      "text/plain": [
       "               요금제명                입실                퇴실           이용    위치  \\\n",
       "0        시간요금제(1시간)  2022-04-01 23:39   2022-04-02 0:39   오전 1:00:00  선불기2   \n",
       "1        시간요금제(1시간)  2022-04-01 23:39   2022-04-02 0:39   오전 1:00:00  선불기2   \n",
       "2           무제한 입장권  2022-04-01 20:55  2022-04-01 21:41  오전 12:46:00  선불기2   \n",
       "3           무제한 입장권  2022-04-01 20:55  2022-04-01 21:41  오전 12:46:00  선불기2   \n",
       "4      한국대생 무제한 입장권  2022-04-01 19:54  2022-04-01 22:28   오전 2:33:00  선불기2   \n",
       "...             ...               ...               ...          ...   ...   \n",
       "22550         종일요금제  2021-02-17 13:09  2021-02-17 14:19   오전 1:10:00  선불기1   \n",
       "22551         종일요금제  2021-02-17 13:09  2021-02-17 14:19   오전 1:10:00  선불기1   \n",
       "22552         종일요금제  2021-02-17 13:06  2021-02-17 14:19   오전 1:13:00  선불기1   \n",
       "22553         종일요금제  2021-02-17 13:06  2021-02-17 14:19   오전 1:13:00  선불기1   \n",
       "22554         종일요금제  2021-02-17 12:58  2021-02-17 14:19   오전 1:21:00  선불기1   \n",
       "\n",
       "         금액  구분              고객  \n",
       "0      3000  퇴실  customer263717  \n",
       "1      3000  퇴실  customer263717  \n",
       "2      7400  퇴실  customer247263  \n",
       "3      7400  퇴실  customer247263  \n",
       "4      7400  퇴실  customer388928  \n",
       "...     ...  ..             ...  \n",
       "22550  6500  퇴실  customer774105  \n",
       "22551  6500  퇴실  customer774105  \n",
       "22552  7000  퇴실  customer774105  \n",
       "22553  7000  퇴실  customer774105  \n",
       "22554  7000  퇴실  customer774105  \n",
       "\n",
       "[22555 rows x 8 columns]"
      ]
     },
     "execution_count": 17,
     "metadata": {},
     "output_type": "execute_result"
    },
    {
     "data": {
      "text/html": [
       "<div>\n",
       "<style scoped>\n",
       "    .dataframe tbody tr th:only-of-type {\n",
       "        vertical-align: middle;\n",
       "    }\n",
       "\n",
       "    .dataframe tbody tr th {\n",
       "        vertical-align: top;\n",
       "    }\n",
       "\n",
       "    .dataframe thead th {\n",
       "        text-align: right;\n",
       "    }\n",
       "</style>\n",
       "<table border=\"1\" class=\"dataframe\">\n",
       "  <thead>\n",
       "    <tr style=\"text-align: right;\">\n",
       "      <th></th>\n",
       "      <th>요금제명</th>\n",
       "      <th>금액</th>\n",
       "    </tr>\n",
       "  </thead>\n",
       "  <tbody>\n",
       "    <tr>\n",
       "      <th>0</th>\n",
       "      <td>한국대생 입장권(종일권)</td>\n",
       "      <td>70037000</td>\n",
       "    </tr>\n",
       "    <tr>\n",
       "      <th>1</th>\n",
       "      <td>입장권(종일권)</td>\n",
       "      <td>23570500</td>\n",
       "    </tr>\n",
       "    <tr>\n",
       "      <th>2</th>\n",
       "      <td>심야-조조무제한(06시까지)</td>\n",
       "      <td>11600000</td>\n",
       "    </tr>\n",
       "    <tr>\n",
       "      <th>3</th>\n",
       "      <td>심야-조조무제한</td>\n",
       "      <td>6221000</td>\n",
       "    </tr>\n",
       "    <tr>\n",
       "      <th>4</th>\n",
       "      <td>한국대생 무제한 입장권</td>\n",
       "      <td>5207500</td>\n",
       "    </tr>\n",
       "    <tr>\n",
       "      <th>5</th>\n",
       "      <td>시간요금제(1시간)</td>\n",
       "      <td>2665500</td>\n",
       "    </tr>\n",
       "    <tr>\n",
       "      <th>6</th>\n",
       "      <td>시간요금제(3시간)</td>\n",
       "      <td>2042000</td>\n",
       "    </tr>\n",
       "    <tr>\n",
       "      <th>7</th>\n",
       "      <td>무제한 입장권</td>\n",
       "      <td>1568600</td>\n",
       "    </tr>\n",
       "    <tr>\n",
       "      <th>8</th>\n",
       "      <td>18시이후 무제한</td>\n",
       "      <td>1330500</td>\n",
       "    </tr>\n",
       "    <tr>\n",
       "      <th>9</th>\n",
       "      <td>조조무제한</td>\n",
       "      <td>693000</td>\n",
       "    </tr>\n",
       "  </tbody>\n",
       "</table>\n",
       "</div>"
      ],
      "text/plain": [
       "              요금제명        금액\n",
       "0    한국대생 입장권(종일권)  70037000\n",
       "1         입장권(종일권)  23570500\n",
       "2  심야-조조무제한(06시까지)  11600000\n",
       "3         심야-조조무제한   6221000\n",
       "4     한국대생 무제한 입장권   5207500\n",
       "5       시간요금제(1시간)   2665500\n",
       "6       시간요금제(3시간)   2042000\n",
       "7          무제한 입장권   1568600\n",
       "8        18시이후 무제한   1330500\n",
       "9            조조무제한    693000"
      ]
     },
     "execution_count": 17,
     "metadata": {},
     "output_type": "execute_result"
    }
   ],
   "source": [
    "# 활용할 데이터(entry_data)를 temp_var로 정의하기\n",
    "temp_var = entry_data\n",
    "temp_var.info()\n",
    "temp_var\n",
    "# temp_var의 금액을 요금제명을 기준으로 집계하기\n",
    "grouped = temp_var.groupby('요금제명')['금액'].sum()\n",
    "# tickets의 값을 내림차순으로 정렬하고 상위 10개 도출하기\n",
    "tickets = grouped.sort_values(ascending=False).nlargest(10)\n",
    "tickets = pd.DataFrame(tickets).reset_index()\n",
    "tickets"
   ]
  },
  {
   "cell_type": "code",
   "execution_count": 18,
   "id": "21f3974d",
   "metadata": {
    "scrolled": false
   },
   "outputs": [
    {
     "data": {
      "text/plain": [
       "<AxesSubplot:xlabel='요금제명', ylabel='금액'>"
      ]
     },
     "execution_count": 18,
     "metadata": {},
     "output_type": "execute_result"
    },
    {
     "data": {
      "text/plain": [
       "(array([0, 1, 2, 3, 4, 5, 6, 7, 8, 9]),\n",
       " [Text(0, 0, '한국대생 입장권(종일권)'),\n",
       "  Text(1, 0, '입장권(종일권)'),\n",
       "  Text(2, 0, '심야-조조무제한(06시까지)'),\n",
       "  Text(3, 0, '심야-조조무제한'),\n",
       "  Text(4, 0, '한국대생 무제한 입장권'),\n",
       "  Text(5, 0, '시간요금제(1시간)'),\n",
       "  Text(6, 0, '시간요금제(3시간)'),\n",
       "  Text(7, 0, '무제한 입장권'),\n",
       "  Text(8, 0, '18시이후 무제한'),\n",
       "  Text(9, 0, '조조무제한')])"
      ]
     },
     "execution_count": 18,
     "metadata": {},
     "output_type": "execute_result"
    },
    {
     "data": {
      "text/plain": [
       "Text(0.5, 1.0, '입장권별 상위10개 판매금액')"
      ]
     },
     "execution_count": 18,
     "metadata": {},
     "output_type": "execute_result"
    },
    {
     "data": {
      "image/png": "[encoded data removed]",
      "text/plain": [
       "<Figure size 640x480 with 1 Axes>"
      ]
     },
     "metadata": {},
     "output_type": "display_data"
    }
   ],
   "source": [
    "# 집계 결과 시각화하기\n",
    "sns.barplot(x=tickets['요금제명'],y=tickets['금액'])\n",
    "plt.xticks(rotation =90)\n",
    "plt.title('입장권별 상위10개 판매금액')\n",
    "plt.show()"
   ]
  },
  {
   "cell_type": "markdown",
   "id": "c02f477b",
   "metadata": {},
   "source": [
    "* **내가 정의한 문제 해결하기** \n",
    "> 단골 고객 대상으로 메뉴 개선  \n",
    ">  * 단골 고객이 많이 주문한 음식/음료  \n",
    ">  * 단골 고객이 한번만 주문한 음식/음료"
   ]
  },
  {
   "cell_type": "markdown",
   "id": "d172bebf",
   "metadata": {},
   "source": [
    "* **내가 정의한 문제1 : 단골 고객이 많이 주문한 음식/음료(sales_data)**  \n",
    "단골 고객 기준 : 지금까지 결제한 총 횟수가 많은 20명 선정    \n",
    "단골 고객이 많이 주문한 음식.음료 10개 뽑아 시각화  "
   ]
  },
  {
   "cell_type": "code",
   "execution_count": 27,
   "id": "0ace6afe",
   "metadata": {},
   "outputs": [
    {
     "data": {
      "text/html": [
       "<div>\n",
       "<style scoped>\n",
       "    .dataframe tbody tr th:only-of-type {\n",
       "        vertical-align: middle;\n",
       "    }\n",
       "\n",
       "    .dataframe tbody tr th {\n",
       "        vertical-align: top;\n",
       "    }\n",
       "\n",
       "    .dataframe thead th {\n",
       "        text-align: right;\n",
       "    }\n",
       "</style>\n",
       "<table border=\"1\" class=\"dataframe\">\n",
       "  <thead>\n",
       "    <tr style=\"text-align: right;\">\n",
       "      <th></th>\n",
       "      <th>판매수량</th>\n",
       "      <th>payment</th>\n",
       "    </tr>\n",
       "    <tr>\n",
       "      <th>상품명</th>\n",
       "      <th></th>\n",
       "      <th></th>\n",
       "    </tr>\n",
       "  </thead>\n",
       "  <tbody>\n",
       "    <tr>\n",
       "      <th>계란추가</th>\n",
       "      <td>65</td>\n",
       "      <td>32500</td>\n",
       "    </tr>\n",
       "    <tr>\n",
       "      <th>김치볶음밥</th>\n",
       "      <td>63</td>\n",
       "      <td>315000</td>\n",
       "    </tr>\n",
       "    <tr>\n",
       "      <th>라면</th>\n",
       "      <td>53</td>\n",
       "      <td>212000</td>\n",
       "    </tr>\n",
       "    <tr>\n",
       "      <th>낙지볶음밥</th>\n",
       "      <td>30</td>\n",
       "      <td>165900</td>\n",
       "    </tr>\n",
       "    <tr>\n",
       "      <th>짜장라면</th>\n",
       "      <td>30</td>\n",
       "      <td>135000</td>\n",
       "    </tr>\n",
       "    <tr>\n",
       "      <th>새우볶음밥</th>\n",
       "      <td>23</td>\n",
       "      <td>115000</td>\n",
       "    </tr>\n",
       "    <tr>\n",
       "      <th>치즈감자튀김</th>\n",
       "      <td>16</td>\n",
       "      <td>88000</td>\n",
       "    </tr>\n",
       "    <tr>\n",
       "      <th>쿠키(초코칩)</th>\n",
       "      <td>14</td>\n",
       "      <td>21000</td>\n",
       "    </tr>\n",
       "    <tr>\n",
       "      <th>감자튀김</th>\n",
       "      <td>14</td>\n",
       "      <td>63000</td>\n",
       "    </tr>\n",
       "    <tr>\n",
       "      <th>치즈추가</th>\n",
       "      <td>13</td>\n",
       "      <td>6500</td>\n",
       "    </tr>\n",
       "  </tbody>\n",
       "</table>\n",
       "</div>"
      ],
      "text/plain": [
       "         판매수량  payment\n",
       "상품명                   \n",
       "계란추가       65    32500\n",
       "김치볶음밥      63   315000\n",
       "라면         53   212000\n",
       "낙지볶음밥      30   165900\n",
       "짜장라면       30   135000\n",
       "새우볶음밥      23   115000\n",
       "치즈감자튀김     16    88000\n",
       "쿠키(초코칩)    14    21000\n",
       "감자튀김       14    63000\n",
       "치즈추가       13     6500"
      ]
     },
     "execution_count": 27,
     "metadata": {},
     "output_type": "execute_result"
    }
   ],
   "source": [
    "customer=sales_data['고객'].value_counts().sort_values(ascending=False)\n",
    "#단골 고객 : 결제한 횟수 순으로 20명\n",
    "regular = list(customer.nlargest(20).index)\n",
    "#regular\n",
    "mask = sales_data['고객'].isin(regular)\n",
    "\n",
    "#단골 고객이 많이 주문한 음식/음료 10가지\n",
    "top10 = sales_data[mask].groupby('상품명')[['판매수량','payment']].sum().sort_values(by='판매수량',ascending=True)\n",
    "top10 = top10.nlargest(10,columns='판매수량')\n",
    "top10"
   ]
  },
  {
   "cell_type": "code",
   "execution_count": 31,
   "id": "9e7380a6",
   "metadata": {},
   "outputs": [
    {
     "data": {
      "text/plain": [
       "<AxesSubplot:xlabel='상품명', ylabel='판매수량'>"
      ]
     },
     "execution_count": 31,
     "metadata": {},
     "output_type": "execute_result"
    },
    {
     "data": {
      "text/plain": [
       "(array([0, 1, 2, 3, 4, 5, 6, 7, 8, 9]),\n",
       " [Text(0, 0, '계란추가'),\n",
       "  Text(1, 0, '김치볶음밥'),\n",
       "  Text(2, 0, '라면'),\n",
       "  Text(3, 0, '낙지볶음밥'),\n",
       "  Text(4, 0, '짜장라면'),\n",
       "  Text(5, 0, '새우볶음밥'),\n",
       "  Text(6, 0, '치즈감자튀김'),\n",
       "  Text(7, 0, '쿠키(초코칩)'),\n",
       "  Text(8, 0, '감자튀김'),\n",
       "  Text(9, 0, '치즈추가')])"
      ]
     },
     "execution_count": 31,
     "metadata": {},
     "output_type": "execute_result"
    },
    {
     "data": {
      "text/plain": [
       "Text(0.5, 1.0, '단골 고객이 선호하는 음식/음료 Top10')"
      ]
     },
     "execution_count": 31,
     "metadata": {},
     "output_type": "execute_result"
    },
    {
     "data": {
      "image/png": "[encoded data removed]",
      "text/plain": [
       "<Figure size 640x480 with 1 Axes>"
      ]
     },
     "metadata": {},
     "output_type": "display_data"
    }
   ],
   "source": [
    "sns.barplot(x=top10.index, y=top10['판매수량'])\n",
    "plt.xticks(rotation=90)\n",
    "plt.title('단골 고객이 선호하는 음식/음료 Top10')"
   ]
  },
  {
   "cell_type": "markdown",
   "id": "f234b9b5",
   "metadata": {},
   "source": [
    "* **내가 정의한 문제1 : 단골 고객이 많이 주문한 음식/음료(sales_data)**  \n",
    "단골 고객 기준 : 지금까지 결제 금액이 많은 20명 선정    \n",
    "단골 고객이 주문한 판매 매출(판매개수X결제금액)이 높은 음식.음료 10개 뽑아 시각화  "
   ]
  },
  {
   "cell_type": "code",
   "execution_count": 40,
   "id": "5d7d8c3d",
   "metadata": {},
   "outputs": [
    {
     "data": {
      "text/html": [
       "<div>\n",
       "<style scoped>\n",
       "    .dataframe tbody tr th:only-of-type {\n",
       "        vertical-align: middle;\n",
       "    }\n",
       "\n",
       "    .dataframe tbody tr th {\n",
       "        vertical-align: top;\n",
       "    }\n",
       "\n",
       "    .dataframe thead th {\n",
       "        text-align: right;\n",
       "    }\n",
       "</style>\n",
       "<table border=\"1\" class=\"dataframe\">\n",
       "  <thead>\n",
       "    <tr style=\"text-align: right;\">\n",
       "      <th></th>\n",
       "      <th>판매수량</th>\n",
       "      <th>payment</th>\n",
       "    </tr>\n",
       "    <tr>\n",
       "      <th>상품명</th>\n",
       "      <th></th>\n",
       "      <th></th>\n",
       "    </tr>\n",
       "  </thead>\n",
       "  <tbody>\n",
       "    <tr>\n",
       "      <th>김치볶음밥</th>\n",
       "      <td>64</td>\n",
       "      <td>320000</td>\n",
       "    </tr>\n",
       "    <tr>\n",
       "      <th>라면</th>\n",
       "      <td>60</td>\n",
       "      <td>240000</td>\n",
       "    </tr>\n",
       "    <tr>\n",
       "      <th>낙지볶음밥</th>\n",
       "      <td>32</td>\n",
       "      <td>176900</td>\n",
       "    </tr>\n",
       "    <tr>\n",
       "      <th>짜장라면</th>\n",
       "      <td>30</td>\n",
       "      <td>135000</td>\n",
       "    </tr>\n",
       "    <tr>\n",
       "      <th>치즈감자튀김</th>\n",
       "      <td>17</td>\n",
       "      <td>93500</td>\n",
       "    </tr>\n",
       "    <tr>\n",
       "      <th>새우볶음밥</th>\n",
       "      <td>15</td>\n",
       "      <td>75000</td>\n",
       "    </tr>\n",
       "    <tr>\n",
       "      <th>치즈불고기볶음밥</th>\n",
       "      <td>12</td>\n",
       "      <td>66000</td>\n",
       "    </tr>\n",
       "    <tr>\n",
       "      <th>감자튀김</th>\n",
       "      <td>14</td>\n",
       "      <td>63000</td>\n",
       "    </tr>\n",
       "    <tr>\n",
       "      <th>치즈케이크</th>\n",
       "      <td>12</td>\n",
       "      <td>48000</td>\n",
       "    </tr>\n",
       "    <tr>\n",
       "      <th>한돈간장불고기덮밥</th>\n",
       "      <td>6</td>\n",
       "      <td>45000</td>\n",
       "    </tr>\n",
       "  </tbody>\n",
       "</table>\n",
       "</div>"
      ],
      "text/plain": [
       "           판매수량  payment\n",
       "상품명                     \n",
       "김치볶음밥        64   320000\n",
       "라면           60   240000\n",
       "낙지볶음밥        32   176900\n",
       "짜장라면         30   135000\n",
       "치즈감자튀김       17    93500\n",
       "새우볶음밥        15    75000\n",
       "치즈불고기볶음밥     12    66000\n",
       "감자튀김         14    63000\n",
       "치즈케이크        12    48000\n",
       "한돈간장불고기덮밥     6    45000"
      ]
     },
     "execution_count": 40,
     "metadata": {},
     "output_type": "execute_result"
    }
   ],
   "source": [
    "#단골 고객 : 결제 금액 순으로 20명\n",
    "customer = sales_data.groupby('고객')['payment'].sum().sort_values(ascending=False)\n",
    "regular = list(customer.nlargest(20).index)\n",
    "mask = sales_data['고객'].isin(regular)\n",
    "\n",
    "# payment가 높은 순으로 10개 선정\n",
    "top10 = sales_data[mask].groupby('상품명')[['판매수량','payment']].sum().sort_values(by='payment',ascending=False)\n",
    "top10=top10.nlargest(10,columns='payment')\n",
    "top10"
   ]
  },
  {
   "cell_type": "code",
   "execution_count": 42,
   "id": "34efabd1",
   "metadata": {},
   "outputs": [
    {
     "data": {
      "text/plain": [
       "<AxesSubplot:xlabel='상품명', ylabel='payment'>"
      ]
     },
     "execution_count": 42,
     "metadata": {},
     "output_type": "execute_result"
    },
    {
     "data": {
      "text/plain": [
       "(array([0, 1, 2, 3, 4, 5, 6, 7, 8, 9]),\n",
       " [Text(0, 0, '김치볶음밥'),\n",
       "  Text(1, 0, '라면'),\n",
       "  Text(2, 0, '낙지볶음밥'),\n",
       "  Text(3, 0, '짜장라면'),\n",
       "  Text(4, 0, '치즈감자튀김'),\n",
       "  Text(5, 0, '새우볶음밥'),\n",
       "  Text(6, 0, '치즈불고기볶음밥'),\n",
       "  Text(7, 0, '감자튀김'),\n",
       "  Text(8, 0, '치즈케이크'),\n",
       "  Text(9, 0, '한돈간장불고기덮밥')])"
      ]
     },
     "execution_count": 42,
     "metadata": {},
     "output_type": "execute_result"
    },
    {
     "data": {
      "text/plain": [
       "Text(0.5, 1.0, '단골 고객이 선호하는 음식/음료 판매금액 Top10')"
      ]
     },
     "execution_count": 42,
     "metadata": {},
     "output_type": "execute_result"
    },
    {
     "data": {
      "image/png": "[encoded data removed]",
      "text/plain": [
       "<Figure size 640x480 with 1 Axes>"
      ]
     },
     "metadata": {},
     "output_type": "display_data"
    }
   ],
   "source": [
    "sns.barplot(x=top10.index, y=top10['payment'])\n",
    "plt.xticks(rotation=90)\n",
    "plt.title('단골 고객이 선호하는 음식/음료 판매금액 Top10')"
   ]
  },
  {
   "cell_type": "markdown",
   "id": "bc43a726",
   "metadata": {},
   "source": [
    "* **내가 정의한 문제2 : 단골 고객이 1번만 주문한 음식/음료(sales_data)**  \n",
    "단골 고객 기준 : 지금까지 결제한 총 횟수가 많은 20명 선정    \n",
    "단골 고객이 1번만 주문한 음식.음료 뽑아 시각화  "
   ]
  },
  {
   "cell_type": "code",
   "execution_count": 68,
   "id": "9cf514ad",
   "metadata": {},
   "outputs": [
    {
     "data": {
      "text/html": [
       "<div>\n",
       "<style scoped>\n",
       "    .dataframe tbody tr th:only-of-type {\n",
       "        vertical-align: middle;\n",
       "    }\n",
       "\n",
       "    .dataframe tbody tr th {\n",
       "        vertical-align: top;\n",
       "    }\n",
       "\n",
       "    .dataframe thead th {\n",
       "        text-align: right;\n",
       "    }\n",
       "</style>\n",
       "<table border=\"1\" class=\"dataframe\">\n",
       "  <thead>\n",
       "    <tr style=\"text-align: right;\">\n",
       "      <th></th>\n",
       "      <th>상품명</th>\n",
       "      <th>판매수량</th>\n",
       "    </tr>\n",
       "  </thead>\n",
       "  <tbody>\n",
       "    <tr>\n",
       "      <th>0</th>\n",
       "      <td>딸기스무디</td>\n",
       "      <td>1</td>\n",
       "    </tr>\n",
       "    <tr>\n",
       "      <th>1</th>\n",
       "      <td>바닐라라떼(ICE)</td>\n",
       "      <td>1</td>\n",
       "    </tr>\n",
       "    <tr>\n",
       "      <th>2</th>\n",
       "      <td>순살닭다리덮밥</td>\n",
       "      <td>1</td>\n",
       "    </tr>\n",
       "    <tr>\n",
       "      <th>3</th>\n",
       "      <td>민트초코칩쉐이크</td>\n",
       "      <td>1</td>\n",
       "    </tr>\n",
       "    <tr>\n",
       "      <th>4</th>\n",
       "      <td>치킨카라아케 10pc</td>\n",
       "      <td>1</td>\n",
       "    </tr>\n",
       "    <tr>\n",
       "      <th>5</th>\n",
       "      <td>만두</td>\n",
       "      <td>1</td>\n",
       "    </tr>\n",
       "    <tr>\n",
       "      <th>6</th>\n",
       "      <td>레몬차(HOT)</td>\n",
       "      <td>1</td>\n",
       "    </tr>\n",
       "    <tr>\n",
       "      <th>7</th>\n",
       "      <td>치킨카라아케 6pc</td>\n",
       "      <td>1</td>\n",
       "    </tr>\n",
       "    <tr>\n",
       "      <th>8</th>\n",
       "      <td>샷추가</td>\n",
       "      <td>1</td>\n",
       "    </tr>\n",
       "    <tr>\n",
       "      <th>9</th>\n",
       "      <td>딸기라떼(ICE)</td>\n",
       "      <td>1</td>\n",
       "    </tr>\n",
       "    <tr>\n",
       "      <th>10</th>\n",
       "      <td>블루베리머핀</td>\n",
       "      <td>1</td>\n",
       "    </tr>\n",
       "    <tr>\n",
       "      <th>11</th>\n",
       "      <td>녹차(ICE)</td>\n",
       "      <td>1</td>\n",
       "    </tr>\n",
       "    <tr>\n",
       "      <th>12</th>\n",
       "      <td>카모마일(HOT)</td>\n",
       "      <td>1</td>\n",
       "    </tr>\n",
       "    <tr>\n",
       "      <th>13</th>\n",
       "      <td>카페라떼(HOT)</td>\n",
       "      <td>1</td>\n",
       "    </tr>\n",
       "    <tr>\n",
       "      <th>14</th>\n",
       "      <td>카페모카(HOT)</td>\n",
       "      <td>1</td>\n",
       "    </tr>\n",
       "    <tr>\n",
       "      <th>15</th>\n",
       "      <td>카페모카(ICE)</td>\n",
       "      <td>1</td>\n",
       "    </tr>\n",
       "    <tr>\n",
       "      <th>16</th>\n",
       "      <td>쿠앤크쉐이크</td>\n",
       "      <td>1</td>\n",
       "    </tr>\n",
       "    <tr>\n",
       "      <th>17</th>\n",
       "      <td>(밥)체다치즈추가</td>\n",
       "      <td>1</td>\n",
       "    </tr>\n",
       "    <tr>\n",
       "      <th>18</th>\n",
       "      <td>녹차라떼(HOT)</td>\n",
       "      <td>1</td>\n",
       "    </tr>\n",
       "  </tbody>\n",
       "</table>\n",
       "</div>"
      ],
      "text/plain": [
       "            상품명  판매수량\n",
       "0         딸기스무디     1\n",
       "1    바닐라라떼(ICE)     1\n",
       "2       순살닭다리덮밥     1\n",
       "3      민트초코칩쉐이크     1\n",
       "4   치킨카라아케 10pc     1\n",
       "5            만두     1\n",
       "6      레몬차(HOT)     1\n",
       "7    치킨카라아케 6pc     1\n",
       "8           샷추가     1\n",
       "9     딸기라떼(ICE)     1\n",
       "10       블루베리머핀     1\n",
       "11      녹차(ICE)     1\n",
       "12    카모마일(HOT)     1\n",
       "13    카페라떼(HOT)     1\n",
       "14    카페모카(HOT)     1\n",
       "15    카페모카(ICE)     1\n",
       "16       쿠앤크쉐이크     1\n",
       "17    (밥)체다치즈추가     1\n",
       "18    녹차라떼(HOT)     1"
      ]
     },
     "execution_count": 68,
     "metadata": {},
     "output_type": "execute_result"
    },
    {
     "data": {
      "text/plain": [
       "['딸기스무디',\n",
       " '바닐라라떼(ICE)',\n",
       " '순살닭다리덮밥',\n",
       " '민트초코칩쉐이크',\n",
       " '치킨카라아케 10pc',\n",
       " '만두',\n",
       " '레몬차(HOT)',\n",
       " '치킨카라아케 6pc',\n",
       " '샷추가',\n",
       " '딸기라떼(ICE)',\n",
       " '블루베리머핀',\n",
       " '녹차(ICE)',\n",
       " '카모마일(HOT)',\n",
       " '카페라떼(HOT)',\n",
       " '카페모카(HOT)',\n",
       " '카페모카(ICE)',\n",
       " '쿠앤크쉐이크',\n",
       " '(밥)체다치즈추가',\n",
       " '녹차라떼(HOT)']"
      ]
     },
     "execution_count": 68,
     "metadata": {},
     "output_type": "execute_result"
    }
   ],
   "source": [
    "customer=sales_data['고객'].value_counts().sort_values(ascending=False)\n",
    "regular = list(customer.nlargest(20).index)\n",
    "#regular\n",
    "mask1 = sales_data['고객'].isin(regular)\n",
    "\n",
    "temp_var = sales_data[mask1].groupby('상품명')['판매수량'].count().sort_values(ascending=True)\n",
    "down = temp_var[temp_var == 1]\n",
    "pd_down = pd.DataFrame(down).reset_index()\n",
    "pd_down\n",
    "list(down.index)"
   ]
  },
  {
   "cell_type": "code",
   "execution_count": 58,
   "id": "f00c9d3e",
   "metadata": {},
   "outputs": [
    {
     "data": {
      "text/plain": [
       "<AxesSubplot:xlabel='상품명'>"
      ]
     },
     "execution_count": 58,
     "metadata": {},
     "output_type": "execute_result"
    },
    {
     "data": {
      "text/plain": [
       "(array([ 0,  1,  2,  3,  4,  5,  6,  7,  8,  9, 10, 11, 12, 13, 14, 15, 16,\n",
       "        17, 18]),\n",
       " [Text(0, 0, '딸기스무디'),\n",
       "  Text(1, 0, '바닐라라떼(ICE)'),\n",
       "  Text(2, 0, '순살닭다리덮밥'),\n",
       "  Text(3, 0, '민트초코칩쉐이크'),\n",
       "  Text(4, 0, '치킨카라아케 10pc'),\n",
       "  Text(5, 0, '만두'),\n",
       "  Text(6, 0, '레몬차(HOT)'),\n",
       "  Text(7, 0, '치킨카라아케 6pc'),\n",
       "  Text(8, 0, '샷추가'),\n",
       "  Text(9, 0, '딸기라떼(ICE)'),\n",
       "  Text(10, 0, '블루베리머핀'),\n",
       "  Text(11, 0, '녹차(ICE)'),\n",
       "  Text(12, 0, '카모마일(HOT)'),\n",
       "  Text(13, 0, '카페라떼(HOT)'),\n",
       "  Text(14, 0, '카페모카(HOT)'),\n",
       "  Text(15, 0, '카페모카(ICE)'),\n",
       "  Text(16, 0, '쿠앤크쉐이크'),\n",
       "  Text(17, 0, '(밥)체다치즈추가'),\n",
       "  Text(18, 0, '녹차라떼(HOT)')])"
      ]
     },
     "execution_count": 58,
     "metadata": {},
     "output_type": "execute_result"
    },
    {
     "data": {
      "text/plain": [
       "Text(0.5, 1.0, '단골 고객이 선호하지 않은 음식/음료')"
      ]
     },
     "execution_count": 58,
     "metadata": {},
     "output_type": "execute_result"
    },
    {
     "data": {
      "image/png": "[encoded data removed]",
      "text/plain": [
       "<Figure size 640x480 with 1 Axes>"
      ]
     },
     "metadata": {},
     "output_type": "display_data"
    }
   ],
   "source": [
    "sns.barplot(x=down.index, y=down.values)\n",
    "plt.xticks(rotation=90)\n",
    "plt.title('단골 고객이 선호하지 않은 음식/음료')"
   ]
  },
  {
   "cell_type": "markdown",
   "id": "5e7c42e5",
   "metadata": {},
   "source": [
    "## 4. 전략수립 및 실행 "
   ]
  },
  {
   "cell_type": "markdown",
   "id": "7f7f90cc",
   "metadata": {},
   "source": [
    "### 4-1 주어진 필수 3문제 \n",
    "\n",
    "* 월별 매출액 추세: 2021년 6월이 가장 높은 매출액을, 2021년 9월이 가장 낮은 매출액\n",
    "* 가장 있기있는 음식/음료 : 김치볶음밥, 라면\n",
    "* 가장 많이 팔린 입장권 종류 : 한국대생(종일권), 일반 입장권(종일권)\n",
    "\n",
    "매출현황이 대학 학기 패턴을 따라가고 있음  \n",
    "COVID-19에 따른 영업제한 조치   \n",
    "앞으로 어떻게 해야 할까?  "
   ]
  },
  {
   "cell_type": "markdown",
   "id": "1bf3b8a5",
   "metadata": {},
   "source": [
    "### 4-2 내가 정의한 문제 해결\n",
    "\n",
    "> 문제 정의 : 단골 고객 확보를 위해서 어떻게 해야 할까?  \n",
    ">             단골 고객 대상으로 선호, 비선호 음식/음료를 조사하여 메뉴 개선 \n",
    "\n",
    "* 단골 고객이 선호하는 음식(단골 고객이 많이 주문한 음식/음료) : 계란추가,김치볶음밥,라면 \n",
    "\n",
    "* 단골 고객이 한번만 주문한 음식/음료(단골 고객이 선호하지 않는 음식) :   \n",
    " * 음료:  \n",
    "'샷추가', '딸기스무디', '민트초코칩쉐이크','쿠앤크쉐이크','딸기라떼(ICE)','녹차(ICE)','바닐라라떼(ICE)','카페모카(ICE)','카모마일(HOT)','카페라떼(HOT)','카페모카(HOT)','레몬차(HOT)','녹차라떼(HOT)'\n",
    " * 음식:   \n",
    "'블루베리머핀','순살닭다리덮밥','(밥)체다치즈추가','치킨카라아케 10pc','만두','치킨카라아케 6pc'"
   ]
  },
  {
   "cell_type": "markdown",
   "id": "87a88ff5",
   "metadata": {},
   "source": [
    "## 회고\n",
    "* 주어진 데이터에서 문제를 정의하고 전략을 수립하는게 어려웠다\n",
    "* 주어진 데이터에서 유의미한 정보를 알아내는 것이 어려웠다"
   ]
  }
 ],
 "metadata": {
  "kernelspec": {
   "display_name": "Python 3 (ipykernel)",
   "language": "python",
   "name": "python3"
  },
  "language_info": {
   "codemirror_mode": {
    "name": "ipython",
    "version": 3
   },
   "file_extension": ".py",
   "mimetype": "text/x-python",
   "name": "python",
   "nbconvert_exporter": "python",
   "pygments_lexer": "ipython3",
   "version": "3.9.13"
  }
 },
 "nbformat": 4,
 "nbformat_minor": 5
}
