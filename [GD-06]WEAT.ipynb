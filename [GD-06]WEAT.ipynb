{
 "cells": [
  {
   "cell_type": "markdown",
   "id": "1376d976",
   "metadata": {},
   "source": [
    "# 루브릭\n",
    "|평가문항|상세기준|self check|\n",
    "|:-------|:-------|:-----------------------|\n",
    "|1. 주어진 영화 코퍼스를 바탕으로 워드임베딩 모델을 정상적으로 만들었다.|워드임베딩의 most_similar() 메소드 결과가 의미상 바르게 나왔다.|OK|\n",
    "|2. 영화 구분, 장르별로 target, attribute에 대한 대표성있는 단어 셋을 생성하였다.|타당한 방법론을 통해 중복이 잘 제거되고 개념축을 의미적으로 잘 대표하는 단어 셋이 만들어졌다.|OK|\n",
    "|3. WEAT score 계산 및 시각화를 정상적으로 진행하였다.|전체 영화 장르별로 예술/일반 영화에 대한 편향성 WEAT score가 상식에 부합하는 수치로 얻어졌으며 이를 잘 시각화하였다.|OK|"
   ]
  },
  {
   "cell_type": "markdown",
   "id": "0ea035b2",
   "metadata": {},
   "source": [
    "### dataset\n",
    "1.영화 시놉시스 코퍼스 \n",
    "\n",
    "### 적용할 알고리즘\n",
    "1. Word2Vec\n",
    "\n",
    "### 평가 지표  \n",
    "1. WEAT score"
   ]
  },
  {
   "cell_type": "markdown",
   "id": "418aa96c",
   "metadata": {},
   "source": [
    "## 문제 정의  \n",
    "\n",
    "> 영화 구분과 모든 영화 장르간에 내재된 편향성 측정"
   ]
  },
  {
   "cell_type": "markdown",
   "id": "b45128b3",
   "metadata": {},
   "source": [
    "## 분석 결과  \n",
    " **1. 사람의 편향과 반대**\n",
    " \n",
    "|예술영화|일반영화|편향|weat score|\n",
    "|:---------:|:----------:|:----------:|:--:|\n",
    "|사극|SF|반대|-0.83 |\n",
    "|드라마|기타|반대|-0.85 |\n",
    "|멜로로맨스|기타|반대| -0.87|\n",
    "|사극|기타|반대|-0.80 |\n",
    "|성인물|기타|반대|-0.88 |\n",
    "|드라마|다큐멘터리|반대|-0.87 |\n",
    "|멜레로맨스|타큐멘터리|반대|-0.87 |\n",
    "|사극|다큐멘터리|반대|-0.81 |\n",
    "|성인물|다큐멘터리|반대|-0.92 |\n",
    "|에드밴처|다큐멘터리|반대|-0.86 |\n",
    "|판타지|드라마|반대|-0.82 |\n",
    "|멜로로맨스|판타지|반대|-0.97 |\n",
    "|스릴러|범죄|반대|0.98 |\n",
    "|애니메이션|애미메이션|반대|-0.87 |\n",
    "  \n",
    "<hr/>\n",
    "\n",
    " **2. 사람의 편향과 같음** \n",
    " \n",
    "|예술영화|일반영화|편향|weat score|\n",
    "|:---------:|:----------:|:----------:|:--:|\n",
    "|가족|다큐멘터리|같음|0.80 |\n",
    "|가족|애니메니션|같음|0.83 |\n",
    "|공연|기타|같음| 0.90|\n",
    "|공연|다큐멘터리|같음|0.90 |\n",
    "|공연|뮤지컬|같음|0.86 |\n",
    "|공연|애니메이션|같음|0.89 |\n",
    "|드라마|매니메이션|같음|0.85 |\n",
    "|멜로로맨스|뮤지컬|같음|0.83 |\n",
    "|멜로로맨스|범죄|같음|0.83 |\n",
    "|멜로로맨스|애니메이션|같음|0.85 |\n",
    "|멜로로맨스|코미디|같음|0.89 |\n",
    "|멜로로맨스|판타지|같음|0.82 |\n",
    "|미스터리|범죄|같음|0.98 |\n",
    "|사극|애미메이션|같음|0.82 |\n",
    "|사극|전쟁|같음|0.85 |\n"
   ]
  },
  {
   "cell_type": "markdown",
   "id": "e061631b",
   "metadata": {},
   "source": [
    "## 분석환경"
   ]
  },
  {
   "cell_type": "code",
   "execution_count": 2,
   "id": "12c9d1a3",
   "metadata": {},
   "outputs": [],
   "source": [
    "from IPython.core.interactiveshell import InteractiveShell\n",
    "InteractiveShell.ast_node_interactivity = \"all\"\n",
    "from IPython.display import Image\n",
    "#Image(filename='test.jpg') "
   ]
  },
  {
   "cell_type": "code",
   "execution_count": 2,
   "id": "e0abb1d9",
   "metadata": {},
   "outputs": [
    {
     "name": "stdout",
     "output_type": "stream",
     "text": [
      "0.5.2\n",
      "4.1.2\n",
      "1.0\n",
      "0.11.2\n"
     ]
    }
   ],
   "source": [
    "import konlpy\n",
    "import gensim\n",
    "import sklearn\n",
    "import seaborn\n",
    "\n",
    "print(konlpy.__version__)\n",
    "print(gensim.__version__)\n",
    "print(sklearn.__version__)\n",
    "print(seaborn.__version__)"
   ]
  },
  {
   "cell_type": "code",
   "execution_count": 3,
   "id": "c35d6e85",
   "metadata": {},
   "outputs": [],
   "source": [
    "import numpy as np\n",
    "from numpy import dot\n",
    "from numpy.linalg import norm"
   ]
  },
  {
   "cell_type": "markdown",
   "id": "c03068b4",
   "metadata": {},
   "source": [
    "# 프로젝트 : 모든 장르 간 편향성 측정해 보기\n",
    "> 영화 구분과 모든 영화 장르간에 내재된 편향성 측정"
   ]
  },
  {
   "cell_type": "markdown",
   "id": "8165947c",
   "metadata": {},
   "source": [
    "## STEP 1. 형태소 분석기를 이용하여 품사가 명사인 경우 해당 단어를 추출하기"
   ]
  },
  {
   "cell_type": "markdown",
   "id": "ec5f73dc",
   "metadata": {},
   "source": [
    "#### sysnopsis.txt로 부터 품사가 명사인 경우만 tokenized에 저장"
   ]
  },
  {
   "cell_type": "code",
   "execution_count": 42,
   "id": "cb9f36de",
   "metadata": {},
   "outputs": [
    {
     "name": "stdout",
     "output_type": "stream",
     "text": [
      "슝~\n"
     ]
    }
   ],
   "source": [
    "# 약 15분정도 걸립니다.\n",
    "import os\n",
    "from konlpy.tag import Okt\n",
    "okt = Okt()\n",
    "tokenized = []\n",
    "with open(os.getenv('HOME')+'/aiffel/weat/synopsis.txt', 'r') as file:\n",
    "    while True:\n",
    "        line = file.readline()\n",
    "        if not line: break\n",
    "        words = okt.pos(line, stem=True, norm=True)\n",
    "        res = []\n",
    "        for w in words:\n",
    "            if w[1] in [\"Noun\"]:      # \"Adjective\", \"Verb\" 등을 포함할 수도 있습니다.\n",
    "                res.append(w[0])    # 명사일 때만 tokenized 에 저장하게 됩니다. \n",
    "        tokenized.append(res)\n",
    "\n",
    "print(\"슝~\")"
   ]
  },
  {
   "cell_type": "code",
   "execution_count": 43,
   "id": "e706c91f",
   "metadata": {},
   "outputs": [
    {
     "data": {
      "text/plain": [
       "71156"
      ]
     },
     "execution_count": 43,
     "metadata": {},
     "output_type": "execute_result"
    },
    {
     "data": {
      "text/plain": [
       "[['사운드', '엔지니어', '상우', '유지태', '분', '치매', '할머니', '백성희', '분'],\n",
       " ['시절', '상처', '아버지', '박인환', '분', '고모', '신신애', '분', '살'],\n",
       " ['겨울', '그', '지방', '방송국', '라디오', '은수', '이영애', '분', '를'],\n",
       " ['자연', '소리', '채집', '라디오', '프로그램', '준비', '은수', '상우', '녹음', '여행'],\n",
       " ['두', '사람', '날', '은수', '아파트', '밤']]"
      ]
     },
     "execution_count": 43,
     "metadata": {},
     "output_type": "execute_result"
    }
   ],
   "source": [
    "len(tokenized)\n",
    "tokenized[:5]"
   ]
  },
  {
   "cell_type": "markdown",
   "id": "77f80888",
   "metadata": {},
   "source": [
    "## STEP 2. 추출된 결과로 embedding model 만들기"
   ]
  },
  {
   "cell_type": "code",
   "execution_count": 44,
   "id": "aa9a251a",
   "metadata": {},
   "outputs": [],
   "source": [
    "from gensim.models import Word2Vec\n",
    "\n",
    "# tokenized에 담긴 데이터를 가지고 나만의 Word2Vec을 생성합니다. (Gensim 4.0 기준)\n",
    "model = Word2Vec(tokenized, vector_size=100, window=5, min_count=3, sg=0)  \n",
    "\n",
    "# Gensim 3.X 에서는 아래와 같이 생성합니다. \n",
    "# model = Word2Vec(tokenized, size=100, window=5, min_count=3, sg=0)  "
   ]
  },
  {
   "cell_type": "code",
   "execution_count": 45,
   "id": "700a5d53",
   "metadata": {
    "scrolled": false
   },
   "outputs": [
    {
     "data": {
      "text/plain": [
       "[('작품', 0.9001291990280151),\n",
       " ('다큐멘터리', 0.8548182249069214),\n",
       " ('드라마', 0.8408967852592468),\n",
       " ('영화로', 0.837256669998169),\n",
       " ('형식', 0.8048837780952454),\n",
       " ('개연', 0.7953914999961853),\n",
       " ('코미디', 0.7927410006523132),\n",
       " ('감동', 0.7918827533721924),\n",
       " ('소재', 0.790608286857605),\n",
       " ('스토리', 0.7894114851951599)]"
      ]
     },
     "execution_count": 45,
     "metadata": {},
     "output_type": "execute_result"
    },
    {
     "data": {
      "text/plain": [
       "[('진심', 0.7029464244842529),\n",
       " ('첫사랑', 0.6965757608413696),\n",
       " ('행복', 0.6938179135322571),\n",
       " ('만남', 0.6911566257476807),\n",
       " ('운명', 0.6895471215248108),\n",
       " ('우정', 0.6831419467926025),\n",
       " ('애정', 0.682773768901825),\n",
       " ('연애', 0.6766237616539001),\n",
       " ('상처', 0.6706485748291016),\n",
       " ('감정', 0.6614930629730225)]"
      ]
     },
     "execution_count": 45,
     "metadata": {},
     "output_type": "execute_result"
    },
    {
     "data": {
      "text/plain": [
       "[('시나리오', 0.9001540541648865),\n",
       " ('영화감독', 0.8935526609420776),\n",
       " ('영감', 0.8911793828010559),\n",
       " ('데뷔', 0.8846921920776367),\n",
       " ('각색', 0.876941442489624),\n",
       " ('배우', 0.8731455206871033),\n",
       " ('연기자', 0.8715932369232178),\n",
       " ('캐스팅', 0.870272696018219),\n",
       " ('대본', 0.868678867816925),\n",
       " ('예술', 0.866378903388977)]"
      ]
     },
     "execution_count": 45,
     "metadata": {},
     "output_type": "execute_result"
    }
   ],
   "source": [
    "model.wv.most_similar(positive=['영화'])\n",
    "model.wv.most_similar(positive=['사랑'])\n",
    "model.wv.most_similar(positive=['연극'])"
   ]
  },
  {
   "cell_type": "markdown",
   "id": "55e7409c",
   "metadata": {},
   "source": [
    "## STEP 3. target, attribute 단어 셋 만들기"
   ]
  },
  {
   "cell_type": "markdown",
   "id": "5b5bc26c",
   "metadata": {},
   "source": [
    "* synopsis_art.txt', 'synopsis_gen.txt' 두 파일을 읽기\n",
    "* 명사만 추출하여 art, gen 변수에 할당"
   ]
  },
  {
   "cell_type": "code",
   "execution_count": 70,
   "id": "a6ba7eea",
   "metadata": {},
   "outputs": [],
   "source": [
    "import os\n",
    "from sklearn.feature_extraction.text import TfidfVectorizer\n",
    "import numpy as np\n",
    "from konlpy.tag import Okt\n",
    "\n",
    "art_txt = 'synopsis_art.txt'\n",
    "gen_txt = 'synopsis_gen.txt'\n",
    "\n",
    "def read_token(file_name):\n",
    "    okt = Okt()\n",
    "    result = []\n",
    "    with open(os.getenv('HOME')+'/aiffel/weat/'+file_name, 'r') as fread: \n",
    "        print(file_name, '파일을 읽고 있습니다.')\n",
    "        while True:\n",
    "            line = fread.readline() \n",
    "            if not line: break \n",
    "            tokenlist = okt.pos(line, stem=True, norm=True) \n",
    "            for word in tokenlist:\n",
    "                if word[1] in [\"Noun\"]:#, \"Adjective\", \"Verb\"]:\n",
    "                    result.append((word[0])) \n",
    "    return ' '.join(result)\n"
   ]
  },
  {
   "cell_type": "code",
   "execution_count": 47,
   "id": "ceccc303",
   "metadata": {},
   "outputs": [
    {
     "name": "stdout",
     "output_type": "stream",
     "text": [
      "synopsis_art.txt 파일을 읽고 있습니다.\n",
      "synopsis_gen.txt 파일을 읽고 있습니다.\n"
     ]
    }
   ],
   "source": [
    "# 2개의 파일을 처리하는데 10분 가량 걸립니다. \n",
    "art = read_token(art_txt)\n",
    "gen = read_token(gen_txt)"
   ]
  },
  {
   "cell_type": "code",
   "execution_count": 71,
   "id": "79a3e229",
   "metadata": {},
   "outputs": [
    {
     "data": {
      "text/plain": [
       "620208"
      ]
     },
     "execution_count": 71,
     "metadata": {},
     "output_type": "execute_result"
    },
    {
     "data": {
      "text/plain": [
       "3014815"
      ]
     },
     "execution_count": 71,
     "metadata": {},
     "output_type": "execute_result"
    }
   ],
   "source": [
    "len(art)\n",
    "len(gen)"
   ]
  },
  {
   "cell_type": "markdown",
   "id": "a13f18db",
   "metadata": {},
   "source": [
    "#### Target 단어 셋 \n",
    "\n",
    "> 영화구분   \n",
    "> Target_X : art  \n",
    "> Target_Y : general"
   ]
  },
  {
   "cell_type": "code",
   "execution_count": 48,
   "id": "09008135",
   "metadata": {},
   "outputs": [
    {
     "name": "stdout",
     "output_type": "stream",
     "text": [
      "(2, 41082)\n"
     ]
    }
   ],
   "source": [
    "vectorizer = TfidfVectorizer()\n",
    "X = vectorizer.fit_transform([art, gen])\n",
    "\n",
    "print(X.shape)"
   ]
  },
  {
   "cell_type": "code",
   "execution_count": 49,
   "id": "01c2fdff",
   "metadata": {},
   "outputs": [
    {
     "name": "stdout",
     "output_type": "stream",
     "text": [
      "23976\n",
      "영화\n"
     ]
    }
   ],
   "source": [
    "print(vectorizer.vocabulary_['영화'])\n",
    "print(vectorizer.get_feature_names()[23976])"
   ]
  },
  {
   "cell_type": "code",
   "execution_count": 50,
   "id": "733b9801",
   "metadata": {},
   "outputs": [
    {
     "name": "stdout",
     "output_type": "stream",
     "text": [
      "예술영화를 대표하는 단어들:\n",
      "그녀, 자신, 시작, 위해, 사랑, 사람, 영화, 친구, 남자, 가족, 이야기, 마을, 사건, 마음, 세상, 아버지, 아이, 엄마, 모든, 여자, 대한, 서로, 과연, 다시, 시간, 아들, 소녀, 아내, 다른, 사이, 영화제, 세계, 사실, 하나, 점점, 남편, 감독, 여행, 인생, 발견, 모두, 순간, 우리, 가장, 마지막, 생활, 아빠, 모습, 통해, 죽음, 기억, 비밀, 학교, 음악, 한편, 소년, 생각, 도시, 명의, 사고, 결혼, 전쟁, 때문, 위기, 이제, 최고, 이자, 과거, 일상, 경찰, 상황, 간다, 미국, 결심, 운명, 현실, 관계, 지금, 단편, 여인, 하루, 이름, 이후, 준비, 인간, 감정, 만난, 국제, 처음, 충격, 살인, 누구, 동안, 존재, 그린, 어머니, 연인, 계속, 동생, 작품, \n",
      "\n",
      "일반영화를 대표하는 단어들:\n",
      "자신, 그녀, 영화제, 위해, 사람, 시작, 국제, 영화, 친구, 사랑, 남자, 이야기, 대한, 서울, 여자, 사건, 남편, 아이, 가족, 아버지, 다른, 마을, 시간, 엄마, 아들, 모든, 단편, 마음, 사실, 다시, 세계, 모습, 작품, 통해, 생각, 서로, 세상, 발견, 감독, 아내, 관계, 소녀, 사이, 하나, 우리, 애니메이션, 때문, 여성, 죽음, 과연, 점점, 인간, 생활, 한편, 결혼, 상황, 모두, 기억, 명의, 소년, 여행, 가장, 간다, 순간, 이제, 도시, 비밀, 학교, 과거, 가지, 이자, 경찰, 마지막, 미국, 동안, 전쟁, 주인공, 대해, 존재, 현실, 연출, 사고, 살인, 일상, 어머니, 계속, 사회, 인생, 다큐멘터리, 부문, 섹스, 최고, 바로, 동생, 의도, 하루, 위기, 계획, 정체, 한국, "
     ]
    }
   ],
   "source": [
    "m1 = X[0].tocoo()   # art를 TF-IDF로 표현한 sparse matrix를 가져옵니다. \n",
    "m2 = X[1].tocoo()   # gen을 TF-IDF로 표현한 sparse matrix를 가져옵니다. \n",
    "\n",
    "w1 = [[i, j] for i, j in zip(m1.col, m1.data)]\n",
    "w2 = [[i, j] for i, j in zip(m2.col, m2.data)]\n",
    "\n",
    "w1.sort(key=lambda x: x[1], reverse=True)   #art를 구성하는 단어들을 TF-IDF가 높은 순으로 정렬합니다. \n",
    "w2.sort(key=lambda x: x[1], reverse=True)   #gen을 구성하는 단어들을 TF-IDF가 높은 순으로 정렬합니다. \n",
    "\n",
    "print('예술영화를 대표하는 단어들:')\n",
    "for i in range(100):\n",
    "    print(vectorizer.get_feature_names()[w1[i][0]], end=', ')\n",
    "\n",
    "print('\\n')\n",
    "    \n",
    "print('일반영화를 대표하는 단어들:')\n",
    "for i in range(100):\n",
    "    print(vectorizer.get_feature_names()[w2[i][0]], end=', ')"
   ]
  },
  {
   "cell_type": "markdown",
   "id": "e711fb93",
   "metadata": {},
   "source": [
    "#### 상위 100개 단어들 중 중복되는 단어 제외하고 상위15개 추출"
   ]
  },
  {
   "cell_type": "code",
   "execution_count": 51,
   "id": "dc3c6043",
   "metadata": {},
   "outputs": [],
   "source": [
    "n = 15\n",
    "w1_, w2_ = [], []\n",
    "for i in range(100):\n",
    "    w1_.append(vectorizer.get_feature_names()[w1[i][0]])\n",
    "    w2_.append(vectorizer.get_feature_names()[w2[i][0]])\n",
    "\n",
    "# w1에만 있고 w2에는 없는, 예술영화를 잘 대표하는 단어를 15개 추출한다.\n",
    "target_art, target_gen = [], []\n",
    "for i in range(100):\n",
    "    if (w1_[i] not in w2_) and (w1_[i] in model.wv): target_art.append(w1_[i])\n",
    "    if len(target_art) == n: break \n",
    "\n",
    "# w2에만 있고 w1에는 없는, 일반영화를 잘 대표하는 단어를 15개 추출한다.\n",
    "for i in range(100):\n",
    "    if (w2_[i] not in w1_) and (w2_[i] in model.wv): target_gen.append(w2_[i])\n",
    "    if len(target_gen) == n: break"
   ]
  },
  {
   "cell_type": "code",
   "execution_count": 52,
   "id": "c07e2973",
   "metadata": {},
   "outputs": [
    {
     "name": "stdout",
     "output_type": "stream",
     "text": [
      "['아빠', '음악', '결심', '운명', '지금', '여인', '이름', '이후', '준비', '감정', '만난', '처음', '충격', '누구', '그린']\n",
      "['서울', '애니메이션', '여성', '가지', '주인공', '대해', '연출', '사회', '다큐멘터리', '부문', '섹스', '바로', '의도', '계획', '정체']\n"
     ]
    }
   ],
   "source": [
    "print(target_art)\n",
    "print(target_gen)"
   ]
  },
  {
   "cell_type": "markdown",
   "id": "d560e183",
   "metadata": {},
   "source": [
    "#### Attribute 단어셋 \n",
    "* 장르별 대표 단어 추출"
   ]
  },
  {
   "cell_type": "code",
   "execution_count": 53,
   "id": "aedb0477",
   "metadata": {},
   "outputs": [],
   "source": [
    "genre_txt = ['synopsis_SF.txt', 'synopsis_family.txt', 'synopsis_show.txt', 'synopsis_horror.txt', 'synopsis_etc.txt', \n",
    "             'synopsis_documentary.txt', 'synopsis_drama.txt', 'synopsis_romance.txt', 'synopsis_musical.txt', \n",
    "             'synopsis_mystery.txt', 'synopsis_crime.txt', 'synopsis_historical.txt', 'synopsis_western.txt', \n",
    "             'synopsis_adult.txt', 'synopsis_thriller.txt', 'synopsis_animation.txt', 'synopsis_action.txt', \n",
    "             'synopsis_adventure.txt', 'synopsis_war.txt', 'synopsis_comedy.txt', 'synopsis_fantasy.txt']\n",
    "genre_name = ['SF', '가족', '공연', '공포(호러)', '기타', '다큐멘터리', '드라마', '멜로로맨스', '뮤지컬', '미스터리', '범죄', '사극', '서부극(웨스턴)',\n",
    "         '성인물(에로)', '스릴러', '애니메이션', '액션', '어드벤처', '전쟁', '코미디', '판타지']"
   ]
  },
  {
   "cell_type": "code",
   "execution_count": 54,
   "id": "05eb3bd3",
   "metadata": {},
   "outputs": [
    {
     "name": "stdout",
     "output_type": "stream",
     "text": [
      "synopsis_SF.txt 파일을 읽고 있습니다.\n",
      "synopsis_family.txt 파일을 읽고 있습니다.\n",
      "synopsis_show.txt 파일을 읽고 있습니다.\n",
      "synopsis_horror.txt 파일을 읽고 있습니다.\n",
      "synopsis_etc.txt 파일을 읽고 있습니다.\n",
      "synopsis_documentary.txt 파일을 읽고 있습니다.\n",
      "synopsis_drama.txt 파일을 읽고 있습니다.\n",
      "synopsis_romance.txt 파일을 읽고 있습니다.\n",
      "synopsis_musical.txt 파일을 읽고 있습니다.\n",
      "synopsis_mystery.txt 파일을 읽고 있습니다.\n",
      "synopsis_crime.txt 파일을 읽고 있습니다.\n",
      "synopsis_historical.txt 파일을 읽고 있습니다.\n",
      "synopsis_western.txt 파일을 읽고 있습니다.\n",
      "synopsis_adult.txt 파일을 읽고 있습니다.\n",
      "synopsis_thriller.txt 파일을 읽고 있습니다.\n",
      "synopsis_animation.txt 파일을 읽고 있습니다.\n",
      "synopsis_action.txt 파일을 읽고 있습니다.\n",
      "synopsis_adventure.txt 파일을 읽고 있습니다.\n",
      "synopsis_war.txt 파일을 읽고 있습니다.\n",
      "synopsis_comedy.txt 파일을 읽고 있습니다.\n",
      "synopsis_fantasy.txt 파일을 읽고 있습니다.\n"
     ]
    }
   ],
   "source": [
    "# 약 10분정도 걸립니다.\n",
    "genre = []\n",
    "for file_name in genre_txt:\n",
    "    genre.append(read_token(file_name))"
   ]
  },
  {
   "cell_type": "code",
   "execution_count": 55,
   "id": "332bb7cf",
   "metadata": {},
   "outputs": [
    {
     "name": "stdout",
     "output_type": "stream",
     "text": [
      "(21, 42191)\n"
     ]
    }
   ],
   "source": [
    "vectorizer = TfidfVectorizer()\n",
    "X = vectorizer.fit_transform(genre)\n",
    "\n",
    "print(X.shape)"
   ]
  },
  {
   "cell_type": "code",
   "execution_count": 56,
   "id": "9e364ab6",
   "metadata": {},
   "outputs": [
    {
     "name": "stdout",
     "output_type": "stream",
     "text": [
      "SF: 위해, 자신, 지구, 시작, 사람, 인류, 인간, 미래, 우주, 그녀, 로봇, 세계, 모든, 박사, 우주선, \n",
      "가족: 엄마, 아빠, 가족, 영화제, 자신, 위해, 친구, 아주르, 아버지, 시작, 그녀, 아들, 마을, 국제, 낙타, \n",
      "공연: 오페라, 사랑, 토스카, 실황, 올레, 자신, 카바, 그녀, 공연, 오텔로, 리골레토, 백작, 프레, 베르디, 위해, \n",
      "공포(호러): 시작, 위해, 사람, 자신, 친구, 그녀, 사건, 공포, 발견, 죽음, 마을, 가족, 악령, 남자, 좀비, \n",
      "기타: 영화제, 국제, 서울, 단편, 영화, 자신, 사람, 이야기, 그녀, 남자, 위해, 시작, 사랑, 뉴미디어, 페스티벌, \n",
      "다큐멘터리: 영화제, 영화, 다큐, 국제, 다큐멘터리, 사람, 이야기, 대한, 자신, 감독, 위해, 서울, 우리, 시작, 세계, \n",
      "드라마: 자신, 영화제, 그녀, 사람, 사랑, 영화, 위해, 시작, 국제, 남자, 친구, 이야기, 엄마, 여자, 아버지, \n",
      "멜로로맨스: 그녀, 사랑, 자신, 시작, 남편, 남자, 여자, 사람, 친구, 섹스, 위해, 마음, 결혼, 서로, 아내, \n",
      "뮤지컬: 뮤지컬, 사랑, 에스메랄다, 그녀, 음악, 충무로, 모차르트, 영화, 토스카, 자신, 니웨, 카바, 영화제, 바흐, 페뷔스, \n",
      "미스터리: 사건, 그녀, 시작, 자신, 위해, 사람, 발견, 사고, 진실, 죽음, 기억, 살인, 친구, 아내, 남자, \n",
      "범죄: 사건, 위해, 자신, 경찰, 시작, 그녀, 범죄, 조직, 살인, 사람, 마약, 형사, 남자, 모든, 살해, \n",
      "사극: 조선, 위해, 시작, 신기전, 사랑, 자신, 아가멤논, 황제, 그녀, 루안, 최고, 운명, 사람, 하선, 전쟁, \n",
      "서부극(웨스턴): 서부, 보안관, 위해, 벌린, 카우보이, 그레이프바인, 헨리, 마을, 자신, 개릿, 아이, 시작, 무법자, 프린트, 마적, \n",
      "성인물(에로): 그녀, 남편, 마사지, 자신, 섹스, 관계, 영화, 정사, 남자, 위해, 시작, 여자, 유부녀, 마음, 사랑, \n",
      "스릴러: 자신, 그녀, 사건, 시작, 위해, 사람, 살인, 남자, 발견, 아내, 경찰, 친구, 모든, 사실, 살해, \n",
      "애니메이션: 애니메이션, 국제, 영화제, 친구, 인디애니페스트, 위해, 자신, 시작, 사람, 페스티벌, 서울, 이야기, 아이, 마을, 소녀, \n",
      "액션: 위해, 자신, 시작, 조직, 사건, 사람, 그녀, 경찰, 전쟁, 모든, 목숨, 사실, 친구, 가족, 요원, \n",
      "어드벤처: 위해, 자신, 시작, 친구, 마을, 아버지, 영화, 아이, 사람, 여행, 세계, 앤트, 세상, 가족, 모험, \n",
      "전쟁: 전쟁, 독일군, 전투, 위해, 작전, 시작, 부대, 윈터스, 독일, 연합군, 미군, 임무, 자신, 사람, 나치, \n",
      "코미디: 그녀, 자신, 시작, 위해, 사랑, 사람, 친구, 영화, 남자, 여자, 영화제, 가족, 과연, 마을, 사건, \n",
      "판타지: 자신, 그녀, 시작, 위해, 사람, 사랑, 요괴, 영화제, 이야기, 영화, 소녀, 남자, 인간, 세상, 마을, \n"
     ]
    }
   ],
   "source": [
    "m = [X[i].tocoo() for i in range(X.shape[0])]\n",
    "\n",
    "w = [[[i, j] for i, j in zip(mm.col, mm.data)] for mm in m]\n",
    "\n",
    "for i in range(len(w)):\n",
    "    w[i].sort(key=lambda x: x[1], reverse=True)\n",
    "attributes = []\n",
    "for i in range(len(w)):\n",
    "    print(genre_name[i], end=': ')\n",
    "    attr = []\n",
    "    j = 0\n",
    "    while (len(attr) < 15):\n",
    "        if vectorizer.get_feature_names()[w[i][j][0]] in model.wv:\n",
    "            attr.append(vectorizer.get_feature_names()[w[i][j][0]])\n",
    "            print(vectorizer.get_feature_names()[w[i][j][0]], end=', ')\n",
    "        j += 1\n",
    "    attributes.append(attr)\n",
    "    print()"
   ]
  },
  {
   "cell_type": "markdown",
   "id": "bb459474",
   "metadata": {},
   "source": [
    "## STEP 4. WEAT score 계산과 시각화"
   ]
  },
  {
   "cell_type": "markdown",
   "id": "69ad3a87",
   "metadata": {},
   "source": [
    "* 영화 구분, 영화 장르에 따른 편향성을 측정하여 WEAT score로 계산해 보고 이를 Heatmap 형태로 시각화\n",
    "* 편향성이 두드러지는 영화장르 attribute 구성에는 어떤 케이스가 있는지 시각적으로 두드러지게 구성"
   ]
  },
  {
   "cell_type": "markdown",
   "id": "bb63a1e2",
   "metadata": {},
   "source": [
    "#### s(w,A,B) 함수\n",
    "\n",
    "* -2 ~ 2 범위\n",
    "* 절대값이 클 수록 편향이 심함\n",
    "* 양수 : attribute A에 더 가깝다.\n",
    "* 음수 : attribute B에 더 가깝다."
   ]
  },
  {
   "cell_type": "code",
   "execution_count": 9,
   "id": "0b48bde7",
   "metadata": {},
   "outputs": [
    {
     "data": {
      "image/png": "[encoded data removed]",
      "text/plain": [
       "<IPython.core.display.Image object>"
      ]
     },
     "execution_count": 9,
     "metadata": {},
     "output_type": "execute_result"
    }
   ],
   "source": [
    "Image(filename='./data/s.png') "
   ]
  },
  {
   "cell_type": "code",
   "execution_count": 7,
   "id": "f34e5590",
   "metadata": {},
   "outputs": [],
   "source": [
    "def cos_sim(i, j):\n",
    "    return dot(i, j.T)/(norm(i)*norm(j))\n",
    "\n",
    "def s(w, A, B):\n",
    "    c_a = cos_sim(w, A)\n",
    "    c_b = cos_sim(w, B)\n",
    "    mean_A = np.mean(c_a, axis=-1)\n",
    "    mean_B = np.mean(c_b, axis=-1)\n",
    "    return mean_A - mean_B #, c_a, c_b"
   ]
  },
  {
   "cell_type": "markdown",
   "id": "4bfbc364",
   "metadata": {},
   "source": [
    "#### WEAT score 함수"
   ]
  },
  {
   "cell_type": "code",
   "execution_count": 10,
   "id": "b38b79b0",
   "metadata": {},
   "outputs": [
    {
     "data": {
      "image/png": "[encoded data removed]",
      "text/plain": [
       "<IPython.core.display.Image object>"
      ]
     },
     "execution_count": 10,
     "metadata": {},
     "output_type": "execute_result"
    }
   ],
   "source": [
    "Image(filename='./data/weat_score.png') "
   ]
  },
  {
   "cell_type": "code",
   "execution_count": 8,
   "id": "ca9a5a3c",
   "metadata": {},
   "outputs": [],
   "source": [
    "def weat_score(X, Y, A, B):\n",
    "    \n",
    "    s_X = s(X, A, B)\n",
    "    s_Y = s(Y, A, B)\n",
    "\n",
    "    mean_X = np.mean(s_X)\n",
    "    mean_Y = np.mean(s_Y)\n",
    "    \n",
    "    std_dev = np.std(np.concatenate([s_X, s_Y], axis=0))\n",
    "    \n",
    "    return  (mean_X-mean_Y)/std_dev\n"
   ]
  },
  {
   "cell_type": "markdown",
   "id": "29249ada",
   "metadata": {},
   "source": [
    "* X = 예술영화(art)\n",
    "* Y = 일반영화(gen)  \n"
   ]
  },
  {
   "cell_type": "code",
   "execution_count": 74,
   "id": "03e40385",
   "metadata": {},
   "outputs": [],
   "source": [
    "matrix = [[0 for _ in range(len(genre_name))] for _ in range(len(genre_name))]"
   ]
  },
  {
   "cell_type": "code",
   "execution_count": 80,
   "id": "24142fa6",
   "metadata": {},
   "outputs": [],
   "source": [
    "X = np.array([model.wv[word] for word in target_art])\n",
    "Y = np.array([model.wv[word] for word in target_gen])\n",
    "\n",
    "for i in range(len(genre_name)-1):\n",
    "    for j in range(i+1, len(genre_name)):\n",
    "        A = np.array([model.wv[word] for word in attributes[i]])\n",
    "        B = np.array([model.wv[word] for word in attributes[j]])\n",
    "        matrix[i][j] = weat_score(X, Y, A, B)"
   ]
  },
  {
   "cell_type": "code",
   "execution_count": 81,
   "id": "0d765319",
   "metadata": {
    "scrolled": false
   },
   "outputs": [
    {
     "name": "stdout",
     "output_type": "stream",
     "text": [
      "SF 가족 -0.49271214\n",
      "SF 공연 -0.38479036\n",
      "SF 공포(호러) -0.6684208\n",
      "SF 기타 0.3369339\n",
      "SF 다큐멘터리 0.5710849\n",
      "SF 드라마 -0.37180683\n",
      "SF 멜로로맨스 -0.7864046\n",
      "SF 뮤지컬 0.33296397\n",
      "SF 미스터리 -0.6807212\n",
      "SF 범죄 -0.23329894\n",
      "SF 사극 -0.8305285\n",
      "SF 서부극(웨스턴) -0.43043423\n",
      "SF 성인물(에로) -0.5745926\n",
      "SF 스릴러 -0.5221983\n",
      "SF 애니메이션 0.35209507\n",
      "SF 액션 -0.4377844\n",
      "SF 어드벤처 -0.78089696\n",
      "SF 전쟁 0.20468955\n",
      "SF 코미디 -0.44147357\n",
      "SF 판타지 -0.18104038\n",
      "가족 공연 0.16113189\n",
      "가족 공포(호러) -0.17109253\n",
      "가족 기타 0.72451323\n",
      "가족 다큐멘터리 0.8021763\n",
      "가족 드라마 0.2015392\n",
      "가족 멜로로맨스 -0.6293828\n",
      "가족 뮤지컬 0.67521864\n",
      "가족 미스터리 -0.31830165\n",
      "가족 범죄 0.19055374\n",
      "가족 사극 -0.103462294\n",
      "가족 서부극(웨스턴) 0.35951713\n",
      "가족 성인물(에로) -0.34096017\n",
      "가족 스릴러 -0.15811914\n",
      "가족 애니메이션 0.83163494\n",
      "가족 액션 0.10181001\n",
      "가족 어드벤처 -0.054906514\n",
      "가족 전쟁 0.6248422\n",
      "가족 코미디 0.1864347\n",
      "가족 판타지 0.4123713\n",
      "공연 공포(호러) -0.23323421\n",
      "공연 기타 0.9018858\n",
      "공연 다큐멘터리 0.90032923\n",
      "공연 드라마 0.02531057\n",
      "공연 멜로로맨스 -0.68822646\n",
      "공연 뮤지컬 0.86109734\n",
      "공연 미스터리 -0.34561884\n",
      "공연 범죄 0.07707789\n",
      "공연 사극 -0.36636811\n",
      "공연 서부극(웨스턴) 0.032236643\n",
      "공연 성인물(에로) -0.48001873\n",
      "공연 스릴러 -0.21423456\n",
      "공연 애니메이션 0.89382493\n",
      "공연 액션 -0.016547138\n",
      "공연 어드벤처 -0.20598081\n",
      "공연 전쟁 0.5939445\n",
      "공연 코미디 0.01371075\n",
      "공연 판타지 0.34307665\n",
      "공포(호러) 기타 0.6235153\n",
      "공포(호러) 다큐멘터리 0.7219933\n",
      "공포(호러) 드라마 0.30022866\n",
      "공포(호러) 멜로로맨스 -0.6285772\n",
      "공포(호러) 뮤지컬 0.596868\n",
      "공포(호러) 미스터리 -0.5709993\n",
      "공포(호러) 범죄 0.6303733\n",
      "공포(호러) 사극 0.101222925\n",
      "공포(호러) 서부극(웨스턴) 0.3839076\n",
      "공포(호러) 성인물(에로) -0.23811482\n",
      "공포(호러) 스릴러 -0.045205668\n",
      "공포(호러) 애니메이션 0.6459592\n",
      "공포(호러) 액션 0.5389436\n",
      "공포(호러) 어드벤처 0.16519289\n",
      "공포(호러) 전쟁 0.63102216\n",
      "공포(호러) 코미디 0.42154175\n",
      "공포(호러) 판타지 0.5107287\n",
      "기타 다큐멘터리 0.5594159\n",
      "기타 드라마 -0.85781413\n",
      "기타 멜로로맨스 -0.8704546\n",
      "기타 뮤지컬 -0.003454472\n",
      "기타 미스터리 -0.6451743\n",
      "기타 범죄 -0.37550995\n",
      "기타 사극 -0.8095894\n",
      "기타 서부극(웨스턴) -0.6195969\n",
      "기타 성인물(에로) -0.80475205\n",
      "기타 스릴러 -0.5516603\n",
      "기타 애니메이션 -0.06282535\n",
      "기타 액션 -0.46121547\n",
      "기타 어드벤처 -0.78799057\n",
      "기타 전쟁 -0.22740845\n",
      "기타 코미디 -0.7138859\n",
      "기타 판타지 -0.67426455\n",
      "다큐멘터리 드라마 -0.8835549\n",
      "다큐멘터리 멜로로맨스 -0.87523586\n",
      "다큐멘터리 뮤지컬 -0.69747835\n",
      "다큐멘터리 미스터리 -0.729581\n",
      "다큐멘터리 범죄 -0.49016324\n",
      "다큐멘터리 사극 -0.8793625\n",
      "다큐멘터리 서부극(웨스턴) -0.7149976\n",
      "다큐멘터리 성인물(에로) -0.8179707\n",
      "다큐멘터리 스릴러 -0.6361266\n",
      "다큐멘터리 애니메이션 -0.5148087\n",
      "다큐멘터리 액션 -0.5826507\n",
      "다큐멘터리 어드벤처 -0.92290896\n",
      "다큐멘터리 전쟁 -0.42954886\n",
      "다큐멘터리 코미디 -0.79479986\n",
      "다큐멘터리 판타지 -0.86301374\n",
      "드라마 멜로로맨스 -0.82414144\n",
      "드라마 뮤지컬 0.7916375\n",
      "드라마 미스터리 -0.4175249\n",
      "드라마 범죄 0.072092906\n",
      "드라마 사극 -0.34926626\n",
      "드라마 서부극(웨스턴) 0.013538939\n",
      "드라마 성인물(에로) -0.59365326\n",
      "드라마 스릴러 -0.25424948\n",
      "드라마 애니메이션 0.8588032\n",
      "드라마 액션 -0.028883029\n",
      "드라마 어드벤처 -0.29402158\n",
      "드라마 전쟁 0.45815527\n",
      "드라마 코미디 -0.012218174\n",
      "드라마 판타지 0.524367\n",
      "멜로로맨스 뮤지컬 0.8387149\n",
      "멜로로맨스 미스터리 0.46433493\n",
      "멜로로맨스 범죄 0.8363175\n",
      "멜로로맨스 사극 0.64020354\n",
      "멜로로맨스 서부극(웨스턴) 0.73308253\n",
      "멜로로맨스 성인물(에로) 0.79040855\n",
      "멜로로맨스 스릴러 0.6456233\n",
      "멜로로맨스 애니메이션 0.85699844\n",
      "멜로로맨스 액션 0.7505075\n",
      "멜로로맨스 어드벤처 0.5975681\n",
      "멜로로맨스 전쟁 0.7848433\n",
      "멜로로맨스 코미디 0.89184076\n",
      "멜로로맨스 판타지 0.8211771\n",
      "뮤지컬 미스터리 -0.6244336\n",
      "뮤지컬 범죄 -0.35763195\n",
      "뮤지컬 사극 -0.7805527\n",
      "뮤지컬 서부극(웨스턴) -0.57289594\n",
      "뮤지컬 성인물(에로) -0.77539176\n",
      "뮤지컬 스릴러 -0.52976346\n",
      "뮤지컬 애니메이션 -0.04345681\n",
      "뮤지컬 액션 -0.44448858\n",
      "뮤지컬 어드벤처 -0.7630443\n",
      "뮤지컬 전쟁 -0.21235049\n",
      "뮤지컬 코미디 -0.6654461\n",
      "뮤지컬 판타지 -0.64465845\n",
      "미스터리 범죄 0.9876824\n",
      "미스터리 사극 0.27727857\n",
      "미스터리 서부극(웨스턴) 0.48856583\n",
      "미스터리 성인물(에로) -0.05857343\n",
      "미스터리 스릴러 0.7019089\n",
      "미스터리 애니메이션 0.65692574\n",
      "미스터리 액션 0.79941726\n",
      "미스터리 어드벤처 0.315385\n",
      "미스터리 전쟁 0.66138846\n",
      "미스터리 코미디 0.5299507\n",
      "미스터리 판타지 0.56034684\n",
      "범죄 사극 -0.2964029\n",
      "범죄 서부극(웨스턴) -0.087252386\n",
      "범죄 성인물(에로) -0.49367294\n",
      "범죄 스릴러 -0.97473246\n",
      "범죄 애니메이션 0.3776503\n",
      "범죄 액션 -0.3159079\n",
      "범죄 어드벤처 -0.21569139\n",
      "범죄 전쟁 0.35998175\n",
      "범죄 코미디 -0.095524766\n",
      "범죄 판타지 0.10117018\n",
      "사극 서부극(웨스턴) 0.38693753\n",
      "사극 성인물(에로) -0.32837093\n",
      "사극 스릴러 -0.097252704\n",
      "사극 애니메이션 0.8211613\n",
      "사극 액션 0.22006196\n",
      "사극 어드벤처 0.09115151\n",
      "사극 전쟁 0.8586076\n",
      "사극 코미디 0.44662482\n",
      "사극 판타지 0.6502631\n",
      "서부극(웨스턴) 성인물(에로) -0.44574133\n",
      "서부극(웨스턴) 스릴러 -0.3221033\n",
      "서부극(웨스턴) 애니메이션 0.69289935\n",
      "서부극(웨스턴) 액션 -0.055079777\n",
      "서부극(웨스턴) 어드벤처 -0.33012947\n",
      "서부극(웨스턴) 전쟁 0.65865415\n",
      "서부극(웨스턴) 코미디 -0.023040524\n",
      "서부극(웨스턴) 판타지 0.2676703\n",
      "성인물(에로) 스릴러 0.2192842\n",
      "성인물(에로) 애니메이션 0.75905776\n",
      "성인물(에로) 액션 0.4008964\n",
      "성인물(에로) 어드벤처 0.3167168\n",
      "성인물(에로) 전쟁 0.6085573\n",
      "성인물(에로) 코미디 0.6011306\n",
      "성인물(에로) 판타지 0.6377876\n",
      "스릴러 애니메이션 0.56196475\n",
      "스릴러 액션 0.5549997\n",
      "스릴러 어드벤처 0.13248947\n",
      "스릴러 전쟁 0.56881\n",
      "스릴러 코미디 0.3189818\n",
      "스릴러 판타지 0.39611265\n",
      "애니메이션 액션 -0.47644493\n",
      "애니메이션 어드벤처 -0.87322026\n",
      "애니메이션 전쟁 -0.23278281\n",
      "애니메이션 코미디 -0.7219646\n",
      "애니메이션 판타지 -0.673503\n",
      "액션 어드벤처 -0.1423991\n",
      "액션 전쟁 0.5177368\n",
      "액션 코미디 0.033073522\n",
      "액션 판타지 0.21952675\n",
      "어드벤처 전쟁 0.6724826\n",
      "어드벤처 코미디 0.3346442\n",
      "어드벤처 판타지 0.74315983\n",
      "전쟁 코미디 -0.49934134\n",
      "전쟁 판타지 -0.2703766\n",
      "코미디 판타지 0.5059559\n"
     ]
    }
   ],
   "source": [
    "for i in range(len(genre_name)-1):\n",
    "    for j in range(i+1, len(genre_name)):\n",
    "        print(genre_name[i], genre_name[j],matrix[i][j])"
   ]
  },
  {
   "cell_type": "code",
   "execution_count": 77,
   "id": "bdf7bed1",
   "metadata": {},
   "outputs": [
    {
     "data": {
      "text/plain": [
       "<Figure size 1440x1440 with 0 Axes>"
      ]
     },
     "execution_count": 77,
     "metadata": {},
     "output_type": "execute_result"
    },
    {
     "data": {
      "text/plain": [
       "<AxesSubplot:>"
      ]
     },
     "execution_count": 77,
     "metadata": {},
     "output_type": "execute_result"
    },
    {
     "data": {
      "image/png": "[encoded data removed]",
      "text/plain": [
       "<Figure size 1440x1440 with 2 Axes>"
      ]
     },
     "metadata": {},
     "output_type": "display_data"
    }
   ],
   "source": [
    "import numpy as np; \n",
    "import seaborn as sns; \n",
    "\n",
    "np.random.seed(0)\n",
    "\n",
    "plt.figure(figsize=(20,20))\n",
    "# 한글 지원 폰트\n",
    "sns.set(font='NanumGothic')\n",
    "\n",
    "# 마이너스 부호 \n",
    "\n",
    "plt.rcParams['axes.unicode_minus'] = False\n",
    "\n",
    "ax = sns.heatmap(matrix, xticklabels=genre_name, yticklabels=genre_name, annot=True,  cmap='RdYlGn_r')\n",
    "ax"
   ]
  },
  {
   "cell_type": "markdown",
   "id": "92333e9b",
   "metadata": {},
   "source": [
    "#### WEAT score 0.8 이상 ( 부호가 +이므로 사람의 편향과 같음)"
   ]
  },
  {
   "cell_type": "code",
   "execution_count": 96,
   "id": "b2d70d23",
   "metadata": {
    "scrolled": false
   },
   "outputs": [
    {
     "name": "stdout",
     "output_type": "stream",
     "text": [
      "가족 다큐멘터리 0.8021763\n",
      "가족 애니메이션 0.83163494\n",
      "공연 기타 0.9018858\n",
      "공연 다큐멘터리 0.90032923\n",
      "공연 뮤지컬 0.86109734\n",
      "공연 애니메이션 0.89382493\n",
      "드라마 애니메이션 0.8588032\n",
      "멜로로맨스 뮤지컬 0.8387149\n",
      "멜로로맨스 범죄 0.8363175\n",
      "멜로로맨스 애니메이션 0.85699844\n",
      "멜로로맨스 코미디 0.89184076\n",
      "멜로로맨스 판타지 0.8211771\n",
      "미스터리 범죄 0.9876824\n",
      "사극 애니메이션 0.8211613\n",
      "사극 전쟁 0.8586076\n"
     ]
    }
   ],
   "source": [
    "for i in range(len(genre_name)-1):\n",
    "    for j in range(i+1, len(genre_name)):\n",
    "        if matrix[i][j] >= 0.8 : \n",
    "            print(genre_name[i], genre_name[j],matrix[i][j])"
   ]
  },
  {
   "cell_type": "markdown",
   "id": "ca2c3fec",
   "metadata": {},
   "source": [
    "|예술영화|일반영화|편향|weat score|\n",
    "|:---------:|:----------:|:----------:|:--:|\n",
    "|가족|다큐멘터리|같음|0.80 |\n",
    "|가족|애니메니션|같음|0.83 |\n",
    "|공연|기타|같음| 0.90|\n",
    "|공연|다큐멘터리|같음|0.90 |\n",
    "|공연|뮤지컬|같음|0.86 |\n",
    "|공연|애니메이션|같음|0.89 |\n",
    "|드라마|매니메이션|같음|0.85 |\n",
    "|멜로로맨스|뮤지컬|같음|0.83 |\n",
    "|멜로로맨스|범죄|같음|0.83 |\n",
    "|멜로로맨스|애니메이션|같음|0.85 |\n",
    "|멜로로맨스|코미디|같음|0.89 |\n",
    "|멜로로맨스|판타지|같음|0.82 |\n",
    "|미스터리|범죄|같음|0.98 |\n",
    "|사극|애미메이션|같음|0.82 |\n",
    "|사극|전쟁|같음|0.85 |"
   ]
  },
  {
   "cell_type": "markdown",
   "id": "38405275",
   "metadata": {},
   "source": [
    "#### WEAT score - 0.8 이하 ( 부호가 -이므로 사람의 편향과 반대임)"
   ]
  },
  {
   "cell_type": "code",
   "execution_count": 94,
   "id": "c0c696f2",
   "metadata": {},
   "outputs": [
    {
     "name": "stdout",
     "output_type": "stream",
     "text": [
      "SF 사극 -0.8305285\n",
      "기타 드라마 -0.85781413\n",
      "기타 멜로로맨스 -0.8704546\n",
      "기타 사극 -0.8095894\n",
      "기타 성인물(에로) -0.80475205\n",
      "다큐멘터리 드라마 -0.8835549\n",
      "다큐멘터리 멜로로맨스 -0.87523586\n",
      "다큐멘터리 사극 -0.8793625\n",
      "다큐멘터리 성인물(에로) -0.8179707\n",
      "다큐멘터리 어드벤처 -0.92290896\n",
      "다큐멘터리 판타지 -0.86301374\n",
      "드라마 멜로로맨스 -0.82414144\n",
      "범죄 스릴러 -0.97473246\n",
      "애니메이션 어드벤처 -0.87322026\n"
     ]
    }
   ],
   "source": [
    "for i in range(len(genre_name)-1):\n",
    "    for j in range(i+1, len(genre_name)):\n",
    "        if matrix[i][j] <= -0.8 : \n",
    "            print(genre_name[i], genre_name[j],matrix[i][j])"
   ]
  },
  {
   "cell_type": "markdown",
   "id": "fffb3472",
   "metadata": {},
   "source": [
    "|예술영화|일반영화|편향|weat score|\n",
    "|:---------:|:----------:|:----------:|:--:|\n",
    "|사극|SF|반대|-0.83 |\n",
    "|드라마|기타|반대|-0.85 |\n",
    "|멜로로맨스|기타|반대| -0.87|\n",
    "|사극|기타|반대|-0.80 |\n",
    "|성인물|기타|반대|-0.88 |\n",
    "|드라마|다큐멘터리|반대|-0.87 |\n",
    "|멜레로맨스|타큐멘터리|반대|-0.87 |\n",
    "|사극|다큐멘터리|반대|-0.81 |\n",
    "|성인물|다큐멘터리|반대|-0.92 |\n",
    "|에드밴처|다큐멘터리|반대|-0.86 |\n",
    "|판타지|드라마|반대|-0.82 |\n",
    "|멜로로맨스|판타지|반대|-0.97 |\n",
    "|스릴러|범죄|반대|0.98 |\n",
    "|애니메이션|애미메이션|반대|-0.87 |"
   ]
  },
  {
   "cell_type": "markdown",
   "id": "f3a5ee37",
   "metadata": {},
   "source": [
    "## 회고 "
   ]
  },
  {
   "cell_type": "markdown",
   "id": "0e4cc9a1",
   "metadata": {},
   "source": [
    " **1. 사람의 편향과 반대**\n",
    " \n",
    "|예술영화|일반영화|편향|weat score|\n",
    "|:---------:|:----------:|:----------:|:--:|\n",
    "|사극|SF|반대|-0.83 |\n",
    "|드라마|기타|반대|-0.85 |\n",
    "|멜로로맨스|기타|반대| -0.87|\n",
    "|사극|기타|반대|-0.80 |\n",
    "|성인물|기타|반대|-0.88 |\n",
    "|드라마|다큐멘터리|반대|-0.87 |\n",
    "|멜레로맨스|타큐멘터리|반대|-0.87 |\n",
    "|사극|다큐멘터리|반대|-0.81 |\n",
    "|성인물|다큐멘터리|반대|-0.92 |\n",
    "|에드밴처|다큐멘터리|반대|-0.86 |\n",
    "|판타지|드라마|반대|-0.82 |\n",
    "|멜로로맨스|판타지|반대|-0.97 |\n",
    "|스릴러|범죄|반대|0.98 |\n",
    "|애니메이션|애미메이션|반대|-0.87 |\n",
    "  \n",
    "<hr/>\n",
    "\n",
    " **2. 사람의 편향과 같음** \n",
    " \n",
    "|예술영화|일반영화|편향|weat score|\n",
    "|:---------:|:----------:|:----------:|:--:|\n",
    "|가족|다큐멘터리|같음|0.80 |\n",
    "|가족|애니메니션|같음|0.83 |\n",
    "|공연|기타|같음| 0.90|\n",
    "|공연|다큐멘터리|같음|0.90 |\n",
    "|공연|뮤지컬|같음|0.86 |\n",
    "|공연|애니메이션|같음|0.89 |\n",
    "|드라마|매니메이션|같음|0.85 |\n",
    "|멜로로맨스|뮤지컬|같음|0.83 |\n",
    "|멜로로맨스|범죄|같음|0.83 |\n",
    "|멜로로맨스|애니메이션|같음|0.85 |\n",
    "|멜로로맨스|코미디|같음|0.89 |\n",
    "|멜로로맨스|판타지|같음|0.82 |\n",
    "|미스터리|범죄|같음|0.98 |\n",
    "|사극|애미메이션|같음|0.82 |\n",
    "|사극|전쟁|같음|0.85 |"
   ]
  }
 ],
 "metadata": {
  "kernelspec": {
   "display_name": "Python 3 (ipykernel)",
   "language": "python",
   "name": "python3"
  },
  "language_info": {
   "codemirror_mode": {
    "name": "ipython",
    "version": 3
   },
   "file_extension": ".py",
   "mimetype": "text/x-python",
   "name": "python",
   "nbconvert_exporter": "python",
   "pygments_lexer": "ipython3",
   "version": "3.9.7"
  }
 },
 "nbformat": 4,
 "nbformat_minor": 5
}
