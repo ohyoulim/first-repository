{
 "cells": [
  {
   "cell_type": "markdown",
   "id": "0d869787",
   "metadata": {},
   "source": [
    "# 루브릭\n",
    "|평가문항|상세기준|self check|\n",
    "|:-------|:-------|:-----------------------|\n",
    "|1. SentencePiece를 이용하여 모델을 만들기까지의 과정이 정상적으로 진행되었는가?|코퍼스 분석, 전처리, SentencePiece 적용, 토크나이저 구현 및 동작이 빠짐없이 진행되었는가?|OK|\n",
    "|2. SentencePiece를 통해 만든 Tokenizer가 자연어처리 모델과 결합하여 동작하는가?|SentencePiece 토크나이저가 적용된 Text Classifier 모델이 정상적으로 수렴하여 80% 이상의 test accuracy가 확인되었다.|OK|\n",
    "|3. SentencePiece의 성능을 다각도로 비교분석하였는가?|SentencePiece 토크나이저를 활용했을 때의 성능을 다른 토크나이저 혹은 SentencePiece의 다른 옵션의 경우와 비교하여 분석을 체계적으로 진행하였다.|OK|\n"
   ]
  },
  {
   "cell_type": "markdown",
   "id": "96578db9",
   "metadata": {},
   "source": [
    "### dataset\n",
    "1. [Naver sentiment movie corpus v1.0](https://github.com/e9t/nsmc/)\n",
    "\n",
    "\n",
    "### 적용할 알고리즘\n",
    "1. SentencePiece \n",
    "2. LSTM(Long Short Term Memory)\n",
    "\n",
    "\n",
    "### 텍스트 분류 성능 평가 지표  \n",
    "1. Accuracy(정확도)"
   ]
  },
  {
   "cell_type": "markdown",
   "id": "c4b501a2",
   "metadata": {},
   "source": [
    "## 문제 정의  \n",
    "\n",
    "> SentencePiece 사용하여 네이버 영화 리뷰 감성 분석하기"
   ]
  },
  {
   "cell_type": "markdown",
   "id": "5eb72950",
   "metadata": {},
   "source": [
    "## 분석 결과  \n",
    "\n",
    "|Tokenizer|model_type|vocab_size|Accuracy|\n",
    "|:---------:|:----------:|:----------:|:--:|\n",
    "|SentencePiece|unigram| 5000| 83.23%|\n",
    "|SentencePiece| bpe|5000| 83.78%| \n",
    "|SentencePiece| unigram|8000| 82.65%|\n",
    "|SentencePiece| bpe|8000| 83.26%|\n",
    "|형태소분석기| Mecab|10000|83.44 %|  \n",
    "\n",
    "  \n",
    "* 네이버 영화리뷰 감성 분석에서는 oov가 크게 문제가 되지 않는 것으로 보임.\n",
    "형태소 분석기와 SentencePiece tokenizer 결합 시에 정확도가 크게 차이가 나지 않음\n",
    "* SentencePiece 결합 시에 model type, 단어 개수에 따른 정확도 차이가 나지 않음\n",
    "\n"
   ]
  },
  {
   "cell_type": "markdown",
   "id": "ffc1909c",
   "metadata": {},
   "source": [
    "## 분석환경"
   ]
  },
  {
   "cell_type": "code",
   "execution_count": 1,
   "id": "3781a1dd",
   "metadata": {},
   "outputs": [
    {
     "name": "stdout",
     "output_type": "stream",
     "text": [
      "2.6.0\n",
      "1.21.4\n",
      "3.4.3\n",
      "0.5.2\n"
     ]
    }
   ],
   "source": [
    "from IPython.core.interactiveshell import InteractiveShell\n",
    "InteractiveShell.ast_node_interactivity = \"all\"\n",
    "from IPython.display import Image\n",
    "#Image(filename='test.jpg\n",
    "\n",
    "import tensorflow as tf\n",
    "import numpy as np\n",
    "import matplotlib as plt\n",
    "import konlpy\n",
    "\n",
    "print(tf.__version__)\n",
    "print(np.__version__)\n",
    "print(plt.__version__)\n",
    "print(konlpy.__version__)"
   ]
  },
  {
   "cell_type": "code",
   "execution_count": 2,
   "id": "2681a5ea",
   "metadata": {},
   "outputs": [],
   "source": [
    "import pickle\n",
    "import pandas as pd\n",
    "import numpy as np\n",
    "import matplotlib.pyplot as plt\n",
    "import re\n",
    "import urllib.request\n",
    "from konlpy.tag import Okt, Mecab\n",
    "from tqdm import tqdm\n",
    "import tensorflow as tf\n",
    "from tensorflow.keras.preprocessing.text import Tokenizer\n",
    "from tensorflow.keras.preprocessing.sequence import pad_sequences"
   ]
  },
  {
   "cell_type": "markdown",
   "id": "f0ff18e2",
   "metadata": {},
   "source": [
    "# 네이버 영화리뷰 감정 분석 문제에 SentencePiece 적용해 보기"
   ]
  },
  {
   "cell_type": "markdown",
   "id": "3f53bba0",
   "metadata": {},
   "source": [
    "* 네이버 영화리뷰 감정 분석 코퍼스에 SentencePiece를 적용시킨 모델 학습하기 \n",
    "* 학습된 모델로 sp_tokenize() 메소드 구현하기\n",
    "* 구현된 토크나이저를 적용하여 네이버 영화리뷰 감정 분석 모델을 재학습하기\n",
    "* KoNLPy 형태소 분석기를 사용한 모델과 성능 비교하기\n",
    "* SentencePiece 모델의 model_type, vocab_size 등을 변경해 가면서 성능 개선 여부 확인하기"
   ]
  },
  {
   "cell_type": "markdown",
   "id": "b498213d",
   "metadata": {},
   "source": [
    "## 1. 네이버 영화리뷰 감정 분석 코퍼스에 SentencePiece를 적용시킨 모델 학습하기 "
   ]
  },
  {
   "cell_type": "markdown",
   "id": "67e96149",
   "metadata": {},
   "source": [
    "### 1) 데이터 로드하기"
   ]
  },
  {
   "cell_type": "code",
   "execution_count": 3,
   "id": "66cfee18",
   "metadata": {},
   "outputs": [
    {
     "data": {
      "text/plain": [
       "('ratings.txt', <http.client.HTTPMessage at 0x7f61291cbc70>)"
      ]
     },
     "execution_count": 3,
     "metadata": {},
     "output_type": "execute_result"
    }
   ],
   "source": [
    "urllib.request.urlretrieve(\"https://raw.githubusercontent.com/e9t/nsmc/master/ratings.txt\", filename=\"ratings.txt\")"
   ]
  },
  {
   "cell_type": "code",
   "execution_count": 4,
   "id": "1444ecb5",
   "metadata": {},
   "outputs": [],
   "source": [
    "data = pd.read_table('ratings.txt')"
   ]
  },
  {
   "cell_type": "code",
   "execution_count": 5,
   "id": "55e38085",
   "metadata": {},
   "outputs": [
    {
     "data": {
      "text/plain": [
       "(200000, 3)"
      ]
     },
     "execution_count": 5,
     "metadata": {},
     "output_type": "execute_result"
    },
    {
     "name": "stdout",
     "output_type": "stream",
     "text": [
      "리뷰 개수 : 200000\n"
     ]
    }
   ],
   "source": [
    "data.shape\n",
    "print(\"리뷰 개수 :\", len(data))"
   ]
  },
  {
   "cell_type": "code",
   "execution_count": 6,
   "id": "11c724ca",
   "metadata": {},
   "outputs": [
    {
     "data": {
      "text/html": [
       "<div>\n",
       "<style scoped>\n",
       "    .dataframe tbody tr th:only-of-type {\n",
       "        vertical-align: middle;\n",
       "    }\n",
       "\n",
       "    .dataframe tbody tr th {\n",
       "        vertical-align: top;\n",
       "    }\n",
       "\n",
       "    .dataframe thead th {\n",
       "        text-align: right;\n",
       "    }\n",
       "</style>\n",
       "<table border=\"1\" class=\"dataframe\">\n",
       "  <thead>\n",
       "    <tr style=\"text-align: right;\">\n",
       "      <th></th>\n",
       "      <th>id</th>\n",
       "      <th>document</th>\n",
       "      <th>label</th>\n",
       "    </tr>\n",
       "  </thead>\n",
       "  <tbody>\n",
       "    <tr>\n",
       "      <th>0</th>\n",
       "      <td>8112052</td>\n",
       "      <td>어릴때보고 지금다시봐도 재밌어요ㅋㅋ</td>\n",
       "      <td>1</td>\n",
       "    </tr>\n",
       "    <tr>\n",
       "      <th>1</th>\n",
       "      <td>8132799</td>\n",
       "      <td>디자인을 배우는 학생으로, 외국디자이너와 그들이 일군 전통을 통해 발전해가는 문화산...</td>\n",
       "      <td>1</td>\n",
       "    </tr>\n",
       "    <tr>\n",
       "      <th>2</th>\n",
       "      <td>4655635</td>\n",
       "      <td>폴리스스토리 시리즈는 1부터 뉴까지 버릴께 하나도 없음.. 최고.</td>\n",
       "      <td>1</td>\n",
       "    </tr>\n",
       "    <tr>\n",
       "      <th>3</th>\n",
       "      <td>9251303</td>\n",
       "      <td>와.. 연기가 진짜 개쩔구나.. 지루할거라고 생각했는데 몰입해서 봤다.. 그래 이런...</td>\n",
       "      <td>1</td>\n",
       "    </tr>\n",
       "    <tr>\n",
       "      <th>4</th>\n",
       "      <td>10067386</td>\n",
       "      <td>안개 자욱한 밤하늘에 떠 있는 초승달 같은 영화.</td>\n",
       "      <td>1</td>\n",
       "    </tr>\n",
       "  </tbody>\n",
       "</table>\n",
       "</div>"
      ],
      "text/plain": [
       "         id                                           document  label\n",
       "0   8112052                                어릴때보고 지금다시봐도 재밌어요ㅋㅋ      1\n",
       "1   8132799  디자인을 배우는 학생으로, 외국디자이너와 그들이 일군 전통을 통해 발전해가는 문화산...      1\n",
       "2   4655635               폴리스스토리 시리즈는 1부터 뉴까지 버릴께 하나도 없음.. 최고.      1\n",
       "3   9251303  와.. 연기가 진짜 개쩔구나.. 지루할거라고 생각했는데 몰입해서 봤다.. 그래 이런...      1\n",
       "4  10067386                        안개 자욱한 밤하늘에 떠 있는 초승달 같은 영화.      1"
      ]
     },
     "execution_count": 6,
     "metadata": {},
     "output_type": "execute_result"
    }
   ],
   "source": [
    "data.head(5)\n",
    "#data.sample(5)"
   ]
  },
  {
   "cell_type": "markdown",
   "id": "cee7cde6",
   "metadata": {},
   "source": [
    "### 2) 데이터 정제하기"
   ]
  },
  {
   "cell_type": "markdown",
   "id": "973289ea",
   "metadata": {},
   "source": [
    "* id 열 제거\n",
    "* Null 제거\n",
    "* 중복 제거\n",
    "* 숫자, 영어, 한글과 공백을 제외하고 모두 제거"
   ]
  },
  {
   "cell_type": "code",
   "execution_count": 7,
   "id": "7a79577d",
   "metadata": {},
   "outputs": [
    {
     "data": {
      "text/html": [
       "<div>\n",
       "<style scoped>\n",
       "    .dataframe tbody tr th:only-of-type {\n",
       "        vertical-align: middle;\n",
       "    }\n",
       "\n",
       "    .dataframe tbody tr th {\n",
       "        vertical-align: top;\n",
       "    }\n",
       "\n",
       "    .dataframe thead th {\n",
       "        text-align: right;\n",
       "    }\n",
       "</style>\n",
       "<table border=\"1\" class=\"dataframe\">\n",
       "  <thead>\n",
       "    <tr style=\"text-align: right;\">\n",
       "      <th></th>\n",
       "      <th>document</th>\n",
       "      <th>label</th>\n",
       "    </tr>\n",
       "  </thead>\n",
       "  <tbody>\n",
       "    <tr>\n",
       "      <th>0</th>\n",
       "      <td>어릴때보고 지금다시봐도 재밌어요ㅋㅋ</td>\n",
       "      <td>1</td>\n",
       "    </tr>\n",
       "    <tr>\n",
       "      <th>1</th>\n",
       "      <td>디자인을 배우는 학생으로, 외국디자이너와 그들이 일군 전통을 통해 발전해가는 문화산...</td>\n",
       "      <td>1</td>\n",
       "    </tr>\n",
       "    <tr>\n",
       "      <th>2</th>\n",
       "      <td>폴리스스토리 시리즈는 1부터 뉴까지 버릴께 하나도 없음.. 최고.</td>\n",
       "      <td>1</td>\n",
       "    </tr>\n",
       "    <tr>\n",
       "      <th>3</th>\n",
       "      <td>와.. 연기가 진짜 개쩔구나.. 지루할거라고 생각했는데 몰입해서 봤다.. 그래 이런...</td>\n",
       "      <td>1</td>\n",
       "    </tr>\n",
       "    <tr>\n",
       "      <th>4</th>\n",
       "      <td>안개 자욱한 밤하늘에 떠 있는 초승달 같은 영화.</td>\n",
       "      <td>1</td>\n",
       "    </tr>\n",
       "    <tr>\n",
       "      <th>...</th>\n",
       "      <td>...</td>\n",
       "      <td>...</td>\n",
       "    </tr>\n",
       "    <tr>\n",
       "      <th>199995</th>\n",
       "      <td>포켓 몬스터 짜가 ㅡㅡ;;</td>\n",
       "      <td>0</td>\n",
       "    </tr>\n",
       "    <tr>\n",
       "      <th>199996</th>\n",
       "      <td>쓰.레.기</td>\n",
       "      <td>0</td>\n",
       "    </tr>\n",
       "    <tr>\n",
       "      <th>199997</th>\n",
       "      <td>완전 사이코영화. 마지막은 더욱더 이 영화의질을 떨어트린다.</td>\n",
       "      <td>0</td>\n",
       "    </tr>\n",
       "    <tr>\n",
       "      <th>199998</th>\n",
       "      <td>왜난 재미없었지 ㅠㅠ 라따뚜이 보고나서 스머프 봐서 그런가 ㅋㅋ</td>\n",
       "      <td>0</td>\n",
       "    </tr>\n",
       "    <tr>\n",
       "      <th>199999</th>\n",
       "      <td>포풍저그가나가신다영차영차영차</td>\n",
       "      <td>0</td>\n",
       "    </tr>\n",
       "  </tbody>\n",
       "</table>\n",
       "<p>200000 rows × 2 columns</p>\n",
       "</div>"
      ],
      "text/plain": [
       "                                                 document  label\n",
       "0                                     어릴때보고 지금다시봐도 재밌어요ㅋㅋ      1\n",
       "1       디자인을 배우는 학생으로, 외국디자이너와 그들이 일군 전통을 통해 발전해가는 문화산...      1\n",
       "2                    폴리스스토리 시리즈는 1부터 뉴까지 버릴께 하나도 없음.. 최고.      1\n",
       "3       와.. 연기가 진짜 개쩔구나.. 지루할거라고 생각했는데 몰입해서 봤다.. 그래 이런...      1\n",
       "4                             안개 자욱한 밤하늘에 떠 있는 초승달 같은 영화.      1\n",
       "...                                                   ...    ...\n",
       "199995                                     포켓 몬스터 짜가 ㅡㅡ;;      0\n",
       "199996                                              쓰.레.기      0\n",
       "199997                  완전 사이코영화. 마지막은 더욱더 이 영화의질을 떨어트린다.      0\n",
       "199998                왜난 재미없었지 ㅠㅠ 라따뚜이 보고나서 스머프 봐서 그런가 ㅋㅋ      0\n",
       "199999                                    포풍저그가나가신다영차영차영차      0\n",
       "\n",
       "[200000 rows x 2 columns]"
      ]
     },
     "execution_count": 7,
     "metadata": {},
     "output_type": "execute_result"
    }
   ],
   "source": [
    "# id 열 제거\n",
    "data.drop('id',axis=1,inplace=True)\n",
    "data"
   ]
  },
  {
   "cell_type": "code",
   "execution_count": 8,
   "id": "27fd1710",
   "metadata": {},
   "outputs": [
    {
     "data": {
      "text/plain": [
       "5456"
      ]
     },
     "execution_count": 8,
     "metadata": {},
     "output_type": "execute_result"
    },
    {
     "data": {
      "text/plain": [
       "194544"
      ]
     },
     "execution_count": 8,
     "metadata": {},
     "output_type": "execute_result"
    }
   ],
   "source": [
    "#### document 열의 중복 제거 \n",
    "data.duplicated(['document']).sum()\n",
    "data.drop_duplicates(subset=['document'], inplace=True)\n",
    "len(data)"
   ]
  },
  {
   "cell_type": "code",
   "execution_count": 9,
   "id": "ab540214",
   "metadata": {},
   "outputs": [
    {
     "data": {
      "text/html": [
       "<div>\n",
       "<style scoped>\n",
       "    .dataframe tbody tr th:only-of-type {\n",
       "        vertical-align: middle;\n",
       "    }\n",
       "\n",
       "    .dataframe tbody tr th {\n",
       "        vertical-align: top;\n",
       "    }\n",
       "\n",
       "    .dataframe thead th {\n",
       "        text-align: right;\n",
       "    }\n",
       "</style>\n",
       "<table border=\"1\" class=\"dataframe\">\n",
       "  <thead>\n",
       "    <tr style=\"text-align: right;\">\n",
       "      <th></th>\n",
       "      <th>document</th>\n",
       "      <th>label</th>\n",
       "    </tr>\n",
       "  </thead>\n",
       "  <tbody>\n",
       "    <tr>\n",
       "      <th>46471</th>\n",
       "      <td>NaN</td>\n",
       "      <td>1</td>\n",
       "    </tr>\n",
       "  </tbody>\n",
       "</table>\n",
       "</div>"
      ],
      "text/plain": [
       "      document  label\n",
       "46471      NaN      1"
      ]
     },
     "execution_count": 9,
     "metadata": {},
     "output_type": "execute_result"
    }
   ],
   "source": [
    "### null 제거\n",
    "data[data['document'].isnull()]\n",
    "data.dropna(inplace=True)"
   ]
  },
  {
   "cell_type": "code",
   "execution_count": 10,
   "id": "40b36a54",
   "metadata": {},
   "outputs": [
    {
     "name": "stdout",
     "output_type": "stream",
     "text": [
      "리뷰 개수 : 194543\n"
     ]
    }
   ],
   "source": [
    "print(\"리뷰 개수 :\", len(data))"
   ]
  },
  {
   "cell_type": "code",
   "execution_count": 11,
   "id": "a1c46c54",
   "metadata": {},
   "outputs": [
    {
     "data": {
      "text/html": [
       "<div>\n",
       "<style scoped>\n",
       "    .dataframe tbody tr th:only-of-type {\n",
       "        vertical-align: middle;\n",
       "    }\n",
       "\n",
       "    .dataframe tbody tr th {\n",
       "        vertical-align: top;\n",
       "    }\n",
       "\n",
       "    .dataframe thead th {\n",
       "        text-align: right;\n",
       "    }\n",
       "</style>\n",
       "<table border=\"1\" class=\"dataframe\">\n",
       "  <thead>\n",
       "    <tr style=\"text-align: right;\">\n",
       "      <th></th>\n",
       "      <th>document</th>\n",
       "      <th>label</th>\n",
       "    </tr>\n",
       "  </thead>\n",
       "  <tbody>\n",
       "    <tr>\n",
       "      <th>25</th>\n",
       "      <td>7시간짜리 영상이 존재한다면, 죽기전에 꼭 한번 보고싶다. 아름답고 슬픈 OST, ...</td>\n",
       "      <td>1</td>\n",
       "    </tr>\n",
       "    <tr>\n",
       "      <th>83</th>\n",
       "      <td>ost 때문에 봤는데 이건뭐 와~~라는 말밖에 안나오네 벌써 16년전인데 이런퀄리티...</td>\n",
       "      <td>1</td>\n",
       "    </tr>\n",
       "    <tr>\n",
       "      <th>91</th>\n",
       "      <td>SF영화 중 21세기 최고라고 할 수 있다..이걸 평점 낮게주는 사람은 정말 볼줄을...</td>\n",
       "      <td>1</td>\n",
       "    </tr>\n",
       "    <tr>\n",
       "      <th>96</th>\n",
       "      <td>amy6250 당신이 좋아하는 장르는 뭐요? 이영화에도 저영화에도 이런장르는 싫다니원</td>\n",
       "      <td>1</td>\n",
       "    </tr>\n",
       "    <tr>\n",
       "      <th>129</th>\n",
       "      <td>개인적으로 재미있었습니다. 언제 팬텀이랑 크리스틴이랑 그런일이 있었는지 전혀 몰랐네...</td>\n",
       "      <td>1</td>\n",
       "    </tr>\n",
       "    <tr>\n",
       "      <th>...</th>\n",
       "      <td>...</td>\n",
       "      <td>...</td>\n",
       "    </tr>\n",
       "    <tr>\n",
       "      <th>199894</th>\n",
       "      <td>올레tv 추천 무료영화엔 왜 이딴것 밖에 안올라 올까...</td>\n",
       "      <td>0</td>\n",
       "    </tr>\n",
       "    <tr>\n",
       "      <th>199903</th>\n",
       "      <td>cg도 엉망 그냥 시디과 애들이 만드는게 훨씬 더 볼만할듯함스토리텔링도 완전 엉망 ...</td>\n",
       "      <td>0</td>\n",
       "    </tr>\n",
       "    <tr>\n",
       "      <th>199910</th>\n",
       "      <td>소재는 좋았는데 tv 전가세가 아까웠다!!</td>\n",
       "      <td>0</td>\n",
       "    </tr>\n",
       "    <tr>\n",
       "      <th>199914</th>\n",
       "      <td>과포장 되어 있다.acs</td>\n",
       "      <td>0</td>\n",
       "    </tr>\n",
       "    <tr>\n",
       "      <th>199948</th>\n",
       "      <td>답답~~~하다. 'X파일'의 명성에 먹칠을 한 영화. 딱3점이 알맞음.</td>\n",
       "      <td>0</td>\n",
       "    </tr>\n",
       "  </tbody>\n",
       "</table>\n",
       "<p>11244 rows × 2 columns</p>\n",
       "</div>"
      ],
      "text/plain": [
       "                                                 document  label\n",
       "25      7시간짜리 영상이 존재한다면, 죽기전에 꼭 한번 보고싶다. 아름답고 슬픈 OST, ...      1\n",
       "83      ost 때문에 봤는데 이건뭐 와~~라는 말밖에 안나오네 벌써 16년전인데 이런퀄리티...      1\n",
       "91      SF영화 중 21세기 최고라고 할 수 있다..이걸 평점 낮게주는 사람은 정말 볼줄을...      1\n",
       "96        amy6250 당신이 좋아하는 장르는 뭐요? 이영화에도 저영화에도 이런장르는 싫다니원      1\n",
       "129     개인적으로 재미있었습니다. 언제 팬텀이랑 크리스틴이랑 그런일이 있었는지 전혀 몰랐네...      1\n",
       "...                                                   ...    ...\n",
       "199894                   올레tv 추천 무료영화엔 왜 이딴것 밖에 안올라 올까...      0\n",
       "199903  cg도 엉망 그냥 시디과 애들이 만드는게 훨씬 더 볼만할듯함스토리텔링도 완전 엉망 ...      0\n",
       "199910                            소재는 좋았는데 tv 전가세가 아까웠다!!      0\n",
       "199914                                      과포장 되어 있다.acs      0\n",
       "199948            답답~~~하다. 'X파일'의 명성에 먹칠을 한 영화. 딱3점이 알맞음.      0\n",
       "\n",
       "[11244 rows x 2 columns]"
      ]
     },
     "execution_count": 11,
     "metadata": {},
     "output_type": "execute_result"
    }
   ],
   "source": [
    "data[data['document'].str.contains(\"[a-zA-Z]+\")]"
   ]
  },
  {
   "cell_type": "code",
   "execution_count": 12,
   "id": "f79c6676",
   "metadata": {},
   "outputs": [
    {
     "data": {
      "text/html": [
       "<div>\n",
       "<style scoped>\n",
       "    .dataframe tbody tr th:only-of-type {\n",
       "        vertical-align: middle;\n",
       "    }\n",
       "\n",
       "    .dataframe tbody tr th {\n",
       "        vertical-align: top;\n",
       "    }\n",
       "\n",
       "    .dataframe thead th {\n",
       "        text-align: right;\n",
       "    }\n",
       "</style>\n",
       "<table border=\"1\" class=\"dataframe\">\n",
       "  <thead>\n",
       "    <tr style=\"text-align: right;\">\n",
       "      <th></th>\n",
       "      <th>document</th>\n",
       "      <th>label</th>\n",
       "    </tr>\n",
       "  </thead>\n",
       "  <tbody>\n",
       "    <tr>\n",
       "      <th>0</th>\n",
       "      <td>어릴때보고 지금다시봐도 재밌어요ㅋㅋ</td>\n",
       "      <td>1</td>\n",
       "    </tr>\n",
       "    <tr>\n",
       "      <th>1</th>\n",
       "      <td>디자인을 배우는 학생으로 외국디자이너와 그들이 일군 전통을 통해 발전해가는 문화산업...</td>\n",
       "      <td>1</td>\n",
       "    </tr>\n",
       "    <tr>\n",
       "      <th>2</th>\n",
       "      <td>폴리스스토리 시리즈는 1부터 뉴까지 버릴께 하나도 없음 최고</td>\n",
       "      <td>1</td>\n",
       "    </tr>\n",
       "    <tr>\n",
       "      <th>3</th>\n",
       "      <td>와 연기가 진짜 개쩔구나 지루할거라고 생각했는데 몰입해서 봤다 그래 이런게 진짜 영화지</td>\n",
       "      <td>1</td>\n",
       "    </tr>\n",
       "    <tr>\n",
       "      <th>4</th>\n",
       "      <td>안개 자욱한 밤하늘에 떠 있는 초승달 같은 영화</td>\n",
       "      <td>1</td>\n",
       "    </tr>\n",
       "    <tr>\n",
       "      <th>5</th>\n",
       "      <td>사랑을 해본사람이라면 처음부터 끝까지 웃을수 있는영화</td>\n",
       "      <td>1</td>\n",
       "    </tr>\n",
       "    <tr>\n",
       "      <th>6</th>\n",
       "      <td>완전 감동입니다 다시봐도 감동</td>\n",
       "      <td>1</td>\n",
       "    </tr>\n",
       "    <tr>\n",
       "      <th>7</th>\n",
       "      <td>개들의 전쟁2 나오나요 나오면 1빠로 보고 싶음</td>\n",
       "      <td>1</td>\n",
       "    </tr>\n",
       "    <tr>\n",
       "      <th>8</th>\n",
       "      <td>굿</td>\n",
       "      <td>1</td>\n",
       "    </tr>\n",
       "    <tr>\n",
       "      <th>9</th>\n",
       "      <td>바보가 아니라 병 쉰 인듯</td>\n",
       "      <td>1</td>\n",
       "    </tr>\n",
       "  </tbody>\n",
       "</table>\n",
       "</div>"
      ],
      "text/plain": [
       "                                            document  label\n",
       "0                                어릴때보고 지금다시봐도 재밌어요ㅋㅋ      1\n",
       "1  디자인을 배우는 학생으로 외국디자이너와 그들이 일군 전통을 통해 발전해가는 문화산업...      1\n",
       "2                  폴리스스토리 시리즈는 1부터 뉴까지 버릴께 하나도 없음 최고      1\n",
       "3   와 연기가 진짜 개쩔구나 지루할거라고 생각했는데 몰입해서 봤다 그래 이런게 진짜 영화지      1\n",
       "4                         안개 자욱한 밤하늘에 떠 있는 초승달 같은 영화      1\n",
       "5                      사랑을 해본사람이라면 처음부터 끝까지 웃을수 있는영화      1\n",
       "6                                   완전 감동입니다 다시봐도 감동      1\n",
       "7                         개들의 전쟁2 나오나요 나오면 1빠로 보고 싶음      1\n",
       "8                                                  굿      1\n",
       "9                                     바보가 아니라 병 쉰 인듯      1"
      ]
     },
     "execution_count": 12,
     "metadata": {},
     "output_type": "execute_result"
    }
   ],
   "source": [
    "# 숫자, 영어, 한글과 공백을 제외하고 모두 제거\n",
    "data['document'] = data['document'].str.replace(\"[^a-zA-Z1-9ㄱ-ㅎㅏ-ㅣ가-힣 ]\",\"\",regex=True)\n",
    "data['document'] = data['document'].str.strip()\n",
    "#data['document'].str.replace('^ +', \"\")\n",
    "data['document'].replace('',np.nan, inplace=True)\n",
    "data[:10]"
   ]
  },
  {
   "cell_type": "code",
   "execution_count": 13,
   "id": "a51331ba",
   "metadata": {},
   "outputs": [
    {
     "data": {
      "text/plain": [
       "2735"
      ]
     },
     "execution_count": 13,
     "metadata": {},
     "output_type": "execute_result"
    },
    {
     "data": {
      "text/plain": [
       "191808"
      ]
     },
     "execution_count": 13,
     "metadata": {},
     "output_type": "execute_result"
    }
   ],
   "source": [
    "#### document 열의 중복 제거 \n",
    "data.duplicated(['document']).sum()\n",
    "data.drop_duplicates(subset=['document'], inplace=True)\n",
    "len(data)"
   ]
  },
  {
   "cell_type": "code",
   "execution_count": 14,
   "id": "d59a1328",
   "metadata": {},
   "outputs": [
    {
     "data": {
      "text/html": [
       "<div>\n",
       "<style scoped>\n",
       "    .dataframe tbody tr th:only-of-type {\n",
       "        vertical-align: middle;\n",
       "    }\n",
       "\n",
       "    .dataframe tbody tr th {\n",
       "        vertical-align: top;\n",
       "    }\n",
       "\n",
       "    .dataframe thead th {\n",
       "        text-align: right;\n",
       "    }\n",
       "</style>\n",
       "<table border=\"1\" class=\"dataframe\">\n",
       "  <thead>\n",
       "    <tr style=\"text-align: right;\">\n",
       "      <th></th>\n",
       "      <th>document</th>\n",
       "      <th>label</th>\n",
       "    </tr>\n",
       "  </thead>\n",
       "  <tbody>\n",
       "    <tr>\n",
       "      <th>1199</th>\n",
       "      <td>NaN</td>\n",
       "      <td>1</td>\n",
       "    </tr>\n",
       "  </tbody>\n",
       "</table>\n",
       "</div>"
      ],
      "text/plain": [
       "     document  label\n",
       "1199      NaN      1"
      ]
     },
     "execution_count": 14,
     "metadata": {},
     "output_type": "execute_result"
    }
   ],
   "source": [
    "### null 제거\n",
    "data[data['document'].isnull()]\n",
    "data.dropna(inplace=True)"
   ]
  },
  {
   "cell_type": "code",
   "execution_count": 15,
   "id": "3f0811c0",
   "metadata": {},
   "outputs": [
    {
     "name": "stdout",
     "output_type": "stream",
     "text": [
      "전처리 후의 리뷰 개수 : 191807\n"
     ]
    }
   ],
   "source": [
    "print(\"전처리 후의 리뷰 개수 :\", len(data))"
   ]
  },
  {
   "cell_type": "markdown",
   "id": "7134e07a",
   "metadata": {},
   "source": [
    "### 3) SentencePiece 모델 학습"
   ]
  },
  {
   "cell_type": "code",
   "execution_count": 16,
   "id": "cd5839ec",
   "metadata": {},
   "outputs": [
    {
     "data": {
      "text/plain": [
       "['어릴때보고 지금다시봐도 재밌어요ㅋㅋ',\n",
       " '디자인을 배우는 학생으로 외국디자이너와 그들이 일군 전통을 통해 발전해가는 문화산업이 부러웠는데 사실 우리나라에서도 그 어려운시절에 끝까지 열정을 지킨 노라노 같은 전통이있어 저와 같은 사람들이 꿈을 꾸고 이뤄나갈 수 있다는 것에 감사합니다',\n",
       " '폴리스스토리 시리즈는 1부터 뉴까지 버릴께 하나도 없음 최고',\n",
       " '와 연기가 진짜 개쩔구나 지루할거라고 생각했는데 몰입해서 봤다 그래 이런게 진짜 영화지',\n",
       " '안개 자욱한 밤하늘에 떠 있는 초승달 같은 영화',\n",
       " '사랑을 해본사람이라면 처음부터 끝까지 웃을수 있는영화',\n",
       " '완전 감동입니다 다시봐도 감동',\n",
       " '개들의 전쟁2 나오나요 나오면 1빠로 보고 싶음',\n",
       " '굿',\n",
       " '바보가 아니라 병 쉰 인듯']"
      ]
     },
     "execution_count": 16,
     "metadata": {},
     "output_type": "execute_result"
    },
    {
     "data": {
      "text/plain": [
       "('어릴때보고 지금다시봐도 재밌어요ㅋㅋ', 19)"
      ]
     },
     "execution_count": 16,
     "metadata": {},
     "output_type": "execute_result"
    },
    {
     "data": {
      "text/plain": [
       "191807"
      ]
     },
     "execution_count": 16,
     "metadata": {},
     "output_type": "execute_result"
    }
   ],
   "source": [
    "# 문장 답기\n",
    "corpus = [] \n",
    "for sen in data['document']:\n",
    "   corpus.append(sen)\n",
    "\n",
    "corpus[:10]\n",
    "corpus[0], len(corpus[0])\n",
    "len(corpus)"
   ]
  },
  {
   "cell_type": "markdown",
   "id": "077d515a",
   "metadata": {},
   "source": [
    "#### text 파일로 저장"
   ]
  },
  {
   "cell_type": "code",
   "execution_count": null,
   "id": "0c01b7c4",
   "metadata": {},
   "outputs": [],
   "source": [
    "temp_file = './sp_tokenizer/naver_review.txt'\n",
    "\n",
    "with open(temp_file, 'w', encoding='utf8') as f:\n",
    "    for row in corpus:   # 이전 스텝에서 정제했던 corpus를 활용합니다.\n",
    "        f.write(str(row) + '\\n')"
   ]
  },
  {
   "cell_type": "markdown",
   "id": "a80a041e",
   "metadata": {},
   "source": [
    "#### SentencePiece로 단어 집합(vocab) 생성\n",
    "\n",
    "* spm.model, spm.vocab 생성  \n",
    "\n",
    "인자 확인 \n",
    "* input : 학습시킬 파일\n",
    "* model_prefix : 만들어질 모델 이름\n",
    "* vocab_size : 단어 집합의 크기\n",
    "* model_type : 사용할 모델 (unigram(default), bpe, char, word)\n",
    "* max_sentence_length: 문장의 최대 길이\n",
    "* pad_id, pad_piece: pad token id, 값\n",
    "* unk_id, unk_piece: unknown token id, 값\n",
    "* bos_id, bos_piece: begin of sentence token id, 값\n",
    "* eos_id, eos_piece: end of sequence token id, 값\n",
    "* user_defined_symbols: 사용자 정의 토큰\n",
    "\n"
   ]
  },
  {
   "cell_type": "markdown",
   "id": "d8d76c67",
   "metadata": {},
   "source": [
    "#### SentencePiece 모델 학습\n",
    "* model_type = unigram\n",
    "* vocab_size = 5000"
   ]
  },
  {
   "cell_type": "code",
   "execution_count": 23,
   "id": "caa43153",
   "metadata": {},
   "outputs": [
    {
     "name": "stderr",
     "output_type": "stream",
     "text": [
      "sentencepiece_trainer.cc(177) LOG(INFO) Running command: --input=./sp_tokenizer/naver_review.txt --model_prefix=unigram_5000_spm --vocab_size=5000 --model_type=unigram\n",
      "sentencepiece_trainer.cc(77) LOG(INFO) Starts training with : \n",
      "trainer_spec {\n",
      "  input: ./sp_tokenizer/naver_review.txt\n",
      "  input_format: \n",
      "  model_prefix: unigram_5000_spm\n",
      "  model_type: UNIGRAM\n",
      "  vocab_size: 5000\n",
      "  self_test_sample_size: 0\n",
      "  character_coverage: 0.9995\n",
      "  input_sentence_size: 0\n",
      "  shuffle_input_sentence: 1\n",
      "  seed_sentencepiece_size: 1000000\n",
      "  shrinking_factor: 0.75\n",
      "  max_sentence_length: 4192\n",
      "  num_threads: 16\n",
      "  num_sub_iterations: 2\n",
      "  max_sentencepiece_length: 16\n",
      "  split_by_unicode_script: 1\n",
      "  split_by_number: 1\n",
      "  split_by_whitespace: 1\n",
      "  split_digits: 0\n",
      "  treat_whitespace_as_suffix: 0\n",
      "  allow_whitespace_only_pieces: 0\n",
      "  required_chars: \n",
      "  byte_fallback: 0\n",
      "  vocabulary_output_piece_score: 1\n",
      "  train_extremely_large_corpus: 0\n",
      "  hard_vocab_limit: 1\n",
      "  use_all_vocab: 0\n",
      "  unk_id: 0\n",
      "  bos_id: 1\n",
      "  eos_id: 2\n",
      "  pad_id: -1\n",
      "  unk_piece: <unk>\n",
      "  bos_piece: <s>\n",
      "  eos_piece: </s>\n",
      "  pad_piece: <pad>\n",
      "  unk_surface:  ⁇ \n",
      "}\n",
      "normalizer_spec {\n",
      "  name: nmt_nfkc\n",
      "  add_dummy_prefix: 1\n",
      "  remove_extra_whitespaces: 1\n",
      "  escape_whitespaces: 1\n",
      "  normalization_rule_tsv: \n",
      "}\n",
      "denormalizer_spec {}\n",
      "trainer_interface.cc(329) LOG(INFO) SentenceIterator is not specified. Using MultiFileSentenceIterator.\n",
      "trainer_interface.cc(178) LOG(INFO) Loading corpus: ./sp_tokenizer/naver_review.txt\n",
      "trainer_interface.cc(385) LOG(INFO) Loaded all 191807 sentences\n",
      "trainer_interface.cc(400) LOG(INFO) Adding meta_piece: <unk>\n",
      "trainer_interface.cc(400) LOG(INFO) Adding meta_piece: <s>\n",
      "trainer_interface.cc(400) LOG(INFO) Adding meta_piece: </s>\n",
      "trainer_interface.cc(405) LOG(INFO) Normalizing sentences...\n",
      "trainer_interface.cc(466) LOG(INFO) all chars count=6684854\n",
      "trainer_interface.cc(477) LOG(INFO) Done: 99.9501% characters are covered.\n",
      "trainer_interface.cc(487) LOG(INFO) Alphabet size=1611\n",
      "trainer_interface.cc(488) LOG(INFO) Final character coverage=0.999501\n",
      "trainer_interface.cc(520) LOG(INFO) Done! preprocessed 191807 sentences.\n",
      "unigram_model_trainer.cc(139) LOG(INFO) Making suffix array...\n",
      "unigram_model_trainer.cc(143) LOG(INFO) Extracting frequent sub strings...\n",
      "unigram_model_trainer.cc(194) LOG(INFO) Initialized 402736 seed sentencepieces\n",
      "trainer_interface.cc(526) LOG(INFO) Tokenizing input sentences with whitespace: 191807\n",
      "trainer_interface.cc(537) LOG(INFO) Done! 386575\n",
      "unigram_model_trainer.cc(489) LOG(INFO) Using 386575 sentences for EM training\n",
      "unigram_model_trainer.cc(505) LOG(INFO) EM sub_iter=0 size=193470 obj=14.232 num_tokens=819856 num_tokens/piece=4.23764\n",
      "unigram_model_trainer.cc(505) LOG(INFO) EM sub_iter=1 size=177866 obj=13.2833 num_tokens=823702 num_tokens/piece=4.63103\n",
      "unigram_model_trainer.cc(505) LOG(INFO) EM sub_iter=0 size=133289 obj=13.3544 num_tokens=863534 num_tokens/piece=6.47866\n",
      "unigram_model_trainer.cc(505) LOG(INFO) EM sub_iter=1 size=132984 obj=13.3045 num_tokens=864107 num_tokens/piece=6.49783\n",
      "unigram_model_trainer.cc(505) LOG(INFO) EM sub_iter=0 size=99733 obj=13.5035 num_tokens=912240 num_tokens/piece=9.14682\n",
      "unigram_model_trainer.cc(505) LOG(INFO) EM sub_iter=1 size=99722 obj=13.4478 num_tokens=912469 num_tokens/piece=9.15013\n",
      "unigram_model_trainer.cc(505) LOG(INFO) EM sub_iter=0 size=74791 obj=13.6694 num_tokens=958265 num_tokens/piece=12.8126\n",
      "unigram_model_trainer.cc(505) LOG(INFO) EM sub_iter=1 size=74791 obj=13.6155 num_tokens=958263 num_tokens/piece=12.8125\n",
      "unigram_model_trainer.cc(505) LOG(INFO) EM sub_iter=0 size=56093 obj=13.8695 num_tokens=1006792 num_tokens/piece=17.9486\n",
      "unigram_model_trainer.cc(505) LOG(INFO) EM sub_iter=1 size=56093 obj=13.8115 num_tokens=1006784 num_tokens/piece=17.9485\n",
      "unigram_model_trainer.cc(505) LOG(INFO) EM sub_iter=0 size=42069 obj=14.0958 num_tokens=1056492 num_tokens/piece=25.1133\n",
      "unigram_model_trainer.cc(505) LOG(INFO) EM sub_iter=1 size=42069 obj=14.035 num_tokens=1056515 num_tokens/piece=25.1139\n",
      "unigram_model_trainer.cc(505) LOG(INFO) EM sub_iter=0 size=31551 obj=14.3472 num_tokens=1108081 num_tokens/piece=35.1203\n",
      "unigram_model_trainer.cc(505) LOG(INFO) EM sub_iter=1 size=31551 obj=14.2808 num_tokens=1108101 num_tokens/piece=35.1209\n",
      "unigram_model_trainer.cc(505) LOG(INFO) EM sub_iter=0 size=23663 obj=14.629 num_tokens=1162545 num_tokens/piece=49.1292\n",
      "unigram_model_trainer.cc(505) LOG(INFO) EM sub_iter=1 size=23663 obj=14.5557 num_tokens=1162554 num_tokens/piece=49.1296\n",
      "unigram_model_trainer.cc(505) LOG(INFO) EM sub_iter=0 size=17747 obj=14.9363 num_tokens=1219693 num_tokens/piece=68.7267\n",
      "unigram_model_trainer.cc(505) LOG(INFO) EM sub_iter=1 size=17747 obj=14.8537 num_tokens=1219756 num_tokens/piece=68.7303\n",
      "unigram_model_trainer.cc(505) LOG(INFO) EM sub_iter=0 size=13310 obj=15.2682 num_tokens=1280810 num_tokens/piece=96.2292\n",
      "unigram_model_trainer.cc(505) LOG(INFO) EM sub_iter=1 size=13310 obj=15.174 num_tokens=1281058 num_tokens/piece=96.2478\n",
      "unigram_model_trainer.cc(505) LOG(INFO) EM sub_iter=0 size=9982 obj=15.6357 num_tokens=1345337 num_tokens/piece=134.776\n",
      "unigram_model_trainer.cc(505) LOG(INFO) EM sub_iter=1 size=9982 obj=15.5219 num_tokens=1345343 num_tokens/piece=134.777\n",
      "unigram_model_trainer.cc(505) LOG(INFO) EM sub_iter=0 size=7486 obj=16.0364 num_tokens=1414625 num_tokens/piece=188.969\n",
      "unigram_model_trainer.cc(505) LOG(INFO) EM sub_iter=1 size=7486 obj=15.9168 num_tokens=1414903 num_tokens/piece=189.007\n",
      "unigram_model_trainer.cc(505) LOG(INFO) EM sub_iter=0 size=5614 obj=16.4938 num_tokens=1492424 num_tokens/piece=265.84\n",
      "unigram_model_trainer.cc(505) LOG(INFO) EM sub_iter=1 size=5614 obj=16.3539 num_tokens=1493063 num_tokens/piece=265.954\n",
      "unigram_model_trainer.cc(505) LOG(INFO) EM sub_iter=0 size=5500 obj=16.391 num_tokens=1499779 num_tokens/piece=272.687\n",
      "unigram_model_trainer.cc(505) LOG(INFO) EM sub_iter=1 size=5500 obj=16.3786 num_tokens=1499951 num_tokens/piece=272.718\n",
      "trainer_interface.cc(615) LOG(INFO) Saving model: unigram_5000_spm.model\n",
      "trainer_interface.cc(626) LOG(INFO) Saving vocabs: unigram_5000_spm.vocab\n"
     ]
    }
   ],
   "source": [
    "import sentencepiece as spm\n",
    "\n",
    "temp_file = './sp_tokenizer/naver_review.txt'\n",
    "vocab_size = 5000\n",
    "model_type = 'unigram'\n",
    "\n",
    "spm.SentencePieceTrainer.Train(\n",
    "    '--input={} --model_prefix=unigram_5000_spm --vocab_size={} --model_type={}'.format(temp_file, vocab_size, model_type)    \n",
    ")\n",
    "#위 Train에서  --model_type = unigram이 디폴트 적용되어 있습니다. --model_type = bpe로 옵션을 주어 변경할 수 있습니다.\n"
   ]
  },
  {
   "cell_type": "markdown",
   "id": "2b877256",
   "metadata": {},
   "source": [
    "#### SentencePiece 모델 학습\n",
    "* model_type = bpe\n",
    "* vocab_size = 5000"
   ]
  },
  {
   "cell_type": "code",
   "execution_count": 24,
   "id": "15d3e646",
   "metadata": {},
   "outputs": [
    {
     "name": "stderr",
     "output_type": "stream",
     "text": [
      "sentencepiece_trainer.cc(177) LOG(INFO) Running command: --input=./sp_tokenizer/naver_review.txt --model_prefix=bpe_5000_spm --vocab_size=5000 --model_type=bpe\n",
      "sentencepiece_trainer.cc(77) LOG(INFO) Starts training with : \n",
      "trainer_spec {\n",
      "  input: ./sp_tokenizer/naver_review.txt\n",
      "  input_format: \n",
      "  model_prefix: bpe_5000_spm\n",
      "  model_type: BPE\n",
      "  vocab_size: 5000\n",
      "  self_test_sample_size: 0\n",
      "  character_coverage: 0.9995\n",
      "  input_sentence_size: 0\n",
      "  shuffle_input_sentence: 1\n",
      "  seed_sentencepiece_size: 1000000\n",
      "  shrinking_factor: 0.75\n",
      "  max_sentence_length: 4192\n",
      "  num_threads: 16\n",
      "  num_sub_iterations: 2\n",
      "  max_sentencepiece_length: 16\n",
      "  split_by_unicode_script: 1\n",
      "  split_by_number: 1\n",
      "  split_by_whitespace: 1\n",
      "  split_digits: 0\n",
      "  treat_whitespace_as_suffix: 0\n",
      "  allow_whitespace_only_pieces: 0\n",
      "  required_chars: \n",
      "  byte_fallback: 0\n",
      "  vocabulary_output_piece_score: 1\n",
      "  train_extremely_large_corpus: 0\n",
      "  hard_vocab_limit: 1\n",
      "  use_all_vocab: 0\n",
      "  unk_id: 0\n",
      "  bos_id: 1\n",
      "  eos_id: 2\n",
      "  pad_id: -1\n",
      "  unk_piece: <unk>\n",
      "  bos_piece: <s>\n",
      "  eos_piece: </s>\n",
      "  pad_piece: <pad>\n",
      "  unk_surface:  ⁇ \n",
      "}\n",
      "normalizer_spec {\n",
      "  name: nmt_nfkc\n",
      "  add_dummy_prefix: 1\n",
      "  remove_extra_whitespaces: 1\n",
      "  escape_whitespaces: 1\n",
      "  normalization_rule_tsv: \n",
      "}\n",
      "denormalizer_spec {}\n",
      "trainer_interface.cc(329) LOG(INFO) SentenceIterator is not specified. Using MultiFileSentenceIterator.\n",
      "trainer_interface.cc(178) LOG(INFO) Loading corpus: ./sp_tokenizer/naver_review.txt\n",
      "trainer_interface.cc(385) LOG(INFO) Loaded all 191807 sentences\n",
      "trainer_interface.cc(400) LOG(INFO) Adding meta_piece: <unk>\n",
      "trainer_interface.cc(400) LOG(INFO) Adding meta_piece: <s>\n",
      "trainer_interface.cc(400) LOG(INFO) Adding meta_piece: </s>\n",
      "trainer_interface.cc(405) LOG(INFO) Normalizing sentences...\n",
      "trainer_interface.cc(466) LOG(INFO) all chars count=6684854\n",
      "trainer_interface.cc(477) LOG(INFO) Done: 99.9501% characters are covered.\n",
      "trainer_interface.cc(487) LOG(INFO) Alphabet size=1611\n",
      "trainer_interface.cc(488) LOG(INFO) Final character coverage=0.999501\n",
      "trainer_interface.cc(520) LOG(INFO) Done! preprocessed 191807 sentences.\n",
      "trainer_interface.cc(526) LOG(INFO) Tokenizing input sentences with whitespace: 191807\n",
      "trainer_interface.cc(537) LOG(INFO) Done! 386575\n",
      "bpe_model_trainer.cc(167) LOG(INFO) Updating active symbols. max_freq=78530 min_freq=91\n",
      "bpe_model_trainer.cc(258) LOG(INFO) Added: freq=14418 size=20 all=132780 active=13181 piece=▁사\n",
      "bpe_model_trainer.cc(258) LOG(INFO) Added: freq=11206 size=40 all=138010 active=18411 piece=▁가\n",
      "bpe_model_trainer.cc(258) LOG(INFO) Added: freq=7724 size=60 all=142416 active=22817 piece=▁않\n",
      "bpe_model_trainer.cc(258) LOG(INFO) Added: freq=6596 size=80 all=147651 active=28052 piece=▁자\n",
      "bpe_model_trainer.cc(258) LOG(INFO) Added: freq=5435 size=100 all=152180 active=32581 piece=▁것\n",
      "bpe_model_trainer.cc(167) LOG(INFO) Updating active symbols. max_freq=5419 min_freq=76\n",
      "bpe_model_trainer.cc(258) LOG(INFO) Added: freq=4761 size=120 all=155471 active=10843 piece=▁조\n",
      "bpe_model_trainer.cc(258) LOG(INFO) Added: freq=4074 size=140 all=158998 active=14370 piece=리고\n",
      "bpe_model_trainer.cc(258) LOG(INFO) Added: freq=3668 size=160 all=161808 active=17180 piece=▁거\n",
      "bpe_model_trainer.cc(258) LOG(INFO) Added: freq=3333 size=180 all=164893 active=20265 piece=▁봤는데\n",
      "bpe_model_trainer.cc(258) LOG(INFO) Added: freq=3072 size=200 all=168046 active=23418 piece=다고\n",
      "bpe_model_trainer.cc(167) LOG(INFO) Updating active symbols. max_freq=3070 min_freq=67\n",
      "bpe_model_trainer.cc(258) LOG(INFO) Added: freq=2845 size=220 all=171382 active=11450 piece=같은\n",
      "bpe_model_trainer.cc(258) LOG(INFO) Added: freq=2582 size=240 all=174974 active=15042 piece=라는\n",
      "bpe_model_trainer.cc(258) LOG(INFO) Added: freq=2450 size=260 all=178876 active=18944 piece=▁위\n",
      "bpe_model_trainer.cc(258) LOG(INFO) Added: freq=2331 size=280 all=181309 active=21377 piece=▁했\n",
      "bpe_model_trainer.cc(258) LOG(INFO) Added: freq=2180 size=300 all=183879 active=23947 piece=▁여자\n",
      "bpe_model_trainer.cc(167) LOG(INFO) Updating active symbols. max_freq=2157 min_freq=60\n",
      "bpe_model_trainer.cc(258) LOG(INFO) Added: freq=2006 size=320 all=186162 active=11323 piece=▁ᅲᅲ\n",
      "bpe_model_trainer.cc(258) LOG(INFO) Added: freq=1877 size=340 all=188679 active=13840 piece=▁졸\n",
      "bpe_model_trainer.cc(258) LOG(INFO) Added: freq=1790 size=360 all=191696 active=16857 piece=▁볼만\n",
      "bpe_model_trainer.cc(258) LOG(INFO) Added: freq=1700 size=380 all=194956 active=20117 piece=▁반전\n",
      "bpe_model_trainer.cc(258) LOG(INFO) Added: freq=1631 size=400 all=197618 active=22779 piece=▁스릴\n",
      "bpe_model_trainer.cc(167) LOG(INFO) Updating active symbols. max_freq=1624 min_freq=55\n",
      "bpe_model_trainer.cc(258) LOG(INFO) Added: freq=1576 size=420 all=199793 active=12007 piece=▁아깝다\n",
      "bpe_model_trainer.cc(258) LOG(INFO) Added: freq=1496 size=440 all=202551 active=14765 piece=에는\n",
      "bpe_model_trainer.cc(258) LOG(INFO) Added: freq=1445 size=460 all=204711 active=16925 piece=▁머\n",
      "bpe_model_trainer.cc(258) LOG(INFO) Added: freq=1383 size=480 all=206281 active=18495 piece=다니\n",
      "bpe_model_trainer.cc(258) LOG(INFO) Added: freq=1314 size=500 all=209096 active=21310 piece=▁받\n",
      "bpe_model_trainer.cc(167) LOG(INFO) Updating active symbols. max_freq=1311 min_freq=51\n",
      "bpe_model_trainer.cc(258) LOG(INFO) Added: freq=1251 size=520 all=210850 active=12154 piece=▁캐릭터\n",
      "bpe_model_trainer.cc(258) LOG(INFO) Added: freq=1202 size=540 all=213480 active=14784 piece=▁독\n",
      "bpe_model_trainer.cc(258) LOG(INFO) Added: freq=1173 size=560 all=216557 active=17861 piece=▁대단\n",
      "bpe_model_trainer.cc(258) LOG(INFO) Added: freq=1139 size=580 all=219237 active=20541 piece=이가\n",
      "bpe_model_trainer.cc(258) LOG(INFO) Added: freq=1103 size=600 all=221821 active=23125 piece=수가\n",
      "bpe_model_trainer.cc(167) LOG(INFO) Updating active symbols. max_freq=1101 min_freq=47\n",
      "bpe_model_trainer.cc(258) LOG(INFO) Added: freq=1058 size=620 all=224264 active=13355 piece=점도\n",
      "bpe_model_trainer.cc(258) LOG(INFO) Added: freq=1033 size=640 all=226962 active=16053 piece=전에\n",
      "bpe_model_trainer.cc(258) LOG(INFO) Added: freq=1001 size=660 all=229514 active=18605 piece=▁요즘\n",
      "bpe_model_trainer.cc(258) LOG(INFO) Added: freq=973 size=680 all=232070 active=21161 piece=▁제대로\n",
      "bpe_model_trainer.cc(258) LOG(INFO) Added: freq=942 size=700 all=234024 active=23115 piece=이상\n",
      "bpe_model_trainer.cc(167) LOG(INFO) Updating active symbols. max_freq=942 min_freq=44\n",
      "bpe_model_trainer.cc(258) LOG(INFO) Added: freq=911 size=720 all=235732 active=13163 piece=▁스토리가\n",
      "bpe_model_trainer.cc(258) LOG(INFO) Added: freq=879 size=740 all=237503 active=14934 piece=진다\n",
      "bpe_model_trainer.cc(258) LOG(INFO) Added: freq=861 size=760 all=238564 active=15995 piece=마다\n",
      "bpe_model_trainer.cc(258) LOG(INFO) Added: freq=849 size=780 all=240910 active=18341 piece=하는데\n",
      "bpe_model_trainer.cc(258) LOG(INFO) Added: freq=824 size=800 all=242988 active=20419 piece=▁주는\n",
      "bpe_model_trainer.cc(167) LOG(INFO) Updating active symbols. max_freq=824 min_freq=41\n",
      "bpe_model_trainer.cc(258) LOG(INFO) Added: freq=806 size=820 all=244080 active=13203 piece=▁글\n",
      "bpe_model_trainer.cc(258) LOG(INFO) Added: freq=780 size=840 all=246069 active=15192 piece=▁용\n",
      "bpe_model_trainer.cc(258) LOG(INFO) Added: freq=767 size=860 all=247694 active=16817 piece=싶은\n",
      "bpe_model_trainer.cc(258) LOG(INFO) Added: freq=750 size=880 all=249782 active=18905 piece=것이\n",
      "bpe_model_trainer.cc(258) LOG(INFO) Added: freq=729 size=900 all=251511 active=20634 piece=▁다큐\n",
      "bpe_model_trainer.cc(167) LOG(INFO) Updating active symbols. max_freq=729 min_freq=39\n",
      "bpe_model_trainer.cc(258) LOG(INFO) Added: freq=717 size=920 all=252939 active=13933 piece=▁귀여\n",
      "bpe_model_trainer.cc(258) LOG(INFO) Added: freq=704 size=940 all=254307 active=15301 piece=▁문제\n",
      "bpe_model_trainer.cc(258) LOG(INFO) Added: freq=687 size=960 all=255470 active=16464 piece=▁러\n",
      "bpe_model_trainer.cc(258) LOG(INFO) Added: freq=673 size=980 all=256749 active=17743 piece=건가\n",
      "bpe_model_trainer.cc(258) LOG(INFO) Added: freq=661 size=1000 all=258376 active=19370 piece=구요\n",
      "bpe_model_trainer.cc(167) LOG(INFO) Updating active symbols. max_freq=660 min_freq=38\n",
      "bpe_model_trainer.cc(258) LOG(INFO) Added: freq=645 size=1020 all=260234 active=14587 piece=▁제발\n",
      "bpe_model_trainer.cc(258) LOG(INFO) Added: freq=629 size=1040 all=262085 active=16438 piece=▁엄마\n",
      "bpe_model_trainer.cc(258) LOG(INFO) Added: freq=617 size=1060 all=264306 active=18659 piece=▁어느\n",
      "bpe_model_trainer.cc(258) LOG(INFO) Added: freq=601 size=1080 all=265718 active=20071 piece=▁색\n",
      "bpe_model_trainer.cc(258) LOG(INFO) Added: freq=586 size=1100 all=267032 active=21385 piece=▁흘\n",
      "bpe_model_trainer.cc(167) LOG(INFO) Updating active symbols. max_freq=586 min_freq=36\n",
      "bpe_model_trainer.cc(258) LOG(INFO) Added: freq=573 size=1120 all=268583 active=14885 piece=▁비슷\n",
      "bpe_model_trainer.cc(258) LOG(INFO) Added: freq=561 size=1140 all=270246 active=16548 piece=▁돋\n",
      "bpe_model_trainer.cc(258) LOG(INFO) Added: freq=553 size=1160 all=271896 active=18198 piece=▁영상미\n",
      "bpe_model_trainer.cc(258) LOG(INFO) Added: freq=541 size=1180 all=273601 active=19903 piece=▁그나마\n",
      "bpe_model_trainer.cc(258) LOG(INFO) Added: freq=526 size=1200 all=275200 active=21502 piece=▁굉장\n",
      "bpe_model_trainer.cc(167) LOG(INFO) Updating active symbols. max_freq=526 min_freq=34\n",
      "bpe_model_trainer.cc(258) LOG(INFO) Added: freq=513 size=1220 all=277272 active=15815 piece=▁것을\n",
      "bpe_model_trainer.cc(258) LOG(INFO) Added: freq=506 size=1240 all=278756 active=17299 piece=▁상황\n",
      "bpe_model_trainer.cc(258) LOG(INFO) Added: freq=493 size=1260 all=280337 active=18880 piece=스럽다\n",
      "bpe_model_trainer.cc(258) LOG(INFO) Added: freq=484 size=1280 all=282087 active=20630 piece=▁이것\n",
      "bpe_model_trainer.cc(258) LOG(INFO) Added: freq=475 size=1300 all=283351 active=21894 piece=▁좋겠\n",
      "bpe_model_trainer.cc(167) LOG(INFO) Updating active symbols. max_freq=475 min_freq=33\n",
      "bpe_model_trainer.cc(258) LOG(INFO) Added: freq=468 size=1320 all=284941 active=15729 piece=▁성룡\n",
      "bpe_model_trainer.cc(258) LOG(INFO) Added: freq=460 size=1340 all=286845 active=17633 piece=다른\n",
      "bpe_model_trainer.cc(258) LOG(INFO) Added: freq=453 size=1360 all=288368 active=19156 piece=가고\n",
      "bpe_model_trainer.cc(258) LOG(INFO) Added: freq=447 size=1380 all=290413 active=21201 piece=▁그대로\n",
      "bpe_model_trainer.cc(258) LOG(INFO) Added: freq=441 size=1400 all=292040 active=22828 piece=▁좋은데\n",
      "bpe_model_trainer.cc(167) LOG(INFO) Updating active symbols. max_freq=440 min_freq=32\n",
      "bpe_model_trainer.cc(258) LOG(INFO) Added: freq=431 size=1420 all=293197 active=15727 piece=본다\n",
      "bpe_model_trainer.cc(258) LOG(INFO) Added: freq=426 size=1440 all=294471 active=17001 piece=▁보고싶\n",
      "bpe_model_trainer.cc(258) LOG(INFO) Added: freq=417 size=1460 all=296106 active=18636 piece=▁개그\n",
      "bpe_model_trainer.cc(258) LOG(INFO) Added: freq=408 size=1480 all=297354 active=19884 piece=▁까\n",
      "bpe_model_trainer.cc(258) LOG(INFO) Added: freq=399 size=1500 all=298591 active=21121 piece=와서\n",
      "bpe_model_trainer.cc(167) LOG(INFO) Updating active symbols. max_freq=399 min_freq=31\n",
      "bpe_model_trainer.cc(258) LOG(INFO) Added: freq=393 size=1520 all=299773 active=16005 piece=▁머리\n",
      "bpe_model_trainer.cc(258) LOG(INFO) Added: freq=388 size=1540 all=301265 active=17497 piece=▁흥행\n",
      "bpe_model_trainer.cc(258) LOG(INFO) Added: freq=383 size=1560 all=302124 active=18356 piece=▁나의\n",
      "bpe_model_trainer.cc(258) LOG(INFO) Added: freq=377 size=1580 all=303343 active=19575 piece=▁봤음\n",
      "bpe_model_trainer.cc(258) LOG(INFO) Added: freq=373 size=1600 all=304940 active=21172 piece=봐서\n",
      "bpe_model_trainer.cc(167) LOG(INFO) Updating active symbols. max_freq=373 min_freq=30\n",
      "bpe_model_trainer.cc(258) LOG(INFO) Added: freq=367 size=1620 all=306082 active=16251 piece=▁꿀잼\n",
      "bpe_model_trainer.cc(258) LOG(INFO) Added: freq=362 size=1640 all=307552 active=17721 piece=▁왔\n",
      "bpe_model_trainer.cc(258) LOG(INFO) Added: freq=356 size=1660 all=309157 active=19326 piece=▁검\n",
      "bpe_model_trainer.cc(258) LOG(INFO) Added: freq=351 size=1680 all=310726 active=20895 piece=내가\n",
      "bpe_model_trainer.cc(258) LOG(INFO) Added: freq=348 size=1700 all=312277 active=22446 piece=▁참고\n",
      "bpe_model_trainer.cc(167) LOG(INFO) Updating active symbols. max_freq=347 min_freq=29\n",
      "bpe_model_trainer.cc(258) LOG(INFO) Added: freq=344 size=1720 all=313493 active=16791 piece=▁사랑을\n",
      "bpe_model_trainer.cc(258) LOG(INFO) Added: freq=338 size=1740 all=314994 active=18292 piece=▁가는\n",
      "bpe_model_trainer.cc(258) LOG(INFO) Added: freq=334 size=1760 all=316237 active=19535 piece=▁흥미진진\n",
      "bpe_model_trainer.cc(258) LOG(INFO) Added: freq=330 size=1780 all=317474 active=20772 piece=▁뜬\n",
      "bpe_model_trainer.cc(258) LOG(INFO) Added: freq=326 size=1800 all=318956 active=22254 piece=하는거\n",
      "bpe_model_trainer.cc(167) LOG(INFO) Updating active symbols. max_freq=326 min_freq=28\n",
      "bpe_model_trainer.cc(258) LOG(INFO) Added: freq=321 size=1820 all=320480 active=17253 piece=없네\n",
      "bpe_model_trainer.cc(258) LOG(INFO) Added: freq=318 size=1840 all=322050 active=18823 piece=어로\n",
      "bpe_model_trainer.cc(258) LOG(INFO) Added: freq=313 size=1860 all=322918 active=19691 piece=▁친\n",
      "bpe_model_trainer.cc(258) LOG(INFO) Added: freq=309 size=1880 all=324079 active=20852 piece=▁되어\n",
      "bpe_model_trainer.cc(258) LOG(INFO) Added: freq=306 size=1900 all=325247 active=22020 piece=▁유명\n",
      "bpe_model_trainer.cc(167) LOG(INFO) Updating active symbols. max_freq=306 min_freq=27\n",
      "bpe_model_trainer.cc(258) LOG(INFO) Added: freq=303 size=1920 all=325912 active=16892 piece=▁완성도\n",
      "bpe_model_trainer.cc(258) LOG(INFO) Added: freq=299 size=1940 all=327147 active=18127 piece=▁나쁘\n",
      "bpe_model_trainer.cc(258) LOG(INFO) Added: freq=295 size=1960 all=328252 active=19232 piece=심이\n",
      "bpe_model_trainer.cc(258) LOG(INFO) Added: freq=290 size=1980 all=329940 active=20920 piece=▁서로\n",
      "bpe_model_trainer.cc(258) LOG(INFO) Added: freq=287 size=2000 all=330985 active=21964 piece=자들\n"
     ]
    },
    {
     "name": "stderr",
     "output_type": "stream",
     "text": [
      "bpe_model_trainer.cc(167) LOG(INFO) Updating active symbols. max_freq=287 min_freq=26\n",
      "bpe_model_trainer.cc(258) LOG(INFO) Added: freq=285 size=2020 all=331715 active=17151 piece=▁장면은\n",
      "bpe_model_trainer.cc(258) LOG(INFO) Added: freq=281 size=2040 all=332914 active=18350 piece=▁아마\n",
      "bpe_model_trainer.cc(258) LOG(INFO) Added: freq=278 size=2060 all=334017 active=19453 piece=▁거지\n",
      "bpe_model_trainer.cc(258) LOG(INFO) Added: freq=275 size=2080 all=335064 active=20500 piece=▁ᄒᄒᄒ\n",
      "bpe_model_trainer.cc(258) LOG(INFO) Added: freq=271 size=2100 all=336576 active=22012 piece=▁어렵\n",
      "bpe_model_trainer.cc(167) LOG(INFO) Updating active symbols. max_freq=271 min_freq=25\n",
      "bpe_model_trainer.cc(258) LOG(INFO) Added: freq=268 size=2120 all=337651 active=17868 piece=▁진부한\n",
      "bpe_model_trainer.cc(258) LOG(INFO) Added: freq=264 size=2140 all=338810 active=19027 piece=가요\n",
      "bpe_model_trainer.cc(258) LOG(INFO) Added: freq=263 size=2160 all=340099 active=20316 piece=▁반전이\n",
      "bpe_model_trainer.cc(258) LOG(INFO) Added: freq=260 size=2180 all=341293 active=21510 piece=▁부분이\n",
      "bpe_model_trainer.cc(258) LOG(INFO) Added: freq=257 size=2200 all=342436 active=22653 piece=하는지\n",
      "bpe_model_trainer.cc(167) LOG(INFO) Updating active symbols. max_freq=257 min_freq=25\n",
      "bpe_model_trainer.cc(258) LOG(INFO) Added: freq=255 size=2220 all=343983 active=18529 piece=▁비추\n",
      "bpe_model_trainer.cc(258) LOG(INFO) Added: freq=253 size=2240 all=345250 active=19796 piece=▁이런게\n",
      "bpe_model_trainer.cc(258) LOG(INFO) Added: freq=251 size=2260 all=345969 active=20515 piece=▁나온다\n",
      "bpe_model_trainer.cc(258) LOG(INFO) Added: freq=248 size=2280 all=347046 active=21592 piece=▁드는\n",
      "bpe_model_trainer.cc(258) LOG(INFO) Added: freq=245 size=2300 all=348049 active=22595 piece=▁알아\n",
      "bpe_model_trainer.cc(167) LOG(INFO) Updating active symbols. max_freq=245 min_freq=24\n",
      "bpe_model_trainer.cc(258) LOG(INFO) Added: freq=242 size=2320 all=349512 active=18814 piece=▁사람을\n",
      "bpe_model_trainer.cc(258) LOG(INFO) Added: freq=239 size=2340 all=350533 active=19835 piece=이해\n",
      "bpe_model_trainer.cc(258) LOG(INFO) Added: freq=237 size=2360 all=351757 active=21059 piece=▁곳\n",
      "bpe_model_trainer.cc(258) LOG(INFO) Added: freq=236 size=2380 all=352606 active=21908 piece=▁영화지만\n",
      "bpe_model_trainer.cc(258) LOG(INFO) Added: freq=232 size=2400 all=353643 active=22945 piece=▁오락\n",
      "bpe_model_trainer.cc(167) LOG(INFO) Updating active symbols. max_freq=232 min_freq=23\n",
      "bpe_model_trainer.cc(258) LOG(INFO) Added: freq=230 size=2420 all=354697 active=18702 piece=▁세상에\n",
      "bpe_model_trainer.cc(258) LOG(INFO) Added: freq=228 size=2440 all=355423 active=19428 piece=▁떨어지는\n",
      "bpe_model_trainer.cc(258) LOG(INFO) Added: freq=225 size=2460 all=356437 active=20442 piece=▁적당\n",
      "bpe_model_trainer.cc(258) LOG(INFO) Added: freq=222 size=2480 all=357657 active=21662 piece=구려\n",
      "bpe_model_trainer.cc(258) LOG(INFO) Added: freq=221 size=2500 all=358707 active=22712 piece=무서\n",
      "bpe_model_trainer.cc(167) LOG(INFO) Updating active symbols. max_freq=221 min_freq=23\n",
      "bpe_model_trainer.cc(258) LOG(INFO) Added: freq=220 size=2520 all=359318 active=18455 piece=▁봤다가\n",
      "bpe_model_trainer.cc(258) LOG(INFO) Added: freq=218 size=2540 all=360359 active=19496 piece=▁안되고\n",
      "bpe_model_trainer.cc(258) LOG(INFO) Added: freq=216 size=2560 all=361257 active=20394 piece=보고싶\n",
      "bpe_model_trainer.cc(258) LOG(INFO) Added: freq=214 size=2580 all=362378 active=21515 piece=결말\n",
      "bpe_model_trainer.cc(258) LOG(INFO) Added: freq=213 size=2600 all=363509 active=22646 piece=럭저럭\n",
      "bpe_model_trainer.cc(167) LOG(INFO) Updating active symbols. max_freq=212 min_freq=22\n",
      "bpe_model_trainer.cc(258) LOG(INFO) Added: freq=211 size=2620 all=364515 active=19164 piece=▁포장\n",
      "bpe_model_trainer.cc(258) LOG(INFO) Added: freq=209 size=2640 all=365277 active=19926 piece=▁보고싶다\n",
      "bpe_model_trainer.cc(258) LOG(INFO) Added: freq=207 size=2660 all=366106 active=20755 piece=▁이건뭐\n",
      "bpe_model_trainer.cc(258) LOG(INFO) Added: freq=205 size=2680 all=367116 active=21765 piece=▁오그라\n",
      "bpe_model_trainer.cc(258) LOG(INFO) Added: freq=203 size=2700 all=368289 active=22938 piece=▁감동과\n",
      "bpe_model_trainer.cc(167) LOG(INFO) Updating active symbols. max_freq=203 min_freq=22\n",
      "bpe_model_trainer.cc(258) LOG(INFO) Added: freq=201 size=2720 all=369003 active=19122 piece=▁동생\n",
      "bpe_model_trainer.cc(258) LOG(INFO) Added: freq=200 size=2740 all=369728 active=19847 piece=연기가\n",
      "bpe_model_trainer.cc(258) LOG(INFO) Added: freq=199 size=2760 all=370685 active=20804 piece=▁아닌듯\n",
      "bpe_model_trainer.cc(258) LOG(INFO) Added: freq=197 size=2780 all=371622 active=21741 piece=표현\n",
      "bpe_model_trainer.cc(258) LOG(INFO) Added: freq=195 size=2800 all=372817 active=22936 piece=▁i\n",
      "bpe_model_trainer.cc(167) LOG(INFO) Updating active symbols. max_freq=195 min_freq=21\n",
      "bpe_model_trainer.cc(258) LOG(INFO) Added: freq=194 size=2820 all=373819 active=19633 piece=만화\n",
      "bpe_model_trainer.cc(258) LOG(INFO) Added: freq=193 size=2840 all=374691 active=20505 piece=▁음악도\n",
      "bpe_model_trainer.cc(258) LOG(INFO) Added: freq=191 size=2860 all=375781 active=21595 piece=작이\n",
      "bpe_model_trainer.cc(258) LOG(INFO) Added: freq=190 size=2880 all=376821 active=22635 piece=▁있지\n",
      "bpe_model_trainer.cc(258) LOG(INFO) Added: freq=188 size=2900 all=377813 active=23627 piece=이를\n",
      "bpe_model_trainer.cc(167) LOG(INFO) Updating active symbols. max_freq=188 min_freq=21\n",
      "bpe_model_trainer.cc(258) LOG(INFO) Added: freq=187 size=2920 all=378890 active=19868 piece=재미없다\n",
      "bpe_model_trainer.cc(258) LOG(INFO) Added: freq=185 size=2940 all=379979 active=20957 piece=▁동물\n",
      "bpe_model_trainer.cc(258) LOG(INFO) Added: freq=183 size=2960 all=380879 active=21857 piece=▁퇴\n",
      "bpe_model_trainer.cc(258) LOG(INFO) Added: freq=182 size=2980 all=381822 active=22800 piece=▁나가\n",
      "bpe_model_trainer.cc(258) LOG(INFO) Added: freq=181 size=3000 all=382863 active=23841 piece=▁그다지\n",
      "bpe_model_trainer.cc(167) LOG(INFO) Updating active symbols. max_freq=181 min_freq=20\n",
      "bpe_model_trainer.cc(258) LOG(INFO) Added: freq=180 size=3020 all=383449 active=19718 piece=▁현실적인\n",
      "bpe_model_trainer.cc(258) LOG(INFO) Added: freq=178 size=3040 all=384168 active=20437 piece=▁신경\n",
      "bpe_model_trainer.cc(258) LOG(INFO) Added: freq=177 size=3060 all=385134 active=21403 piece=▁죽여\n",
      "bpe_model_trainer.cc(258) LOG(INFO) Added: freq=176 size=3080 all=386021 active=22290 piece=▁산으로\n",
      "bpe_model_trainer.cc(258) LOG(INFO) Added: freq=174 size=3100 all=386893 active=23162 piece=었는지\n",
      "bpe_model_trainer.cc(167) LOG(INFO) Updating active symbols. max_freq=174 min_freq=20\n",
      "bpe_model_trainer.cc(258) LOG(INFO) Added: freq=172 size=3120 all=387535 active=19909 piece=▁시시\n",
      "bpe_model_trainer.cc(258) LOG(INFO) Added: freq=171 size=3140 all=388500 active=20874 piece=았고\n",
      "bpe_model_trainer.cc(258) LOG(INFO) Added: freq=170 size=3160 all=389637 active=22011 piece=▁이거보고\n",
      "bpe_model_trainer.cc(258) LOG(INFO) Added: freq=168 size=3180 all=390258 active=22632 piece=애들\n",
      "bpe_model_trainer.cc(258) LOG(INFO) Added: freq=167 size=3200 all=391526 active=23900 piece=▁내려\n",
      "bpe_model_trainer.cc(167) LOG(INFO) Updating active symbols. max_freq=167 min_freq=20\n",
      "bpe_model_trainer.cc(258) LOG(INFO) Added: freq=166 size=3220 all=392470 active=20476 piece=씬은\n",
      "bpe_model_trainer.cc(258) LOG(INFO) Added: freq=165 size=3240 all=393360 active=21366 piece=▁쫌\n",
      "bpe_model_trainer.cc(258) LOG(INFO) Added: freq=164 size=3260 all=394172 active=22178 piece=여운\n",
      "bpe_model_trainer.cc(258) LOG(INFO) Added: freq=163 size=3280 all=395212 active=23218 piece=▁떠오\n",
      "bpe_model_trainer.cc(258) LOG(INFO) Added: freq=162 size=3300 all=395855 active=23860 piece=▁남겨\n",
      "bpe_model_trainer.cc(167) LOG(INFO) Updating active symbols. max_freq=162 min_freq=19\n",
      "bpe_model_trainer.cc(258) LOG(INFO) Added: freq=161 size=3320 all=396678 active=20575 piece=▁단지\n",
      "bpe_model_trainer.cc(258) LOG(INFO) Added: freq=160 size=3340 all=397362 active=21259 piece=편도\n",
      "bpe_model_trainer.cc(258) LOG(INFO) Added: freq=159 size=3360 all=397909 active=21806 piece=아아\n",
      "bpe_model_trainer.cc(258) LOG(INFO) Added: freq=158 size=3380 all=398965 active=22862 piece=관이\n",
      "trainer_interface.cc(615) LOG(INFO) Saving model: bpe_5000_spm.model\n",
      "trainer_interface.cc(626) LOG(INFO) Saving vocabs: bpe_5000_spm.vocab\n"
     ]
    }
   ],
   "source": [
    "import sentencepiece as spm\n",
    "\n",
    "temp_file = './sp_tokenizer/naver_review.txt'\n",
    "vocab_size = 5000\n",
    "model_type = 'bpe'\n",
    "\n",
    "spm.SentencePieceTrainer.Train(\n",
    "    '--input={} --model_prefix=bpe_5000_spm --vocab_size={} --model_type={}'.format(temp_file, vocab_size, model_type)    \n",
    ")\n",
    "#위 Train에서  --model_type = unigram이 디폴트 적용되어 있습니다. --model_type = bpe로 옵션을 주어 변경할 수 있습니다.\n"
   ]
  },
  {
   "cell_type": "markdown",
   "id": "60fc5069",
   "metadata": {},
   "source": [
    "#### SentencePiece 모델 학습\n",
    "* model_type = unigram\n",
    "* vocab_size = 8000"
   ]
  },
  {
   "cell_type": "code",
   "execution_count": 25,
   "id": "4aa98b53",
   "metadata": {},
   "outputs": [
    {
     "name": "stderr",
     "output_type": "stream",
     "text": [
      "sentencepiece_trainer.cc(177) LOG(INFO) Running command: --input=./sp_tokenizer/naver_review.txt --model_prefix=unigram_8000_spm --vocab_size=8000 --model_type=unigram\n",
      "sentencepiece_trainer.cc(77) LOG(INFO) Starts training with : \n",
      "trainer_spec {\n",
      "  input: ./sp_tokenizer/naver_review.txt\n",
      "  input_format: \n",
      "  model_prefix: unigram_8000_spm\n",
      "  model_type: UNIGRAM\n",
      "  vocab_size: 8000\n",
      "  self_test_sample_size: 0\n",
      "  character_coverage: 0.9995\n",
      "  input_sentence_size: 0\n",
      "  shuffle_input_sentence: 1\n",
      "  seed_sentencepiece_size: 1000000\n",
      "  shrinking_factor: 0.75\n",
      "  max_sentence_length: 4192\n",
      "  num_threads: 16\n",
      "  num_sub_iterations: 2\n",
      "  max_sentencepiece_length: 16\n",
      "  split_by_unicode_script: 1\n",
      "  split_by_number: 1\n",
      "  split_by_whitespace: 1\n",
      "  split_digits: 0\n",
      "  treat_whitespace_as_suffix: 0\n",
      "  allow_whitespace_only_pieces: 0\n",
      "  required_chars: \n",
      "  byte_fallback: 0\n",
      "  vocabulary_output_piece_score: 1\n",
      "  train_extremely_large_corpus: 0\n",
      "  hard_vocab_limit: 1\n",
      "  use_all_vocab: 0\n",
      "  unk_id: 0\n",
      "  bos_id: 1\n",
      "  eos_id: 2\n",
      "  pad_id: -1\n",
      "  unk_piece: <unk>\n",
      "  bos_piece: <s>\n",
      "  eos_piece: </s>\n",
      "  pad_piece: <pad>\n",
      "  unk_surface:  ⁇ \n",
      "}\n",
      "normalizer_spec {\n",
      "  name: nmt_nfkc\n",
      "  add_dummy_prefix: 1\n",
      "  remove_extra_whitespaces: 1\n",
      "  escape_whitespaces: 1\n",
      "  normalization_rule_tsv: \n",
      "}\n",
      "denormalizer_spec {}\n",
      "trainer_interface.cc(329) LOG(INFO) SentenceIterator is not specified. Using MultiFileSentenceIterator.\n",
      "trainer_interface.cc(178) LOG(INFO) Loading corpus: ./sp_tokenizer/naver_review.txt\n",
      "trainer_interface.cc(385) LOG(INFO) Loaded all 191807 sentences\n",
      "trainer_interface.cc(400) LOG(INFO) Adding meta_piece: <unk>\n",
      "trainer_interface.cc(400) LOG(INFO) Adding meta_piece: <s>\n",
      "trainer_interface.cc(400) LOG(INFO) Adding meta_piece: </s>\n",
      "trainer_interface.cc(405) LOG(INFO) Normalizing sentences...\n",
      "trainer_interface.cc(466) LOG(INFO) all chars count=6684854\n",
      "trainer_interface.cc(477) LOG(INFO) Done: 99.9501% characters are covered.\n",
      "trainer_interface.cc(487) LOG(INFO) Alphabet size=1611\n",
      "trainer_interface.cc(488) LOG(INFO) Final character coverage=0.999501\n",
      "trainer_interface.cc(520) LOG(INFO) Done! preprocessed 191807 sentences.\n",
      "unigram_model_trainer.cc(139) LOG(INFO) Making suffix array...\n",
      "unigram_model_trainer.cc(143) LOG(INFO) Extracting frequent sub strings...\n",
      "unigram_model_trainer.cc(194) LOG(INFO) Initialized 402736 seed sentencepieces\n",
      "trainer_interface.cc(526) LOG(INFO) Tokenizing input sentences with whitespace: 191807\n",
      "trainer_interface.cc(537) LOG(INFO) Done! 386575\n",
      "unigram_model_trainer.cc(489) LOG(INFO) Using 386575 sentences for EM training\n",
      "unigram_model_trainer.cc(505) LOG(INFO) EM sub_iter=0 size=193470 obj=14.232 num_tokens=819856 num_tokens/piece=4.23764\n",
      "unigram_model_trainer.cc(505) LOG(INFO) EM sub_iter=1 size=177866 obj=13.2833 num_tokens=823702 num_tokens/piece=4.63103\n",
      "unigram_model_trainer.cc(505) LOG(INFO) EM sub_iter=0 size=133289 obj=13.3544 num_tokens=863534 num_tokens/piece=6.47866\n",
      "unigram_model_trainer.cc(505) LOG(INFO) EM sub_iter=1 size=132984 obj=13.3045 num_tokens=864107 num_tokens/piece=6.49783\n",
      "unigram_model_trainer.cc(505) LOG(INFO) EM sub_iter=0 size=99733 obj=13.5035 num_tokens=912240 num_tokens/piece=9.14682\n",
      "unigram_model_trainer.cc(505) LOG(INFO) EM sub_iter=1 size=99722 obj=13.4478 num_tokens=912469 num_tokens/piece=9.15013\n",
      "unigram_model_trainer.cc(505) LOG(INFO) EM sub_iter=0 size=74791 obj=13.6694 num_tokens=958265 num_tokens/piece=12.8126\n",
      "unigram_model_trainer.cc(505) LOG(INFO) EM sub_iter=1 size=74791 obj=13.6155 num_tokens=958263 num_tokens/piece=12.8125\n",
      "unigram_model_trainer.cc(505) LOG(INFO) EM sub_iter=0 size=56093 obj=13.8695 num_tokens=1006792 num_tokens/piece=17.9486\n",
      "unigram_model_trainer.cc(505) LOG(INFO) EM sub_iter=1 size=56093 obj=13.8115 num_tokens=1006784 num_tokens/piece=17.9485\n",
      "unigram_model_trainer.cc(505) LOG(INFO) EM sub_iter=0 size=42069 obj=14.0958 num_tokens=1056492 num_tokens/piece=25.1133\n",
      "unigram_model_trainer.cc(505) LOG(INFO) EM sub_iter=1 size=42069 obj=14.035 num_tokens=1056515 num_tokens/piece=25.1139\n",
      "unigram_model_trainer.cc(505) LOG(INFO) EM sub_iter=0 size=31551 obj=14.3472 num_tokens=1108081 num_tokens/piece=35.1203\n",
      "unigram_model_trainer.cc(505) LOG(INFO) EM sub_iter=1 size=31551 obj=14.2808 num_tokens=1108101 num_tokens/piece=35.1209\n",
      "unigram_model_trainer.cc(505) LOG(INFO) EM sub_iter=0 size=23663 obj=14.629 num_tokens=1162545 num_tokens/piece=49.1292\n",
      "unigram_model_trainer.cc(505) LOG(INFO) EM sub_iter=1 size=23663 obj=14.5557 num_tokens=1162554 num_tokens/piece=49.1296\n",
      "unigram_model_trainer.cc(505) LOG(INFO) EM sub_iter=0 size=17747 obj=14.9363 num_tokens=1219693 num_tokens/piece=68.7267\n",
      "unigram_model_trainer.cc(505) LOG(INFO) EM sub_iter=1 size=17747 obj=14.8537 num_tokens=1219756 num_tokens/piece=68.7303\n",
      "unigram_model_trainer.cc(505) LOG(INFO) EM sub_iter=0 size=13310 obj=15.2682 num_tokens=1280810 num_tokens/piece=96.2292\n",
      "unigram_model_trainer.cc(505) LOG(INFO) EM sub_iter=1 size=13310 obj=15.174 num_tokens=1281058 num_tokens/piece=96.2478\n",
      "unigram_model_trainer.cc(505) LOG(INFO) EM sub_iter=0 size=9982 obj=15.6357 num_tokens=1345337 num_tokens/piece=134.776\n",
      "unigram_model_trainer.cc(505) LOG(INFO) EM sub_iter=1 size=9982 obj=15.5219 num_tokens=1345343 num_tokens/piece=134.777\n",
      "unigram_model_trainer.cc(505) LOG(INFO) EM sub_iter=0 size=8800 obj=15.7316 num_tokens=1374320 num_tokens/piece=156.173\n",
      "unigram_model_trainer.cc(505) LOG(INFO) EM sub_iter=1 size=8800 obj=15.6848 num_tokens=1374553 num_tokens/piece=156.199\n",
      "trainer_interface.cc(615) LOG(INFO) Saving model: unigram_8000_spm.model\n",
      "trainer_interface.cc(626) LOG(INFO) Saving vocabs: unigram_8000_spm.vocab\n"
     ]
    }
   ],
   "source": [
    "import sentencepiece as spm\n",
    "\n",
    "temp_file = './sp_tokenizer/naver_review.txt'\n",
    "vocab_size = 8000\n",
    "model_type = 'unigram'\n",
    "\n",
    "spm.SentencePieceTrainer.Train(\n",
    "    '--input={} --model_prefix=unigram_8000_spm --vocab_size={} --model_type={}'.format(temp_file, vocab_size,model_type)    \n",
    ")\n",
    "#위 Train에서  --model_type = unigram이 디폴트 적용되어 있습니다. --model_type = bpe로 옵션을 주어 변경할 수 있습니다.\n"
   ]
  },
  {
   "cell_type": "markdown",
   "id": "877c63a4",
   "metadata": {},
   "source": [
    "#### SentencePiece 모델 학습\n",
    "* model_type = bpe\n",
    "* vocab_size = 8000"
   ]
  },
  {
   "cell_type": "code",
   "execution_count": 26,
   "id": "0d6bed4b",
   "metadata": {},
   "outputs": [
    {
     "name": "stderr",
     "output_type": "stream",
     "text": [
      "sentencepiece_trainer.cc(177) LOG(INFO) Running command: --input=./sp_tokenizer/naver_review.txt --model_prefix=bpe_8000_spm --vocab_size=8000 --model_type=bpe\n",
      "sentencepiece_trainer.cc(77) LOG(INFO) Starts training with : \n",
      "trainer_spec {\n",
      "  input: ./sp_tokenizer/naver_review.txt\n",
      "  input_format: \n",
      "  model_prefix: bpe_8000_spm\n",
      "  model_type: BPE\n",
      "  vocab_size: 8000\n",
      "  self_test_sample_size: 0\n",
      "  character_coverage: 0.9995\n",
      "  input_sentence_size: 0\n",
      "  shuffle_input_sentence: 1\n",
      "  seed_sentencepiece_size: 1000000\n",
      "  shrinking_factor: 0.75\n",
      "  max_sentence_length: 4192\n",
      "  num_threads: 16\n",
      "  num_sub_iterations: 2\n",
      "  max_sentencepiece_length: 16\n",
      "  split_by_unicode_script: 1\n",
      "  split_by_number: 1\n",
      "  split_by_whitespace: 1\n",
      "  split_digits: 0\n",
      "  treat_whitespace_as_suffix: 0\n",
      "  allow_whitespace_only_pieces: 0\n",
      "  required_chars: \n",
      "  byte_fallback: 0\n",
      "  vocabulary_output_piece_score: 1\n",
      "  train_extremely_large_corpus: 0\n",
      "  hard_vocab_limit: 1\n",
      "  use_all_vocab: 0\n",
      "  unk_id: 0\n",
      "  bos_id: 1\n",
      "  eos_id: 2\n",
      "  pad_id: -1\n",
      "  unk_piece: <unk>\n",
      "  bos_piece: <s>\n",
      "  eos_piece: </s>\n",
      "  pad_piece: <pad>\n",
      "  unk_surface:  ⁇ \n",
      "}\n",
      "normalizer_spec {\n",
      "  name: nmt_nfkc\n",
      "  add_dummy_prefix: 1\n",
      "  remove_extra_whitespaces: 1\n",
      "  escape_whitespaces: 1\n",
      "  normalization_rule_tsv: \n",
      "}\n",
      "denormalizer_spec {}\n",
      "trainer_interface.cc(329) LOG(INFO) SentenceIterator is not specified. Using MultiFileSentenceIterator.\n",
      "trainer_interface.cc(178) LOG(INFO) Loading corpus: ./sp_tokenizer/naver_review.txt\n",
      "trainer_interface.cc(385) LOG(INFO) Loaded all 191807 sentences\n",
      "trainer_interface.cc(400) LOG(INFO) Adding meta_piece: <unk>\n",
      "trainer_interface.cc(400) LOG(INFO) Adding meta_piece: <s>\n",
      "trainer_interface.cc(400) LOG(INFO) Adding meta_piece: </s>\n",
      "trainer_interface.cc(405) LOG(INFO) Normalizing sentences...\n",
      "trainer_interface.cc(466) LOG(INFO) all chars count=6684854\n",
      "trainer_interface.cc(477) LOG(INFO) Done: 99.9501% characters are covered.\n",
      "trainer_interface.cc(487) LOG(INFO) Alphabet size=1611\n",
      "trainer_interface.cc(488) LOG(INFO) Final character coverage=0.999501\n",
      "trainer_interface.cc(520) LOG(INFO) Done! preprocessed 191807 sentences.\n",
      "trainer_interface.cc(526) LOG(INFO) Tokenizing input sentences with whitespace: 191807\n",
      "trainer_interface.cc(537) LOG(INFO) Done! 386575\n",
      "bpe_model_trainer.cc(167) LOG(INFO) Updating active symbols. max_freq=78530 min_freq=91\n",
      "bpe_model_trainer.cc(258) LOG(INFO) Added: freq=14418 size=20 all=132780 active=13181 piece=▁사\n",
      "bpe_model_trainer.cc(258) LOG(INFO) Added: freq=11206 size=40 all=138010 active=18411 piece=▁가\n",
      "bpe_model_trainer.cc(258) LOG(INFO) Added: freq=7724 size=60 all=142416 active=22817 piece=▁않\n",
      "bpe_model_trainer.cc(258) LOG(INFO) Added: freq=6596 size=80 all=147651 active=28052 piece=▁자\n",
      "bpe_model_trainer.cc(258) LOG(INFO) Added: freq=5435 size=100 all=152180 active=32581 piece=▁것\n",
      "bpe_model_trainer.cc(167) LOG(INFO) Updating active symbols. max_freq=5419 min_freq=76\n",
      "bpe_model_trainer.cc(258) LOG(INFO) Added: freq=4761 size=120 all=155471 active=10843 piece=▁조\n",
      "bpe_model_trainer.cc(258) LOG(INFO) Added: freq=4074 size=140 all=158998 active=14370 piece=리고\n",
      "bpe_model_trainer.cc(258) LOG(INFO) Added: freq=3668 size=160 all=161808 active=17180 piece=▁거\n",
      "bpe_model_trainer.cc(258) LOG(INFO) Added: freq=3333 size=180 all=164893 active=20265 piece=▁봤는데\n",
      "bpe_model_trainer.cc(258) LOG(INFO) Added: freq=3072 size=200 all=168046 active=23418 piece=다고\n",
      "bpe_model_trainer.cc(167) LOG(INFO) Updating active symbols. max_freq=3070 min_freq=67\n",
      "bpe_model_trainer.cc(258) LOG(INFO) Added: freq=2845 size=220 all=171382 active=11450 piece=같은\n",
      "bpe_model_trainer.cc(258) LOG(INFO) Added: freq=2582 size=240 all=174974 active=15042 piece=라는\n",
      "bpe_model_trainer.cc(258) LOG(INFO) Added: freq=2450 size=260 all=178876 active=18944 piece=▁위\n",
      "bpe_model_trainer.cc(258) LOG(INFO) Added: freq=2331 size=280 all=181309 active=21377 piece=▁했\n",
      "bpe_model_trainer.cc(258) LOG(INFO) Added: freq=2180 size=300 all=183879 active=23947 piece=▁여자\n",
      "bpe_model_trainer.cc(167) LOG(INFO) Updating active symbols. max_freq=2157 min_freq=60\n",
      "bpe_model_trainer.cc(258) LOG(INFO) Added: freq=2006 size=320 all=186162 active=11323 piece=▁ᅲᅲ\n",
      "bpe_model_trainer.cc(258) LOG(INFO) Added: freq=1877 size=340 all=188679 active=13840 piece=▁졸\n",
      "bpe_model_trainer.cc(258) LOG(INFO) Added: freq=1790 size=360 all=191696 active=16857 piece=▁볼만\n",
      "bpe_model_trainer.cc(258) LOG(INFO) Added: freq=1700 size=380 all=194956 active=20117 piece=▁반전\n",
      "bpe_model_trainer.cc(258) LOG(INFO) Added: freq=1631 size=400 all=197618 active=22779 piece=▁스릴\n",
      "bpe_model_trainer.cc(167) LOG(INFO) Updating active symbols. max_freq=1624 min_freq=55\n",
      "bpe_model_trainer.cc(258) LOG(INFO) Added: freq=1576 size=420 all=199793 active=12007 piece=▁아깝다\n",
      "bpe_model_trainer.cc(258) LOG(INFO) Added: freq=1496 size=440 all=202551 active=14765 piece=에는\n",
      "bpe_model_trainer.cc(258) LOG(INFO) Added: freq=1445 size=460 all=204711 active=16925 piece=▁머\n",
      "bpe_model_trainer.cc(258) LOG(INFO) Added: freq=1383 size=480 all=206281 active=18495 piece=다니\n",
      "bpe_model_trainer.cc(258) LOG(INFO) Added: freq=1314 size=500 all=209096 active=21310 piece=▁받\n",
      "bpe_model_trainer.cc(167) LOG(INFO) Updating active symbols. max_freq=1311 min_freq=51\n",
      "bpe_model_trainer.cc(258) LOG(INFO) Added: freq=1251 size=520 all=210850 active=12154 piece=▁캐릭터\n",
      "bpe_model_trainer.cc(258) LOG(INFO) Added: freq=1202 size=540 all=213480 active=14784 piece=▁독\n",
      "bpe_model_trainer.cc(258) LOG(INFO) Added: freq=1173 size=560 all=216557 active=17861 piece=▁대단\n",
      "bpe_model_trainer.cc(258) LOG(INFO) Added: freq=1139 size=580 all=219237 active=20541 piece=이가\n",
      "bpe_model_trainer.cc(258) LOG(INFO) Added: freq=1103 size=600 all=221821 active=23125 piece=수가\n",
      "bpe_model_trainer.cc(167) LOG(INFO) Updating active symbols. max_freq=1101 min_freq=47\n",
      "bpe_model_trainer.cc(258) LOG(INFO) Added: freq=1058 size=620 all=224264 active=13355 piece=점도\n",
      "bpe_model_trainer.cc(258) LOG(INFO) Added: freq=1033 size=640 all=226962 active=16053 piece=전에\n",
      "bpe_model_trainer.cc(258) LOG(INFO) Added: freq=1001 size=660 all=229514 active=18605 piece=▁요즘\n",
      "bpe_model_trainer.cc(258) LOG(INFO) Added: freq=973 size=680 all=232070 active=21161 piece=▁제대로\n",
      "bpe_model_trainer.cc(258) LOG(INFO) Added: freq=942 size=700 all=234024 active=23115 piece=이상\n",
      "bpe_model_trainer.cc(167) LOG(INFO) Updating active symbols. max_freq=942 min_freq=44\n",
      "bpe_model_trainer.cc(258) LOG(INFO) Added: freq=911 size=720 all=235732 active=13163 piece=▁스토리가\n",
      "bpe_model_trainer.cc(258) LOG(INFO) Added: freq=879 size=740 all=237503 active=14934 piece=진다\n",
      "bpe_model_trainer.cc(258) LOG(INFO) Added: freq=861 size=760 all=238564 active=15995 piece=마다\n",
      "bpe_model_trainer.cc(258) LOG(INFO) Added: freq=849 size=780 all=240910 active=18341 piece=하는데\n",
      "bpe_model_trainer.cc(258) LOG(INFO) Added: freq=824 size=800 all=242988 active=20419 piece=▁주는\n",
      "bpe_model_trainer.cc(167) LOG(INFO) Updating active symbols. max_freq=824 min_freq=41\n",
      "bpe_model_trainer.cc(258) LOG(INFO) Added: freq=806 size=820 all=244080 active=13203 piece=▁글\n",
      "bpe_model_trainer.cc(258) LOG(INFO) Added: freq=780 size=840 all=246069 active=15192 piece=▁용\n",
      "bpe_model_trainer.cc(258) LOG(INFO) Added: freq=767 size=860 all=247694 active=16817 piece=싶은\n",
      "bpe_model_trainer.cc(258) LOG(INFO) Added: freq=750 size=880 all=249782 active=18905 piece=것이\n",
      "bpe_model_trainer.cc(258) LOG(INFO) Added: freq=729 size=900 all=251511 active=20634 piece=▁다큐\n",
      "bpe_model_trainer.cc(167) LOG(INFO) Updating active symbols. max_freq=729 min_freq=39\n",
      "bpe_model_trainer.cc(258) LOG(INFO) Added: freq=717 size=920 all=252939 active=13933 piece=▁귀여\n",
      "bpe_model_trainer.cc(258) LOG(INFO) Added: freq=704 size=940 all=254307 active=15301 piece=▁문제\n",
      "bpe_model_trainer.cc(258) LOG(INFO) Added: freq=687 size=960 all=255470 active=16464 piece=▁러\n",
      "bpe_model_trainer.cc(258) LOG(INFO) Added: freq=673 size=980 all=256749 active=17743 piece=건가\n",
      "bpe_model_trainer.cc(258) LOG(INFO) Added: freq=661 size=1000 all=258376 active=19370 piece=구요\n",
      "bpe_model_trainer.cc(167) LOG(INFO) Updating active symbols. max_freq=660 min_freq=38\n",
      "bpe_model_trainer.cc(258) LOG(INFO) Added: freq=645 size=1020 all=260234 active=14587 piece=▁제발\n",
      "bpe_model_trainer.cc(258) LOG(INFO) Added: freq=629 size=1040 all=262085 active=16438 piece=▁엄마\n",
      "bpe_model_trainer.cc(258) LOG(INFO) Added: freq=617 size=1060 all=264306 active=18659 piece=▁어느\n",
      "bpe_model_trainer.cc(258) LOG(INFO) Added: freq=601 size=1080 all=265718 active=20071 piece=▁색\n",
      "bpe_model_trainer.cc(258) LOG(INFO) Added: freq=586 size=1100 all=267032 active=21385 piece=▁흘\n",
      "bpe_model_trainer.cc(167) LOG(INFO) Updating active symbols. max_freq=586 min_freq=36\n",
      "bpe_model_trainer.cc(258) LOG(INFO) Added: freq=573 size=1120 all=268583 active=14885 piece=▁비슷\n",
      "bpe_model_trainer.cc(258) LOG(INFO) Added: freq=561 size=1140 all=270246 active=16548 piece=▁돋\n",
      "bpe_model_trainer.cc(258) LOG(INFO) Added: freq=553 size=1160 all=271896 active=18198 piece=▁영상미\n",
      "bpe_model_trainer.cc(258) LOG(INFO) Added: freq=541 size=1180 all=273601 active=19903 piece=▁그나마\n",
      "bpe_model_trainer.cc(258) LOG(INFO) Added: freq=526 size=1200 all=275200 active=21502 piece=▁굉장\n",
      "bpe_model_trainer.cc(167) LOG(INFO) Updating active symbols. max_freq=526 min_freq=34\n",
      "bpe_model_trainer.cc(258) LOG(INFO) Added: freq=513 size=1220 all=277272 active=15815 piece=▁것을\n",
      "bpe_model_trainer.cc(258) LOG(INFO) Added: freq=506 size=1240 all=278756 active=17299 piece=▁상황\n",
      "bpe_model_trainer.cc(258) LOG(INFO) Added: freq=493 size=1260 all=280337 active=18880 piece=스럽다\n",
      "bpe_model_trainer.cc(258) LOG(INFO) Added: freq=484 size=1280 all=282087 active=20630 piece=▁이것\n",
      "bpe_model_trainer.cc(258) LOG(INFO) Added: freq=475 size=1300 all=283351 active=21894 piece=▁좋겠\n",
      "bpe_model_trainer.cc(167) LOG(INFO) Updating active symbols. max_freq=475 min_freq=33\n",
      "bpe_model_trainer.cc(258) LOG(INFO) Added: freq=468 size=1320 all=284941 active=15729 piece=▁성룡\n",
      "bpe_model_trainer.cc(258) LOG(INFO) Added: freq=460 size=1340 all=286845 active=17633 piece=다른\n",
      "bpe_model_trainer.cc(258) LOG(INFO) Added: freq=453 size=1360 all=288368 active=19156 piece=가고\n",
      "bpe_model_trainer.cc(258) LOG(INFO) Added: freq=447 size=1380 all=290413 active=21201 piece=▁그대로\n",
      "bpe_model_trainer.cc(258) LOG(INFO) Added: freq=441 size=1400 all=292040 active=22828 piece=▁좋은데\n",
      "bpe_model_trainer.cc(167) LOG(INFO) Updating active symbols. max_freq=440 min_freq=32\n",
      "bpe_model_trainer.cc(258) LOG(INFO) Added: freq=431 size=1420 all=293197 active=15727 piece=본다\n",
      "bpe_model_trainer.cc(258) LOG(INFO) Added: freq=426 size=1440 all=294471 active=17001 piece=▁보고싶\n",
      "bpe_model_trainer.cc(258) LOG(INFO) Added: freq=417 size=1460 all=296106 active=18636 piece=▁개그\n",
      "bpe_model_trainer.cc(258) LOG(INFO) Added: freq=408 size=1480 all=297354 active=19884 piece=▁까\n",
      "bpe_model_trainer.cc(258) LOG(INFO) Added: freq=399 size=1500 all=298591 active=21121 piece=와서\n",
      "bpe_model_trainer.cc(167) LOG(INFO) Updating active symbols. max_freq=399 min_freq=31\n",
      "bpe_model_trainer.cc(258) LOG(INFO) Added: freq=393 size=1520 all=299773 active=16005 piece=▁머리\n",
      "bpe_model_trainer.cc(258) LOG(INFO) Added: freq=388 size=1540 all=301265 active=17497 piece=▁흥행\n",
      "bpe_model_trainer.cc(258) LOG(INFO) Added: freq=383 size=1560 all=302124 active=18356 piece=▁나의\n",
      "bpe_model_trainer.cc(258) LOG(INFO) Added: freq=377 size=1580 all=303343 active=19575 piece=▁봤음\n",
      "bpe_model_trainer.cc(258) LOG(INFO) Added: freq=373 size=1600 all=304940 active=21172 piece=봐서\n",
      "bpe_model_trainer.cc(167) LOG(INFO) Updating active symbols. max_freq=373 min_freq=30\n",
      "bpe_model_trainer.cc(258) LOG(INFO) Added: freq=367 size=1620 all=306082 active=16251 piece=▁꿀잼\n",
      "bpe_model_trainer.cc(258) LOG(INFO) Added: freq=362 size=1640 all=307552 active=17721 piece=▁왔\n",
      "bpe_model_trainer.cc(258) LOG(INFO) Added: freq=356 size=1660 all=309157 active=19326 piece=▁검\n",
      "bpe_model_trainer.cc(258) LOG(INFO) Added: freq=351 size=1680 all=310726 active=20895 piece=내가\n",
      "bpe_model_trainer.cc(258) LOG(INFO) Added: freq=348 size=1700 all=312277 active=22446 piece=▁참고\n",
      "bpe_model_trainer.cc(167) LOG(INFO) Updating active symbols. max_freq=347 min_freq=29\n",
      "bpe_model_trainer.cc(258) LOG(INFO) Added: freq=344 size=1720 all=313493 active=16791 piece=▁사랑을\n",
      "bpe_model_trainer.cc(258) LOG(INFO) Added: freq=338 size=1740 all=314994 active=18292 piece=▁가는\n",
      "bpe_model_trainer.cc(258) LOG(INFO) Added: freq=334 size=1760 all=316237 active=19535 piece=▁흥미진진\n",
      "bpe_model_trainer.cc(258) LOG(INFO) Added: freq=330 size=1780 all=317474 active=20772 piece=▁뜬\n",
      "bpe_model_trainer.cc(258) LOG(INFO) Added: freq=326 size=1800 all=318956 active=22254 piece=하는거\n",
      "bpe_model_trainer.cc(167) LOG(INFO) Updating active symbols. max_freq=326 min_freq=28\n",
      "bpe_model_trainer.cc(258) LOG(INFO) Added: freq=321 size=1820 all=320480 active=17253 piece=없네\n",
      "bpe_model_trainer.cc(258) LOG(INFO) Added: freq=318 size=1840 all=322050 active=18823 piece=어로\n",
      "bpe_model_trainer.cc(258) LOG(INFO) Added: freq=313 size=1860 all=322918 active=19691 piece=▁친\n",
      "bpe_model_trainer.cc(258) LOG(INFO) Added: freq=309 size=1880 all=324079 active=20852 piece=▁되어\n",
      "bpe_model_trainer.cc(258) LOG(INFO) Added: freq=306 size=1900 all=325247 active=22020 piece=▁유명\n",
      "bpe_model_trainer.cc(167) LOG(INFO) Updating active symbols. max_freq=306 min_freq=27\n",
      "bpe_model_trainer.cc(258) LOG(INFO) Added: freq=303 size=1920 all=325912 active=16892 piece=▁완성도\n",
      "bpe_model_trainer.cc(258) LOG(INFO) Added: freq=299 size=1940 all=327147 active=18127 piece=▁나쁘\n",
      "bpe_model_trainer.cc(258) LOG(INFO) Added: freq=295 size=1960 all=328252 active=19232 piece=심이\n",
      "bpe_model_trainer.cc(258) LOG(INFO) Added: freq=290 size=1980 all=329940 active=20920 piece=▁서로\n",
      "bpe_model_trainer.cc(258) LOG(INFO) Added: freq=287 size=2000 all=330985 active=21964 piece=자들\n",
      "bpe_model_trainer.cc(167) LOG(INFO) Updating active symbols. max_freq=287 min_freq=26\n",
      "bpe_model_trainer.cc(258) LOG(INFO) Added: freq=285 size=2020 all=331715 active=17151 piece=▁장면은\n",
      "bpe_model_trainer.cc(258) LOG(INFO) Added: freq=281 size=2040 all=332914 active=18350 piece=▁아마\n",
      "bpe_model_trainer.cc(258) LOG(INFO) Added: freq=278 size=2060 all=334017 active=19453 piece=▁거지\n",
      "bpe_model_trainer.cc(258) LOG(INFO) Added: freq=275 size=2080 all=335064 active=20500 piece=▁ᄒᄒᄒ\n",
      "bpe_model_trainer.cc(258) LOG(INFO) Added: freq=271 size=2100 all=336576 active=22012 piece=▁어렵\n",
      "bpe_model_trainer.cc(167) LOG(INFO) Updating active symbols. max_freq=271 min_freq=25\n",
      "bpe_model_trainer.cc(258) LOG(INFO) Added: freq=268 size=2120 all=337651 active=17868 piece=▁진부한\n",
      "bpe_model_trainer.cc(258) LOG(INFO) Added: freq=264 size=2140 all=338810 active=19027 piece=가요\n",
      "bpe_model_trainer.cc(258) LOG(INFO) Added: freq=263 size=2160 all=340099 active=20316 piece=▁반전이\n",
      "bpe_model_trainer.cc(258) LOG(INFO) Added: freq=260 size=2180 all=341293 active=21510 piece=▁부분이\n",
      "bpe_model_trainer.cc(258) LOG(INFO) Added: freq=257 size=2200 all=342436 active=22653 piece=하는지\n",
      "bpe_model_trainer.cc(167) LOG(INFO) Updating active symbols. max_freq=257 min_freq=25\n",
      "bpe_model_trainer.cc(258) LOG(INFO) Added: freq=255 size=2220 all=343983 active=18529 piece=▁비추\n",
      "bpe_model_trainer.cc(258) LOG(INFO) Added: freq=253 size=2240 all=345250 active=19796 piece=▁이런게\n",
      "bpe_model_trainer.cc(258) LOG(INFO) Added: freq=251 size=2260 all=345969 active=20515 piece=▁나온다\n",
      "bpe_model_trainer.cc(258) LOG(INFO) Added: freq=248 size=2280 all=347046 active=21592 piece=▁드는\n",
      "bpe_model_trainer.cc(258) LOG(INFO) Added: freq=245 size=2300 all=348049 active=22595 piece=▁알아\n",
      "bpe_model_trainer.cc(167) LOG(INFO) Updating active symbols. max_freq=245 min_freq=24\n",
      "bpe_model_trainer.cc(258) LOG(INFO) Added: freq=242 size=2320 all=349512 active=18814 piece=▁사람을\n",
      "bpe_model_trainer.cc(258) LOG(INFO) Added: freq=239 size=2340 all=350533 active=19835 piece=이해\n",
      "bpe_model_trainer.cc(258) LOG(INFO) Added: freq=237 size=2360 all=351757 active=21059 piece=▁곳\n",
      "bpe_model_trainer.cc(258) LOG(INFO) Added: freq=236 size=2380 all=352606 active=21908 piece=▁영화지만\n",
      "bpe_model_trainer.cc(258) LOG(INFO) Added: freq=232 size=2400 all=353643 active=22945 piece=▁오락\n",
      "bpe_model_trainer.cc(167) LOG(INFO) Updating active symbols. max_freq=232 min_freq=23\n",
      "bpe_model_trainer.cc(258) LOG(INFO) Added: freq=230 size=2420 all=354697 active=18702 piece=▁세상에\n",
      "bpe_model_trainer.cc(258) LOG(INFO) Added: freq=228 size=2440 all=355423 active=19428 piece=▁떨어지는\n",
      "bpe_model_trainer.cc(258) LOG(INFO) Added: freq=225 size=2460 all=356437 active=20442 piece=▁적당\n",
      "bpe_model_trainer.cc(258) LOG(INFO) Added: freq=222 size=2480 all=357657 active=21662 piece=구려\n",
      "bpe_model_trainer.cc(258) LOG(INFO) Added: freq=221 size=2500 all=358707 active=22712 piece=무서\n",
      "bpe_model_trainer.cc(167) LOG(INFO) Updating active symbols. max_freq=221 min_freq=23\n",
      "bpe_model_trainer.cc(258) LOG(INFO) Added: freq=220 size=2520 all=359318 active=18455 piece=▁봤다가\n",
      "bpe_model_trainer.cc(258) LOG(INFO) Added: freq=218 size=2540 all=360359 active=19496 piece=▁안되고\n",
      "bpe_model_trainer.cc(258) LOG(INFO) Added: freq=216 size=2560 all=361257 active=20394 piece=보고싶\n",
      "bpe_model_trainer.cc(258) LOG(INFO) Added: freq=214 size=2580 all=362378 active=21515 piece=결말\n",
      "bpe_model_trainer.cc(258) LOG(INFO) Added: freq=213 size=2600 all=363509 active=22646 piece=럭저럭\n",
      "bpe_model_trainer.cc(167) LOG(INFO) Updating active symbols. max_freq=212 min_freq=22\n",
      "bpe_model_trainer.cc(258) LOG(INFO) Added: freq=211 size=2620 all=364515 active=19164 piece=▁포장\n",
      "bpe_model_trainer.cc(258) LOG(INFO) Added: freq=209 size=2640 all=365277 active=19926 piece=▁보고싶다\n",
      "bpe_model_trainer.cc(258) LOG(INFO) Added: freq=207 size=2660 all=366106 active=20755 piece=▁이건뭐\n",
      "bpe_model_trainer.cc(258) LOG(INFO) Added: freq=205 size=2680 all=367116 active=21765 piece=▁오그라\n",
      "bpe_model_trainer.cc(258) LOG(INFO) Added: freq=203 size=2700 all=368289 active=22938 piece=▁감동과\n",
      "bpe_model_trainer.cc(167) LOG(INFO) Updating active symbols. max_freq=203 min_freq=22\n",
      "bpe_model_trainer.cc(258) LOG(INFO) Added: freq=201 size=2720 all=369003 active=19122 piece=▁동생\n",
      "bpe_model_trainer.cc(258) LOG(INFO) Added: freq=200 size=2740 all=369728 active=19847 piece=연기가\n",
      "bpe_model_trainer.cc(258) LOG(INFO) Added: freq=199 size=2760 all=370685 active=20804 piece=▁아닌듯\n",
      "bpe_model_trainer.cc(258) LOG(INFO) Added: freq=197 size=2780 all=371622 active=21741 piece=표현\n",
      "bpe_model_trainer.cc(258) LOG(INFO) Added: freq=195 size=2800 all=372817 active=22936 piece=▁i\n",
      "bpe_model_trainer.cc(167) LOG(INFO) Updating active symbols. max_freq=195 min_freq=21\n",
      "bpe_model_trainer.cc(258) LOG(INFO) Added: freq=194 size=2820 all=373819 active=19633 piece=만화\n",
      "bpe_model_trainer.cc(258) LOG(INFO) Added: freq=193 size=2840 all=374691 active=20505 piece=▁음악도\n",
      "bpe_model_trainer.cc(258) LOG(INFO) Added: freq=191 size=2860 all=375781 active=21595 piece=작이\n",
      "bpe_model_trainer.cc(258) LOG(INFO) Added: freq=190 size=2880 all=376821 active=22635 piece=▁있지\n",
      "bpe_model_trainer.cc(258) LOG(INFO) Added: freq=188 size=2900 all=377813 active=23627 piece=이를\n",
      "bpe_model_trainer.cc(167) LOG(INFO) Updating active symbols. max_freq=188 min_freq=21\n",
      "bpe_model_trainer.cc(258) LOG(INFO) Added: freq=187 size=2920 all=378890 active=19868 piece=재미없다\n",
      "bpe_model_trainer.cc(258) LOG(INFO) Added: freq=185 size=2940 all=379979 active=20957 piece=▁동물\n",
      "bpe_model_trainer.cc(258) LOG(INFO) Added: freq=183 size=2960 all=380879 active=21857 piece=▁퇴\n",
      "bpe_model_trainer.cc(258) LOG(INFO) Added: freq=182 size=2980 all=381822 active=22800 piece=▁나가\n",
      "bpe_model_trainer.cc(258) LOG(INFO) Added: freq=181 size=3000 all=382863 active=23841 piece=▁그다지\n",
      "bpe_model_trainer.cc(167) LOG(INFO) Updating active symbols. max_freq=181 min_freq=20\n",
      "bpe_model_trainer.cc(258) LOG(INFO) Added: freq=180 size=3020 all=383449 active=19718 piece=▁현실적인\n",
      "bpe_model_trainer.cc(258) LOG(INFO) Added: freq=178 size=3040 all=384168 active=20437 piece=▁신경\n",
      "bpe_model_trainer.cc(258) LOG(INFO) Added: freq=177 size=3060 all=385134 active=21403 piece=▁죽여\n",
      "bpe_model_trainer.cc(258) LOG(INFO) Added: freq=176 size=3080 all=386021 active=22290 piece=▁산으로\n",
      "bpe_model_trainer.cc(258) LOG(INFO) Added: freq=174 size=3100 all=386893 active=23162 piece=었는지\n",
      "bpe_model_trainer.cc(167) LOG(INFO) Updating active symbols. max_freq=174 min_freq=20\n",
      "bpe_model_trainer.cc(258) LOG(INFO) Added: freq=172 size=3120 all=387535 active=19909 piece=▁시시\n",
      "bpe_model_trainer.cc(258) LOG(INFO) Added: freq=171 size=3140 all=388500 active=20874 piece=았고\n",
      "bpe_model_trainer.cc(258) LOG(INFO) Added: freq=170 size=3160 all=389637 active=22011 piece=▁이거보고\n",
      "bpe_model_trainer.cc(258) LOG(INFO) Added: freq=168 size=3180 all=390258 active=22632 piece=애들\n",
      "bpe_model_trainer.cc(258) LOG(INFO) Added: freq=167 size=3200 all=391526 active=23900 piece=▁내려\n",
      "bpe_model_trainer.cc(167) LOG(INFO) Updating active symbols. max_freq=167 min_freq=20\n",
      "bpe_model_trainer.cc(258) LOG(INFO) Added: freq=166 size=3220 all=392470 active=20476 piece=씬은\n",
      "bpe_model_trainer.cc(258) LOG(INFO) Added: freq=165 size=3240 all=393360 active=21366 piece=▁쫌\n",
      "bpe_model_trainer.cc(258) LOG(INFO) Added: freq=164 size=3260 all=394172 active=22178 piece=여운\n",
      "bpe_model_trainer.cc(258) LOG(INFO) Added: freq=163 size=3280 all=395212 active=23218 piece=▁떠오\n",
      "bpe_model_trainer.cc(258) LOG(INFO) Added: freq=162 size=3300 all=395855 active=23860 piece=▁남겨\n",
      "bpe_model_trainer.cc(167) LOG(INFO) Updating active symbols. max_freq=162 min_freq=19\n",
      "bpe_model_trainer.cc(258) LOG(INFO) Added: freq=161 size=3320 all=396678 active=20575 piece=▁단지\n",
      "bpe_model_trainer.cc(258) LOG(INFO) Added: freq=160 size=3340 all=397362 active=21259 piece=편도\n",
      "bpe_model_trainer.cc(258) LOG(INFO) Added: freq=159 size=3360 all=397909 active=21806 piece=아아\n",
      "bpe_model_trainer.cc(258) LOG(INFO) Added: freq=158 size=3380 all=398965 active=22862 piece=관이\n",
      "bpe_model_trainer.cc(258) LOG(INFO) Added: freq=156 size=3400 all=399532 active=23429 piece=bs\n",
      "bpe_model_trainer.cc(167) LOG(INFO) Updating active symbols. max_freq=156 min_freq=19\n",
      "bpe_model_trainer.cc(258) LOG(INFO) Added: freq=155 size=3420 all=400331 active=20756 piece=▁업\n",
      "bpe_model_trainer.cc(258) LOG(INFO) Added: freq=154 size=3440 all=401336 active=21761 piece=▁아역\n",
      "bpe_model_trainer.cc(258) LOG(INFO) Added: freq=153 size=3460 all=402003 active=22428 piece=시간에\n",
      "bpe_model_trainer.cc(258) LOG(INFO) Added: freq=152 size=3480 all=402729 active=23154 piece=했네요\n",
      "bpe_model_trainer.cc(258) LOG(INFO) Added: freq=151 size=3500 all=403565 active=23990 piece=▁인간이\n",
      "bpe_model_trainer.cc(167) LOG(INFO) Updating active symbols. max_freq=151 min_freq=19\n",
      "bpe_model_trainer.cc(258) LOG(INFO) Added: freq=150 size=3520 all=404204 active=20804 piece=▁흥미로운\n",
      "bpe_model_trainer.cc(258) LOG(INFO) Added: freq=149 size=3540 all=404919 active=21519 piece=▁들었다\n",
      "bpe_model_trainer.cc(258) LOG(INFO) Added: freq=148 size=3560 all=405816 active=22416 piece=끝까지\n",
      "bpe_model_trainer.cc(258) LOG(INFO) Added: freq=147 size=3580 all=406602 active=23202 piece=▁좋았지만\n",
      "bpe_model_trainer.cc(258) LOG(INFO) Added: freq=145 size=3600 all=407356 active=23956 piece=그리\n",
      "bpe_model_trainer.cc(167) LOG(INFO) Updating active symbols. max_freq=145 min_freq=18\n",
      "bpe_model_trainer.cc(258) LOG(INFO) Added: freq=144 size=3620 all=408055 active=20952 piece=▁옆\n",
      "bpe_model_trainer.cc(258) LOG(INFO) Added: freq=143 size=3640 all=408681 active=21578 piece=명을\n",
      "bpe_model_trainer.cc(258) LOG(INFO) Added: freq=143 size=3660 all=409436 active=22333 piece=▁좋아해서\n",
      "bpe_model_trainer.cc(258) LOG(INFO) Added: freq=141 size=3680 all=410347 active=23244 piece=▁픽\n",
      "bpe_model_trainer.cc(258) LOG(INFO) Added: freq=140 size=3700 all=411348 active=24245 piece=세상\n",
      "bpe_model_trainer.cc(167) LOG(INFO) Updating active symbols. max_freq=140 min_freq=18\n",
      "bpe_model_trainer.cc(258) LOG(INFO) Added: freq=139 size=3720 all=412303 active=21422 piece=▁엠\n",
      "bpe_model_trainer.cc(258) LOG(INFO) Added: freq=138 size=3740 all=413066 active=22185 piece=▁김민\n",
      "bpe_model_trainer.cc(258) LOG(INFO) Added: freq=137 size=3760 all=413554 active=22673 piece=버림\n",
      "bpe_model_trainer.cc(258) LOG(INFO) Added: freq=137 size=3780 all=414397 active=23516 piece=▁지루했다\n",
      "bpe_model_trainer.cc(258) LOG(INFO) Added: freq=136 size=3800 all=415072 active=24191 piece=▁응원\n",
      "bpe_model_trainer.cc(167) LOG(INFO) Updating active symbols. max_freq=136 min_freq=18\n",
      "bpe_model_trainer.cc(258) LOG(INFO) Added: freq=135 size=3820 all=415852 active=21507 piece=▁간다\n",
      "bpe_model_trainer.cc(258) LOG(INFO) Added: freq=134 size=3840 all=416330 active=21985 piece=생활\n",
      "bpe_model_trainer.cc(258) LOG(INFO) Added: freq=134 size=3860 all=417148 active=22803 piece=▁앞으로도\n",
      "bpe_model_trainer.cc(258) LOG(INFO) Added: freq=133 size=3880 all=417977 active=23632 piece=▁현실성\n",
      "bpe_model_trainer.cc(258) LOG(INFO) Added: freq=132 size=3900 all=418598 active=24253 piece=▁위해서\n",
      "bpe_model_trainer.cc(167) LOG(INFO) Updating active symbols. max_freq=132 min_freq=17\n",
      "bpe_model_trainer.cc(258) LOG(INFO) Added: freq=131 size=3920 all=419254 active=21575 piece=씬이\n",
      "bpe_model_trainer.cc(258) LOG(INFO) Added: freq=130 size=3940 all=419865 active=22186 piece=▁h\n",
      "bpe_model_trainer.cc(258) LOG(INFO) Added: freq=130 size=3960 all=420828 active=23149 piece=▁DVD\n",
      "bpe_model_trainer.cc(258) LOG(INFO) Added: freq=129 size=3980 all=421850 active=24171 piece=▁보려고\n",
      "bpe_model_trainer.cc(258) LOG(INFO) Added: freq=128 size=4000 all=422499 active=24820 piece=▁배우를\n",
      "bpe_model_trainer.cc(167) LOG(INFO) Updating active symbols. max_freq=128 min_freq=17\n",
      "bpe_model_trainer.cc(258) LOG(INFO) Added: freq=127 size=4020 all=423150 active=21772 piece=▁충실\n",
      "bpe_model_trainer.cc(258) LOG(INFO) Added: freq=126 size=4040 all=424207 active=22829 piece=▁않네요\n",
      "bpe_model_trainer.cc(258) LOG(INFO) Added: freq=125 size=4060 all=424662 active=23284 piece=▁영화보면서\n",
      "bpe_model_trainer.cc(258) LOG(INFO) Added: freq=124 size=4080 all=425309 active=23931 piece=▁기다려\n",
      "bpe_model_trainer.cc(258) LOG(INFO) Added: freq=123 size=4100 all=425943 active=24565 piece=▁잔혹\n",
      "bpe_model_trainer.cc(167) LOG(INFO) Updating active symbols. max_freq=123 min_freq=17\n",
      "bpe_model_trainer.cc(258) LOG(INFO) Added: freq=122 size=4120 all=426271 active=21592 piece=▁N\n",
      "bpe_model_trainer.cc(258) LOG(INFO) Added: freq=122 size=4140 all=426807 active=22128 piece=해주세요\n",
      "bpe_model_trainer.cc(258) LOG(INFO) Added: freq=121 size=4160 all=427702 active=23023 piece=▁찍어\n",
      "bpe_model_trainer.cc(258) LOG(INFO) Added: freq=120 size=4180 all=428559 active=23880 piece=▁봐줄\n",
      "bpe_model_trainer.cc(258) LOG(INFO) Added: freq=120 size=4200 all=429054 active=24375 piece=보는내내\n",
      "bpe_model_trainer.cc(167) LOG(INFO) Updating active symbols. max_freq=120 min_freq=17\n",
      "bpe_model_trainer.cc(258) LOG(INFO) Added: freq=119 size=4220 all=430077 active=22359 piece=제로\n",
      "bpe_model_trainer.cc(258) LOG(INFO) Added: freq=119 size=4240 all=430541 active=22823 piece=▁만들다니\n",
      "bpe_model_trainer.cc(258) LOG(INFO) Added: freq=118 size=4260 all=431158 active=23440 piece=번은\n",
      "bpe_model_trainer.cc(258) LOG(INFO) Added: freq=118 size=4280 all=431648 active=23930 piece=▁처음에\n",
      "bpe_model_trainer.cc(258) LOG(INFO) Added: freq=117 size=4300 all=432714 active=24996 piece=이영화\n",
      "bpe_model_trainer.cc(167) LOG(INFO) Updating active symbols. max_freq=117 min_freq=16\n",
      "bpe_model_trainer.cc(258) LOG(INFO) Added: freq=116 size=4320 all=433536 active=22323 piece=▁도망\n",
      "bpe_model_trainer.cc(258) LOG(INFO) Added: freq=116 size=4340 all=434174 active=22961 piece=▁어설프고\n",
      "bpe_model_trainer.cc(258) LOG(INFO) Added: freq=115 size=4360 all=434930 active=23717 piece=▁정작\n",
      "bpe_model_trainer.cc(258) LOG(INFO) Added: freq=114 size=4380 all=435571 active=24358 piece=후회\n",
      "bpe_model_trainer.cc(258) LOG(INFO) Added: freq=114 size=4400 all=436328 active=25115 piece=▁데리고\n",
      "bpe_model_trainer.cc(167) LOG(INFO) Updating active symbols. max_freq=114 min_freq=16\n",
      "bpe_model_trainer.cc(258) LOG(INFO) Added: freq=113 size=4420 all=436868 active=22352 piece=▁로버트\n",
      "bpe_model_trainer.cc(258) LOG(INFO) Added: freq=112 size=4440 all=437656 active=23140 piece=혼자\n",
      "bpe_model_trainer.cc(258) LOG(INFO) Added: freq=111 size=4460 all=438090 active=23574 piece=21\n",
      "bpe_model_trainer.cc(258) LOG(INFO) Added: freq=111 size=4480 all=438836 active=24320 piece=▁조카\n",
      "bpe_model_trainer.cc(258) LOG(INFO) Added: freq=110 size=4500 all=439318 active=24802 piece=드를\n",
      "bpe_model_trainer.cc(167) LOG(INFO) Updating active symbols. max_freq=110 min_freq=16\n",
      "bpe_model_trainer.cc(258) LOG(INFO) Added: freq=110 size=4520 all=439932 active=22526 piece=엇는데\n",
      "bpe_model_trainer.cc(258) LOG(INFO) Added: freq=110 size=4540 all=440339 active=22933 piece=▁최고였다\n",
      "bpe_model_trainer.cc(258) LOG(INFO) Added: freq=109 size=4560 all=441366 active=23960 piece=▁독일\n",
      "bpe_model_trainer.cc(258) LOG(INFO) Added: freq=109 size=4580 all=441874 active=24468 piece=거같아요\n",
      "bpe_model_trainer.cc(258) LOG(INFO) Added: freq=108 size=4600 all=442806 active=25400 piece=▁빵빵\n",
      "bpe_model_trainer.cc(167) LOG(INFO) Updating active symbols. max_freq=108 min_freq=16\n",
      "bpe_model_trainer.cc(258) LOG(INFO) Added: freq=108 size=4620 all=443214 active=22534 piece=▁하길래\n",
      "bpe_model_trainer.cc(258) LOG(INFO) Added: freq=107 size=4640 all=444017 active=23337 piece=▁감안\n",
      "bpe_model_trainer.cc(258) LOG(INFO) Added: freq=107 size=4660 all=444435 active=23755 piece=▁머리가\n",
      "bpe_model_trainer.cc(258) LOG(INFO) Added: freq=106 size=4680 all=445119 active=24439 piece=▁이야\n",
      "bpe_model_trainer.cc(258) LOG(INFO) Added: freq=106 size=4700 all=445883 active=25203 piece=▁이상하고\n",
      "bpe_model_trainer.cc(167) LOG(INFO) Updating active symbols. max_freq=106 min_freq=15\n",
      "bpe_model_trainer.cc(258) LOG(INFO) Added: freq=105 size=4720 all=446610 active=23006 piece=▁뭐니\n",
      "bpe_model_trainer.cc(258) LOG(INFO) Added: freq=105 size=4740 all=447367 active=23763 piece=▁궁금하다\n",
      "bpe_model_trainer.cc(258) LOG(INFO) Added: freq=104 size=4760 all=447903 active=24299 piece=최악의\n",
      "bpe_model_trainer.cc(258) LOG(INFO) Added: freq=104 size=4780 all=448216 active=24612 piece=▁해리포터\n",
      "bpe_model_trainer.cc(258) LOG(INFO) Added: freq=103 size=4800 all=448929 active=25325 piece=어야지\n",
      "bpe_model_trainer.cc(167) LOG(INFO) Updating active symbols. max_freq=103 min_freq=15\n",
      "bpe_model_trainer.cc(258) LOG(INFO) Added: freq=102 size=4820 all=449678 active=23132 piece=위에\n",
      "bpe_model_trainer.cc(258) LOG(INFO) Added: freq=102 size=4840 all=450304 active=23758 piece=▁공포물\n",
      "bpe_model_trainer.cc(258) LOG(INFO) Added: freq=101 size=4860 all=450560 active=24014 piece=만도\n",
      "bpe_model_trainer.cc(258) LOG(INFO) Added: freq=101 size=4880 all=451421 active=24875 piece=하더라\n",
      "bpe_model_trainer.cc(258) LOG(INFO) Added: freq=100 size=4900 all=451664 active=25118 piece=▁염\n",
      "bpe_model_trainer.cc(167) LOG(INFO) Updating active symbols. max_freq=100 min_freq=15\n",
      "bpe_model_trainer.cc(258) LOG(INFO) Added: freq=100 size=4920 all=452478 active=23367 piece=▁첨엔\n",
      "bpe_model_trainer.cc(258) LOG(INFO) Added: freq=100 size=4940 all=452882 active=23771 piece=▁봐도봐도\n",
      "bpe_model_trainer.cc(258) LOG(INFO) Added: freq=99 size=4960 all=453483 active=24372 piece=▁망한\n",
      "bpe_model_trainer.cc(258) LOG(INFO) Added: freq=99 size=4980 all=453912 active=24801 piece=▁리얼리티\n",
      "bpe_model_trainer.cc(258) LOG(INFO) Added: freq=98 size=5000 all=454424 active=25313 piece=▁아우\n",
      "bpe_model_trainer.cc(167) LOG(INFO) Updating active symbols. max_freq=98 min_freq=15\n",
      "bpe_model_trainer.cc(258) LOG(INFO) Added: freq=98 size=5020 all=454986 active=23259 piece=▁제니퍼\n",
      "bpe_model_trainer.cc(258) LOG(INFO) Added: freq=97 size=5040 all=455652 active=23925 piece=▁읽고\n",
      "bpe_model_trainer.cc(258) LOG(INFO) Added: freq=96 size=5060 all=456292 active=24565 piece=스케\n",
      "bpe_model_trainer.cc(258) LOG(INFO) Added: freq=96 size=5080 all=457161 active=25434 piece=▁괜찮다\n",
      "bpe_model_trainer.cc(258) LOG(INFO) Added: freq=95 size=5100 all=457454 active=25727 piece=▁숙\n",
      "bpe_model_trainer.cc(167) LOG(INFO) Updating active symbols. max_freq=95 min_freq=15\n",
      "bpe_model_trainer.cc(258) LOG(INFO) Added: freq=95 size=5120 all=458294 active=23690 piece=▁힘내\n",
      "bpe_model_trainer.cc(258) LOG(INFO) Added: freq=95 size=5140 all=458886 active=24282 piece=▁ᄏᄏᄏᄏᄏᄏᄏ\n",
      "bpe_model_trainer.cc(258) LOG(INFO) Added: freq=94 size=5160 all=459554 active=24950 piece=▁집어\n",
      "bpe_model_trainer.cc(258) LOG(INFO) Added: freq=94 size=5180 all=459995 active=25391 piece=▁주제가\n",
      "bpe_model_trainer.cc(258) LOG(INFO) Added: freq=93 size=5200 all=460564 active=25960 piece=복을\n",
      "bpe_model_trainer.cc(167) LOG(INFO) Updating active symbols. max_freq=93 min_freq=14\n",
      "bpe_model_trainer.cc(258) LOG(INFO) Added: freq=93 size=5220 all=461177 active=23626 piece=▁하시\n",
      "bpe_model_trainer.cc(258) LOG(INFO) Added: freq=92 size=5240 all=461788 active=24237 piece=불쌍\n",
      "bpe_model_trainer.cc(258) LOG(INFO) Added: freq=92 size=5260 all=462605 active=25054 piece=었다고\n",
      "bpe_model_trainer.cc(258) LOG(INFO) Added: freq=92 size=5280 all=463062 active=25511 piece=▁생각난다\n",
      "bpe_model_trainer.cc(258) LOG(INFO) Added: freq=91 size=5300 all=463873 active=26322 piece=▁대신\n",
      "bpe_model_trainer.cc(167) LOG(INFO) Updating active symbols. max_freq=91 min_freq=14\n",
      "bpe_model_trainer.cc(258) LOG(INFO) Added: freq=91 size=5320 all=464295 active=23597 piece=▁정도가\n",
      "bpe_model_trainer.cc(258) LOG(INFO) Added: freq=90 size=5340 all=464760 active=24062 piece=준호\n",
      "bpe_model_trainer.cc(258) LOG(INFO) Added: freq=90 size=5360 all=465178 active=24480 piece=▁내용에\n",
      "bpe_model_trainer.cc(258) LOG(INFO) Added: freq=89 size=5380 all=465555 active=24857 piece=이름\n",
      "bpe_model_trainer.cc(258) LOG(INFO) Added: freq=89 size=5400 all=466220 active=25522 piece=▁ᄃᄃᄃ\n",
      "bpe_model_trainer.cc(167) LOG(INFO) Updating active symbols. max_freq=89 min_freq=14\n",
      "bpe_model_trainer.cc(258) LOG(INFO) Added: freq=89 size=5420 all=466401 active=23488 piece=▁볼만했다\n",
      "bpe_model_trainer.cc(258) LOG(INFO) Added: freq=88 size=5440 all=467036 active=24123 piece=까요\n",
      "bpe_model_trainer.cc(258) LOG(INFO) Added: freq=88 size=5460 all=468031 active=25118 piece=▁몰라\n",
      "bpe_model_trainer.cc(258) LOG(INFO) Added: freq=88 size=5480 all=468714 active=25801 piece=▁감독과\n",
      "bpe_model_trainer.cc(258) LOG(INFO) Added: freq=87 size=5500 all=469088 active=26175 piece=선이\n",
      "bpe_model_trainer.cc(167) LOG(INFO) Updating active symbols. max_freq=87 min_freq=14\n",
      "bpe_model_trainer.cc(258) LOG(INFO) Added: freq=87 size=5520 all=469818 active=24134 piece=아직도\n",
      "bpe_model_trainer.cc(258) LOG(INFO) Added: freq=86 size=5540 all=470317 active=24633 piece=고생\n",
      "bpe_model_trainer.cc(258) LOG(INFO) Added: freq=86 size=5560 all=471225 active=25541 piece=▁강간\n",
      "bpe_model_trainer.cc(258) LOG(INFO) Added: freq=86 size=5580 all=471661 active=25977 piece=▁아깝네\n",
      "bpe_model_trainer.cc(258) LOG(INFO) Added: freq=85 size=5600 all=471884 active=26200 piece=▁붕\n",
      "bpe_model_trainer.cc(167) LOG(INFO) Updating active symbols. max_freq=85 min_freq=14\n",
      "bpe_model_trainer.cc(258) LOG(INFO) Added: freq=85 size=5620 all=472549 active=24248 piece=▁먹는\n",
      "bpe_model_trainer.cc(258) LOG(INFO) Added: freq=85 size=5640 all=473051 active=24750 piece=▁무섭고\n",
      "bpe_model_trainer.cc(258) LOG(INFO) Added: freq=84 size=5660 all=473290 active=24989 piece=▁쫄\n",
      "bpe_model_trainer.cc(258) LOG(INFO) Added: freq=84 size=5680 all=473961 active=25660 piece=▁최소\n",
      "bpe_model_trainer.cc(258) LOG(INFO) Added: freq=84 size=5700 all=474453 active=26152 piece=▁유쾌하게\n",
      "bpe_model_trainer.cc(167) LOG(INFO) Updating active symbols. max_freq=84 min_freq=14\n",
      "bpe_model_trainer.cc(258) LOG(INFO) Added: freq=83 size=5720 all=474864 active=24134 piece=보긴\n",
      "bpe_model_trainer.cc(258) LOG(INFO) Added: freq=83 size=5740 all=475546 active=24816 piece=▁짜릿\n",
      "bpe_model_trainer.cc(258) LOG(INFO) Added: freq=83 size=5760 all=475978 active=25248 piece=카프리오\n",
      "bpe_model_trainer.cc(258) LOG(INFO) Added: freq=82 size=5780 all=476773 active=26043 piece=정쩡\n",
      "bpe_model_trainer.cc(258) LOG(INFO) Added: freq=82 size=5800 all=477291 active=26561 piece=애들은\n",
      "bpe_model_trainer.cc(167) LOG(INFO) Updating active symbols. max_freq=82 min_freq=13\n",
      "bpe_model_trainer.cc(258) LOG(INFO) Added: freq=82 size=5820 all=477711 active=24234 piece=▁아무생각없이\n",
      "bpe_model_trainer.cc(258) LOG(INFO) Added: freq=81 size=5840 all=478491 active=25014 piece=▁개나\n",
      "bpe_model_trainer.cc(258) LOG(INFO) Added: freq=81 size=5860 all=478986 active=25509 piece=▁귀여움\n",
      "bpe_model_trainer.cc(258) LOG(INFO) Added: freq=81 size=5880 all=479143 active=25666 piece=▁이것보단\n",
      "bpe_model_trainer.cc(258) LOG(INFO) Added: freq=80 size=5900 all=479678 active=26201 piece=승전\n",
      "bpe_model_trainer.cc(167) LOG(INFO) Updating active symbols. max_freq=80 min_freq=13\n",
      "bpe_model_trainer.cc(258) LOG(INFO) Added: freq=80 size=5920 all=480235 active=24519 piece=▁삶과\n",
      "bpe_model_trainer.cc(258) LOG(INFO) Added: freq=80 size=5940 all=480702 active=24986 piece=▁당신이\n",
      "bpe_model_trainer.cc(258) LOG(INFO) Added: freq=80 size=5960 all=480858 active=25142 piece=▁홍콩영화\n",
      "bpe_model_trainer.cc(258) LOG(INFO) Added: freq=79 size=5980 all=481561 active=25845 piece=▁매미\n",
      "bpe_model_trainer.cc(258) LOG(INFO) Added: freq=79 size=6000 all=481906 active=26190 piece=하기엔\n",
      "bpe_model_trainer.cc(167) LOG(INFO) Updating active symbols. max_freq=79 min_freq=13\n",
      "bpe_model_trainer.cc(258) LOG(INFO) Added: freq=79 size=6020 all=482210 active=24344 piece=▁제작비가\n",
      "bpe_model_trainer.cc(258) LOG(INFO) Added: freq=78 size=6040 all=483049 active=25183 piece=영의\n",
      "bpe_model_trainer.cc(258) LOG(INFO) Added: freq=78 size=6060 all=483639 active=25773 piece=▁애틋\n",
      "bpe_model_trainer.cc(258) LOG(INFO) Added: freq=78 size=6080 all=484162 active=26296 piece=▁아프다\n",
      "bpe_model_trainer.cc(258) LOG(INFO) Added: freq=77 size=6100 all=484829 active=26963 piece=안타\n",
      "bpe_model_trainer.cc(167) LOG(INFO) Updating active symbols. max_freq=77 min_freq=13\n",
      "bpe_model_trainer.cc(258) LOG(INFO) Added: freq=77 size=6120 all=485400 active=24748 piece=▁왔다\n",
      "bpe_model_trainer.cc(258) LOG(INFO) Added: freq=77 size=6140 all=485739 active=25087 piece=▁조금만\n",
      "bpe_model_trainer.cc(258) LOG(INFO) Added: freq=76 size=6160 all=486228 active=25576 piece=바람\n",
      "bpe_model_trainer.cc(258) LOG(INFO) Added: freq=76 size=6180 all=486990 active=26338 piece=▁애잔\n",
      "bpe_model_trainer.cc(258) LOG(INFO) Added: freq=76 size=6200 all=487535 active=26883 piece=▁개봉한\n",
      "bpe_model_trainer.cc(167) LOG(INFO) Updating active symbols. max_freq=76 min_freq=13\n",
      "bpe_model_trainer.cc(258) LOG(INFO) Added: freq=76 size=6220 all=487814 active=24648 piece=▁최고네요\n",
      "bpe_model_trainer.cc(258) LOG(INFO) Added: freq=75 size=6240 all=488474 active=25308 piece=줬다\n",
      "bpe_model_trainer.cc(258) LOG(INFO) Added: freq=75 size=6260 all=489027 active=25861 piece=▁으리\n",
      "bpe_model_trainer.cc(258) LOG(INFO) Added: freq=75 size=6280 all=489383 active=26217 piece=▁손가락\n",
      "bpe_model_trainer.cc(258) LOG(INFO) Added: freq=74 size=6300 all=489779 active=26613 piece=놈이\n",
      "bpe_model_trainer.cc(167) LOG(INFO) Updating active symbols. max_freq=74 min_freq=13\n",
      "bpe_model_trainer.cc(258) LOG(INFO) Added: freq=74 size=6320 all=490469 active=25121 piece=▁부정\n",
      "bpe_model_trainer.cc(258) LOG(INFO) Added: freq=74 size=6340 all=490922 active=25574 piece=▁보는것\n",
      "bpe_model_trainer.cc(258) LOG(INFO) Added: freq=74 size=6360 all=491191 active=25843 piece=▁스타워즈\n",
      "bpe_model_trainer.cc(258) LOG(INFO) Added: freq=73 size=6380 all=491677 active=26329 piece=였지\n",
      "trainer_interface.cc(615) LOG(INFO) Saving model: bpe_8000_spm.model\n",
      "trainer_interface.cc(626) LOG(INFO) Saving vocabs: bpe_8000_spm.vocab\n"
     ]
    }
   ],
   "source": [
    "import sentencepiece as spm\n",
    "\n",
    "temp_file = './sp_tokenizer/naver_review.txt'\n",
    "vocab_size = 8000\n",
    "model_type = 'bpe'\n",
    "\n",
    "spm.SentencePieceTrainer.Train(\n",
    "    '--input={} --model_prefix=bpe_8000_spm --vocab_size={} --model_type={}'.format(temp_file, vocab_size, model_type)    \n",
    ")\n",
    "#위 Train에서  --model_type = unigram이 디폴트 적용되어 있습니다. --model_type = bpe로 옵션을 주어 변경할 수 있습니다.\n"
   ]
  },
  {
   "cell_type": "markdown",
   "id": "f155e2b4",
   "metadata": {},
   "source": [
    "#### 학습된 SentencePiece 모델 확인\n",
    "* model_type = unigram\n",
    "* vocab_size = 5000"
   ]
  },
  {
   "cell_type": "code",
   "execution_count": 27,
   "id": "ef0babae",
   "metadata": {},
   "outputs": [
    {
     "data": {
      "text/html": [
       "<div>\n",
       "<style scoped>\n",
       "    .dataframe tbody tr th:only-of-type {\n",
       "        vertical-align: middle;\n",
       "    }\n",
       "\n",
       "    .dataframe tbody tr th {\n",
       "        vertical-align: top;\n",
       "    }\n",
       "\n",
       "    .dataframe thead th {\n",
       "        text-align: right;\n",
       "    }\n",
       "</style>\n",
       "<table border=\"1\" class=\"dataframe\">\n",
       "  <thead>\n",
       "    <tr style=\"text-align: right;\">\n",
       "      <th></th>\n",
       "      <th>0</th>\n",
       "      <th>1</th>\n",
       "    </tr>\n",
       "  </thead>\n",
       "  <tbody>\n",
       "    <tr>\n",
       "      <th>0</th>\n",
       "      <td>&lt;unk&gt;</td>\n",
       "      <td>0.00000</td>\n",
       "    </tr>\n",
       "    <tr>\n",
       "      <th>1</th>\n",
       "      <td>&lt;s&gt;</td>\n",
       "      <td>0.00000</td>\n",
       "    </tr>\n",
       "    <tr>\n",
       "      <th>2</th>\n",
       "      <td>&lt;/s&gt;</td>\n",
       "      <td>0.00000</td>\n",
       "    </tr>\n",
       "    <tr>\n",
       "      <th>3</th>\n",
       "      <td>▁</td>\n",
       "      <td>-3.01807</td>\n",
       "    </tr>\n",
       "    <tr>\n",
       "      <th>4</th>\n",
       "      <td>이</td>\n",
       "      <td>-4.12561</td>\n",
       "    </tr>\n",
       "    <tr>\n",
       "      <th>5</th>\n",
       "      <td>가</td>\n",
       "      <td>-4.50859</td>\n",
       "    </tr>\n",
       "    <tr>\n",
       "      <th>6</th>\n",
       "      <td>의</td>\n",
       "      <td>-4.52975</td>\n",
       "    </tr>\n",
       "    <tr>\n",
       "      <th>7</th>\n",
       "      <td>▁영화</td>\n",
       "      <td>-4.53354</td>\n",
       "    </tr>\n",
       "    <tr>\n",
       "      <th>8</th>\n",
       "      <td>도</td>\n",
       "      <td>-4.61877</td>\n",
       "    </tr>\n",
       "    <tr>\n",
       "      <th>9</th>\n",
       "      <td>는</td>\n",
       "      <td>-4.63946</td>\n",
       "    </tr>\n",
       "  </tbody>\n",
       "</table>\n",
       "</div>"
      ],
      "text/plain": [
       "       0        1\n",
       "0  <unk>  0.00000\n",
       "1    <s>  0.00000\n",
       "2   </s>  0.00000\n",
       "3      ▁ -3.01807\n",
       "4      이 -4.12561\n",
       "5      가 -4.50859\n",
       "6      의 -4.52975\n",
       "7    ▁영화 -4.53354\n",
       "8      도 -4.61877\n",
       "9      는 -4.63946"
      ]
     },
     "execution_count": 27,
     "metadata": {},
     "output_type": "execute_result"
    },
    {
     "data": {
      "text/plain": [
       "5000"
      ]
     },
     "execution_count": 27,
     "metadata": {},
     "output_type": "execute_result"
    }
   ],
   "source": [
    "import pandas as pd\n",
    "vocab_list = pd.read_csv('unigram_5000_spm.vocab', sep='\\t', header=None, quoting=0)\n",
    "vocab_list[:10]\n",
    "len(vocab_list)"
   ]
  },
  {
   "cell_type": "code",
   "execution_count": 28,
   "id": "374db5ba",
   "metadata": {},
   "outputs": [
    {
     "data": {
      "text/plain": [
       "True"
      ]
     },
     "execution_count": 28,
     "metadata": {},
     "output_type": "execute_result"
    },
    {
     "name": "stdout",
     "output_type": "stream",
     "text": [
      "[1579, 5, 277, 12, 1502, 5, 97, 13]\n",
      "['▁아버지', '가', '방', '에', '들어', '가', '신', '다']\n",
      "아버지가방에들어가신다\n"
     ]
    }
   ],
   "source": [
    "import sentencepiece as spm\n",
    "uni_five_sp = spm.SentencePieceProcessor()\n",
    "uni_five_sp.Load('unigram_5000_spm.model')\n",
    "\n",
    "# SentencePiece를 활용한 sentence -> encoding\n",
    "tokensIDs = uni_five_sp.EncodeAsIds('아버지가방에들어가신다')\n",
    "print(tokensIDs)\n",
    "\n",
    "# SentencePiece를 활용한 sentence -> encoded pieces\n",
    "print(uni_five_sp.SampleEncodeAsPieces('아버지가방에들어가신다',1, 0.0))\n",
    "\n",
    "# SentencePiece를 활용한 encoding -> sentence 복원\n",
    "print(uni_five_sp.DecodeIds(tokensIDs))"
   ]
  },
  {
   "cell_type": "markdown",
   "id": "b522e31e",
   "metadata": {},
   "source": [
    "#### 학습된 SentencePiece 모델 확인\n",
    "* model_type = bpe\n",
    "* vocab_size = 5000"
   ]
  },
  {
   "cell_type": "code",
   "execution_count": 29,
   "id": "ee2b7c9d",
   "metadata": {},
   "outputs": [
    {
     "data": {
      "text/plain": [
       "True"
      ]
     },
     "execution_count": 29,
     "metadata": {},
     "output_type": "execute_result"
    },
    {
     "name": "stdout",
     "output_type": "stream",
     "text": [
      "[6, 3566, 833, 3645, 3401, 1338, 3397, 3493, 3391]\n",
      "['▁아', '버', '지가', '방', '에', '들어', '가', '신', '다']\n",
      "아버지가방에들어가신다\n"
     ]
    }
   ],
   "source": [
    "bpe_five_sp = spm.SentencePieceProcessor()\n",
    "bpe_five_sp.Load('bpe_5000_spm.model')\n",
    "\n",
    "# SentencePiece를 활용한 sentence -> encoding\n",
    "tokensIDs = bpe_five_sp.EncodeAsIds('아버지가방에들어가신다')\n",
    "print(tokensIDs)\n",
    "\n",
    "# SentencePiece를 활용한 sentence -> encoded pieces\n",
    "print(bpe_five_sp.SampleEncodeAsPieces('아버지가방에들어가신다',1, 0.0))\n",
    "\n",
    "# SentencePiece를 활용한 encoding -> sentence 복원\n",
    "print(bpe_five_sp.DecodeIds(tokensIDs))"
   ]
  },
  {
   "cell_type": "markdown",
   "id": "019cc209",
   "metadata": {},
   "source": [
    "#### 학습된 SentencePiece 모델 확인\n",
    "* model_type = unigram\n",
    "* vocab_size = 8000"
   ]
  },
  {
   "cell_type": "code",
   "execution_count": 30,
   "id": "986b3998",
   "metadata": {},
   "outputs": [
    {
     "data": {
      "text/plain": [
       "True"
      ]
     },
     "execution_count": 30,
     "metadata": {},
     "output_type": "execute_result"
    },
    {
     "name": "stdout",
     "output_type": "stream",
     "text": [
      "[1323, 6, 374, 11, 1294, 6, 123, 13]\n",
      "['▁아버지', '가', '방', '에', '들어', '가', '신', '다']\n",
      "아버지가방에들어가신다\n"
     ]
    }
   ],
   "source": [
    "uni_eight_sp = spm.SentencePieceProcessor()\n",
    "uni_eight_sp.Load('unigram_8000_spm.model')\n",
    "\n",
    "# SentencePiece를 활용한 sentence -> encoding\n",
    "tokensIDs = uni_eight_sp.EncodeAsIds('아버지가방에들어가신다')\n",
    "print(tokensIDs)\n",
    "\n",
    "# SentencePiece를 활용한 sentence -> encoded pieces\n",
    "print(uni_eight_sp.SampleEncodeAsPieces('아버지가방에들어가신다',1, 0.0))\n",
    "\n",
    "# SentencePiece를 활용한 encoding -> sentence 복원\n",
    "print(uni_eight_sp.DecodeIds(tokensIDs))"
   ]
  },
  {
   "cell_type": "markdown",
   "id": "27abf665",
   "metadata": {},
   "source": [
    "#### 학습된 SentencePiece 모델 확인\n",
    "* model_type = bpe\n",
    "* vocab_size = 8000"
   ]
  },
  {
   "cell_type": "code",
   "execution_count": 31,
   "id": "33572cb8",
   "metadata": {},
   "outputs": [
    {
     "data": {
      "text/plain": [
       "True"
      ]
     },
     "execution_count": 31,
     "metadata": {},
     "output_type": "execute_result"
    },
    {
     "name": "stdout",
     "output_type": "stream",
     "text": [
      "[4648, 833, 6645, 6401, 1338, 6397, 6493, 6391]\n",
      "['▁아버', '지가', '방', '에', '들어', '가', '신', '다']\n",
      "아버지가방에들어가신다\n"
     ]
    }
   ],
   "source": [
    "bpe_eight_sp = spm.SentencePieceProcessor()\n",
    "bpe_eight_sp.Load('bpe_8000_spm.model')\n",
    "\n",
    "# SentencePiece를 활용한 sentence -> encoding\n",
    "tokensIDs = bpe_eight_sp.EncodeAsIds('아버지가방에들어가신다')\n",
    "print(tokensIDs)\n",
    "\n",
    "# SentencePiece를 활용한 sentence -> encoded pieces\n",
    "print(bpe_eight_sp.SampleEncodeAsPieces('아버지가방에들어가신다',1, 0.0))\n",
    "\n",
    "# SentencePiece를 활용한 encoding -> sentence 복원\n",
    "print(bpe_eight_sp.DecodeIds(tokensIDs))"
   ]
  },
  {
   "cell_type": "markdown",
   "id": "3e2539a4",
   "metadata": {},
   "source": [
    "## 2. Tokenizer 함수 작성"
   ]
  },
  {
   "cell_type": "markdown",
   "id": "35a62aed",
   "metadata": {},
   "source": [
    "#### sp_tokenize() 함수 정의\n",
    "> 1. 매개변수로 토큰화된 문장의 list를 전달하는 대신 온전한 문장의 list를 전달\n",
    "> 2. 생성된 vocab 파일을 읽어와 { <word> : <idx> } 형태를 가지는 word_index 사전과 { <idx> : <word>} 형태를 가지는 index_word 사전을 생성하고 함께 반환. \n",
    "> 3. 리턴값인 tensor 는 앞의 함수와 동일하게 토큰화한 후 Encoding된 문장입니다. 바로 학습에 사용할 수 있게 Padding 작업  \n",
    "> 4. 최대 문장 길이 지정(max_len)\n",
    "     * 데이터셋 내 문장 길이 분포\n",
    "     * 적절한 최대 문장 길이 지정"
   ]
  },
  {
   "cell_type": "markdown",
   "id": "75e5617e",
   "metadata": {},
   "source": [
    "#### 학습된 모델로 sp_tokenize() 메소드 구현\n",
    "* model_type = unigram\n",
    "* vocab_size = 5000"
   ]
  },
  {
   "cell_type": "code",
   "execution_count": 33,
   "id": "afb16842",
   "metadata": {},
   "outputs": [
    {
     "name": "stdout",
     "output_type": "stream",
     "text": [
      "리뷰의 최대 길이 : 134\n",
      "리뷰의 평균 길이 : 17.565114933240185\n"
     ]
    },
    {
     "data": {
      "text/plain": [
       "(array([8.9110e+03, 2.5806e+04, 2.0682e+04, 2.8539e+04, 2.3713e+04,\n",
       "        1.3108e+04, 1.5954e+04, 1.1969e+04, 5.9220e+03, 6.4970e+03,\n",
       "        4.7110e+03, 2.3640e+03, 3.0310e+03, 2.5890e+03, 1.4240e+03,\n",
       "        2.0410e+03, 1.7490e+03, 1.0400e+03, 1.4600e+03, 1.3970e+03,\n",
       "        8.5100e+02, 1.2980e+03, 1.2280e+03, 7.9900e+02, 1.1450e+03,\n",
       "        9.5100e+02, 5.1100e+02, 6.6500e+02, 4.9100e+02, 2.3000e+02,\n",
       "        2.5600e+02, 1.9300e+02, 8.0000e+01, 5.6000e+01, 5.3000e+01,\n",
       "        2.1000e+01, 2.2000e+01, 1.9000e+01, 5.0000e+00, 1.0000e+01,\n",
       "        8.0000e+00, 1.0000e+00, 1.0000e+00, 2.0000e+00, 1.0000e+00,\n",
       "        1.0000e+00, 0.0000e+00, 1.0000e+00, 0.0000e+00, 1.0000e+00]),\n",
       " array([  1.  ,   3.66,   6.32,   8.98,  11.64,  14.3 ,  16.96,  19.62,\n",
       "         22.28,  24.94,  27.6 ,  30.26,  32.92,  35.58,  38.24,  40.9 ,\n",
       "         43.56,  46.22,  48.88,  51.54,  54.2 ,  56.86,  59.52,  62.18,\n",
       "         64.84,  67.5 ,  70.16,  72.82,  75.48,  78.14,  80.8 ,  83.46,\n",
       "         86.12,  88.78,  91.44,  94.1 ,  96.76,  99.42, 102.08, 104.74,\n",
       "        107.4 , 110.06, 112.72, 115.38, 118.04, 120.7 , 123.36, 126.02,\n",
       "        128.68, 131.34, 134.  ]),\n",
       " <BarContainer object of 50 artists>)"
      ]
     },
     "execution_count": 33,
     "metadata": {},
     "output_type": "execute_result"
    },
    {
     "data": {
      "text/plain": [
       "Text(0.5, 0, 'length of samples')"
      ]
     },
     "execution_count": 33,
     "metadata": {},
     "output_type": "execute_result"
    },
    {
     "data": {
      "text/plain": [
       "Text(0, 0.5, 'number of samples')"
      ]
     },
     "execution_count": 33,
     "metadata": {},
     "output_type": "execute_result"
    },
    {
     "data": {
      "image/png": "[encoded data removed]",
      "text/plain": [
       "<Figure size 432x288 with 1 Axes>"
      ]
     },
     "metadata": {
      "needs_background": "light"
     },
     "output_type": "display_data"
    }
   ],
   "source": [
    "X = []\n",
    "\n",
    "for sen in corpus:\n",
    "    X.append(uni_five_sp.EncodeAsIds(sen))\n",
    "    \n",
    "print('리뷰의 최대 길이 :',max(len(review) for review in X))\n",
    "print('리뷰의 평균 길이 :',sum(map(len, X))/len(X))\n",
    "\n",
    "plt.hist([len(review) for review in X], bins=50)\n",
    "plt.xlabel('length of samples')\n",
    "plt.ylabel('number of samples')\n",
    "plt.show()\n"
   ]
  },
  {
   "cell_type": "code",
   "execution_count": 36,
   "id": "a4be80c9",
   "metadata": {},
   "outputs": [],
   "source": [
    "def below_threshold_len(max_len, nested_list):\n",
    "  count = 0\n",
    "  for sentence in nested_list:\n",
    "    if(len(sentence) <= max_len):\n",
    "        count = count + 1\n",
    "  print('전체 샘플 중 길이가 %s 이하인 샘플의 비율: %s'%(max_len, (count / len(nested_list))*100))"
   ]
  },
  {
   "cell_type": "code",
   "execution_count": 37,
   "id": "99f393ad",
   "metadata": {},
   "outputs": [
    {
     "name": "stdout",
     "output_type": "stream",
     "text": [
      "전체 샘플 중 길이가 50 이하인 샘플의 비율: 94.38133123400084\n"
     ]
    }
   ],
   "source": [
    "max_len = 50\n",
    "below_threshold_len(max_len, X)"
   ]
  },
  {
   "cell_type": "code",
   "execution_count": 38,
   "id": "7b395fc6",
   "metadata": {},
   "outputs": [],
   "source": [
    "def sp_tokenize(s, corpus, vocab=\"./unigram_5000_spm.vocab\",):\n",
    "\n",
    "    tensor = []\n",
    "\n",
    "    for sen in corpus:\n",
    "        tensor.append(s.EncodeAsIds(sen))\n",
    "\n",
    "    with open(vocab, 'r') as f:    \n",
    "        vocab = f.readlines()\n",
    "\n",
    "    word_index = {}\n",
    "    index_word = {}\n",
    "\n",
    "    for idx, line in enumerate(vocab):\n",
    "        word = line.split(\"\\t\")[0]\n",
    "\n",
    "        word_index.update({word:idx})\n",
    "        index_word.update({idx:word})\n",
    "\n",
    "    tensor = tf.keras.preprocessing.sequence.pad_sequences(tensor, padding='pre',maxlen=max_len)\n",
    "\n",
    "    return tensor, word_index, index_word"
   ]
  },
  {
   "cell_type": "code",
   "execution_count": 39,
   "id": "546e1997",
   "metadata": {},
   "outputs": [
    {
     "name": "stdout",
     "output_type": "stream",
     "text": [
      "[[   0    0    0    0    0    0    0    0    0    0    0    0    0    0\n",
      "     0    0    0    0    0    0    0    0    0    0    0    0    0    0\n",
      "     0    0    0    0    0    0    0    0    0    0    0    0    0    0\n",
      "     0    0    0  710 2989   10 1102 1294]\n",
      " [   0    0    0    0    0    0    0    0    0    0    0    0    0    0\n",
      "     0    0    0    0    0    0    0    0    0    0    0    0    0    0\n",
      "     0    0    0    0    0    0    0    0    0    0    0    0    0 1742\n",
      "  2680  323  508    5    3   11 4945  393]]\n"
     ]
    }
   ],
   "source": [
    "#sp_tokenize(s, corpus) 사용예제\n",
    "\n",
    "my_corpus = ['나는 밥을 먹었습니다', '그러나 여전히 ㅠㅠ 배가 고픕니다']\n",
    "tensor, word_index, index_word = sp_tokenize(uni_five_sp, my_corpus)\n",
    "print(tensor)"
   ]
  },
  {
   "cell_type": "markdown",
   "id": "5356374d",
   "metadata": {},
   "source": [
    "#### 학습된 모델로 sp_tokenize() 메소드 구현\n",
    "* model_type = bpe\n",
    "* vocab_size = 5000"
   ]
  },
  {
   "cell_type": "code",
   "execution_count": 40,
   "id": "911e1e0e",
   "metadata": {},
   "outputs": [
    {
     "name": "stdout",
     "output_type": "stream",
     "text": [
      "리뷰의 최대 길이 : 123\n",
      "리뷰의 평균 길이 : 17.26946357536482\n"
     ]
    },
    {
     "data": {
      "text/plain": [
       "(array([8.7840e+03, 1.6281e+04, 3.1405e+04, 1.9874e+04, 2.5531e+04,\n",
       "        1.4143e+04, 1.7551e+04, 9.2530e+03, 7.4120e+03, 7.9220e+03,\n",
       "        3.8750e+03, 4.4880e+03, 2.3370e+03, 2.9460e+03, 1.7130e+03,\n",
       "        2.2710e+03, 1.2970e+03, 1.2200e+03, 1.6700e+03, 1.0210e+03,\n",
       "        1.4090e+03, 9.0500e+02, 1.3140e+03, 8.6500e+02, 8.9100e+02,\n",
       "        1.2220e+03, 7.4400e+02, 9.6700e+02, 5.7300e+02, 6.7400e+02,\n",
       "        2.8300e+02, 3.6300e+02, 1.6000e+02, 1.2500e+02, 1.1900e+02,\n",
       "        5.0000e+01, 4.9000e+01, 1.8000e+01, 2.2000e+01, 1.7000e+01,\n",
       "        1.8000e+01, 6.0000e+00, 5.0000e+00, 6.0000e+00, 2.0000e+00,\n",
       "        2.0000e+00, 2.0000e+00, 0.0000e+00, 0.0000e+00, 2.0000e+00]),\n",
       " array([  1.  ,   3.44,   5.88,   8.32,  10.76,  13.2 ,  15.64,  18.08,\n",
       "         20.52,  22.96,  25.4 ,  27.84,  30.28,  32.72,  35.16,  37.6 ,\n",
       "         40.04,  42.48,  44.92,  47.36,  49.8 ,  52.24,  54.68,  57.12,\n",
       "         59.56,  62.  ,  64.44,  66.88,  69.32,  71.76,  74.2 ,  76.64,\n",
       "         79.08,  81.52,  83.96,  86.4 ,  88.84,  91.28,  93.72,  96.16,\n",
       "         98.6 , 101.04, 103.48, 105.92, 108.36, 110.8 , 113.24, 115.68,\n",
       "        118.12, 120.56, 123.  ]),\n",
       " <BarContainer object of 50 artists>)"
      ]
     },
     "execution_count": 40,
     "metadata": {},
     "output_type": "execute_result"
    },
    {
     "data": {
      "text/plain": [
       "Text(0.5, 0, 'length of samples')"
      ]
     },
     "execution_count": 40,
     "metadata": {},
     "output_type": "execute_result"
    },
    {
     "data": {
      "text/plain": [
       "Text(0, 0.5, 'number of samples')"
      ]
     },
     "execution_count": 40,
     "metadata": {},
     "output_type": "execute_result"
    },
    {
     "data": {
      "image/png": "[encoded data removed]",
      "text/plain": [
       "<Figure size 432x288 with 1 Axes>"
      ]
     },
     "metadata": {
      "needs_background": "light"
     },
     "output_type": "display_data"
    }
   ],
   "source": [
    "X = []\n",
    "\n",
    "for sen in corpus:\n",
    "    X.append(bpe_five_sp.EncodeAsIds(sen))\n",
    "    \n",
    "print('리뷰의 최대 길이 :',max(len(review) for review in X))\n",
    "print('리뷰의 평균 길이 :',sum(map(len, X))/len(X))\n",
    "\n",
    "plt.hist([len(review) for review in X], bins=50)\n",
    "plt.xlabel('length of samples')\n",
    "plt.ylabel('number of samples')\n",
    "plt.show()\n"
   ]
  },
  {
   "cell_type": "code",
   "execution_count": 41,
   "id": "0e7eebb8",
   "metadata": {},
   "outputs": [
    {
     "name": "stdout",
     "output_type": "stream",
     "text": [
      "전체 샘플 중 길이가 50 이하인 샘플의 비율: 94.60447220382989\n"
     ]
    }
   ],
   "source": [
    "max_len = 50\n",
    "below_threshold_len(max_len, X)"
   ]
  },
  {
   "cell_type": "code",
   "execution_count": 42,
   "id": "c403d5bd",
   "metadata": {},
   "outputs": [
    {
     "name": "stdout",
     "output_type": "stream",
     "text": [
      "[[   0    0    0    0    0    0    0    0    0    0    0    0    0    0\n",
      "     0    0    0    0    0    0    0    0    0    0    0    0    0    0\n",
      "     0    0    0    0    0    0    0    0    0    0    0    0    0    0\n",
      "     0    0    0  703 2543 3414  552  813]\n",
      " [   0    0    0    0    0    0    0    0    0    0    0    0    0    0\n",
      "     0    0    0    0    0    0    0    0    0    0    0    0    0    0\n",
      "     0    0    0    0    0    0    0    0    0    0    0    0    0    0\n",
      "  1589 2371  322   76 3397  140 4717   12]]\n"
     ]
    }
   ],
   "source": [
    "#sp_tokenize(s, corpus) 사용예제\n",
    "\n",
    "my_corpus = ['나는 밥을 먹었습니다', '그러나 여전히 ㅠㅠ 배가 고픕니다']\n",
    "tensor, word_index, index_word = sp_tokenize(bpe_five_sp, my_corpus)\n",
    "print(tensor)"
   ]
  },
  {
   "cell_type": "markdown",
   "id": "c62cd1e9",
   "metadata": {},
   "source": [
    "#### 학습된 모델로 sp_tokenize() 메소드 구현\n",
    "* model_type = unigram\n",
    "* vocab_size = 8000"
   ]
  },
  {
   "cell_type": "code",
   "execution_count": 43,
   "id": "df10f9ad",
   "metadata": {},
   "outputs": [
    {
     "name": "stdout",
     "output_type": "stream",
     "text": [
      "리뷰의 최대 길이 : 117\n",
      "리뷰의 평균 길이 : 15.837425120042543\n"
     ]
    },
    {
     "data": {
      "text/plain": [
       "(array([1.1498e+04, 1.9610e+04, 2.2676e+04, 3.1588e+04, 1.7792e+04,\n",
       "        1.5011e+04, 1.8181e+04, 9.2420e+03, 7.2070e+03, 7.6110e+03,\n",
       "        3.7010e+03, 3.0360e+03, 3.5730e+03, 1.9660e+03, 1.7600e+03,\n",
       "        2.3290e+03, 1.3020e+03, 1.2220e+03, 1.7270e+03, 1.0410e+03,\n",
       "        1.0270e+03, 1.3980e+03, 9.3000e+02, 9.2700e+02, 8.8600e+02,\n",
       "        1.1570e+03, 6.9100e+02, 5.8000e+02, 7.0200e+02, 3.4000e+02,\n",
       "        2.5700e+02, 3.0500e+02, 1.3800e+02, 1.2600e+02, 1.0800e+02,\n",
       "        3.5000e+01, 3.6000e+01, 2.8000e+01, 1.1000e+01, 1.7000e+01,\n",
       "        1.3000e+01, 5.0000e+00, 5.0000e+00, 6.0000e+00, 1.0000e+00,\n",
       "        1.0000e+00, 0.0000e+00, 1.0000e+00, 1.0000e+00, 2.0000e+00]),\n",
       " array([  1.  ,   3.32,   5.64,   7.96,  10.28,  12.6 ,  14.92,  17.24,\n",
       "         19.56,  21.88,  24.2 ,  26.52,  28.84,  31.16,  33.48,  35.8 ,\n",
       "         38.12,  40.44,  42.76,  45.08,  47.4 ,  49.72,  52.04,  54.36,\n",
       "         56.68,  59.  ,  61.32,  63.64,  65.96,  68.28,  70.6 ,  72.92,\n",
       "         75.24,  77.56,  79.88,  82.2 ,  84.52,  86.84,  89.16,  91.48,\n",
       "         93.8 ,  96.12,  98.44, 100.76, 103.08, 105.4 , 107.72, 110.04,\n",
       "        112.36, 114.68, 117.  ]),\n",
       " <BarContainer object of 50 artists>)"
      ]
     },
     "execution_count": 43,
     "metadata": {},
     "output_type": "execute_result"
    },
    {
     "data": {
      "text/plain": [
       "Text(0.5, 0, 'length of samples')"
      ]
     },
     "execution_count": 43,
     "metadata": {},
     "output_type": "execute_result"
    },
    {
     "data": {
      "text/plain": [
       "Text(0, 0.5, 'number of samples')"
      ]
     },
     "execution_count": 43,
     "metadata": {},
     "output_type": "execute_result"
    },
    {
     "data": {
      "image/png": "[encoded data removed]",
      "text/plain": [
       "<Figure size 432x288 with 1 Axes>"
      ]
     },
     "metadata": {
      "needs_background": "light"
     },
     "output_type": "display_data"
    }
   ],
   "source": [
    "X = []\n",
    "\n",
    "for sen in corpus:\n",
    "    X.append(uni_eight_sp.EncodeAsIds(sen))\n",
    "    \n",
    "print('리뷰의 최대 길이 :',max(len(review) for review in X))\n",
    "print('리뷰의 평균 길이 :',sum(map(len, X))/len(X))\n",
    "\n",
    "plt.hist([len(review) for review in X], bins=50)\n",
    "plt.xlabel('length of samples')\n",
    "plt.ylabel('number of samples')\n",
    "plt.show()\n",
    "\n"
   ]
  },
  {
   "cell_type": "code",
   "execution_count": 44,
   "id": "3a8165c9",
   "metadata": {},
   "outputs": [
    {
     "name": "stdout",
     "output_type": "stream",
     "text": [
      "전체 샘플 중 길이가 50 이하인 샘플의 비율: 95.71913433816283\n"
     ]
    }
   ],
   "source": [
    "max_len = 50\n",
    "below_threshold_len(max_len, X)"
   ]
  },
  {
   "cell_type": "code",
   "execution_count": 45,
   "id": "5bcde44a",
   "metadata": {},
   "outputs": [
    {
     "name": "stdout",
     "output_type": "stream",
     "text": [
      "[[   0    0    0    0    0    0    0    0    0    0    0    0    0    0\n",
      "     0    0    0    0    0    0    0    0    0    0    0    0    0    0\n",
      "     0    0    0    0    0    0    0    0    0    0    0    0    0    0\n",
      "     0    0    0  541 2647   10 1148 2095]\n",
      " [   0    0    0    0    0    0    0    0    0    0    0    0    0    0\n",
      "     0    0    0    0    0    0    0    0    0    0    0    0    0    0\n",
      "     0    0    0    0    0    0    0    0    0    0    0    0    0 1475\n",
      "  2349  240  534    6    3   12 7945  892]]\n"
     ]
    }
   ],
   "source": [
    "#sp_tokenize(s, corpus) 사용예제\n",
    "\n",
    "my_corpus = ['나는 밥을 먹었습니다', '그러나 여전히 ㅠㅠ 배가 고픕니다']\n",
    "tensor, word_index, index_word = sp_tokenize(uni_eight_sp, my_corpus)\n",
    "print(tensor)"
   ]
  },
  {
   "cell_type": "markdown",
   "id": "394b93c3",
   "metadata": {},
   "source": [
    "#### 학습된 모델로 sp_tokenize() 메소드 구현\n",
    "* model_type = bpe\n",
    "* vocab_size = 8000"
   ]
  },
  {
   "cell_type": "code",
   "execution_count": 46,
   "id": "ac36d261",
   "metadata": {},
   "outputs": [
    {
     "name": "stdout",
     "output_type": "stream",
     "text": [
      "리뷰의 최대 길이 : 114\n",
      "리뷰의 평균 길이 : 15.625248296464676\n"
     ]
    },
    {
     "data": {
      "text/plain": [
       "(array([1.1255e+04, 1.9855e+04, 2.3350e+04, 3.1978e+04, 1.7887e+04,\n",
       "        1.5268e+04, 1.2755e+04, 1.4464e+04, 7.0740e+03, 5.2330e+03,\n",
       "        4.0590e+03, 4.4870e+03, 2.4670e+03, 2.0700e+03, 1.8360e+03,\n",
       "        2.3710e+03, 1.4480e+03, 1.2570e+03, 1.1860e+03, 1.6410e+03,\n",
       "        9.7500e+02, 1.0240e+03, 9.2600e+02, 1.4660e+03, 9.2800e+02,\n",
       "        8.0000e+02, 1.0790e+03, 5.9200e+02, 5.0800e+02, 4.0600e+02,\n",
       "        4.2300e+02, 2.1800e+02, 1.4400e+02, 9.5000e+01, 1.0900e+02,\n",
       "        5.1000e+01, 2.9000e+01, 1.9000e+01, 2.2000e+01, 1.2000e+01,\n",
       "        1.2000e+01, 6.0000e+00, 1.0000e+01, 4.0000e+00, 1.0000e+00,\n",
       "        1.0000e+00, 2.0000e+00, 1.0000e+00, 1.0000e+00, 2.0000e+00]),\n",
       " array([  1.  ,   3.26,   5.52,   7.78,  10.04,  12.3 ,  14.56,  16.82,\n",
       "         19.08,  21.34,  23.6 ,  25.86,  28.12,  30.38,  32.64,  34.9 ,\n",
       "         37.16,  39.42,  41.68,  43.94,  46.2 ,  48.46,  50.72,  52.98,\n",
       "         55.24,  57.5 ,  59.76,  62.02,  64.28,  66.54,  68.8 ,  71.06,\n",
       "         73.32,  75.58,  77.84,  80.1 ,  82.36,  84.62,  86.88,  89.14,\n",
       "         91.4 ,  93.66,  95.92,  98.18, 100.44, 102.7 , 104.96, 107.22,\n",
       "        109.48, 111.74, 114.  ]),\n",
       " <BarContainer object of 50 artists>)"
      ]
     },
     "execution_count": 46,
     "metadata": {},
     "output_type": "execute_result"
    },
    {
     "data": {
      "text/plain": [
       "Text(0.5, 0, 'length of samples')"
      ]
     },
     "execution_count": 46,
     "metadata": {},
     "output_type": "execute_result"
    },
    {
     "data": {
      "text/plain": [
       "Text(0, 0.5, 'number of samples')"
      ]
     },
     "execution_count": 46,
     "metadata": {},
     "output_type": "execute_result"
    },
    {
     "data": {
      "image/png": "[encoded data removed]",
      "text/plain": [
       "<Figure size 432x288 with 1 Axes>"
      ]
     },
     "metadata": {
      "needs_background": "light"
     },
     "output_type": "display_data"
    }
   ],
   "source": [
    "X = []\n",
    "\n",
    "for sen in corpus:\n",
    "    X.append(bpe_eight_sp.EncodeAsIds(sen))\n",
    "    \n",
    "print('리뷰의 최대 길이 :',max(len(review) for review in X))\n",
    "print('리뷰의 평균 길이 :',sum(map(len, X))/len(X))\n",
    "\n",
    "plt.hist([len(review) for review in X], bins=50)\n",
    "plt.xlabel('length of samples')\n",
    "plt.ylabel('number of samples')\n",
    "plt.show()\n"
   ]
  },
  {
   "cell_type": "code",
   "execution_count": 47,
   "id": "e2f3ae73",
   "metadata": {},
   "outputs": [
    {
     "name": "stdout",
     "output_type": "stream",
     "text": [
      "전체 샘플 중 길이가 50 이하인 샘플의 비율: 95.8984812858759\n"
     ]
    }
   ],
   "source": [
    "max_len = 50\n",
    "below_threshold_len(max_len, X)"
   ]
  },
  {
   "cell_type": "code",
   "execution_count": 48,
   "id": "0ce820df",
   "metadata": {},
   "outputs": [
    {
     "name": "stdout",
     "output_type": "stream",
     "text": [
      "[[   0    0    0    0    0    0    0    0    0    0    0    0    0    0\n",
      "     0    0    0    0    0    0    0    0    0    0    0    0    0    0\n",
      "     0    0    0    0    0    0    0    0    0    0    0    0    0    0\n",
      "     0    0    0  703 2543 6414  552  813]\n",
      " [   0    0    0    0    0    0    0    0    0    0    0    0    0    0\n",
      "     0    0    0    0    0    0    0    0    0    0    0    0    0    0\n",
      "     0    0    0    0    0    0    0    0    0    0    0    0    0    0\n",
      "  1589 2371  322   76 6397  140 7717   12]]\n"
     ]
    }
   ],
   "source": [
    "#sp_tokenize(s, corpus) 사용예제\n",
    "\n",
    "my_corpus = ['나는 밥을 먹었습니다', '그러나 여전히 ㅠㅠ 배가 고픕니다']\n",
    "tensor, word_index, index_word = sp_tokenize(bpe_eight_sp, my_corpus)\n",
    "print(tensor)"
   ]
  },
  {
   "cell_type": "markdown",
   "id": "08534bcc",
   "metadata": {},
   "source": [
    "## 3. SentencePiece 토크나이저를 적용하여 네이버 영화리뷰 감정 분석 모델을 재학습하기"
   ]
  },
  {
   "cell_type": "markdown",
   "id": "b6a1b876",
   "metadata": {},
   "source": [
    "### 1) 데이터 로드하기"
   ]
  },
  {
   "cell_type": "code",
   "execution_count": 49,
   "id": "30606bd2",
   "metadata": {},
   "outputs": [
    {
     "data": {
      "text/plain": [
       "('ratings_train.txt', <http.client.HTTPMessage at 0x7f60aa7970a0>)"
      ]
     },
     "execution_count": 49,
     "metadata": {},
     "output_type": "execute_result"
    },
    {
     "data": {
      "text/plain": [
       "('ratings_test.txt', <http.client.HTTPMessage at 0x7f60aa797490>)"
      ]
     },
     "execution_count": 49,
     "metadata": {},
     "output_type": "execute_result"
    }
   ],
   "source": [
    "urllib.request.urlretrieve(\"https://raw.githubusercontent.com/e9t/nsmc/master/ratings_train.txt\", filename=\"ratings_train.txt\")\n",
    "urllib.request.urlretrieve(\"https://raw.githubusercontent.com/e9t/nsmc/master/ratings_test.txt\", filename=\"ratings_test.txt\")"
   ]
  },
  {
   "cell_type": "code",
   "execution_count": 50,
   "id": "835b9e94",
   "metadata": {},
   "outputs": [],
   "source": [
    "train_data = pd.read_table('ratings_train.txt')\n",
    "test_data = pd.read_table('ratings_test.txt')"
   ]
  },
  {
   "cell_type": "code",
   "execution_count": 51,
   "id": "a8af4413",
   "metadata": {},
   "outputs": [
    {
     "data": {
      "text/plain": [
       "(150000, 3)"
      ]
     },
     "execution_count": 51,
     "metadata": {},
     "output_type": "execute_result"
    },
    {
     "data": {
      "text/plain": [
       "(50000, 3)"
      ]
     },
     "execution_count": 51,
     "metadata": {},
     "output_type": "execute_result"
    },
    {
     "data": {
      "text/html": [
       "<div>\n",
       "<style scoped>\n",
       "    .dataframe tbody tr th:only-of-type {\n",
       "        vertical-align: middle;\n",
       "    }\n",
       "\n",
       "    .dataframe tbody tr th {\n",
       "        vertical-align: top;\n",
       "    }\n",
       "\n",
       "    .dataframe thead th {\n",
       "        text-align: right;\n",
       "    }\n",
       "</style>\n",
       "<table border=\"1\" class=\"dataframe\">\n",
       "  <thead>\n",
       "    <tr style=\"text-align: right;\">\n",
       "      <th></th>\n",
       "      <th>id</th>\n",
       "      <th>document</th>\n",
       "      <th>label</th>\n",
       "    </tr>\n",
       "  </thead>\n",
       "  <tbody>\n",
       "    <tr>\n",
       "      <th>0</th>\n",
       "      <td>9976970</td>\n",
       "      <td>아 더빙.. 진짜 짜증나네요 목소리</td>\n",
       "      <td>0</td>\n",
       "    </tr>\n",
       "    <tr>\n",
       "      <th>1</th>\n",
       "      <td>3819312</td>\n",
       "      <td>흠...포스터보고 초딩영화줄....오버연기조차 가볍지 않구나</td>\n",
       "      <td>1</td>\n",
       "    </tr>\n",
       "    <tr>\n",
       "      <th>2</th>\n",
       "      <td>10265843</td>\n",
       "      <td>너무재밓었다그래서보는것을추천한다</td>\n",
       "      <td>0</td>\n",
       "    </tr>\n",
       "    <tr>\n",
       "      <th>3</th>\n",
       "      <td>9045019</td>\n",
       "      <td>교도소 이야기구먼 ..솔직히 재미는 없다..평점 조정</td>\n",
       "      <td>0</td>\n",
       "    </tr>\n",
       "    <tr>\n",
       "      <th>4</th>\n",
       "      <td>6483659</td>\n",
       "      <td>사이몬페그의 익살스런 연기가 돋보였던 영화!스파이더맨에서 늙어보이기만 했던 커스틴 ...</td>\n",
       "      <td>1</td>\n",
       "    </tr>\n",
       "  </tbody>\n",
       "</table>\n",
       "</div>"
      ],
      "text/plain": [
       "         id                                           document  label\n",
       "0   9976970                                아 더빙.. 진짜 짜증나네요 목소리      0\n",
       "1   3819312                  흠...포스터보고 초딩영화줄....오버연기조차 가볍지 않구나      1\n",
       "2  10265843                                  너무재밓었다그래서보는것을추천한다      0\n",
       "3   9045019                      교도소 이야기구먼 ..솔직히 재미는 없다..평점 조정      0\n",
       "4   6483659  사이몬페그의 익살스런 연기가 돋보였던 영화!스파이더맨에서 늙어보이기만 했던 커스틴 ...      1"
      ]
     },
     "execution_count": 51,
     "metadata": {},
     "output_type": "execute_result"
    },
    {
     "data": {
      "text/html": [
       "<div>\n",
       "<style scoped>\n",
       "    .dataframe tbody tr th:only-of-type {\n",
       "        vertical-align: middle;\n",
       "    }\n",
       "\n",
       "    .dataframe tbody tr th {\n",
       "        vertical-align: top;\n",
       "    }\n",
       "\n",
       "    .dataframe thead th {\n",
       "        text-align: right;\n",
       "    }\n",
       "</style>\n",
       "<table border=\"1\" class=\"dataframe\">\n",
       "  <thead>\n",
       "    <tr style=\"text-align: right;\">\n",
       "      <th></th>\n",
       "      <th>id</th>\n",
       "      <th>document</th>\n",
       "      <th>label</th>\n",
       "    </tr>\n",
       "  </thead>\n",
       "  <tbody>\n",
       "    <tr>\n",
       "      <th>0</th>\n",
       "      <td>6270596</td>\n",
       "      <td>굳 ㅋ</td>\n",
       "      <td>1</td>\n",
       "    </tr>\n",
       "    <tr>\n",
       "      <th>1</th>\n",
       "      <td>9274899</td>\n",
       "      <td>GDNTOPCLASSINTHECLUB</td>\n",
       "      <td>0</td>\n",
       "    </tr>\n",
       "    <tr>\n",
       "      <th>2</th>\n",
       "      <td>8544678</td>\n",
       "      <td>뭐야 이 평점들은.... 나쁘진 않지만 10점 짜리는 더더욱 아니잖아</td>\n",
       "      <td>0</td>\n",
       "    </tr>\n",
       "    <tr>\n",
       "      <th>3</th>\n",
       "      <td>6825595</td>\n",
       "      <td>지루하지는 않은데 완전 막장임... 돈주고 보기에는....</td>\n",
       "      <td>0</td>\n",
       "    </tr>\n",
       "    <tr>\n",
       "      <th>4</th>\n",
       "      <td>6723715</td>\n",
       "      <td>3D만 아니었어도 별 다섯 개 줬을텐데.. 왜 3D로 나와서 제 심기를 불편하게 하죠??</td>\n",
       "      <td>0</td>\n",
       "    </tr>\n",
       "  </tbody>\n",
       "</table>\n",
       "</div>"
      ],
      "text/plain": [
       "        id                                           document  label\n",
       "0  6270596                                                굳 ㅋ      1\n",
       "1  9274899                               GDNTOPCLASSINTHECLUB      0\n",
       "2  8544678             뭐야 이 평점들은.... 나쁘진 않지만 10점 짜리는 더더욱 아니잖아      0\n",
       "3  6825595                   지루하지는 않은데 완전 막장임... 돈주고 보기에는....      0\n",
       "4  6723715  3D만 아니었어도 별 다섯 개 줬을텐데.. 왜 3D로 나와서 제 심기를 불편하게 하죠??      0"
      ]
     },
     "execution_count": 51,
     "metadata": {},
     "output_type": "execute_result"
    }
   ],
   "source": [
    "train_data.shape\n",
    "test_data.shape\n",
    "train_data.head(5)\n",
    "test_data.head(5)"
   ]
  },
  {
   "cell_type": "markdown",
   "id": "9960e79f",
   "metadata": {},
   "source": [
    "### 2) 데이터 정제하기"
   ]
  },
  {
   "cell_type": "markdown",
   "id": "f3b38303",
   "metadata": {},
   "source": [
    "* id 열 제거\n",
    "* Null 제거\n",
    "* 중복 제거\n",
    "* 숫자, 영어, 한글과 공백을 제외하고 모두 제거"
   ]
  },
  {
   "cell_type": "code",
   "execution_count": 52,
   "id": "ad418464",
   "metadata": {},
   "outputs": [
    {
     "data": {
      "text/html": [
       "<div>\n",
       "<style scoped>\n",
       "    .dataframe tbody tr th:only-of-type {\n",
       "        vertical-align: middle;\n",
       "    }\n",
       "\n",
       "    .dataframe tbody tr th {\n",
       "        vertical-align: top;\n",
       "    }\n",
       "\n",
       "    .dataframe thead th {\n",
       "        text-align: right;\n",
       "    }\n",
       "</style>\n",
       "<table border=\"1\" class=\"dataframe\">\n",
       "  <thead>\n",
       "    <tr style=\"text-align: right;\">\n",
       "      <th></th>\n",
       "      <th>document</th>\n",
       "      <th>label</th>\n",
       "    </tr>\n",
       "  </thead>\n",
       "  <tbody>\n",
       "    <tr>\n",
       "      <th>0</th>\n",
       "      <td>아 더빙.. 진짜 짜증나네요 목소리</td>\n",
       "      <td>0</td>\n",
       "    </tr>\n",
       "    <tr>\n",
       "      <th>1</th>\n",
       "      <td>흠...포스터보고 초딩영화줄....오버연기조차 가볍지 않구나</td>\n",
       "      <td>1</td>\n",
       "    </tr>\n",
       "    <tr>\n",
       "      <th>2</th>\n",
       "      <td>너무재밓었다그래서보는것을추천한다</td>\n",
       "      <td>0</td>\n",
       "    </tr>\n",
       "    <tr>\n",
       "      <th>3</th>\n",
       "      <td>교도소 이야기구먼 ..솔직히 재미는 없다..평점 조정</td>\n",
       "      <td>0</td>\n",
       "    </tr>\n",
       "    <tr>\n",
       "      <th>4</th>\n",
       "      <td>사이몬페그의 익살스런 연기가 돋보였던 영화!스파이더맨에서 늙어보이기만 했던 커스틴 ...</td>\n",
       "      <td>1</td>\n",
       "    </tr>\n",
       "    <tr>\n",
       "      <th>...</th>\n",
       "      <td>...</td>\n",
       "      <td>...</td>\n",
       "    </tr>\n",
       "    <tr>\n",
       "      <th>149995</th>\n",
       "      <td>인간이 문제지.. 소는 뭔죄인가..</td>\n",
       "      <td>0</td>\n",
       "    </tr>\n",
       "    <tr>\n",
       "      <th>149996</th>\n",
       "      <td>평점이 너무 낮아서...</td>\n",
       "      <td>1</td>\n",
       "    </tr>\n",
       "    <tr>\n",
       "      <th>149997</th>\n",
       "      <td>이게 뭐요? 한국인은 거들먹거리고 필리핀 혼혈은 착하다?</td>\n",
       "      <td>0</td>\n",
       "    </tr>\n",
       "    <tr>\n",
       "      <th>149998</th>\n",
       "      <td>청춘 영화의 최고봉.방황과 우울했던 날들의 자화상</td>\n",
       "      <td>1</td>\n",
       "    </tr>\n",
       "    <tr>\n",
       "      <th>149999</th>\n",
       "      <td>한국 영화 최초로 수간하는 내용이 담긴 영화</td>\n",
       "      <td>0</td>\n",
       "    </tr>\n",
       "  </tbody>\n",
       "</table>\n",
       "<p>150000 rows × 2 columns</p>\n",
       "</div>"
      ],
      "text/plain": [
       "                                                 document  label\n",
       "0                                     아 더빙.. 진짜 짜증나네요 목소리      0\n",
       "1                       흠...포스터보고 초딩영화줄....오버연기조차 가볍지 않구나      1\n",
       "2                                       너무재밓었다그래서보는것을추천한다      0\n",
       "3                           교도소 이야기구먼 ..솔직히 재미는 없다..평점 조정      0\n",
       "4       사이몬페그의 익살스런 연기가 돋보였던 영화!스파이더맨에서 늙어보이기만 했던 커스틴 ...      1\n",
       "...                                                   ...    ...\n",
       "149995                                인간이 문제지.. 소는 뭔죄인가..      0\n",
       "149996                                      평점이 너무 낮아서...      1\n",
       "149997                    이게 뭐요? 한국인은 거들먹거리고 필리핀 혼혈은 착하다?      0\n",
       "149998                        청춘 영화의 최고봉.방황과 우울했던 날들의 자화상      1\n",
       "149999                           한국 영화 최초로 수간하는 내용이 담긴 영화      0\n",
       "\n",
       "[150000 rows x 2 columns]"
      ]
     },
     "execution_count": 52,
     "metadata": {},
     "output_type": "execute_result"
    },
    {
     "data": {
      "text/html": [
       "<div>\n",
       "<style scoped>\n",
       "    .dataframe tbody tr th:only-of-type {\n",
       "        vertical-align: middle;\n",
       "    }\n",
       "\n",
       "    .dataframe tbody tr th {\n",
       "        vertical-align: top;\n",
       "    }\n",
       "\n",
       "    .dataframe thead th {\n",
       "        text-align: right;\n",
       "    }\n",
       "</style>\n",
       "<table border=\"1\" class=\"dataframe\">\n",
       "  <thead>\n",
       "    <tr style=\"text-align: right;\">\n",
       "      <th></th>\n",
       "      <th>document</th>\n",
       "      <th>label</th>\n",
       "    </tr>\n",
       "  </thead>\n",
       "  <tbody>\n",
       "    <tr>\n",
       "      <th>0</th>\n",
       "      <td>굳 ㅋ</td>\n",
       "      <td>1</td>\n",
       "    </tr>\n",
       "    <tr>\n",
       "      <th>1</th>\n",
       "      <td>GDNTOPCLASSINTHECLUB</td>\n",
       "      <td>0</td>\n",
       "    </tr>\n",
       "    <tr>\n",
       "      <th>2</th>\n",
       "      <td>뭐야 이 평점들은.... 나쁘진 않지만 10점 짜리는 더더욱 아니잖아</td>\n",
       "      <td>0</td>\n",
       "    </tr>\n",
       "    <tr>\n",
       "      <th>3</th>\n",
       "      <td>지루하지는 않은데 완전 막장임... 돈주고 보기에는....</td>\n",
       "      <td>0</td>\n",
       "    </tr>\n",
       "    <tr>\n",
       "      <th>4</th>\n",
       "      <td>3D만 아니었어도 별 다섯 개 줬을텐데.. 왜 3D로 나와서 제 심기를 불편하게 하죠??</td>\n",
       "      <td>0</td>\n",
       "    </tr>\n",
       "    <tr>\n",
       "      <th>...</th>\n",
       "      <td>...</td>\n",
       "      <td>...</td>\n",
       "    </tr>\n",
       "    <tr>\n",
       "      <th>49995</th>\n",
       "      <td>오랜만에 평점 로긴했네ㅋㅋ 킹왕짱 쌈뽕한 영화를 만났습니다 강렬하게 육쾌함</td>\n",
       "      <td>1</td>\n",
       "    </tr>\n",
       "    <tr>\n",
       "      <th>49996</th>\n",
       "      <td>의지 박약들이나 하는거다 탈영은 일단 주인공 김대희 닮았고 이등병 찐따 OOOO</td>\n",
       "      <td>0</td>\n",
       "    </tr>\n",
       "    <tr>\n",
       "      <th>49997</th>\n",
       "      <td>그림도 좋고 완성도도 높았지만... 보는 내내 불안하게 만든다</td>\n",
       "      <td>0</td>\n",
       "    </tr>\n",
       "    <tr>\n",
       "      <th>49998</th>\n",
       "      <td>절대 봐서는 안 될 영화.. 재미도 없고 기분만 잡치고.. 한 세트장에서 다 해먹네</td>\n",
       "      <td>0</td>\n",
       "    </tr>\n",
       "    <tr>\n",
       "      <th>49999</th>\n",
       "      <td>마무리는 또 왜이래</td>\n",
       "      <td>0</td>\n",
       "    </tr>\n",
       "  </tbody>\n",
       "</table>\n",
       "<p>50000 rows × 2 columns</p>\n",
       "</div>"
      ],
      "text/plain": [
       "                                                document  label\n",
       "0                                                    굳 ㅋ      1\n",
       "1                                   GDNTOPCLASSINTHECLUB      0\n",
       "2                 뭐야 이 평점들은.... 나쁘진 않지만 10점 짜리는 더더욱 아니잖아      0\n",
       "3                       지루하지는 않은데 완전 막장임... 돈주고 보기에는....      0\n",
       "4      3D만 아니었어도 별 다섯 개 줬을텐데.. 왜 3D로 나와서 제 심기를 불편하게 하죠??      0\n",
       "...                                                  ...    ...\n",
       "49995          오랜만에 평점 로긴했네ㅋㅋ 킹왕짱 쌈뽕한 영화를 만났습니다 강렬하게 육쾌함      1\n",
       "49996       의지 박약들이나 하는거다 탈영은 일단 주인공 김대희 닮았고 이등병 찐따 OOOO      0\n",
       "49997                 그림도 좋고 완성도도 높았지만... 보는 내내 불안하게 만든다      0\n",
       "49998     절대 봐서는 안 될 영화.. 재미도 없고 기분만 잡치고.. 한 세트장에서 다 해먹네      0\n",
       "49999                                         마무리는 또 왜이래      0\n",
       "\n",
       "[50000 rows x 2 columns]"
      ]
     },
     "execution_count": 52,
     "metadata": {},
     "output_type": "execute_result"
    }
   ],
   "source": [
    "# id 열 제거\n",
    "train_data.drop('id',axis=1,inplace=True)\n",
    "test_data.drop('id',axis=1,inplace=True)\n",
    "train_data\n",
    "test_data"
   ]
  },
  {
   "cell_type": "code",
   "execution_count": 53,
   "id": "b9a2d36e",
   "metadata": {},
   "outputs": [
    {
     "data": {
      "text/plain": [
       "3817"
      ]
     },
     "execution_count": 53,
     "metadata": {},
     "output_type": "execute_result"
    },
    {
     "data": {
      "text/plain": [
       "146183"
      ]
     },
     "execution_count": 53,
     "metadata": {},
     "output_type": "execute_result"
    },
    {
     "data": {
      "text/plain": [
       "842"
      ]
     },
     "execution_count": 53,
     "metadata": {},
     "output_type": "execute_result"
    },
    {
     "data": {
      "text/plain": [
       "49158"
      ]
     },
     "execution_count": 53,
     "metadata": {},
     "output_type": "execute_result"
    }
   ],
   "source": [
    "#### document 열의 중복 제거 \n",
    "train_data.duplicated(['document']).sum()\n",
    "train_data.drop_duplicates(subset=['document'], inplace=True)\n",
    "len(train_data)\n",
    "\n",
    "test_data.duplicated(['document']).sum()\n",
    "test_data.drop_duplicates(subset=['document'], inplace=True)\n",
    "len(test_data)"
   ]
  },
  {
   "cell_type": "code",
   "execution_count": 54,
   "id": "3c4d5830",
   "metadata": {},
   "outputs": [
    {
     "data": {
      "text/plain": [
       "document    1\n",
       "label       0\n",
       "dtype: int64"
      ]
     },
     "execution_count": 54,
     "metadata": {},
     "output_type": "execute_result"
    },
    {
     "data": {
      "text/html": [
       "<div>\n",
       "<style scoped>\n",
       "    .dataframe tbody tr th:only-of-type {\n",
       "        vertical-align: middle;\n",
       "    }\n",
       "\n",
       "    .dataframe tbody tr th {\n",
       "        vertical-align: top;\n",
       "    }\n",
       "\n",
       "    .dataframe thead th {\n",
       "        text-align: right;\n",
       "    }\n",
       "</style>\n",
       "<table border=\"1\" class=\"dataframe\">\n",
       "  <thead>\n",
       "    <tr style=\"text-align: right;\">\n",
       "      <th></th>\n",
       "      <th>document</th>\n",
       "      <th>label</th>\n",
       "    </tr>\n",
       "  </thead>\n",
       "  <tbody>\n",
       "    <tr>\n",
       "      <th>25857</th>\n",
       "      <td>NaN</td>\n",
       "      <td>1</td>\n",
       "    </tr>\n",
       "  </tbody>\n",
       "</table>\n",
       "</div>"
      ],
      "text/plain": [
       "      document  label\n",
       "25857      NaN      1"
      ]
     },
     "execution_count": 54,
     "metadata": {},
     "output_type": "execute_result"
    },
    {
     "data": {
      "text/plain": [
       "document    1\n",
       "label       0\n",
       "dtype: int64"
      ]
     },
     "execution_count": 54,
     "metadata": {},
     "output_type": "execute_result"
    },
    {
     "data": {
      "text/html": [
       "<div>\n",
       "<style scoped>\n",
       "    .dataframe tbody tr th:only-of-type {\n",
       "        vertical-align: middle;\n",
       "    }\n",
       "\n",
       "    .dataframe tbody tr th {\n",
       "        vertical-align: top;\n",
       "    }\n",
       "\n",
       "    .dataframe thead th {\n",
       "        text-align: right;\n",
       "    }\n",
       "</style>\n",
       "<table border=\"1\" class=\"dataframe\">\n",
       "  <thead>\n",
       "    <tr style=\"text-align: right;\">\n",
       "      <th></th>\n",
       "      <th>document</th>\n",
       "      <th>label</th>\n",
       "    </tr>\n",
       "  </thead>\n",
       "  <tbody>\n",
       "    <tr>\n",
       "      <th>5746</th>\n",
       "      <td>NaN</td>\n",
       "      <td>1</td>\n",
       "    </tr>\n",
       "  </tbody>\n",
       "</table>\n",
       "</div>"
      ],
      "text/plain": [
       "     document  label\n",
       "5746      NaN      1"
      ]
     },
     "execution_count": 54,
     "metadata": {},
     "output_type": "execute_result"
    }
   ],
   "source": [
    "### null 제거\n",
    "train_data.isnull().sum()\n",
    "train_data[train_data['document'].isnull()]\n",
    "train_data.dropna(inplace=True)\n",
    "\n",
    "test_data.isnull().sum()\n",
    "test_data[test_data['document'].isnull()]\n",
    "test_data.dropna(inplace=True)"
   ]
  },
  {
   "cell_type": "code",
   "execution_count": 55,
   "id": "ebe59575",
   "metadata": {},
   "outputs": [
    {
     "name": "stdout",
     "output_type": "stream",
     "text": [
      "train data 개수 146182\n",
      "test data 개수 49157\n"
     ]
    }
   ],
   "source": [
    "print(\"train data 개수\",len(train_data))\n",
    "print(\"test data 개수\", len(test_data))"
   ]
  },
  {
   "cell_type": "code",
   "execution_count": 56,
   "id": "92a88a3b",
   "metadata": {},
   "outputs": [
    {
     "data": {
      "text/html": [
       "<div>\n",
       "<style scoped>\n",
       "    .dataframe tbody tr th:only-of-type {\n",
       "        vertical-align: middle;\n",
       "    }\n",
       "\n",
       "    .dataframe tbody tr th {\n",
       "        vertical-align: top;\n",
       "    }\n",
       "\n",
       "    .dataframe thead th {\n",
       "        text-align: right;\n",
       "    }\n",
       "</style>\n",
       "<table border=\"1\" class=\"dataframe\">\n",
       "  <thead>\n",
       "    <tr style=\"text-align: right;\">\n",
       "      <th></th>\n",
       "      <th>document</th>\n",
       "      <th>label</th>\n",
       "    </tr>\n",
       "  </thead>\n",
       "  <tbody>\n",
       "    <tr>\n",
       "      <th>26</th>\n",
       "      <td>kl2g 고추를 털어버려야 할텐데</td>\n",
       "      <td>1</td>\n",
       "    </tr>\n",
       "    <tr>\n",
       "      <th>53</th>\n",
       "      <td>난또 저 꼬마애가 무슨 원한이 깊길래.,. 했더니 OO 그냥 혼자 나대다 OO걸 어...</td>\n",
       "      <td>0</td>\n",
       "    </tr>\n",
       "    <tr>\n",
       "      <th>69</th>\n",
       "      <td>노래실력으로뽑는게 맞냐? 박시환이 mama나가면 진짜 망신이다</td>\n",
       "      <td>0</td>\n",
       "    </tr>\n",
       "    <tr>\n",
       "      <th>116</th>\n",
       "      <td>몬스터 주식회사 3D 재밌게 봤다</td>\n",
       "      <td>1</td>\n",
       "    </tr>\n",
       "    <tr>\n",
       "      <th>163</th>\n",
       "      <td>종방되어 아쉬워요. 오늘막방도 잘봤어요.방송대본이 꽤 완성도있다는 느낌받았고요. 요...</td>\n",
       "      <td>1</td>\n",
       "    </tr>\n",
       "    <tr>\n",
       "      <th>...</th>\n",
       "      <td>...</td>\n",
       "      <td>...</td>\n",
       "    </tr>\n",
       "    <tr>\n",
       "      <th>149923</th>\n",
       "      <td>만들기 싫은데 어거지로 만든 영화 ㅋㅋ 돈날리면서 왜 이렇게 굳이,., 그냥 개인 ...</td>\n",
       "      <td>0</td>\n",
       "    </tr>\n",
       "    <tr>\n",
       "      <th>149962</th>\n",
       "      <td>tv 전기세와 시간이 완전 아깝다!</td>\n",
       "      <td>0</td>\n",
       "    </tr>\n",
       "    <tr>\n",
       "      <th>149983</th>\n",
       "      <td>그냥생각없이 평점좀 쓰지마 OOO들아 두 배우의연기가 너무맘에 들었다</td>\n",
       "      <td>1</td>\n",
       "    </tr>\n",
       "    <tr>\n",
       "      <th>149991</th>\n",
       "      <td>http://blog.naver.com/oroblast/220215679580 나쁜...</td>\n",
       "      <td>1</td>\n",
       "    </tr>\n",
       "    <tr>\n",
       "      <th>149993</th>\n",
       "      <td>For Carl.칼 세이건으로 시작해서 칼 세이건으로 끝난다.</td>\n",
       "      <td>1</td>\n",
       "    </tr>\n",
       "  </tbody>\n",
       "</table>\n",
       "<p>8451 rows × 2 columns</p>\n",
       "</div>"
      ],
      "text/plain": [
       "                                                 document  label\n",
       "26                                     kl2g 고추를 털어버려야 할텐데      1\n",
       "53      난또 저 꼬마애가 무슨 원한이 깊길래.,. 했더니 OO 그냥 혼자 나대다 OO걸 어...      0\n",
       "69                     노래실력으로뽑는게 맞냐? 박시환이 mama나가면 진짜 망신이다      0\n",
       "116                                    몬스터 주식회사 3D 재밌게 봤다      1\n",
       "163     종방되어 아쉬워요. 오늘막방도 잘봤어요.방송대본이 꽤 완성도있다는 느낌받았고요. 요...      1\n",
       "...                                                   ...    ...\n",
       "149923  만들기 싫은데 어거지로 만든 영화 ㅋㅋ 돈날리면서 왜 이렇게 굳이,., 그냥 개인 ...      0\n",
       "149962                                tv 전기세와 시간이 완전 아깝다!      0\n",
       "149983             그냥생각없이 평점좀 쓰지마 OOO들아 두 배우의연기가 너무맘에 들었다      1\n",
       "149991  http://blog.naver.com/oroblast/220215679580 나쁜...      1\n",
       "149993                 For Carl.칼 세이건으로 시작해서 칼 세이건으로 끝난다.      1\n",
       "\n",
       "[8451 rows x 2 columns]"
      ]
     },
     "execution_count": 56,
     "metadata": {},
     "output_type": "execute_result"
    },
    {
     "data": {
      "text/html": [
       "<div>\n",
       "<style scoped>\n",
       "    .dataframe tbody tr th:only-of-type {\n",
       "        vertical-align: middle;\n",
       "    }\n",
       "\n",
       "    .dataframe tbody tr th {\n",
       "        vertical-align: top;\n",
       "    }\n",
       "\n",
       "    .dataframe thead th {\n",
       "        text-align: right;\n",
       "    }\n",
       "</style>\n",
       "<table border=\"1\" class=\"dataframe\">\n",
       "  <thead>\n",
       "    <tr style=\"text-align: right;\">\n",
       "      <th></th>\n",
       "      <th>document</th>\n",
       "      <th>label</th>\n",
       "    </tr>\n",
       "  </thead>\n",
       "  <tbody>\n",
       "    <tr>\n",
       "      <th>1</th>\n",
       "      <td>GDNTOPCLASSINTHECLUB</td>\n",
       "      <td>0</td>\n",
       "    </tr>\n",
       "    <tr>\n",
       "      <th>4</th>\n",
       "      <td>3D만 아니었어도 별 다섯 개 줬을텐데.. 왜 3D로 나와서 제 심기를 불편하게 하죠??</td>\n",
       "      <td>0</td>\n",
       "    </tr>\n",
       "    <tr>\n",
       "      <th>8</th>\n",
       "      <td>갈수록 개판되가는 중국영화 유치하고 내용없음 폼잡다 끝남 말도안되는 무기에 유치한c...</td>\n",
       "      <td>0</td>\n",
       "    </tr>\n",
       "    <tr>\n",
       "      <th>9</th>\n",
       "      <td>이별의 아픔뒤에 찾아오는 새로운 인연의 기쁨 But, 모든 사람이 그렇지는 않네..</td>\n",
       "      <td>1</td>\n",
       "    </tr>\n",
       "    <tr>\n",
       "      <th>14</th>\n",
       "      <td>\"스토리, 연출, 연기, 비주얼 등 영화의 기본 조차 안된 영화에 무슨 평을 해. ...</td>\n",
       "      <td>0</td>\n",
       "    </tr>\n",
       "    <tr>\n",
       "      <th>...</th>\n",
       "      <td>...</td>\n",
       "      <td>...</td>\n",
       "    </tr>\n",
       "    <tr>\n",
       "      <th>49976</th>\n",
       "      <td>스토리가..OOO..</td>\n",
       "      <td>0</td>\n",
       "    </tr>\n",
       "    <tr>\n",
       "      <th>49978</th>\n",
       "      <td>amazing</td>\n",
       "      <td>1</td>\n",
       "    </tr>\n",
       "    <tr>\n",
       "      <th>49980</th>\n",
       "      <td>영화판의 역사를 알게 되어서 너무 신선했습니다.감독님gv너무 재밌습니다.영화판 화이...</td>\n",
       "      <td>1</td>\n",
       "    </tr>\n",
       "    <tr>\n",
       "      <th>49992</th>\n",
       "      <td>내일 토요일밤 MBC에서 영화 해준다.... 봐야지... 기대</td>\n",
       "      <td>1</td>\n",
       "    </tr>\n",
       "    <tr>\n",
       "      <th>49996</th>\n",
       "      <td>의지 박약들이나 하는거다 탈영은 일단 주인공 김대희 닮았고 이등병 찐따 OOOO</td>\n",
       "      <td>0</td>\n",
       "    </tr>\n",
       "  </tbody>\n",
       "</table>\n",
       "<p>2846 rows × 2 columns</p>\n",
       "</div>"
      ],
      "text/plain": [
       "                                                document  label\n",
       "1                                   GDNTOPCLASSINTHECLUB      0\n",
       "4      3D만 아니었어도 별 다섯 개 줬을텐데.. 왜 3D로 나와서 제 심기를 불편하게 하죠??      0\n",
       "8      갈수록 개판되가는 중국영화 유치하고 내용없음 폼잡다 끝남 말도안되는 무기에 유치한c...      0\n",
       "9         이별의 아픔뒤에 찾아오는 새로운 인연의 기쁨 But, 모든 사람이 그렇지는 않네..      1\n",
       "14     \"스토리, 연출, 연기, 비주얼 등 영화의 기본 조차 안된 영화에 무슨 평을 해. ...      0\n",
       "...                                                  ...    ...\n",
       "49976                                        스토리가..OOO..      0\n",
       "49978                                            amazing      1\n",
       "49980  영화판의 역사를 알게 되어서 너무 신선했습니다.감독님gv너무 재밌습니다.영화판 화이...      1\n",
       "49992                 내일 토요일밤 MBC에서 영화 해준다.... 봐야지... 기대      1\n",
       "49996       의지 박약들이나 하는거다 탈영은 일단 주인공 김대희 닮았고 이등병 찐따 OOOO      0\n",
       "\n",
       "[2846 rows x 2 columns]"
      ]
     },
     "execution_count": 56,
     "metadata": {},
     "output_type": "execute_result"
    }
   ],
   "source": [
    "train_data[train_data['document'].str.contains(\"[a-zA-Z]+\")]\n",
    "test_data[test_data['document'].str.contains(\"[a-zA-Z]+\")]"
   ]
  },
  {
   "cell_type": "code",
   "execution_count": 57,
   "id": "b000def2",
   "metadata": {},
   "outputs": [
    {
     "data": {
      "text/html": [
       "<div>\n",
       "<style scoped>\n",
       "    .dataframe tbody tr th:only-of-type {\n",
       "        vertical-align: middle;\n",
       "    }\n",
       "\n",
       "    .dataframe tbody tr th {\n",
       "        vertical-align: top;\n",
       "    }\n",
       "\n",
       "    .dataframe thead th {\n",
       "        text-align: right;\n",
       "    }\n",
       "</style>\n",
       "<table border=\"1\" class=\"dataframe\">\n",
       "  <thead>\n",
       "    <tr style=\"text-align: right;\">\n",
       "      <th></th>\n",
       "      <th>document</th>\n",
       "      <th>label</th>\n",
       "    </tr>\n",
       "  </thead>\n",
       "  <tbody>\n",
       "    <tr>\n",
       "      <th>0</th>\n",
       "      <td>아 더빙 진짜 짜증나네요 목소리</td>\n",
       "      <td>0</td>\n",
       "    </tr>\n",
       "    <tr>\n",
       "      <th>1</th>\n",
       "      <td>흠포스터보고 초딩영화줄오버연기조차 가볍지 않구나</td>\n",
       "      <td>1</td>\n",
       "    </tr>\n",
       "    <tr>\n",
       "      <th>2</th>\n",
       "      <td>너무재밓었다그래서보는것을추천한다</td>\n",
       "      <td>0</td>\n",
       "    </tr>\n",
       "    <tr>\n",
       "      <th>3</th>\n",
       "      <td>교도소 이야기구먼 솔직히 재미는 없다평점 조정</td>\n",
       "      <td>0</td>\n",
       "    </tr>\n",
       "    <tr>\n",
       "      <th>4</th>\n",
       "      <td>사이몬페그의 익살스런 연기가 돋보였던 영화스파이더맨에서 늙어보이기만 했던 커스틴 던...</td>\n",
       "      <td>1</td>\n",
       "    </tr>\n",
       "    <tr>\n",
       "      <th>5</th>\n",
       "      <td>막 걸음마 뗀 3세부터 초등학교 1학년생인 8살용영화ㅋㅋㅋ별반개도 아까움</td>\n",
       "      <td>0</td>\n",
       "    </tr>\n",
       "    <tr>\n",
       "      <th>6</th>\n",
       "      <td>원작의 긴장감을 제대로 살려내지못했다</td>\n",
       "      <td>0</td>\n",
       "    </tr>\n",
       "    <tr>\n",
       "      <th>7</th>\n",
       "      <td>별 반개도 아깝다 욕나온다 이응경 길용우 연기생활이몇년인지정말 발로해도 그것보단 낫...</td>\n",
       "      <td>0</td>\n",
       "    </tr>\n",
       "    <tr>\n",
       "      <th>8</th>\n",
       "      <td>액션이 없는데도 재미 있는 몇안되는 영화</td>\n",
       "      <td>1</td>\n",
       "    </tr>\n",
       "    <tr>\n",
       "      <th>9</th>\n",
       "      <td>왜케 평점이 낮은건데 꽤 볼만한데 헐리우드식 화려함에만 너무 길들여져 있나</td>\n",
       "      <td>1</td>\n",
       "    </tr>\n",
       "  </tbody>\n",
       "</table>\n",
       "</div>"
      ],
      "text/plain": [
       "                                            document  label\n",
       "0                                  아 더빙 진짜 짜증나네요 목소리      0\n",
       "1                         흠포스터보고 초딩영화줄오버연기조차 가볍지 않구나      1\n",
       "2                                  너무재밓었다그래서보는것을추천한다      0\n",
       "3                          교도소 이야기구먼 솔직히 재미는 없다평점 조정      0\n",
       "4  사이몬페그의 익살스런 연기가 돋보였던 영화스파이더맨에서 늙어보이기만 했던 커스틴 던...      1\n",
       "5           막 걸음마 뗀 3세부터 초등학교 1학년생인 8살용영화ㅋㅋㅋ별반개도 아까움      0\n",
       "6                               원작의 긴장감을 제대로 살려내지못했다      0\n",
       "7  별 반개도 아깝다 욕나온다 이응경 길용우 연기생활이몇년인지정말 발로해도 그것보단 낫...      0\n",
       "8                             액션이 없는데도 재미 있는 몇안되는 영화      1\n",
       "9          왜케 평점이 낮은건데 꽤 볼만한데 헐리우드식 화려함에만 너무 길들여져 있나      1"
      ]
     },
     "execution_count": 57,
     "metadata": {},
     "output_type": "execute_result"
    },
    {
     "data": {
      "text/html": [
       "<div>\n",
       "<style scoped>\n",
       "    .dataframe tbody tr th:only-of-type {\n",
       "        vertical-align: middle;\n",
       "    }\n",
       "\n",
       "    .dataframe tbody tr th {\n",
       "        vertical-align: top;\n",
       "    }\n",
       "\n",
       "    .dataframe thead th {\n",
       "        text-align: right;\n",
       "    }\n",
       "</style>\n",
       "<table border=\"1\" class=\"dataframe\">\n",
       "  <thead>\n",
       "    <tr style=\"text-align: right;\">\n",
       "      <th></th>\n",
       "      <th>document</th>\n",
       "      <th>label</th>\n",
       "    </tr>\n",
       "  </thead>\n",
       "  <tbody>\n",
       "    <tr>\n",
       "      <th>0</th>\n",
       "      <td>굳 ㅋ</td>\n",
       "      <td>1</td>\n",
       "    </tr>\n",
       "    <tr>\n",
       "      <th>1</th>\n",
       "      <td>GDNTOPCLASSINTHECLUB</td>\n",
       "      <td>0</td>\n",
       "    </tr>\n",
       "    <tr>\n",
       "      <th>2</th>\n",
       "      <td>뭐야 이 평점들은 나쁘진 않지만 1점 짜리는 더더욱 아니잖아</td>\n",
       "      <td>0</td>\n",
       "    </tr>\n",
       "    <tr>\n",
       "      <th>3</th>\n",
       "      <td>지루하지는 않은데 완전 막장임 돈주고 보기에는</td>\n",
       "      <td>0</td>\n",
       "    </tr>\n",
       "    <tr>\n",
       "      <th>4</th>\n",
       "      <td>3D만 아니었어도 별 다섯 개 줬을텐데 왜 3D로 나와서 제 심기를 불편하게 하죠</td>\n",
       "      <td>0</td>\n",
       "    </tr>\n",
       "    <tr>\n",
       "      <th>5</th>\n",
       "      <td>음악이 주가 된 최고의 음악영화</td>\n",
       "      <td>1</td>\n",
       "    </tr>\n",
       "    <tr>\n",
       "      <th>6</th>\n",
       "      <td>진정한 쓰레기</td>\n",
       "      <td>0</td>\n",
       "    </tr>\n",
       "    <tr>\n",
       "      <th>7</th>\n",
       "      <td>마치 미국애니에서 튀어나온듯한 창의력없는 로봇디자인부터가고개를 젖게한다</td>\n",
       "      <td>0</td>\n",
       "    </tr>\n",
       "    <tr>\n",
       "      <th>8</th>\n",
       "      <td>갈수록 개판되가는 중국영화 유치하고 내용없음 폼잡다 끝남 말도안되는 무기에 유치한c...</td>\n",
       "      <td>0</td>\n",
       "    </tr>\n",
       "    <tr>\n",
       "      <th>9</th>\n",
       "      <td>이별의 아픔뒤에 찾아오는 새로운 인연의 기쁨 But 모든 사람이 그렇지는 않네</td>\n",
       "      <td>1</td>\n",
       "    </tr>\n",
       "  </tbody>\n",
       "</table>\n",
       "</div>"
      ],
      "text/plain": [
       "                                            document  label\n",
       "0                                                굳 ㅋ      1\n",
       "1                               GDNTOPCLASSINTHECLUB      0\n",
       "2                  뭐야 이 평점들은 나쁘진 않지만 1점 짜리는 더더욱 아니잖아      0\n",
       "3                          지루하지는 않은데 완전 막장임 돈주고 보기에는      0\n",
       "4      3D만 아니었어도 별 다섯 개 줬을텐데 왜 3D로 나와서 제 심기를 불편하게 하죠      0\n",
       "5                                  음악이 주가 된 최고의 음악영화      1\n",
       "6                                            진정한 쓰레기      0\n",
       "7            마치 미국애니에서 튀어나온듯한 창의력없는 로봇디자인부터가고개를 젖게한다      0\n",
       "8  갈수록 개판되가는 중국영화 유치하고 내용없음 폼잡다 끝남 말도안되는 무기에 유치한c...      0\n",
       "9        이별의 아픔뒤에 찾아오는 새로운 인연의 기쁨 But 모든 사람이 그렇지는 않네      1"
      ]
     },
     "execution_count": 57,
     "metadata": {},
     "output_type": "execute_result"
    }
   ],
   "source": [
    "# 숫자, 영어, 한글과 공백을 제외하고 모두 제거\n",
    "train_data['document'] = train_data['document'].str.replace(\"[^a-zA-Z1-9ㄱ-ㅎㅏ-ㅣ가-힣 ]\",\"\",regex=True)\n",
    "train_data['document'] = train_data['document'].str.strip()\n",
    "#train_data['document'].str.replace('^ +', \"\")\n",
    "train_data['document'].replace('',np.nan, inplace=True)\n",
    "train_data[:10]\n",
    "\n",
    "\n",
    "# 숫자, 영어, 한글과 공백을 제외하고 모두 제거\n",
    "test_data['document'] = test_data['document'].str.replace(\"[^a-zA-Z1-9ㄱ-ㅎㅏ-ㅣ가-힣 ]\",\"\",regex=True)\n",
    "test_data['document'] = test_data['document'].str.strip()\n",
    "#test_data['document'].str.replace('^ +', \"\")\n",
    "test_data['document'].replace('',np.nan, inplace=True)\n",
    "test_data[:10]"
   ]
  },
  {
   "cell_type": "code",
   "execution_count": 58,
   "id": "afa93c44",
   "metadata": {},
   "outputs": [
    {
     "data": {
      "text/plain": [
       "1939"
      ]
     },
     "execution_count": 58,
     "metadata": {},
     "output_type": "execute_result"
    },
    {
     "data": {
      "text/plain": [
       "144243"
      ]
     },
     "execution_count": 58,
     "metadata": {},
     "output_type": "execute_result"
    },
    {
     "data": {
      "text/plain": [
       "517"
      ]
     },
     "execution_count": 58,
     "metadata": {},
     "output_type": "execute_result"
    },
    {
     "data": {
      "text/plain": [
       "48640"
      ]
     },
     "execution_count": 58,
     "metadata": {},
     "output_type": "execute_result"
    }
   ],
   "source": [
    "#### document 열의 중복 제거 \n",
    "train_data.duplicated(['document']).sum()\n",
    "train_data.drop_duplicates(subset=['document'], inplace=True)\n",
    "len(train_data)\n",
    "\n",
    "test_data.duplicated(['document']).sum()\n",
    "test_data.drop_duplicates(subset=['document'], inplace=True)\n",
    "len(test_data)"
   ]
  },
  {
   "cell_type": "code",
   "execution_count": 59,
   "id": "7d43366a",
   "metadata": {},
   "outputs": [
    {
     "data": {
      "text/html": [
       "<div>\n",
       "<style scoped>\n",
       "    .dataframe tbody tr th:only-of-type {\n",
       "        vertical-align: middle;\n",
       "    }\n",
       "\n",
       "    .dataframe tbody tr th {\n",
       "        vertical-align: top;\n",
       "    }\n",
       "\n",
       "    .dataframe thead th {\n",
       "        text-align: right;\n",
       "    }\n",
       "</style>\n",
       "<table border=\"1\" class=\"dataframe\">\n",
       "  <thead>\n",
       "    <tr style=\"text-align: right;\">\n",
       "      <th></th>\n",
       "      <th>document</th>\n",
       "      <th>label</th>\n",
       "    </tr>\n",
       "  </thead>\n",
       "  <tbody>\n",
       "    <tr>\n",
       "      <th>1840</th>\n",
       "      <td>NaN</td>\n",
       "      <td>1</td>\n",
       "    </tr>\n",
       "  </tbody>\n",
       "</table>\n",
       "</div>"
      ],
      "text/plain": [
       "     document  label\n",
       "1840      NaN      1"
      ]
     },
     "execution_count": 59,
     "metadata": {},
     "output_type": "execute_result"
    },
    {
     "data": {
      "text/html": [
       "<div>\n",
       "<style scoped>\n",
       "    .dataframe tbody tr th:only-of-type {\n",
       "        vertical-align: middle;\n",
       "    }\n",
       "\n",
       "    .dataframe tbody tr th {\n",
       "        vertical-align: top;\n",
       "    }\n",
       "\n",
       "    .dataframe thead th {\n",
       "        text-align: right;\n",
       "    }\n",
       "</style>\n",
       "<table border=\"1\" class=\"dataframe\">\n",
       "  <thead>\n",
       "    <tr style=\"text-align: right;\">\n",
       "      <th></th>\n",
       "      <th>document</th>\n",
       "      <th>label</th>\n",
       "    </tr>\n",
       "  </thead>\n",
       "  <tbody>\n",
       "    <tr>\n",
       "      <th>116</th>\n",
       "      <td>NaN</td>\n",
       "      <td>1</td>\n",
       "    </tr>\n",
       "  </tbody>\n",
       "</table>\n",
       "</div>"
      ],
      "text/plain": [
       "    document  label\n",
       "116      NaN      1"
      ]
     },
     "execution_count": 59,
     "metadata": {},
     "output_type": "execute_result"
    }
   ],
   "source": [
    "### null 제거\n",
    "train_data[train_data['document'].isnull()]\n",
    "train_data.dropna(inplace=True)\n",
    "\n",
    "test_data[test_data['document'].isnull()]\n",
    "test_data.dropna(inplace=True)"
   ]
  },
  {
   "cell_type": "code",
   "execution_count": 60,
   "id": "c746a062",
   "metadata": {},
   "outputs": [
    {
     "name": "stdout",
     "output_type": "stream",
     "text": [
      "전처리 후의 train_data 개수 : 144242\n",
      "전처리 후의 test_data 개수 : 48639\n"
     ]
    }
   ],
   "source": [
    "print(\"전처리 후의 train_data 개수 :\", len(train_data))\n",
    "print(\"전처리 후의 test_data 개수 :\", len(test_data))"
   ]
  },
  {
   "cell_type": "code",
   "execution_count": 61,
   "id": "cbbbbf35",
   "metadata": {},
   "outputs": [
    {
     "data": {
      "text/plain": [
       "0    72409\n",
       "1    71833\n",
       "Name: label, dtype: int64"
      ]
     },
     "execution_count": 61,
     "metadata": {},
     "output_type": "execute_result"
    },
    {
     "name": "stderr",
     "output_type": "stream",
     "text": [
      "/opt/conda/lib/python3.9/site-packages/seaborn/_decorators.py:36: FutureWarning: Pass the following variable as a keyword arg: x. From version 0.12, the only valid positional argument will be `data`, and passing other arguments without an explicit keyword will result in an error or misinterpretation.\n",
      "  warnings.warn(\n"
     ]
    },
    {
     "data": {
      "text/plain": [
       "<AxesSubplot:xlabel='label', ylabel='count'>"
      ]
     },
     "execution_count": 61,
     "metadata": {},
     "output_type": "execute_result"
    },
    {
     "data": {
      "image/png": "[encoded data removed]",
      "text/plain": [
       "<Figure size 432x288 with 1 Axes>"
      ]
     },
     "metadata": {
      "needs_background": "light"
     },
     "output_type": "display_data"
    }
   ],
   "source": [
    "### 레이블(label) 값의 분포\n",
    "import seaborn as sns\n",
    "train_data['label'].value_counts()\n",
    "sns.countplot('label',data=train_data)"
   ]
  },
  {
   "cell_type": "code",
   "execution_count": 62,
   "id": "1b6819ec",
   "metadata": {},
   "outputs": [
    {
     "data": {
      "text/plain": [
       "1    24431\n",
       "0    24208\n",
       "Name: label, dtype: int64"
      ]
     },
     "execution_count": 62,
     "metadata": {},
     "output_type": "execute_result"
    },
    {
     "name": "stderr",
     "output_type": "stream",
     "text": [
      "/opt/conda/lib/python3.9/site-packages/seaborn/_decorators.py:36: FutureWarning: Pass the following variable as a keyword arg: x. From version 0.12, the only valid positional argument will be `data`, and passing other arguments without an explicit keyword will result in an error or misinterpretation.\n",
      "  warnings.warn(\n"
     ]
    },
    {
     "data": {
      "text/plain": [
       "<AxesSubplot:xlabel='label', ylabel='count'>"
      ]
     },
     "execution_count": 62,
     "metadata": {},
     "output_type": "execute_result"
    },
    {
     "data": {
      "image/png": "[encoded data removed]",
      "text/plain": [
       "<Figure size 432x288 with 1 Axes>"
      ]
     },
     "metadata": {
      "needs_background": "light"
     },
     "output_type": "display_data"
    }
   ],
   "source": [
    "test_data['label'].value_counts()\n",
    "sns.countplot('label',data=test_data)"
   ]
  },
  {
   "cell_type": "markdown",
   "id": "1f9b95dc",
   "metadata": {},
   "source": [
    "####  SentencePiece 토크나이저를 적용할 최종 데이터"
   ]
  },
  {
   "cell_type": "code",
   "execution_count": 126,
   "id": "de08b446",
   "metadata": {},
   "outputs": [],
   "source": [
    "X_train = list(train_data['document'].values)\n",
    "X_test = list(test_data['document'].values)\n",
    "\n",
    "y_train = train_data['label'].values \n",
    "y_test = test_data['label'].values\n",
    "\n",
    "#X_train\n",
    "#X_test\n",
    "#y_train\n",
    "#y_test"
   ]
  },
  {
   "cell_type": "markdown",
   "id": "f685be2e",
   "metadata": {},
   "source": [
    "####  SentencePiece 토크나이저를 적용\n",
    "* model_type = unigram\n",
    "* vocab_size = 5000"
   ]
  },
  {
   "cell_type": "code",
   "execution_count": 67,
   "id": "d4a6756f",
   "metadata": {
    "scrolled": true
   },
   "outputs": [],
   "source": [
    "#sp_tokenize(s, corpus) 사용예제\n",
    "\n",
    "vocab = \"./unigram_5000_spm.vocab\"\n",
    "X_train, word_index, index_word = sp_tokenize(uni_five_sp, X_train,vocab)\n",
    "X_test, word_index, index_word = sp_tokenize(uni_five_sp, X_test,vocab)"
   ]
  },
  {
   "cell_type": "code",
   "execution_count": 68,
   "id": "11f7e6db",
   "metadata": {
    "scrolled": false
   },
   "outputs": [
    {
     "data": {
      "text/plain": [
       "array([   0,    0,    0,    0,    0,    0,    0,    0,    0,    0,    0,\n",
       "          0,    0,    0,    0,    0,    0,    0,    0,    0,    0,    0,\n",
       "          0,    0,    0,    0,    0,    0,    0,    0,    0,    0,    0,\n",
       "          0,    0,    0,    0,    0,    0,    0,    0,    0,    0,    0,\n",
       "         51, 1040,   33, 1231,   46, 1584], dtype=int32)"
      ]
     },
     "execution_count": 68,
     "metadata": {},
     "output_type": "execute_result"
    },
    {
     "data": {
      "text/plain": [
       "array([   0,    0,    0,    0,    0,    0,    0,    0,    0,    0,    0,\n",
       "          0,    0,    0,    0,    0,    0,    0,    0,    0,    0,    0,\n",
       "          0,    0,    0,    0,    0,    0,    0,    0,    0,    0,    0,\n",
       "          0,    0,    0,    0,    0,    0,    0,    0,    0,    0,    0,\n",
       "          0,    0,    0,    0, 2958,  373], dtype=int32)"
      ]
     },
     "execution_count": 68,
     "metadata": {},
     "output_type": "execute_result"
    },
    {
     "data": {
      "text/plain": [
       "(144242, 50)"
      ]
     },
     "execution_count": 68,
     "metadata": {},
     "output_type": "execute_result"
    },
    {
     "data": {
      "text/plain": [
       "(48639, 50)"
      ]
     },
     "execution_count": 68,
     "metadata": {},
     "output_type": "execute_result"
    }
   ],
   "source": [
    "X_train[0]\n",
    "X_test[0]\n",
    "X_train.shape\n",
    "X_test.shape\n",
    "#word_index\n",
    "#index_word"
   ]
  },
  {
   "cell_type": "markdown",
   "id": "e8cff6fd",
   "metadata": {},
   "source": [
    "####  SentencePiece 토크나이저를 적용\n",
    "* model_type = bpe\n",
    "* vocab_size = 5000"
   ]
  },
  {
   "cell_type": "code",
   "execution_count": 98,
   "id": "950e2ebd",
   "metadata": {},
   "outputs": [],
   "source": [
    "#sp_tokenize(s, corpus) 사용예제\n",
    "\n",
    "vocab = \"./bpe_5000_spm.vocab\"\n",
    "X_train, word_index, index_word = sp_tokenize(bpe_five_sp, X_train, vocab)\n",
    "X_test, word_index, index_word = sp_tokenize(bpe_five_sp, X_test, vocab)"
   ]
  },
  {
   "cell_type": "code",
   "execution_count": 99,
   "id": "888795de",
   "metadata": {},
   "outputs": [
    {
     "data": {
      "text/plain": [
       "array([   0,    0,    0,    0,    0,    0,    0,    0,    0,    0,    0,\n",
       "          0,    0,    0,    0,    0,    0,    0,    0,    0,    0,    0,\n",
       "          0,    0,    0,    0,    0,    0,    0,    0,    0,    0,    0,\n",
       "          0,    0,    0,    0,    0,    0,    0,    0,    0,    0,    0,\n",
       "          6, 1027,   50, 2381,   36, 1909], dtype=int32)"
      ]
     },
     "execution_count": 99,
     "metadata": {},
     "output_type": "execute_result"
    },
    {
     "data": {
      "text/plain": [
       "array([   0,    0,    0,    0,    0,    0,    0,    0,    0,    0,    0,\n",
       "          0,    0,    0,    0,    0,    0,    0,    0,    0,    0,    0,\n",
       "          0,    0,    0,    0,    0,    0,    0,    0,    0,    0,    0,\n",
       "          0,    0,    0,    0,    0,    0,    0,    0,    0,    0,    0,\n",
       "          0,    0,    0,    0, 1258,  443], dtype=int32)"
      ]
     },
     "execution_count": 99,
     "metadata": {},
     "output_type": "execute_result"
    },
    {
     "data": {
      "text/plain": [
       "(144242, 50)"
      ]
     },
     "execution_count": 99,
     "metadata": {},
     "output_type": "execute_result"
    },
    {
     "data": {
      "text/plain": [
       "(48639, 50)"
      ]
     },
     "execution_count": 99,
     "metadata": {},
     "output_type": "execute_result"
    }
   ],
   "source": [
    "X_train[0]\n",
    "X_test[0]\n",
    "X_train.shape\n",
    "X_test.shape\n",
    "#word_index\n",
    "#index_word"
   ]
  },
  {
   "cell_type": "markdown",
   "id": "3710a06f",
   "metadata": {},
   "source": [
    "####  SentencePiece 토크나이저를 적용\n",
    "* model_type = unigram\n",
    "* vocab_size = 8000"
   ]
  },
  {
   "cell_type": "code",
   "execution_count": 127,
   "id": "de46dfc7",
   "metadata": {},
   "outputs": [],
   "source": [
    "#sp_tokenize(s, corpus) 사용예제\n",
    "\n",
    "vocab = \"./unigram_8000_spm.vocab\"\n",
    "X_train, word_index, index_word = sp_tokenize(uni_eight_sp, X_train, vocab)\n",
    "X_test, word_index, index_word = sp_tokenize(uni_eight_sp, X_test, vocab)"
   ]
  },
  {
   "cell_type": "code",
   "execution_count": 128,
   "id": "42168b12",
   "metadata": {},
   "outputs": [
    {
     "data": {
      "text/plain": [
       "array([   0,    0,    0,    0,    0,    0,    0,    0,    0,    0,    0,\n",
       "          0,    0,    0,    0,    0,    0,    0,    0,    0,    0,    0,\n",
       "          0,    0,    0,    0,    0,    0,    0,    0,    0,    0,    0,\n",
       "          0,    0,    0,    0,    0,    0,    0,    0,    0,    0,    0,\n",
       "         56,  829,   26, 2161,   53, 1324], dtype=int32)"
      ]
     },
     "execution_count": 128,
     "metadata": {},
     "output_type": "execute_result"
    },
    {
     "data": {
      "text/plain": [
       "array([   0,    0,    0,    0,    0,    0,    0,    0,    0,    0,    0,\n",
       "          0,    0,    0,    0,    0,    0,    0,    0,    0,    0,    0,\n",
       "          0,    0,    0,    0,    0,    0,    0,    0,    0,    0,    0,\n",
       "          0,    0,    0,    0,    0,    0,    0,    0,    0,    0,    0,\n",
       "          0,    0,    0,    0, 2634,  297], dtype=int32)"
      ]
     },
     "execution_count": 128,
     "metadata": {},
     "output_type": "execute_result"
    },
    {
     "data": {
      "text/plain": [
       "(144242, 50)"
      ]
     },
     "execution_count": 128,
     "metadata": {},
     "output_type": "execute_result"
    },
    {
     "data": {
      "text/plain": [
       "(48639, 50)"
      ]
     },
     "execution_count": 128,
     "metadata": {},
     "output_type": "execute_result"
    }
   ],
   "source": [
    "X_train[0]\n",
    "X_test[0]\n",
    "X_train.shape\n",
    "X_test.shape\n",
    "#word_index\n",
    "#index_word"
   ]
  },
  {
   "cell_type": "markdown",
   "id": "ed2d47b0",
   "metadata": {},
   "source": [
    "####  SentencePiece 토크나이저를 적용\n",
    "* model_type = bpe\n",
    "* vocab_size = 8000"
   ]
  },
  {
   "cell_type": "code",
   "execution_count": 114,
   "id": "74e79647",
   "metadata": {},
   "outputs": [],
   "source": [
    "#sp_tokenize(s, corpus) 사용예제\n",
    "\n",
    "vocab = \"./bpe_8000_spm.vocab\"\n",
    "X_train, word_index, index_word = sp_tokenize(bpe_eight_sp, X_train, vocab)\n",
    "X_test, word_index, index_word = sp_tokenize(bpe_eight_sp, X_test, vocab)"
   ]
  },
  {
   "cell_type": "code",
   "execution_count": 115,
   "id": "9cd5ced8",
   "metadata": {},
   "outputs": [
    {
     "data": {
      "text/plain": [
       "array([   0,    0,    0,    0,    0,    0,    0,    0,    0,    0,    0,\n",
       "          0,    0,    0,    0,    0,    0,    0,    0,    0,    0,    0,\n",
       "          0,    0,    0,    0,    0,    0,    0,    0,    0,    0,    0,\n",
       "          0,    0,    0,    0,    0,    0,    0,    0,    0,    0,    0,\n",
       "          6, 1027,   50, 2381,   36, 1909], dtype=int32)"
      ]
     },
     "execution_count": 115,
     "metadata": {},
     "output_type": "execute_result"
    },
    {
     "data": {
      "text/plain": [
       "array([   0,    0,    0,    0,    0,    0,    0,    0,    0,    0,    0,\n",
       "          0,    0,    0,    0,    0,    0,    0,    0,    0,    0,    0,\n",
       "          0,    0,    0,    0,    0,    0,    0,    0,    0,    0,    0,\n",
       "          0,    0,    0,    0,    0,    0,    0,    0,    0,    0,    0,\n",
       "          0,    0,    0,    0, 1258,  443], dtype=int32)"
      ]
     },
     "execution_count": 115,
     "metadata": {},
     "output_type": "execute_result"
    },
    {
     "data": {
      "text/plain": [
       "(144242, 50)"
      ]
     },
     "execution_count": 115,
     "metadata": {},
     "output_type": "execute_result"
    },
    {
     "data": {
      "text/plain": [
       "(48639, 50)"
      ]
     },
     "execution_count": 115,
     "metadata": {},
     "output_type": "execute_result"
    }
   ],
   "source": [
    "X_train[0]\n",
    "X_test[0]\n",
    "X_train.shape\n",
    "X_test.shape\n",
    "#word_index\n",
    "#index_word"
   ]
  },
  {
   "cell_type": "markdown",
   "id": "b1262b37",
   "metadata": {},
   "source": [
    "### 3) validation set 구성"
   ]
  },
  {
   "cell_type": "markdown",
   "id": "ebdd45be",
   "metadata": {},
   "source": [
    "#### 검증셋 : 훈련셋 을 2:8 비율로 분리"
   ]
  },
  {
   "cell_type": "code",
   "execution_count": 129,
   "id": "67a418c8",
   "metadata": {
    "scrolled": true
   },
   "outputs": [
    {
     "name": "stdout",
     "output_type": "stream",
     "text": [
      "144242\n",
      "28848\n",
      "115394\n"
     ]
    }
   ],
   "source": [
    "print(X_train.shape[0])\n",
    "print(int(X_train.shape[0] * 0.2))\n",
    "print(X_train.shape[0] - int(X_train.shape[0] * 0.2))"
   ]
  },
  {
   "cell_type": "code",
   "execution_count": 130,
   "id": "6dee8be3",
   "metadata": {},
   "outputs": [
    {
     "name": "stdout",
     "output_type": "stream",
     "text": [
      "(28848, 50)\n",
      "(115394, 50)\n"
     ]
    }
   ],
   "source": [
    "# validation set 28848건 분리\n",
    "x_val = X_train[:28848]   \n",
    "y_val = y_train[:28848]\n",
    "\n",
    "# validation set을 제외한 나머지 115394건\n",
    "partial_x_train = X_train[28848:]  \n",
    "partial_y_train = y_train[28848:]\n",
    "\n",
    "print(x_val.shape)\n",
    "print(partial_x_train.shape)"
   ]
  },
  {
   "cell_type": "markdown",
   "id": "73117ee3",
   "metadata": {},
   "source": [
    "### 4) LSTM으로 네이버 영화 리뷰 감성 분류하기"
   ]
  },
  {
   "cell_type": "markdown",
   "id": "e12104ba",
   "metadata": {},
   "source": [
    "#### SentencePiece\n",
    "* model_type = unigram\n",
    "* vocab_size = 5000"
   ]
  },
  {
   "cell_type": "code",
   "execution_count": 71,
   "id": "6aeb3b38",
   "metadata": {},
   "outputs": [],
   "source": [
    "vocab_size = 5000    # 어휘 사전의 크기입니다(5,000개의 단어)\n",
    "word_vector_dim = 100  # 워드 벡터의 차원 수 (변경 가능한 하이퍼파라미터)"
   ]
  },
  {
   "cell_type": "code",
   "execution_count": 72,
   "id": "2d0b44e8",
   "metadata": {
    "scrolled": true
   },
   "outputs": [
    {
     "name": "stdout",
     "output_type": "stream",
     "text": [
      "Model: \"sequential\"\n",
      "_________________________________________________________________\n",
      "Layer (type)                 Output Shape              Param #   \n",
      "=================================================================\n",
      "embedding (Embedding)        (None, None, 100)         500000    \n",
      "_________________________________________________________________\n",
      "lstm (LSTM)                  (None, 100)               80400     \n",
      "_________________________________________________________________\n",
      "dense (Dense)                (None, 1)                 101       \n",
      "=================================================================\n",
      "Total params: 580,501\n",
      "Trainable params: 580,501\n",
      "Non-trainable params: 0\n",
      "_________________________________________________________________\n"
     ]
    }
   ],
   "source": [
    "import tensorflow as tf\n",
    "\n",
    "# model 설계 - 딥러닝 모델 코드를 직접 작성해 주세요.\n",
    "model_lstm = tf.keras.Sequential()\n",
    "model_lstm.add(tf.keras.layers.Embedding(vocab_size, word_vector_dim, input_shape=(None,)))\n",
    "model_lstm.add(tf.keras.layers.LSTM(100))   # 가장 널리 쓰이는 RNN인 LSTM 레이어를 사용하였습니다. 이때 LSTM state 벡터의 차원수는 8로 하였습니다. (변경 가능)\n",
    "#model_lstm.add(tf.keras.layers.LSTM(100,activation='tanh'))   # 가장 널리 쓰이는 RNN인 LSTM 레이어를 사용하였습니다. 이때 LSTM state 벡터의 차원수는 8로 하였습니다. (변경 가능)\n",
    "model_lstm.add(tf.keras.layers.Dense(1, activation='sigmoid'))  # 최종 출력은 긍정/부정을 나타내는 1dim 입니다.\n",
    "\n",
    "model_lstm.summary()"
   ]
  },
  {
   "cell_type": "code",
   "execution_count": 73,
   "id": "50d7d08c",
   "metadata": {},
   "outputs": [
    {
     "name": "stdout",
     "output_type": "stream",
     "text": [
      "Epoch 1/10\n",
      "226/226 [==============================] - 27s 12ms/step - loss: 0.4443 - accuracy: 0.7912 - val_loss: 0.3600 - val_accuracy: 0.8411\n",
      "Epoch 2/10\n",
      "226/226 [==============================] - 2s 10ms/step - loss: 0.3524 - accuracy: 0.8463 - val_loss: 0.3496 - val_accuracy: 0.8447\n",
      "Epoch 3/10\n",
      "226/226 [==============================] - 2s 10ms/step - loss: 0.3343 - accuracy: 0.8542 - val_loss: 0.3428 - val_accuracy: 0.8483\n",
      "Epoch 4/10\n",
      "226/226 [==============================] - 2s 10ms/step - loss: 0.3134 - accuracy: 0.8642 - val_loss: 0.3430 - val_accuracy: 0.8504\n",
      "Epoch 5/10\n",
      "226/226 [==============================] - 2s 10ms/step - loss: 0.2946 - accuracy: 0.8714 - val_loss: 0.3422 - val_accuracy: 0.8504\n",
      "Epoch 6/10\n",
      "226/226 [==============================] - 2s 10ms/step - loss: 0.2762 - accuracy: 0.8802 - val_loss: 0.3528 - val_accuracy: 0.8513\n",
      "Epoch 7/10\n",
      "226/226 [==============================] - 2s 10ms/step - loss: 0.2591 - accuracy: 0.8879 - val_loss: 0.3646 - val_accuracy: 0.8488\n",
      "Epoch 8/10\n",
      "226/226 [==============================] - 2s 11ms/step - loss: 0.2443 - accuracy: 0.8953 - val_loss: 0.3692 - val_accuracy: 0.8476\n",
      "Epoch 9/10\n",
      "226/226 [==============================] - 2s 10ms/step - loss: 0.2297 - accuracy: 0.9022 - val_loss: 0.3950 - val_accuracy: 0.8420\n",
      "Epoch 10/10\n",
      "226/226 [==============================] - 2s 10ms/step - loss: 0.2135 - accuracy: 0.9093 - val_loss: 0.4008 - val_accuracy: 0.8404\n"
     ]
    }
   ],
   "source": [
    "model_lstm.compile(optimizer='adam',\n",
    "              loss='binary_crossentropy',\n",
    "              metrics=['accuracy'])\n",
    "              \n",
    "epochs=10  # 몇 epoch를 훈련하면 좋을지 결과를 보면서 바꾸어 봅시다. \n",
    "\n",
    "history_lstm = model_lstm.fit(partial_x_train,\n",
    "                    partial_y_train,\n",
    "                    epochs=epochs,\n",
    "                    batch_size=512,\n",
    "                    validation_data=(x_val, y_val),\n",
    "                    verbose=1)"
   ]
  },
  {
   "cell_type": "code",
   "execution_count": 74,
   "id": "1e584b1d",
   "metadata": {},
   "outputs": [
    {
     "name": "stdout",
     "output_type": "stream",
     "text": [
      "1520/1520 - 3s - loss: 0.4138 - accuracy: 0.8323\n",
      "[0.4137531816959381, 0.8323156237602234]\n"
     ]
    }
   ],
   "source": [
    "results_lstm = model_lstm.evaluate(X_test,  y_test, verbose=2)\n",
    "\n",
    "print(results_lstm)"
   ]
  },
  {
   "cell_type": "code",
   "execution_count": 75,
   "id": "327e280a",
   "metadata": {},
   "outputs": [
    {
     "name": "stdout",
     "output_type": "stream",
     "text": [
      "dict_keys(['loss', 'accuracy', 'val_loss', 'val_accuracy'])\n"
     ]
    }
   ],
   "source": [
    "history_dict = history_lstm.history\n",
    "print(history_dict.keys()) # epoch에 따른 그래프를 그려볼 수 있는 항목들"
   ]
  },
  {
   "cell_type": "code",
   "execution_count": 76,
   "id": "81a8cdb8",
   "metadata": {},
   "outputs": [
    {
     "data": {
      "text/plain": [
       "[<matplotlib.lines.Line2D at 0x7f609fe71b50>]"
      ]
     },
     "execution_count": 76,
     "metadata": {},
     "output_type": "execute_result"
    },
    {
     "data": {
      "text/plain": [
       "[<matplotlib.lines.Line2D at 0x7f609fe71df0>]"
      ]
     },
     "execution_count": 76,
     "metadata": {},
     "output_type": "execute_result"
    },
    {
     "data": {
      "text/plain": [
       "Text(0.5, 1.0, 'Training and validation loss')"
      ]
     },
     "execution_count": 76,
     "metadata": {},
     "output_type": "execute_result"
    },
    {
     "data": {
      "text/plain": [
       "Text(0.5, 0, 'Epochs')"
      ]
     },
     "execution_count": 76,
     "metadata": {},
     "output_type": "execute_result"
    },
    {
     "data": {
      "text/plain": [
       "Text(0, 0.5, 'Loss')"
      ]
     },
     "execution_count": 76,
     "metadata": {},
     "output_type": "execute_result"
    },
    {
     "data": {
      "text/plain": [
       "<matplotlib.legend.Legend at 0x7f609ea70eb0>"
      ]
     },
     "execution_count": 76,
     "metadata": {},
     "output_type": "execute_result"
    },
    {
     "data": {
      "image/png": "[encoded data removed]",
      "text/plain": [
       "<Figure size 432x288 with 1 Axes>"
      ]
     },
     "metadata": {
      "needs_background": "light"
     },
     "output_type": "display_data"
    }
   ],
   "source": [
    "import matplotlib.pyplot as plt\n",
    "\n",
    "acc = history_dict['accuracy']\n",
    "val_acc = history_dict['val_accuracy']\n",
    "loss = history_dict['loss']\n",
    "val_loss = history_dict['val_loss']\n",
    "\n",
    "epochs = range(1, len(acc) + 1)\n",
    "\n",
    "# \"bo\"는 \"파란색 점\"입니다\n",
    "plt.plot(epochs, loss, 'bo', label='Training loss')\n",
    "# b는 \"파란 실선\"입니다\n",
    "plt.plot(epochs, val_loss, 'b', label='Validation loss')\n",
    "plt.title('Training and validation loss')\n",
    "plt.xlabel('Epochs')\n",
    "plt.ylabel('Loss')\n",
    "plt.legend()\n",
    "\n",
    "plt.show()"
   ]
  },
  {
   "cell_type": "code",
   "execution_count": 77,
   "id": "feba3cdb",
   "metadata": {},
   "outputs": [
    {
     "data": {
      "text/plain": [
       "[<matplotlib.lines.Line2D at 0x7f609fb09130>]"
      ]
     },
     "execution_count": 77,
     "metadata": {},
     "output_type": "execute_result"
    },
    {
     "data": {
      "text/plain": [
       "[<matplotlib.lines.Line2D at 0x7f609fb094c0>]"
      ]
     },
     "execution_count": 77,
     "metadata": {},
     "output_type": "execute_result"
    },
    {
     "data": {
      "text/plain": [
       "Text(0.5, 1.0, 'Training and validation accuracy')"
      ]
     },
     "execution_count": 77,
     "metadata": {},
     "output_type": "execute_result"
    },
    {
     "data": {
      "text/plain": [
       "Text(0.5, 0, 'Epochs')"
      ]
     },
     "execution_count": 77,
     "metadata": {},
     "output_type": "execute_result"
    },
    {
     "data": {
      "text/plain": [
       "Text(0, 0.5, 'Accuracy')"
      ]
     },
     "execution_count": 77,
     "metadata": {},
     "output_type": "execute_result"
    },
    {
     "data": {
      "text/plain": [
       "<matplotlib.legend.Legend at 0x7f609faeafd0>"
      ]
     },
     "execution_count": 77,
     "metadata": {},
     "output_type": "execute_result"
    },
    {
     "data": {
      "image/png": "[encoded data removed]",
      "text/plain": [
       "<Figure size 432x288 with 1 Axes>"
      ]
     },
     "metadata": {
      "needs_background": "light"
     },
     "output_type": "display_data"
    }
   ],
   "source": [
    "plt.clf()   # 그림을 초기화합니다\n",
    "\n",
    "plt.plot(epochs, acc, 'bo', label='Training acc')\n",
    "plt.plot(epochs, val_acc, 'b', label='Validation acc')\n",
    "plt.title('Training and validation accuracy')\n",
    "plt.xlabel('Epochs')\n",
    "plt.ylabel('Accuracy')\n",
    "plt.legend()\n",
    "\n",
    "plt.show()"
   ]
  },
  {
   "cell_type": "markdown",
   "id": "41e75548",
   "metadata": {},
   "source": [
    "#### SentencePiece\n",
    "* model_type = bpe\n",
    "* vocab_size = 5000"
   ]
  },
  {
   "cell_type": "code",
   "execution_count": 88,
   "id": "93c78edc",
   "metadata": {},
   "outputs": [],
   "source": [
    "vocab_size = 5000    # 어휘 사전의 크기입니다(5,000개의 단어)\n",
    "word_vector_dim = 100  # 워드 벡터의 차원 수 (변경 가능한 하이퍼파라미터)"
   ]
  },
  {
   "cell_type": "code",
   "execution_count": 89,
   "id": "a94dab4d",
   "metadata": {},
   "outputs": [
    {
     "name": "stdout",
     "output_type": "stream",
     "text": [
      "Model: \"sequential_1\"\n",
      "_________________________________________________________________\n",
      "Layer (type)                 Output Shape              Param #   \n",
      "=================================================================\n",
      "embedding_1 (Embedding)      (None, None, 100)         500000    \n",
      "_________________________________________________________________\n",
      "lstm_1 (LSTM)                (None, 100)               80400     \n",
      "_________________________________________________________________\n",
      "dense_1 (Dense)              (None, 1)                 101       \n",
      "=================================================================\n",
      "Total params: 580,501\n",
      "Trainable params: 580,501\n",
      "Non-trainable params: 0\n",
      "_________________________________________________________________\n"
     ]
    }
   ],
   "source": [
    "import tensorflow as tf\n",
    "\n",
    "# model 설계 - 딥러닝 모델 코드를 직접 작성해 주세요.\n",
    "model_lstm = tf.keras.Sequential()\n",
    "model_lstm.add(tf.keras.layers.Embedding(vocab_size, word_vector_dim, input_shape=(None,)))\n",
    "model_lstm.add(tf.keras.layers.LSTM(100))   # 가장 널리 쓰이는 RNN인 LSTM 레이어를 사용하였습니다. 이때 LSTM state 벡터의 차원수는 8로 하였습니다. (변경 가능)\n",
    "#model_lstm.add(tf.keras.layers.LSTM(100,activation='tanh'))   # 가장 널리 쓰이는 RNN인 LSTM 레이어를 사용하였습니다. 이때 LSTM state 벡터의 차원수는 8로 하였습니다. (변경 가능)\n",
    "model_lstm.add(tf.keras.layers.Dense(1, activation='sigmoid'))  # 최종 출력은 긍정/부정을 나타내는 1dim 입니다.\n",
    "\n",
    "model_lstm.summary()"
   ]
  },
  {
   "cell_type": "code",
   "execution_count": 90,
   "id": "1e6b1e0d",
   "metadata": {},
   "outputs": [
    {
     "name": "stdout",
     "output_type": "stream",
     "text": [
      "Epoch 1/10\n",
      "226/226 [==============================] - 4s 14ms/step - loss: 0.4435 - accuracy: 0.7938 - val_loss: 0.3586 - val_accuracy: 0.8412\n",
      "Epoch 2/10\n",
      "226/226 [==============================] - 2s 11ms/step - loss: 0.3490 - accuracy: 0.8473 - val_loss: 0.3470 - val_accuracy: 0.8461\n",
      "Epoch 3/10\n",
      "226/226 [==============================] - 2s 11ms/step - loss: 0.3266 - accuracy: 0.8574 - val_loss: 0.3394 - val_accuracy: 0.8495\n",
      "Epoch 4/10\n",
      "226/226 [==============================] - 2s 11ms/step - loss: 0.3054 - accuracy: 0.8670 - val_loss: 0.3360 - val_accuracy: 0.8504\n",
      "Epoch 5/10\n",
      "226/226 [==============================] - 2s 11ms/step - loss: 0.2854 - accuracy: 0.8757 - val_loss: 0.3416 - val_accuracy: 0.8517\n",
      "Epoch 6/10\n",
      "226/226 [==============================] - 2s 11ms/step - loss: 0.2662 - accuracy: 0.8847 - val_loss: 0.3519 - val_accuracy: 0.8513\n",
      "Epoch 7/10\n",
      "226/226 [==============================] - 2s 11ms/step - loss: 0.2489 - accuracy: 0.8927 - val_loss: 0.3680 - val_accuracy: 0.8472\n",
      "Epoch 8/10\n",
      "226/226 [==============================] - 2s 11ms/step - loss: 0.2326 - accuracy: 0.9007 - val_loss: 0.3764 - val_accuracy: 0.8473\n",
      "Epoch 9/10\n",
      "226/226 [==============================] - 2s 11ms/step - loss: 0.2162 - accuracy: 0.9087 - val_loss: 0.4020 - val_accuracy: 0.8467\n",
      "Epoch 10/10\n",
      "226/226 [==============================] - 2s 11ms/step - loss: 0.1994 - accuracy: 0.9161 - val_loss: 0.4255 - val_accuracy: 0.8430\n"
     ]
    }
   ],
   "source": [
    "model_lstm.compile(optimizer='adam',\n",
    "              loss='binary_crossentropy',\n",
    "              metrics=['accuracy'])\n",
    "              \n",
    "epochs=10  # 몇 epoch를 훈련하면 좋을지 결과를 보면서 바꾸어 봅시다. \n",
    "\n",
    "history_lstm = model_lstm.fit(partial_x_train,\n",
    "                    partial_y_train,\n",
    "                    epochs=epochs,\n",
    "                    batch_size=512,\n",
    "                    validation_data=(x_val, y_val),\n",
    "                    verbose=1)"
   ]
  },
  {
   "cell_type": "code",
   "execution_count": 91,
   "id": "a308dfb1",
   "metadata": {},
   "outputs": [
    {
     "name": "stdout",
     "output_type": "stream",
     "text": [
      "1520/1520 - 3s - loss: 0.4421 - accuracy: 0.8378\n",
      "[0.44208383560180664, 0.8377639055252075]\n"
     ]
    }
   ],
   "source": [
    "results_lstm = model_lstm.evaluate(X_test,  y_test, verbose=2)\n",
    "\n",
    "print(results_lstm)"
   ]
  },
  {
   "cell_type": "code",
   "execution_count": 92,
   "id": "5564958d",
   "metadata": {},
   "outputs": [
    {
     "name": "stdout",
     "output_type": "stream",
     "text": [
      "dict_keys(['loss', 'accuracy', 'val_loss', 'val_accuracy'])\n"
     ]
    }
   ],
   "source": [
    "history_dict = history_lstm.history\n",
    "print(history_dict.keys()) # epoch에 따른 그래프를 그려볼 수 있는 항목들"
   ]
  },
  {
   "cell_type": "code",
   "execution_count": 93,
   "id": "b3ecbd37",
   "metadata": {},
   "outputs": [
    {
     "data": {
      "text/plain": [
       "[<matplotlib.lines.Line2D at 0x7f609e1e8220>]"
      ]
     },
     "execution_count": 93,
     "metadata": {},
     "output_type": "execute_result"
    },
    {
     "data": {
      "text/plain": [
       "[<matplotlib.lines.Line2D at 0x7f609e1e8730>]"
      ]
     },
     "execution_count": 93,
     "metadata": {},
     "output_type": "execute_result"
    },
    {
     "data": {
      "text/plain": [
       "Text(0.5, 1.0, 'Training and validation loss')"
      ]
     },
     "execution_count": 93,
     "metadata": {},
     "output_type": "execute_result"
    },
    {
     "data": {
      "text/plain": [
       "Text(0.5, 0, 'Epochs')"
      ]
     },
     "execution_count": 93,
     "metadata": {},
     "output_type": "execute_result"
    },
    {
     "data": {
      "text/plain": [
       "Text(0, 0.5, 'Loss')"
      ]
     },
     "execution_count": 93,
     "metadata": {},
     "output_type": "execute_result"
    },
    {
     "data": {
      "text/plain": [
       "<matplotlib.legend.Legend at 0x7f609e1e80d0>"
      ]
     },
     "execution_count": 93,
     "metadata": {},
     "output_type": "execute_result"
    },
    {
     "data": {
      "image/png": "[encoded data removed]",
      "text/plain": [
       "<Figure size 432x288 with 1 Axes>"
      ]
     },
     "metadata": {
      "needs_background": "light"
     },
     "output_type": "display_data"
    }
   ],
   "source": [
    "import matplotlib.pyplot as plt\n",
    "\n",
    "acc = history_dict['accuracy']\n",
    "val_acc = history_dict['val_accuracy']\n",
    "loss = history_dict['loss']\n",
    "val_loss = history_dict['val_loss']\n",
    "\n",
    "epochs = range(1, len(acc) + 1)\n",
    "\n",
    "# \"bo\"는 \"파란색 점\"입니다\n",
    "plt.plot(epochs, loss, 'bo', label='Training loss')\n",
    "# b는 \"파란 실선\"입니다\n",
    "plt.plot(epochs, val_loss, 'b', label='Validation loss')\n",
    "plt.title('Training and validation loss')\n",
    "plt.xlabel('Epochs')\n",
    "plt.ylabel('Loss')\n",
    "plt.legend()\n",
    "\n",
    "plt.show()"
   ]
  },
  {
   "cell_type": "code",
   "execution_count": 94,
   "id": "aded3110",
   "metadata": {
    "scrolled": true
   },
   "outputs": [
    {
     "data": {
      "text/plain": [
       "[<matplotlib.lines.Line2D at 0x7f609e7a9130>]"
      ]
     },
     "execution_count": 94,
     "metadata": {},
     "output_type": "execute_result"
    },
    {
     "data": {
      "text/plain": [
       "[<matplotlib.lines.Line2D at 0x7f609e7a9580>]"
      ]
     },
     "execution_count": 94,
     "metadata": {},
     "output_type": "execute_result"
    },
    {
     "data": {
      "text/plain": [
       "Text(0.5, 1.0, 'Training and validation accuracy')"
      ]
     },
     "execution_count": 94,
     "metadata": {},
     "output_type": "execute_result"
    },
    {
     "data": {
      "text/plain": [
       "Text(0.5, 0, 'Epochs')"
      ]
     },
     "execution_count": 94,
     "metadata": {},
     "output_type": "execute_result"
    },
    {
     "data": {
      "text/plain": [
       "Text(0, 0.5, 'Accuracy')"
      ]
     },
     "execution_count": 94,
     "metadata": {},
     "output_type": "execute_result"
    },
    {
     "data": {
      "text/plain": [
       "<matplotlib.legend.Legend at 0x7f609e7a9940>"
      ]
     },
     "execution_count": 94,
     "metadata": {},
     "output_type": "execute_result"
    },
    {
     "data": {
      "image/png": "[encoded data removed]",
      "text/plain": [
       "<Figure size 432x288 with 1 Axes>"
      ]
     },
     "metadata": {
      "needs_background": "light"
     },
     "output_type": "display_data"
    }
   ],
   "source": [
    "plt.clf()   # 그림을 초기화합니다\n",
    "\n",
    "plt.plot(epochs, acc, 'bo', label='Training acc')\n",
    "plt.plot(epochs, val_acc, 'b', label='Validation acc')\n",
    "plt.title('Training and validation accuracy')\n",
    "plt.xlabel('Epochs')\n",
    "plt.ylabel('Accuracy')\n",
    "plt.legend()\n",
    "\n",
    "plt.show()"
   ]
  },
  {
   "cell_type": "markdown",
   "id": "8974071a",
   "metadata": {},
   "source": [
    "#### SentencePiece\n",
    "* model_type = unigram\n",
    "* vocab_size = 8000"
   ]
  },
  {
   "cell_type": "code",
   "execution_count": 131,
   "id": "a713b473",
   "metadata": {},
   "outputs": [],
   "source": [
    "vocab_size = 8000    # 어휘 사전의 크기입니다(8,000개의 단어)\n",
    "word_vector_dim = 100  # 워드 벡터의 차원 수 (변경 가능한 하이퍼파라미터)"
   ]
  },
  {
   "cell_type": "code",
   "execution_count": 132,
   "id": "0b994805",
   "metadata": {},
   "outputs": [
    {
     "name": "stdout",
     "output_type": "stream",
     "text": [
      "Model: \"sequential_4\"\n",
      "_________________________________________________________________\n",
      "Layer (type)                 Output Shape              Param #   \n",
      "=================================================================\n",
      "embedding_4 (Embedding)      (None, None, 100)         800000    \n",
      "_________________________________________________________________\n",
      "lstm_4 (LSTM)                (None, 100)               80400     \n",
      "_________________________________________________________________\n",
      "dense_4 (Dense)              (None, 1)                 101       \n",
      "=================================================================\n",
      "Total params: 880,501\n",
      "Trainable params: 880,501\n",
      "Non-trainable params: 0\n",
      "_________________________________________________________________\n"
     ]
    }
   ],
   "source": [
    "import tensorflow as tf\n",
    "\n",
    "# model 설계 - 딥러닝 모델 코드를 직접 작성해 주세요.\n",
    "model_lstm = tf.keras.Sequential()\n",
    "model_lstm.add(tf.keras.layers.Embedding(vocab_size, word_vector_dim, input_shape=(None,)))\n",
    "model_lstm.add(tf.keras.layers.LSTM(100))   # 가장 널리 쓰이는 RNN인 LSTM 레이어를 사용하였습니다. 이때 LSTM state 벡터의 차원수는 8로 하였습니다. (변경 가능)\n",
    "#model_lstm.add(tf.keras.layers.LSTM(100,activation='tanh'))   # 가장 널리 쓰이는 RNN인 LSTM 레이어를 사용하였습니다. 이때 LSTM state 벡터의 차원수는 8로 하였습니다. (변경 가능)\n",
    "model_lstm.add(tf.keras.layers.Dense(1, activation='sigmoid'))  # 최종 출력은 긍정/부정을 나타내는 1dim 입니다.\n",
    "\n",
    "model_lstm.summary()"
   ]
  },
  {
   "cell_type": "code",
   "execution_count": 133,
   "id": "4f4e5300",
   "metadata": {},
   "outputs": [
    {
     "name": "stdout",
     "output_type": "stream",
     "text": [
      "Epoch 1/10\n",
      "226/226 [==============================] - 4s 13ms/step - loss: 0.4367 - accuracy: 0.7967 - val_loss: 0.3504 - val_accuracy: 0.8472\n",
      "Epoch 2/10\n",
      "226/226 [==============================] - 3s 11ms/step - loss: 0.3307 - accuracy: 0.8573 - val_loss: 0.3364 - val_accuracy: 0.8517\n",
      "Epoch 3/10\n",
      "226/226 [==============================] - 3s 11ms/step - loss: 0.3030 - accuracy: 0.8692 - val_loss: 0.3336 - val_accuracy: 0.8544\n",
      "Epoch 4/10\n",
      "226/226 [==============================] - 3s 11ms/step - loss: 0.2754 - accuracy: 0.8820 - val_loss: 0.3383 - val_accuracy: 0.8534\n",
      "Epoch 5/10\n",
      "226/226 [==============================] - 3s 11ms/step - loss: 0.2508 - accuracy: 0.8926 - val_loss: 0.3531 - val_accuracy: 0.8503\n",
      "Epoch 6/10\n",
      "226/226 [==============================] - 3s 11ms/step - loss: 0.2268 - accuracy: 0.9033 - val_loss: 0.3813 - val_accuracy: 0.8490\n",
      "Epoch 7/10\n",
      "226/226 [==============================] - 3s 11ms/step - loss: 0.2053 - accuracy: 0.9140 - val_loss: 0.4110 - val_accuracy: 0.8470\n",
      "Epoch 8/10\n",
      "226/226 [==============================] - 3s 11ms/step - loss: 0.1845 - accuracy: 0.9219 - val_loss: 0.4442 - val_accuracy: 0.8434\n",
      "Epoch 9/10\n",
      "226/226 [==============================] - 3s 11ms/step - loss: 0.1655 - accuracy: 0.9311 - val_loss: 0.4614 - val_accuracy: 0.8423\n",
      "Epoch 10/10\n",
      "226/226 [==============================] - 3s 11ms/step - loss: 0.1441 - accuracy: 0.9406 - val_loss: 0.5128 - val_accuracy: 0.8339\n"
     ]
    }
   ],
   "source": [
    "model_lstm.compile(optimizer='adam',\n",
    "              loss='binary_crossentropy',\n",
    "              metrics=['accuracy'])\n",
    "              \n",
    "epochs=10  # 몇 epoch를 훈련하면 좋을지 결과를 보면서 바꾸어 봅시다. \n",
    "\n",
    "history_lstm = model_lstm.fit(partial_x_train,\n",
    "                    partial_y_train,\n",
    "                    epochs=epochs,\n",
    "                    batch_size=512,\n",
    "                    validation_data=(x_val, y_val),\n",
    "                    verbose=1)"
   ]
  },
  {
   "cell_type": "code",
   "execution_count": 134,
   "id": "ee018484",
   "metadata": {},
   "outputs": [
    {
     "name": "stdout",
     "output_type": "stream",
     "text": [
      "1520/1520 - 3s - loss: 0.5405 - accuracy: 0.8265\n",
      "[0.5404857993125916, 0.8265178203582764]\n"
     ]
    }
   ],
   "source": [
    "results_lstm = model_lstm.evaluate(X_test,  y_test, verbose=2)\n",
    "\n",
    "print(results_lstm)"
   ]
  },
  {
   "cell_type": "code",
   "execution_count": 135,
   "id": "e50807a8",
   "metadata": {},
   "outputs": [
    {
     "name": "stdout",
     "output_type": "stream",
     "text": [
      "dict_keys(['loss', 'accuracy', 'val_loss', 'val_accuracy'])\n"
     ]
    }
   ],
   "source": [
    "history_dict = history_lstm.history\n",
    "print(history_dict.keys()) # epoch에 따른 그래프를 그려볼 수 있는 항목들"
   ]
  },
  {
   "cell_type": "code",
   "execution_count": 136,
   "id": "a3290bba",
   "metadata": {},
   "outputs": [
    {
     "data": {
      "text/plain": [
       "[<matplotlib.lines.Line2D at 0x7f609fd84160>]"
      ]
     },
     "execution_count": 136,
     "metadata": {},
     "output_type": "execute_result"
    },
    {
     "data": {
      "text/plain": [
       "[<matplotlib.lines.Line2D at 0x7f609fd843a0>]"
      ]
     },
     "execution_count": 136,
     "metadata": {},
     "output_type": "execute_result"
    },
    {
     "data": {
      "text/plain": [
       "Text(0.5, 1.0, 'Training and validation loss')"
      ]
     },
     "execution_count": 136,
     "metadata": {},
     "output_type": "execute_result"
    },
    {
     "data": {
      "text/plain": [
       "Text(0.5, 0, 'Epochs')"
      ]
     },
     "execution_count": 136,
     "metadata": {},
     "output_type": "execute_result"
    },
    {
     "data": {
      "text/plain": [
       "Text(0, 0.5, 'Loss')"
      ]
     },
     "execution_count": 136,
     "metadata": {},
     "output_type": "execute_result"
    },
    {
     "data": {
      "text/plain": [
       "<matplotlib.legend.Legend at 0x7f609c677e80>"
      ]
     },
     "execution_count": 136,
     "metadata": {},
     "output_type": "execute_result"
    },
    {
     "data": {
      "image/png": "[encoded data removed]",
      "text/plain": [
       "<Figure size 432x288 with 1 Axes>"
      ]
     },
     "metadata": {
      "needs_background": "light"
     },
     "output_type": "display_data"
    }
   ],
   "source": [
    "import matplotlib.pyplot as plt\n",
    "\n",
    "acc = history_dict['accuracy']\n",
    "val_acc = history_dict['val_accuracy']\n",
    "loss = history_dict['loss']\n",
    "val_loss = history_dict['val_loss']\n",
    "\n",
    "epochs = range(1, len(acc) + 1)\n",
    "\n",
    "# \"bo\"는 \"파란색 점\"입니다\n",
    "plt.plot(epochs, loss, 'bo', label='Training loss')\n",
    "# b는 \"파란 실선\"입니다\n",
    "plt.plot(epochs, val_loss, 'b', label='Validation loss')\n",
    "plt.title('Training and validation loss')\n",
    "plt.xlabel('Epochs')\n",
    "plt.ylabel('Loss')\n",
    "plt.legend()\n",
    "\n",
    "plt.show()"
   ]
  },
  {
   "cell_type": "code",
   "execution_count": 137,
   "id": "76fee0b8",
   "metadata": {},
   "outputs": [
    {
     "data": {
      "text/plain": [
       "[<matplotlib.lines.Line2D at 0x7f609db71610>]"
      ]
     },
     "execution_count": 137,
     "metadata": {},
     "output_type": "execute_result"
    },
    {
     "data": {
      "text/plain": [
       "[<matplotlib.lines.Line2D at 0x7f609db71970>]"
      ]
     },
     "execution_count": 137,
     "metadata": {},
     "output_type": "execute_result"
    },
    {
     "data": {
      "text/plain": [
       "Text(0.5, 1.0, 'Training and validation accuracy')"
      ]
     },
     "execution_count": 137,
     "metadata": {},
     "output_type": "execute_result"
    },
    {
     "data": {
      "text/plain": [
       "Text(0.5, 0, 'Epochs')"
      ]
     },
     "execution_count": 137,
     "metadata": {},
     "output_type": "execute_result"
    },
    {
     "data": {
      "text/plain": [
       "Text(0, 0.5, 'Accuracy')"
      ]
     },
     "execution_count": 137,
     "metadata": {},
     "output_type": "execute_result"
    },
    {
     "data": {
      "text/plain": [
       "<matplotlib.legend.Legend at 0x7f609db71700>"
      ]
     },
     "execution_count": 137,
     "metadata": {},
     "output_type": "execute_result"
    },
    {
     "data": {
      "image/png": "[encoded data removed]",
      "text/plain": [
       "<Figure size 432x288 with 1 Axes>"
      ]
     },
     "metadata": {
      "needs_background": "light"
     },
     "output_type": "display_data"
    }
   ],
   "source": [
    "plt.clf()   # 그림을 초기화합니다\n",
    "\n",
    "plt.plot(epochs, acc, 'bo', label='Training acc')\n",
    "plt.plot(epochs, val_acc, 'b', label='Validation acc')\n",
    "plt.title('Training and validation accuracy')\n",
    "plt.xlabel('Epochs')\n",
    "plt.ylabel('Accuracy')\n",
    "plt.legend()\n",
    "\n",
    "plt.show()"
   ]
  },
  {
   "cell_type": "markdown",
   "id": "543760b6",
   "metadata": {},
   "source": [
    "#### SentencePiece\n",
    "* model_type = bpe\n",
    "* vocab_size = 8000"
   ]
  },
  {
   "cell_type": "code",
   "execution_count": 118,
   "id": "eb50a680",
   "metadata": {},
   "outputs": [],
   "source": [
    "vocab_size = 8000    # 어휘 사전의 크기입니다(8,000개의 단어)\n",
    "word_vector_dim = 100  # 워드 벡터의 차원 수 (변경 가능한 하이퍼파라미터)"
   ]
  },
  {
   "cell_type": "code",
   "execution_count": 119,
   "id": "160a09df",
   "metadata": {},
   "outputs": [
    {
     "name": "stdout",
     "output_type": "stream",
     "text": [
      "Model: \"sequential_3\"\n",
      "_________________________________________________________________\n",
      "Layer (type)                 Output Shape              Param #   \n",
      "=================================================================\n",
      "embedding_3 (Embedding)      (None, None, 100)         800000    \n",
      "_________________________________________________________________\n",
      "lstm_3 (LSTM)                (None, 100)               80400     \n",
      "_________________________________________________________________\n",
      "dense_3 (Dense)              (None, 1)                 101       \n",
      "=================================================================\n",
      "Total params: 880,501\n",
      "Trainable params: 880,501\n",
      "Non-trainable params: 0\n",
      "_________________________________________________________________\n"
     ]
    }
   ],
   "source": [
    "import tensorflow as tf\n",
    "\n",
    "# model 설계 - 딥러닝 모델 코드를 직접 작성해 주세요.\n",
    "model_lstm = tf.keras.Sequential()\n",
    "model_lstm.add(tf.keras.layers.Embedding(vocab_size, word_vector_dim, input_shape=(None,)))\n",
    "model_lstm.add(tf.keras.layers.LSTM(100))   # 가장 널리 쓰이는 RNN인 LSTM 레이어를 사용하였습니다. 이때 LSTM state 벡터의 차원수는 8로 하였습니다. (변경 가능)\n",
    "#model_lstm.add(tf.keras.layers.LSTM(100,activation='tanh'))   # 가장 널리 쓰이는 RNN인 LSTM 레이어를 사용하였습니다. 이때 LSTM state 벡터의 차원수는 8로 하였습니다. (변경 가능)\n",
    "model_lstm.add(tf.keras.layers.Dense(1, activation='sigmoid'))  # 최종 출력은 긍정/부정을 나타내는 1dim 입니다.\n",
    "\n",
    "model_lstm.summary()"
   ]
  },
  {
   "cell_type": "code",
   "execution_count": 120,
   "id": "e02dd40c",
   "metadata": {},
   "outputs": [
    {
     "name": "stdout",
     "output_type": "stream",
     "text": [
      "Epoch 1/10\n",
      "226/226 [==============================] - 4s 13ms/step - loss: 0.4392 - accuracy: 0.7947 - val_loss: 0.3505 - val_accuracy: 0.8476\n",
      "Epoch 2/10\n",
      "226/226 [==============================] - 3s 11ms/step - loss: 0.3325 - accuracy: 0.8563 - val_loss: 0.3380 - val_accuracy: 0.8516\n",
      "Epoch 3/10\n",
      "226/226 [==============================] - 3s 11ms/step - loss: 0.3068 - accuracy: 0.8669 - val_loss: 0.3334 - val_accuracy: 0.8530\n",
      "Epoch 4/10\n",
      "226/226 [==============================] - 3s 11ms/step - loss: 0.2820 - accuracy: 0.8782 - val_loss: 0.3404 - val_accuracy: 0.8536\n",
      "Epoch 5/10\n",
      "226/226 [==============================] - 3s 11ms/step - loss: 0.2579 - accuracy: 0.8891 - val_loss: 0.3469 - val_accuracy: 0.8517\n",
      "Epoch 6/10\n",
      "226/226 [==============================] - 3s 11ms/step - loss: 0.2354 - accuracy: 0.8986 - val_loss: 0.3618 - val_accuracy: 0.8494\n",
      "Epoch 7/10\n",
      "226/226 [==============================] - 3s 11ms/step - loss: 0.2131 - accuracy: 0.9086 - val_loss: 0.3984 - val_accuracy: 0.8474\n",
      "Epoch 8/10\n",
      "226/226 [==============================] - 3s 11ms/step - loss: 0.1926 - accuracy: 0.9175 - val_loss: 0.4317 - val_accuracy: 0.8420\n",
      "Epoch 9/10\n",
      "226/226 [==============================] - 3s 11ms/step - loss: 0.1770 - accuracy: 0.9254 - val_loss: 0.4731 - val_accuracy: 0.8430\n",
      "Epoch 10/10\n",
      "226/226 [==============================] - 3s 11ms/step - loss: 0.1557 - accuracy: 0.9352 - val_loss: 0.5224 - val_accuracy: 0.8369\n"
     ]
    }
   ],
   "source": [
    "model_lstm.compile(optimizer='adam',\n",
    "              loss='binary_crossentropy',\n",
    "              metrics=['accuracy'])\n",
    "              \n",
    "epochs=10  # 몇 epoch를 훈련하면 좋을지 결과를 보면서 바꾸어 봅시다. \n",
    "\n",
    "history_lstm = model_lstm.fit(partial_x_train,\n",
    "                    partial_y_train,\n",
    "                    epochs=epochs,\n",
    "                    batch_size=512,\n",
    "                    validation_data=(x_val, y_val),\n",
    "                    verbose=1)"
   ]
  },
  {
   "cell_type": "code",
   "execution_count": 121,
   "id": "36931278",
   "metadata": {},
   "outputs": [
    {
     "name": "stdout",
     "output_type": "stream",
     "text": [
      "1520/1520 - 3s - loss: 0.5397 - accuracy: 0.8326\n",
      "[0.5396754145622253, 0.8325623273849487]\n"
     ]
    }
   ],
   "source": [
    "results_lstm = model_lstm.evaluate(X_test,  y_test, verbose=2)\n",
    "\n",
    "print(results_lstm)"
   ]
  },
  {
   "cell_type": "code",
   "execution_count": 122,
   "id": "e3fa998d",
   "metadata": {},
   "outputs": [
    {
     "name": "stdout",
     "output_type": "stream",
     "text": [
      "dict_keys(['loss', 'accuracy', 'val_loss', 'val_accuracy'])\n"
     ]
    }
   ],
   "source": [
    "history_dict = history_lstm.history\n",
    "print(history_dict.keys()) # epoch에 따른 그래프를 그려볼 수 있는 항목들"
   ]
  },
  {
   "cell_type": "code",
   "execution_count": 123,
   "id": "c7da846e",
   "metadata": {},
   "outputs": [
    {
     "data": {
      "text/plain": [
       "[<matplotlib.lines.Line2D at 0x7f60a00e5820>]"
      ]
     },
     "execution_count": 123,
     "metadata": {},
     "output_type": "execute_result"
    },
    {
     "data": {
      "text/plain": [
       "[<matplotlib.lines.Line2D at 0x7f60a00e5a00>]"
      ]
     },
     "execution_count": 123,
     "metadata": {},
     "output_type": "execute_result"
    },
    {
     "data": {
      "text/plain": [
       "Text(0.5, 1.0, 'Training and validation loss')"
      ]
     },
     "execution_count": 123,
     "metadata": {},
     "output_type": "execute_result"
    },
    {
     "data": {
      "text/plain": [
       "Text(0.5, 0, 'Epochs')"
      ]
     },
     "execution_count": 123,
     "metadata": {},
     "output_type": "execute_result"
    },
    {
     "data": {
      "text/plain": [
       "Text(0, 0.5, 'Loss')"
      ]
     },
     "execution_count": 123,
     "metadata": {},
     "output_type": "execute_result"
    },
    {
     "data": {
      "text/plain": [
       "<matplotlib.legend.Legend at 0x7f609e2d02e0>"
      ]
     },
     "execution_count": 123,
     "metadata": {},
     "output_type": "execute_result"
    },
    {
     "data": {
      "image/png": "[encoded data removed]",
      "text/plain": [
       "<Figure size 432x288 with 1 Axes>"
      ]
     },
     "metadata": {
      "needs_background": "light"
     },
     "output_type": "display_data"
    }
   ],
   "source": [
    "import matplotlib.pyplot as plt\n",
    "\n",
    "acc = history_dict['accuracy']\n",
    "val_acc = history_dict['val_accuracy']\n",
    "loss = history_dict['loss']\n",
    "val_loss = history_dict['val_loss']\n",
    "\n",
    "epochs = range(1, len(acc) + 1)\n",
    "\n",
    "# \"bo\"는 \"파란색 점\"입니다\n",
    "plt.plot(epochs, loss, 'bo', label='Training loss')\n",
    "# b는 \"파란 실선\"입니다\n",
    "plt.plot(epochs, val_loss, 'b', label='Validation loss')\n",
    "plt.title('Training and validation loss')\n",
    "plt.xlabel('Epochs')\n",
    "plt.ylabel('Loss')\n",
    "plt.legend()\n",
    "\n",
    "plt.show()"
   ]
  },
  {
   "cell_type": "code",
   "execution_count": 124,
   "id": "77e717a0",
   "metadata": {},
   "outputs": [
    {
     "data": {
      "text/plain": [
       "[<matplotlib.lines.Line2D at 0x7f609fcf2070>]"
      ]
     },
     "execution_count": 124,
     "metadata": {},
     "output_type": "execute_result"
    },
    {
     "data": {
      "text/plain": [
       "[<matplotlib.lines.Line2D at 0x7f609fcf24f0>]"
      ]
     },
     "execution_count": 124,
     "metadata": {},
     "output_type": "execute_result"
    },
    {
     "data": {
      "text/plain": [
       "Text(0.5, 1.0, 'Training and validation accuracy')"
      ]
     },
     "execution_count": 124,
     "metadata": {},
     "output_type": "execute_result"
    },
    {
     "data": {
      "text/plain": [
       "Text(0.5, 0, 'Epochs')"
      ]
     },
     "execution_count": 124,
     "metadata": {},
     "output_type": "execute_result"
    },
    {
     "data": {
      "text/plain": [
       "Text(0, 0.5, 'Accuracy')"
      ]
     },
     "execution_count": 124,
     "metadata": {},
     "output_type": "execute_result"
    },
    {
     "data": {
      "text/plain": [
       "<matplotlib.legend.Legend at 0x7f609fcf27c0>"
      ]
     },
     "execution_count": 124,
     "metadata": {},
     "output_type": "execute_result"
    },
    {
     "data": {
      "image/png": "[encoded data removed]",
      "text/plain": [
       "<Figure size 432x288 with 1 Axes>"
      ]
     },
     "metadata": {
      "needs_background": "light"
     },
     "output_type": "display_data"
    }
   ],
   "source": [
    "plt.clf()   # 그림을 초기화합니다\n",
    "\n",
    "plt.plot(epochs, acc, 'bo', label='Training acc')\n",
    "plt.plot(epochs, val_acc, 'b', label='Validation acc')\n",
    "plt.title('Training and validation accuracy')\n",
    "plt.xlabel('Epochs')\n",
    "plt.ylabel('Accuracy')\n",
    "plt.legend()\n",
    "\n",
    "plt.show()"
   ]
  },
  {
   "cell_type": "markdown",
   "id": "fe911231",
   "metadata": {},
   "source": [
    "## 4. KoNLPy 형태소 분석기를 사용한 모델과 성능 비교하기"
   ]
  },
  {
   "cell_type": "markdown",
   "id": "cd5c3e94",
   "metadata": {},
   "source": [
    "### 1) 데이터로더 구성"
   ]
  },
  {
   "cell_type": "code",
   "execution_count": 139,
   "id": "445d33b6",
   "metadata": {},
   "outputs": [],
   "source": [
    "from konlpy.tag import Mecab\n",
    "#from konlpy.tag import Okt\n",
    "import numpy as np\n",
    "from collections import Counter\n",
    "\n",
    "tokenizer = Mecab()\n",
    "#tokenizer = Okt()\n",
    "stopwords = ['의','가','이','은','들','는','좀','잘','걍','과','도','를','으로','자','에','와','한','하다']\n",
    "\n",
    "def load_data(train_data, test_data, num_words=10000):\n",
    "    train_data.drop_duplicates(subset=['document'], inplace=True)\n",
    "    train_data = train_data.dropna(how = 'any') \n",
    "    test_data.drop_duplicates(subset=['document'], inplace=True)\n",
    "    test_data = test_data.dropna(how = 'any') \n",
    "    \n",
    "    X_train = []\n",
    "    for sentence in train_data['document']:\n",
    "        temp_X = tokenizer.morphs(sentence) # 토큰화\n",
    "        temp_X = [word for word in temp_X if not word in stopwords] # 불용어 제거\n",
    "        X_train.append(temp_X)\n",
    "\n",
    "    X_test = []\n",
    "    for sentence in test_data['document']:\n",
    "        temp_X = tokenizer.morphs(sentence) # 토큰화\n",
    "        temp_X = [word for word in temp_X if not word in stopwords] # 불용어 제거\n",
    "        X_test.append(temp_X)\n",
    "    \n",
    "    words = np.concatenate(X_train).tolist()\n",
    "    counter = Counter(words)\n",
    "    counter = counter.most_common(10000-4)\n",
    "    \n",
    "    vocab = ['<PAD>', '<BOS>', '<UNK>', '<UNUSED>'] + [key for key, _ in counter]\n",
    "    word_to_index = {word:index for index, word in enumerate(vocab)}\n",
    "        \n",
    "    def wordlist_to_indexlist(wordlist):\n",
    "        return [word_to_index[word] if word in word_to_index else word_to_index['<UNK>'] for word in wordlist]\n",
    "        \n",
    "    X_train = list(map(wordlist_to_indexlist, X_train))\n",
    "    X_test = list(map(wordlist_to_indexlist, X_test))\n",
    "        \n",
    "    return X_train, np.array(list(train_data['label'])), X_test, np.array(list(test_data['label'])), word_to_index\n",
    "    \n",
    "X_train, y_train, X_test, y_test, word_to_index = load_data(train_data, test_data) "
   ]
  },
  {
   "cell_type": "code",
   "execution_count": 148,
   "id": "d9edc42d",
   "metadata": {},
   "outputs": [
    {
     "data": {
      "text/plain": [
       "10000"
      ]
     },
     "execution_count": 148,
     "metadata": {},
     "output_type": "execute_result"
    }
   ],
   "source": [
    "index_to_word = {index:word for word, index in word_to_index.items()}\n",
    "len(index_to_word)"
   ]
  },
  {
   "cell_type": "code",
   "execution_count": 141,
   "id": "34237d15",
   "metadata": {},
   "outputs": [],
   "source": [
    "# 문장 1개를 활용할 딕셔너리와 함께 주면, 단어 인덱스 리스트 벡터로 변환해 주는 함수입니다. \n",
    "# 단, 모든 문장은 <BOS>로 시작하는 것으로 합니다. \n",
    "def get_encoded_sentence(sentence, word_to_index):\n",
    "    return [word_to_index['<BOS>']]+[word_to_index[word] if word in word_to_index else word_to_index['<UNK>'] for word in sentence.split()]\n",
    "\n",
    "# 여러 개의 문장 리스트를 한꺼번에 단어 인덱스 리스트 벡터로 encode해 주는 함수입니다. \n",
    "def get_encoded_sentences(sentences, word_to_index):\n",
    "    return [get_encoded_sentence(sentence, word_to_index) for sentence in sentences]\n",
    "\n",
    "# 숫자 벡터로 encode된 문장을 원래대로 decode하는 함수입니다. \n",
    "def get_decoded_sentence(encoded_sentence, index_to_word):\n",
    "    return ' '.join(index_to_word[index] if index in index_to_word else '<UNK>' for index in encoded_sentence[1:])  #[1:]를 통해 <BOS>를 제외\n",
    "\n",
    "# 여러 개의 숫자 벡터로 encode된 문장을 한꺼번에 원래대로 decode하는 함수입니다. \n",
    "def get_decoded_sentences(encoded_sentences, index_to_word):\n",
    "    return [get_decoded_sentence(encoded_sentence, index_to_word) for encoded_sentence in encoded_sentences]\n"
   ]
  },
  {
   "cell_type": "markdown",
   "id": "e6f2f7e0",
   "metadata": {},
   "source": [
    "### 2) 모델 구성을 위한 데이터 분석 및 가공"
   ]
  },
  {
   "cell_type": "code",
   "execution_count": 143,
   "id": "8e1598fe",
   "metadata": {},
   "outputs": [
    {
     "name": "stdout",
     "output_type": "stream",
     "text": [
      "문장길이 평균 :  14.145032429321706\n",
      "문장길이 최대 :  105\n",
      "문장길이 표준편차 :  11.622114130337575\n",
      "pad_sequences maxlen :  37\n",
      "전체 문장의 0.9346436403793013%가 maxlen 설정값 이내에 포함됩니다. \n"
     ]
    }
   ],
   "source": [
    "total_data_text = list(X_train) + list(X_test)\n",
    "# 텍스트데이터 문장길이의 리스트를 생성한 후\n",
    "num_tokens = [len(tokens) for tokens in total_data_text]\n",
    "num_tokens = np.array(num_tokens)\n",
    "# 문장길이의 평균값, 최대값, 표준편차를 계산해 본다. \n",
    "print('문장길이 평균 : ', np.mean(num_tokens))\n",
    "print('문장길이 최대 : ', np.max(num_tokens))\n",
    "print('문장길이 표준편차 : ', np.std(num_tokens))\n",
    "\n",
    "# 예를들어, 최대 길이를 (평균 + 2*표준편차)로 한다면,  \n",
    "max_tokens = np.mean(num_tokens) + 2 * np.std(num_tokens)\n",
    "maxlen = int(max_tokens)\n",
    "print('pad_sequences maxlen : ', maxlen)\n",
    "print('전체 문장의 {}%가 maxlen 설정값 이내에 포함됩니다. '.format(np.sum(num_tokens < max_tokens) / len(num_tokens)))\n"
   ]
  },
  {
   "cell_type": "code",
   "execution_count": 144,
   "id": "0b37933e",
   "metadata": {
    "scrolled": true
   },
   "outputs": [
    {
     "name": "stdout",
     "output_type": "stream",
     "text": [
      "(144242, 37)\n",
      "(48639, 37)\n",
      "37\n",
      "[  0   0   0   0   0   0   0   0   0   0   0   0   0   0   0   0   0   0\n",
      "   0   0   0   0   0   0   0   0   0   0   0  29  68 915  35 217  15  28\n",
      " 713]\n"
     ]
    }
   ],
   "source": [
    "X_train = tf.keras.preprocessing.sequence.pad_sequences(X_train,\n",
    "                                                       value=word_to_index[\"<PAD>\"],\n",
    "                                                       padding='pre',\n",
    "                                                       maxlen=maxlen)\n",
    "\n",
    "X_test = tf.keras.preprocessing.sequence.pad_sequences(X_test,\n",
    "                                                       value=word_to_index[\"<PAD>\"],\n",
    "                                                       padding='pre',\n",
    "                                                       maxlen=maxlen)\n",
    "print(X_train.shape)\n",
    "print(X_test.shape)\n",
    "print(len(X_train[0]))\n",
    "print(X_train[0])"
   ]
  },
  {
   "cell_type": "markdown",
   "id": "12cbca9e",
   "metadata": {},
   "source": [
    "### 3) 모델 구성 및 validation set 구성"
   ]
  },
  {
   "cell_type": "code",
   "execution_count": 149,
   "id": "4359dee8",
   "metadata": {},
   "outputs": [],
   "source": [
    "vocab_size = 10000    # 어휘 사전의 크기입니다(10,000개의 단어)\n",
    "word_vector_dim = 100  # 워드 벡터의 차원 수 (변경 가능한 하이퍼파라미터)"
   ]
  },
  {
   "cell_type": "code",
   "execution_count": 150,
   "id": "d62bf0da",
   "metadata": {},
   "outputs": [
    {
     "name": "stdout",
     "output_type": "stream",
     "text": [
      "Model: \"sequential_5\"\n",
      "_________________________________________________________________\n",
      "Layer (type)                 Output Shape              Param #   \n",
      "=================================================================\n",
      "embedding_5 (Embedding)      (None, None, 100)         1000000   \n",
      "_________________________________________________________________\n",
      "lstm_5 (LSTM)                (None, 100)               80400     \n",
      "_________________________________________________________________\n",
      "dense_5 (Dense)              (None, 1)                 101       \n",
      "=================================================================\n",
      "Total params: 1,080,501\n",
      "Trainable params: 1,080,501\n",
      "Non-trainable params: 0\n",
      "_________________________________________________________________\n"
     ]
    }
   ],
   "source": [
    "import tensorflow as tf\n",
    "\n",
    "# model 설계 - 딥러닝 모델 코드를 직접 작성해 주세요.\n",
    "model_lstm = tf.keras.Sequential()\n",
    "model_lstm.add(tf.keras.layers.Embedding(vocab_size, word_vector_dim, input_shape=(None,)))\n",
    "model_lstm.add(tf.keras.layers.LSTM(100))   # 가장 널리 쓰이는 RNN인 LSTM 레이어를 사용하였습니다. 이때 LSTM state 벡터의 차원수는 8로 하였습니다. (변경 가능)\n",
    "#model_lstm.add(tf.keras.layers.LSTM(100,activation='tanh'))   # 가장 널리 쓰이는 RNN인 LSTM 레이어를 사용하였습니다. 이때 LSTM state 벡터의 차원수는 8로 하였습니다. (변경 가능)\n",
    "model_lstm.add(tf.keras.layers.Dense(1, activation='sigmoid'))  # 최종 출력은 긍정/부정을 나타내는 1dim 입니다.\n",
    "\n",
    "model_lstm.summary()"
   ]
  },
  {
   "cell_type": "markdown",
   "id": "6e80b27e",
   "metadata": {},
   "source": [
    "#### validation set 구성"
   ]
  },
  {
   "cell_type": "code",
   "execution_count": 151,
   "id": "a3002c69",
   "metadata": {},
   "outputs": [
    {
     "name": "stdout",
     "output_type": "stream",
     "text": [
      "144242\n",
      "28848\n",
      "115394\n"
     ]
    }
   ],
   "source": [
    "print(X_train.shape[0])\n",
    "print(int(X_train.shape[0] * 0.2))\n",
    "print(X_train.shape[0] - int(X_train.shape[0] * 0.2))"
   ]
  },
  {
   "cell_type": "code",
   "execution_count": 154,
   "id": "9746ef22",
   "metadata": {},
   "outputs": [
    {
     "name": "stdout",
     "output_type": "stream",
     "text": [
      "(28848, 37)\n",
      "(115394, 37)\n"
     ]
    }
   ],
   "source": [
    "# validation set 29235건 분리\n",
    "x_val = X_train[:28848]   \n",
    "y_val = y_train[:28848]\n",
    "\n",
    "# validation set을 제외한 나머지 1116947건\n",
    "partial_x_train = X_train[28848:]  \n",
    "partial_y_train = y_train[28848:]\n",
    "\n",
    "print(x_val.shape)\n",
    "print(partial_x_train.shape)"
   ]
  },
  {
   "cell_type": "markdown",
   "id": "ed532d0e",
   "metadata": {},
   "source": [
    "### 4) LTSM 훈련 및 평가"
   ]
  },
  {
   "cell_type": "code",
   "execution_count": 155,
   "id": "ea68d013",
   "metadata": {},
   "outputs": [
    {
     "name": "stdout",
     "output_type": "stream",
     "text": [
      "Epoch 1/10\n",
      "226/226 [==============================] - 4s 11ms/step - loss: 0.4314 - accuracy: 0.8000 - val_loss: 0.3544 - val_accuracy: 0.8470\n",
      "Epoch 2/10\n",
      "226/226 [==============================] - 2s 9ms/step - loss: 0.3310 - accuracy: 0.8576 - val_loss: 0.3457 - val_accuracy: 0.8467\n",
      "Epoch 3/10\n",
      "226/226 [==============================] - 2s 9ms/step - loss: 0.3013 - accuracy: 0.8709 - val_loss: 0.3408 - val_accuracy: 0.8501\n",
      "Epoch 4/10\n",
      "226/226 [==============================] - 2s 9ms/step - loss: 0.2733 - accuracy: 0.8840 - val_loss: 0.3519 - val_accuracy: 0.8491\n",
      "Epoch 5/10\n",
      "226/226 [==============================] - 2s 9ms/step - loss: 0.2480 - accuracy: 0.8965 - val_loss: 0.3587 - val_accuracy: 0.8502\n",
      "Epoch 6/10\n",
      "226/226 [==============================] - 2s 9ms/step - loss: 0.2242 - accuracy: 0.9075 - val_loss: 0.3863 - val_accuracy: 0.8479\n",
      "Epoch 7/10\n",
      "226/226 [==============================] - 2s 9ms/step - loss: 0.2021 - accuracy: 0.9171 - val_loss: 0.4041 - val_accuracy: 0.8442\n",
      "Epoch 8/10\n",
      "226/226 [==============================] - 2s 9ms/step - loss: 0.1822 - accuracy: 0.9260 - val_loss: 0.4514 - val_accuracy: 0.8409\n",
      "Epoch 9/10\n",
      "226/226 [==============================] - 2s 9ms/step - loss: 0.1633 - accuracy: 0.9341 - val_loss: 0.5012 - val_accuracy: 0.8404\n",
      "Epoch 10/10\n",
      "226/226 [==============================] - 2s 9ms/step - loss: 0.1487 - accuracy: 0.9398 - val_loss: 0.5227 - val_accuracy: 0.8396\n"
     ]
    }
   ],
   "source": [
    "model_lstm.compile(optimizer='adam',\n",
    "              loss='binary_crossentropy',\n",
    "              metrics=['accuracy'])\n",
    "              \n",
    "epochs=10  # 몇 epoch를 훈련하면 좋을지 결과를 보면서 바꾸어 봅시다. \n",
    "\n",
    "history_lstm = model_lstm.fit(partial_x_train,\n",
    "                    partial_y_train,\n",
    "                    epochs=epochs,\n",
    "                    batch_size=512,\n",
    "                    validation_data=(x_val, y_val),\n",
    "                    verbose=1)"
   ]
  },
  {
   "cell_type": "code",
   "execution_count": 156,
   "id": "9e5ea605",
   "metadata": {},
   "outputs": [
    {
     "name": "stdout",
     "output_type": "stream",
     "text": [
      "1520/1520 - 3s - loss: 0.5320 - accuracy: 0.8344\n",
      "[0.532029926776886, 0.8344332575798035]\n"
     ]
    }
   ],
   "source": [
    "results_lstm = model_lstm.evaluate(X_test,  y_test, verbose=2)\n",
    "\n",
    "print(results_lstm)"
   ]
  },
  {
   "cell_type": "code",
   "execution_count": 157,
   "id": "6a7fcb91",
   "metadata": {},
   "outputs": [
    {
     "name": "stdout",
     "output_type": "stream",
     "text": [
      "dict_keys(['loss', 'accuracy', 'val_loss', 'val_accuracy'])\n"
     ]
    }
   ],
   "source": [
    "history_dict = history_lstm.history\n",
    "print(history_dict.keys()) # epoch에 따른 그래프를 그려볼 수 있는 항목들"
   ]
  },
  {
   "cell_type": "code",
   "execution_count": 158,
   "id": "50dfbb4c",
   "metadata": {},
   "outputs": [
    {
     "data": {
      "text/plain": [
       "[<matplotlib.lines.Line2D at 0x7f60a0588520>]"
      ]
     },
     "execution_count": 158,
     "metadata": {},
     "output_type": "execute_result"
    },
    {
     "data": {
      "text/plain": [
       "[<matplotlib.lines.Line2D at 0x7f60a0565730>]"
      ]
     },
     "execution_count": 158,
     "metadata": {},
     "output_type": "execute_result"
    },
    {
     "data": {
      "text/plain": [
       "Text(0.5, 1.0, 'Training and validation loss')"
      ]
     },
     "execution_count": 158,
     "metadata": {},
     "output_type": "execute_result"
    },
    {
     "data": {
      "text/plain": [
       "Text(0.5, 0, 'Epochs')"
      ]
     },
     "execution_count": 158,
     "metadata": {},
     "output_type": "execute_result"
    },
    {
     "data": {
      "text/plain": [
       "Text(0, 0.5, 'Loss')"
      ]
     },
     "execution_count": 158,
     "metadata": {},
     "output_type": "execute_result"
    },
    {
     "data": {
      "text/plain": [
       "<matplotlib.legend.Legend at 0x7f60a0565ca0>"
      ]
     },
     "execution_count": 158,
     "metadata": {},
     "output_type": "execute_result"
    },
    {
     "data": {
      "image/png": "[encoded data removed]",
      "text/plain": [
       "<Figure size 432x288 with 1 Axes>"
      ]
     },
     "metadata": {
      "needs_background": "light"
     },
     "output_type": "display_data"
    }
   ],
   "source": [
    "import matplotlib.pyplot as plt\n",
    "\n",
    "acc = history_dict['accuracy']\n",
    "val_acc = history_dict['val_accuracy']\n",
    "loss = history_dict['loss']\n",
    "val_loss = history_dict['val_loss']\n",
    "\n",
    "epochs = range(1, len(acc) + 1)\n",
    "\n",
    "# \"bo\"는 \"파란색 점\"입니다\n",
    "plt.plot(epochs, loss, 'bo', label='Training loss')\n",
    "# b는 \"파란 실선\"입니다\n",
    "plt.plot(epochs, val_loss, 'b', label='Validation loss')\n",
    "plt.title('Training and validation loss')\n",
    "plt.xlabel('Epochs')\n",
    "plt.ylabel('Loss')\n",
    "plt.legend()\n",
    "\n",
    "plt.show()"
   ]
  },
  {
   "cell_type": "code",
   "execution_count": 159,
   "id": "139f9acc",
   "metadata": {},
   "outputs": [
    {
     "data": {
      "text/plain": [
       "[<matplotlib.lines.Line2D at 0x7f609fec8e50>]"
      ]
     },
     "execution_count": 159,
     "metadata": {},
     "output_type": "execute_result"
    },
    {
     "data": {
      "text/plain": [
       "[<matplotlib.lines.Line2D at 0x7f609fece310>]"
      ]
     },
     "execution_count": 159,
     "metadata": {},
     "output_type": "execute_result"
    },
    {
     "data": {
      "text/plain": [
       "Text(0.5, 1.0, 'Training and validation accuracy')"
      ]
     },
     "execution_count": 159,
     "metadata": {},
     "output_type": "execute_result"
    },
    {
     "data": {
      "text/plain": [
       "Text(0.5, 0, 'Epochs')"
      ]
     },
     "execution_count": 159,
     "metadata": {},
     "output_type": "execute_result"
    },
    {
     "data": {
      "text/plain": [
       "Text(0, 0.5, 'Accuracy')"
      ]
     },
     "execution_count": 159,
     "metadata": {},
     "output_type": "execute_result"
    },
    {
     "data": {
      "text/plain": [
       "<matplotlib.legend.Legend at 0x7f609fece100>"
      ]
     },
     "execution_count": 159,
     "metadata": {},
     "output_type": "execute_result"
    },
    {
     "data": {
      "image/png": "[encoded data removed]",
      "text/plain": [
       "<Figure size 432x288 with 1 Axes>"
      ]
     },
     "metadata": {
      "needs_background": "light"
     },
     "output_type": "display_data"
    }
   ],
   "source": [
    "plt.clf()   # 그림을 초기화합니다\n",
    "\n",
    "plt.plot(epochs, acc, 'bo', label='Training acc')\n",
    "plt.plot(epochs, val_acc, 'b', label='Validation acc')\n",
    "plt.title('Training and validation accuracy')\n",
    "plt.xlabel('Epochs')\n",
    "plt.ylabel('Accuracy')\n",
    "plt.legend()\n",
    "\n",
    "plt.show()"
   ]
  },
  {
   "cell_type": "markdown",
   "id": "e3fc99b7",
   "metadata": {},
   "source": [
    "## 회고"
   ]
  },
  {
   "cell_type": "markdown",
   "id": "1f34d5c2",
   "metadata": {},
   "source": [
    "* 네이버 영화리뷰 감성 분석에서는 oov가 크게 문제가 되지 않는 것으로 보임.\n",
    "형태소 분석기와 SentencePiece tokenizer 결합 시에 정확도가 크게 차이가 나지 않음\n",
    "* SentencePiece 결합 시에 model type, 단어 개수에 따른 정확도 차이가 나지 않음\n",
    "\n"
   ]
  },
  {
   "cell_type": "markdown",
   "id": "7c0d1ebe",
   "metadata": {},
   "source": [
    "## 참고 문헌\n",
    "* [딥 러닝을 이용한 자연어 처리 입문](https://wikidocs.net/86657)"
   ]
  }
 ],
 "metadata": {
  "kernelspec": {
   "display_name": "Python 3 (ipykernel)",
   "language": "python",
   "name": "python3"
  },
  "language_info": {
   "codemirror_mode": {
    "name": "ipython",
    "version": 3
   },
   "file_extension": ".py",
   "mimetype": "text/x-python",
   "name": "python",
   "nbconvert_exporter": "python",
   "pygments_lexer": "ipython3",
   "version": "3.9.7"
  }
 },
 "nbformat": 4,
 "nbformat_minor": 5
}
