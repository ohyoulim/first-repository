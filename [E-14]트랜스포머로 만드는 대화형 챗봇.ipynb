{
 "cells": [
  {
   "cell_type": "markdown",
   "id": "501c9fb7",
   "metadata": {},
   "source": [
    "# 루브릭\n",
    "|평가문항|상세기준|self check|\n",
    "|:-------|:-------|:-----------------------|\n",
    "|1. 한국어 전처리를 통해 학습 데이터셋을 구축하였다.|공백과 특수문자 처리, 토크나이징, 병렬데이터 구축의 과정이 적절히 진행되었다.|OK|\n",
    "|2. 트랜스포머 모델을 구현하여 한국어 챗봇 모델 학습을 정상적으로 진행하였다.|구현한 트랜스포머 모델이 한국어 병렬 데이터 학습 시 안정적으로 수렴하였다.|OK|\n",
    "|3. 한국어 입력문장에 대해 한국어로 답변하는 함수를 구현하였다.|한국어 입력문장에 맥락에 맞는 한국어로 답변을 리턴하였다.|OK|\n"
   ]
  },
  {
   "cell_type": "markdown",
   "id": "7585fe6b",
   "metadata": {},
   "source": [
    "### dataset\n",
    "1. [songys/Chatbot_data](https://github.com/songys/Chatbot_data)\n",
    "  * 챗봇 트레이닝용 문답 페어 11,823개\n",
    "  * 일상다반사 0, 이별(부정) 1, 사랑(긍정) 2로 레이블링\n",
    "\n",
    "### 적용할 알고리즘\n",
    "1. Transformer 모델\n"
   ]
  },
  {
   "cell_type": "markdown",
   "id": "9ab8793c",
   "metadata": {},
   "source": [
    "## 문제 정의  \n",
    "\n",
    "> Transformer Model를 기반으로 한 인코더-디코더 구조를 바탕으로 한국어 챗봇 만들기  \n",
    "> 전처리 토크나이저 : SubwordTextEncoder 사용"
   ]
  },
  {
   "cell_type": "markdown",
   "id": "22bebd25",
   "metadata": {},
   "source": [
    "## 분석환경"
   ]
  },
  {
   "cell_type": "code",
   "execution_count": 208,
   "id": "41cb3604",
   "metadata": {},
   "outputs": [],
   "source": [
    "from IPython.core.interactiveshell import InteractiveShell\n",
    "InteractiveShell.ast_node_interactivity = \"all\"\n",
    "from IPython.display import Image"
   ]
  },
  {
   "cell_type": "code",
   "execution_count": 209,
   "id": "ff2571ae",
   "metadata": {},
   "outputs": [
    {
     "name": "stdout",
     "output_type": "stream",
     "text": [
      "2.6.0\n"
     ]
    }
   ],
   "source": [
    "import pandas as pd\n",
    "import numpy as np\n",
    "import matplotlib.pyplot as plt\n",
    "import re\n",
    "import urllib.request\n",
    "import time\n",
    "import tensorflow_datasets as tfds\n",
    "import tensorflow as tf\n",
    "print(tf.__version__)"
   ]
  },
  {
   "cell_type": "markdown",
   "id": "54411f4c",
   "metadata": {},
   "source": [
    "## Step 1. 데이터 수집하기"
   ]
  },
  {
   "cell_type": "code",
   "execution_count": 210,
   "id": "58ddb110",
   "metadata": {},
   "outputs": [
    {
     "data": {
      "text/html": [
       "<div>\n",
       "<style scoped>\n",
       "    .dataframe tbody tr th:only-of-type {\n",
       "        vertical-align: middle;\n",
       "    }\n",
       "\n",
       "    .dataframe tbody tr th {\n",
       "        vertical-align: top;\n",
       "    }\n",
       "\n",
       "    .dataframe thead th {\n",
       "        text-align: right;\n",
       "    }\n",
       "</style>\n",
       "<table border=\"1\" class=\"dataframe\">\n",
       "  <thead>\n",
       "    <tr style=\"text-align: right;\">\n",
       "      <th></th>\n",
       "      <th>Q</th>\n",
       "      <th>A</th>\n",
       "      <th>label</th>\n",
       "    </tr>\n",
       "  </thead>\n",
       "  <tbody>\n",
       "    <tr>\n",
       "      <th>0</th>\n",
       "      <td>12시 땡!</td>\n",
       "      <td>하루가 또 가네요.</td>\n",
       "      <td>0</td>\n",
       "    </tr>\n",
       "    <tr>\n",
       "      <th>1</th>\n",
       "      <td>1지망 학교 떨어졌어</td>\n",
       "      <td>위로해 드립니다.</td>\n",
       "      <td>0</td>\n",
       "    </tr>\n",
       "    <tr>\n",
       "      <th>2</th>\n",
       "      <td>3박4일 놀러가고 싶다</td>\n",
       "      <td>여행은 언제나 좋죠.</td>\n",
       "      <td>0</td>\n",
       "    </tr>\n",
       "    <tr>\n",
       "      <th>3</th>\n",
       "      <td>3박4일 정도 놀러가고 싶다</td>\n",
       "      <td>여행은 언제나 좋죠.</td>\n",
       "      <td>0</td>\n",
       "    </tr>\n",
       "    <tr>\n",
       "      <th>4</th>\n",
       "      <td>PPL 심하네</td>\n",
       "      <td>눈살이 찌푸려지죠.</td>\n",
       "      <td>0</td>\n",
       "    </tr>\n",
       "  </tbody>\n",
       "</table>\n",
       "</div>"
      ],
      "text/plain": [
       "                 Q            A  label\n",
       "0           12시 땡!   하루가 또 가네요.      0\n",
       "1      1지망 학교 떨어졌어    위로해 드립니다.      0\n",
       "2     3박4일 놀러가고 싶다  여행은 언제나 좋죠.      0\n",
       "3  3박4일 정도 놀러가고 싶다  여행은 언제나 좋죠.      0\n",
       "4          PPL 심하네   눈살이 찌푸려지죠.      0"
      ]
     },
     "execution_count": 210,
     "metadata": {},
     "output_type": "execute_result"
    }
   ],
   "source": [
    "train_data = pd.read_csv('./data/ChatbotData.csv')\n",
    "train_data.head()"
   ]
  },
  {
   "cell_type": "markdown",
   "id": "91cead3c",
   "metadata": {},
   "source": [
    "* 결측치 확인"
   ]
  },
  {
   "cell_type": "code",
   "execution_count": 211,
   "id": "81b82508",
   "metadata": {
    "scrolled": true
   },
   "outputs": [
    {
     "name": "stdout",
     "output_type": "stream",
     "text": [
      "Q        0\n",
      "A        0\n",
      "label    0\n",
      "dtype: int64\n"
     ]
    }
   ],
   "source": [
    "print(train_data.isnull().sum())"
   ]
  },
  {
   "cell_type": "markdown",
   "id": "587234ef",
   "metadata": {},
   "source": [
    "* 중복데이터 확인  \n",
    "  * Q에 대해서 161개의 중복이 존재하나, 해당Q에 대한 A는 다름.\n",
    "  * 답이 정해져 있는 경우가 아니므로, 중복 제거하지 않음"
   ]
  },
  {
   "cell_type": "code",
   "execution_count": 212,
   "id": "305fe237",
   "metadata": {
    "scrolled": false
   },
   "outputs": [
    {
     "data": {
      "text/plain": [
       "0"
      ]
     },
     "execution_count": 212,
     "metadata": {},
     "output_type": "execute_result"
    },
    {
     "data": {
      "text/plain": [
       "161"
      ]
     },
     "execution_count": 212,
     "metadata": {},
     "output_type": "execute_result"
    },
    {
     "data": {
      "text/plain": [
       "4044"
      ]
     },
     "execution_count": 212,
     "metadata": {},
     "output_type": "execute_result"
    }
   ],
   "source": [
    "train_data.duplicated().sum()\n",
    "train_data.duplicated(subset=['Q']).sum()\n",
    "train_data.duplicated(subset=['A']).sum()"
   ]
  },
  {
   "cell_type": "code",
   "execution_count": 213,
   "id": "9b9dbffa",
   "metadata": {},
   "outputs": [
    {
     "data": {
      "text/html": [
       "<div>\n",
       "<style scoped>\n",
       "    .dataframe tbody tr th:only-of-type {\n",
       "        vertical-align: middle;\n",
       "    }\n",
       "\n",
       "    .dataframe tbody tr th {\n",
       "        vertical-align: top;\n",
       "    }\n",
       "\n",
       "    .dataframe thead th {\n",
       "        text-align: right;\n",
       "    }\n",
       "</style>\n",
       "<table border=\"1\" class=\"dataframe\">\n",
       "  <thead>\n",
       "    <tr style=\"text-align: right;\">\n",
       "      <th></th>\n",
       "      <th>Q</th>\n",
       "      <th>A</th>\n",
       "      <th>label</th>\n",
       "    </tr>\n",
       "  </thead>\n",
       "  <tbody>\n",
       "    <tr>\n",
       "      <th>196</th>\n",
       "      <td>고양이 키우고 싶어</td>\n",
       "      <td>가족들과 상의해보세요.</td>\n",
       "      <td>0</td>\n",
       "    </tr>\n",
       "    <tr>\n",
       "      <th>235</th>\n",
       "      <td>공시 준비 힘들어</td>\n",
       "      <td>잘 될 거예요.</td>\n",
       "      <td>0</td>\n",
       "    </tr>\n",
       "    <tr>\n",
       "      <th>1294</th>\n",
       "      <td>돈 벌고 싶어</td>\n",
       "      <td>많이 벌수록 좋아요.</td>\n",
       "      <td>0</td>\n",
       "    </tr>\n",
       "    <tr>\n",
       "      <th>1445</th>\n",
       "      <td>로또 번호 알려줘</td>\n",
       "      <td>알면 제가 하죠.</td>\n",
       "      <td>0</td>\n",
       "    </tr>\n",
       "    <tr>\n",
       "      <th>1481</th>\n",
       "      <td>마음이 울적해</td>\n",
       "      <td>거리를 걸어보세요.</td>\n",
       "      <td>0</td>\n",
       "    </tr>\n",
       "    <tr>\n",
       "      <th>...</th>\n",
       "      <td>...</td>\n",
       "      <td>...</td>\n",
       "      <td>...</td>\n",
       "    </tr>\n",
       "    <tr>\n",
       "      <th>11642</th>\n",
       "      <td>착해서 잘해주는 건지 좋아하는 건지</td>\n",
       "      <td>헷갈린다고 말해보세요.</td>\n",
       "      <td>2</td>\n",
       "    </tr>\n",
       "    <tr>\n",
       "      <th>11649</th>\n",
       "      <td>첫 눈에 반하는게 가능해?</td>\n",
       "      <td>당연히 가능하죠.</td>\n",
       "      <td>2</td>\n",
       "    </tr>\n",
       "    <tr>\n",
       "      <th>11658</th>\n",
       "      <td>첫사랑 생각나</td>\n",
       "      <td>지금의 사랑에 충실하세요.</td>\n",
       "      <td>2</td>\n",
       "    </tr>\n",
       "    <tr>\n",
       "      <th>11732</th>\n",
       "      <td>커플여행이 나을까 그냥 우리끼리 갈까?</td>\n",
       "      <td>저는 둘이 가는 게 좋아요.</td>\n",
       "      <td>2</td>\n",
       "    </tr>\n",
       "    <tr>\n",
       "      <th>11819</th>\n",
       "      <td>훔쳐보는 것도 눈치 보임.</td>\n",
       "      <td>훔쳐보는 거 티나나봐요.</td>\n",
       "      <td>2</td>\n",
       "    </tr>\n",
       "  </tbody>\n",
       "</table>\n",
       "<p>161 rows × 3 columns</p>\n",
       "</div>"
      ],
      "text/plain": [
       "                           Q                A  label\n",
       "196               고양이 키우고 싶어     가족들과 상의해보세요.      0\n",
       "235                공시 준비 힘들어         잘 될 거예요.      0\n",
       "1294                 돈 벌고 싶어      많이 벌수록 좋아요.      0\n",
       "1445               로또 번호 알려줘        알면 제가 하죠.      0\n",
       "1481                 마음이 울적해       거리를 걸어보세요.      0\n",
       "...                      ...              ...    ...\n",
       "11642    착해서 잘해주는 건지 좋아하는 건지     헷갈린다고 말해보세요.      2\n",
       "11649         첫 눈에 반하는게 가능해?        당연히 가능하죠.      2\n",
       "11658                첫사랑 생각나   지금의 사랑에 충실하세요.      2\n",
       "11732  커플여행이 나을까 그냥 우리끼리 갈까?  저는 둘이 가는 게 좋아요.      2\n",
       "11819         훔쳐보는 것도 눈치 보임.    훔쳐보는 거 티나나봐요.      2\n",
       "\n",
       "[161 rows x 3 columns]"
      ]
     },
     "execution_count": 213,
     "metadata": {},
     "output_type": "execute_result"
    },
    {
     "data": {
      "text/html": [
       "<div>\n",
       "<style scoped>\n",
       "    .dataframe tbody tr th:only-of-type {\n",
       "        vertical-align: middle;\n",
       "    }\n",
       "\n",
       "    .dataframe tbody tr th {\n",
       "        vertical-align: top;\n",
       "    }\n",
       "\n",
       "    .dataframe thead th {\n",
       "        text-align: right;\n",
       "    }\n",
       "</style>\n",
       "<table border=\"1\" class=\"dataframe\">\n",
       "  <thead>\n",
       "    <tr style=\"text-align: right;\">\n",
       "      <th></th>\n",
       "      <th>Q</th>\n",
       "      <th>A</th>\n",
       "      <th>label</th>\n",
       "    </tr>\n",
       "  </thead>\n",
       "  <tbody>\n",
       "    <tr>\n",
       "      <th>195</th>\n",
       "      <td>고양이 키우고 싶어</td>\n",
       "      <td>자신을 먼저 키우세요.</td>\n",
       "      <td>0</td>\n",
       "    </tr>\n",
       "    <tr>\n",
       "      <th>196</th>\n",
       "      <td>고양이 키우고 싶어</td>\n",
       "      <td>가족들과 상의해보세요.</td>\n",
       "      <td>0</td>\n",
       "    </tr>\n",
       "  </tbody>\n",
       "</table>\n",
       "</div>"
      ],
      "text/plain": [
       "              Q             A  label\n",
       "195  고양이 키우고 싶어  자신을 먼저 키우세요.      0\n",
       "196  고양이 키우고 싶어  가족들과 상의해보세요.      0"
      ]
     },
     "execution_count": 213,
     "metadata": {},
     "output_type": "execute_result"
    },
    {
     "data": {
      "text/html": [
       "<div>\n",
       "<style scoped>\n",
       "    .dataframe tbody tr th:only-of-type {\n",
       "        vertical-align: middle;\n",
       "    }\n",
       "\n",
       "    .dataframe tbody tr th {\n",
       "        vertical-align: top;\n",
       "    }\n",
       "\n",
       "    .dataframe thead th {\n",
       "        text-align: right;\n",
       "    }\n",
       "</style>\n",
       "<table border=\"1\" class=\"dataframe\">\n",
       "  <thead>\n",
       "    <tr style=\"text-align: right;\">\n",
       "      <th></th>\n",
       "      <th>Q</th>\n",
       "      <th>A</th>\n",
       "      <th>label</th>\n",
       "    </tr>\n",
       "  </thead>\n",
       "  <tbody>\n",
       "    <tr>\n",
       "      <th>234</th>\n",
       "      <td>공시 준비 힘들어</td>\n",
       "      <td>합격 기원해요!</td>\n",
       "      <td>0</td>\n",
       "    </tr>\n",
       "    <tr>\n",
       "      <th>235</th>\n",
       "      <td>공시 준비 힘들어</td>\n",
       "      <td>잘 될 거예요.</td>\n",
       "      <td>0</td>\n",
       "    </tr>\n",
       "  </tbody>\n",
       "</table>\n",
       "</div>"
      ],
      "text/plain": [
       "             Q         A  label\n",
       "234  공시 준비 힘들어  합격 기원해요!      0\n",
       "235  공시 준비 힘들어  잘 될 거예요.      0"
      ]
     },
     "execution_count": 213,
     "metadata": {},
     "output_type": "execute_result"
    },
    {
     "data": {
      "text/html": [
       "<div>\n",
       "<style scoped>\n",
       "    .dataframe tbody tr th:only-of-type {\n",
       "        vertical-align: middle;\n",
       "    }\n",
       "\n",
       "    .dataframe tbody tr th {\n",
       "        vertical-align: top;\n",
       "    }\n",
       "\n",
       "    .dataframe thead th {\n",
       "        text-align: right;\n",
       "    }\n",
       "</style>\n",
       "<table border=\"1\" class=\"dataframe\">\n",
       "  <thead>\n",
       "    <tr style=\"text-align: right;\">\n",
       "      <th></th>\n",
       "      <th>Q</th>\n",
       "      <th>A</th>\n",
       "      <th>label</th>\n",
       "    </tr>\n",
       "  </thead>\n",
       "  <tbody>\n",
       "    <tr>\n",
       "      <th>1293</th>\n",
       "      <td>돈 벌고 싶어</td>\n",
       "      <td>저도요.</td>\n",
       "      <td>0</td>\n",
       "    </tr>\n",
       "    <tr>\n",
       "      <th>1294</th>\n",
       "      <td>돈 벌고 싶어</td>\n",
       "      <td>많이 벌수록 좋아요.</td>\n",
       "      <td>0</td>\n",
       "    </tr>\n",
       "  </tbody>\n",
       "</table>\n",
       "</div>"
      ],
      "text/plain": [
       "            Q            A  label\n",
       "1293  돈 벌고 싶어         저도요.      0\n",
       "1294  돈 벌고 싶어  많이 벌수록 좋아요.      0"
      ]
     },
     "execution_count": 213,
     "metadata": {},
     "output_type": "execute_result"
    }
   ],
   "source": [
    "mask = train_data.duplicated(subset=['Q']) == True\n",
    "train_data[mask]\n",
    "\n",
    "train_data[train_data['Q'] == train_data.loc[196,'Q']]\n",
    "train_data[train_data['Q'] == train_data.loc[235,'Q']]\n",
    "train_data[train_data['Q'] == train_data.loc[1294]['Q']]"
   ]
  },
  {
   "cell_type": "code",
   "execution_count": 214,
   "id": "58c13c49",
   "metadata": {},
   "outputs": [
    {
     "name": "stdout",
     "output_type": "stream",
     "text": [
      "샘플의 개수 : 11823\n"
     ]
    }
   ],
   "source": [
    "MAX_SAMPLES = len(train_data)\n",
    "print('샘플의 개수 :', len(train_data))"
   ]
  },
  {
   "cell_type": "markdown",
   "id": "b02105a5",
   "metadata": {},
   "source": [
    "## Step 2. 데이터 전처리하기"
   ]
  },
  {
   "cell_type": "markdown",
   "id": "89efbaf7",
   "metadata": {},
   "source": [
    "1. 문장에서 단어와 구두점 사이에 공백 추가\n",
    "2. 모든 특수 문자 제거하지 않음  \n",
    "   샘플 데이터를 봤을 때, 한글, 알파벳, 숫자 포함되어 있어서, 특별히 제거하지 않음\n",
    "3. 전체 샘플 개수(11823개)의 questions, answers 추출"
   ]
  },
  {
   "cell_type": "code",
   "execution_count": 215,
   "id": "4c7fff9f",
   "metadata": {},
   "outputs": [],
   "source": [
    "# 전처리 함수\n",
    "def preprocess_sentence(sentence):\n",
    "  sentence = sentence.lower().strip()\n",
    "\n",
    "  # 단어와 구두점(punctuation) 사이의 거리를 만듭니다.\n",
    "  # 예를 들어서 \"I am a student.\" => \"I am a student .\"와 같이\n",
    "  # student와 온점 사이에 거리를 만듭니다.\n",
    "  sentence = re.sub(r\"([?.!,])\", r\" \\1 \", sentence)\n",
    "  sentence = re.sub(r'[\" \"]+', \" \", sentence)\n",
    "\n",
    "  # (a-z, A-Z, \".\", \"?\", \"!\", \",\")를 제외한 모든 문자를 공백인 ' '로 대체합니다.\n",
    "  #sentence = re.sub(r\"[^a-zA-Z?.!가-힣ㄱ-ㅎㅏ-ㅣ0-9]+\", \" \", sentence)\n",
    "  sentence = sentence.strip()\n",
    "  return sentence"
   ]
  },
  {
   "cell_type": "code",
   "execution_count": 216,
   "id": "1cc7fe2a",
   "metadata": {},
   "outputs": [],
   "source": [
    "# 질문과 답변의 쌍인 데이터셋을 구성하기 위한 데이터 로드 함수\n",
    "def load_conversations():\n",
    "  inputs, outputs = [], []\n",
    "  for i in range(MAX_SAMPLES):\n",
    "    # 전처리 함수를 질문에 해당되는 inputs와 답변에 해당되는 outputs에 적용.\n",
    "    inputs.append(preprocess_sentence(train_data['Q'].values[i]))\n",
    "    outputs.append(preprocess_sentence(train_data['A'].values[i]))\n",
    "\n",
    "  return inputs, outputs "
   ]
  },
  {
   "cell_type": "code",
   "execution_count": 217,
   "id": "3872a1df",
   "metadata": {},
   "outputs": [
    {
     "name": "stdout",
     "output_type": "stream",
     "text": [
      "전체 샘플 수 : 11823\n",
      "전체 샘플 수 : 11823\n"
     ]
    }
   ],
   "source": [
    "# 데이터를 로드하고 전처리하여 질문을 questions, 답변을 answers에 저장합니다.\n",
    "questions, answers = load_conversations()\n",
    "print('전체 샘플 수 :', len(questions))\n",
    "print('전체 샘플 수 :', len(answers))"
   ]
  },
  {
   "cell_type": "markdown",
   "id": "9345e8ec",
   "metadata": {},
   "source": [
    "* 임의의 샘플 확인"
   ]
  },
  {
   "cell_type": "code",
   "execution_count": 218,
   "id": "0d743f1a",
   "metadata": {},
   "outputs": [
    {
     "name": "stdout",
     "output_type": "stream",
     "text": [
      "전처리 후의 22번째 질문 샘플: 가스비 장난 아님\n",
      "전처리 후의 22번째 답변 샘플: 다음 달에는 더 절약해봐요 .\n"
     ]
    }
   ],
   "source": [
    "print('전처리 후의 22번째 질문 샘플: {}'.format(questions[21]))\n",
    "print('전처리 후의 22번째 답변 샘플: {}'.format(answers[21]))"
   ]
  },
  {
   "cell_type": "code",
   "execution_count": 219,
   "id": "1e35057d",
   "metadata": {},
   "outputs": [
    {
     "name": "stdout",
     "output_type": "stream",
     "text": [
      "전처리 후의 질문 샘플: ['12시 땡 !', '1지망 학교 떨어졌어', '3박4일 놀러가고 싶다', '3박4일 정도 놀러가고 싶다', 'ppl 심하네']\n",
      "전처리 후의 답변 샘플: ['하루가 또 가네요 .', '위로해 드립니다 .', '여행은 언제나 좋죠 .', '여행은 언제나 좋죠 .', '눈살이 찌푸려지죠 .']\n"
     ]
    }
   ],
   "source": [
    "print('전처리 후의 질문 샘플: {}'.format(questions[:5]))\n",
    "print('전처리 후의 답변 샘플: {}'.format(answers[:5]))"
   ]
  },
  {
   "cell_type": "markdown",
   "id": "289ea920",
   "metadata": {},
   "source": [
    "## Step 3. SubwordTextEncoder 사용하기\n",
    "  * 단어보다 더 작은 단위인 Subword를 기준으로 토크나이징 하기"
   ]
  },
  {
   "cell_type": "markdown",
   "id": "2f19fd88",
   "metadata": {},
   "source": [
    "#### 단어장(Vocabulary)만들기"
   ]
  },
  {
   "cell_type": "code",
   "execution_count": 220,
   "id": "6b13c7b1",
   "metadata": {},
   "outputs": [],
   "source": [
    "import tensorflow_datasets as tfds\n",
    "\n",
    "# 서브워드텍스트인코더를 사용하여 질문, 답변 데이터로부터 단어 집합(Vocabulary) 생성\n",
    "tokenizer = tfds.deprecated.text.SubwordTextEncoder.build_from_corpus(\n",
    "    questions + answers, target_vocab_size=2**13)"
   ]
  },
  {
   "cell_type": "code",
   "execution_count": 221,
   "id": "9bc88b7e",
   "metadata": {},
   "outputs": [
    {
     "data": {
      "text/plain": [
       "8173"
      ]
     },
     "execution_count": 221,
     "metadata": {},
     "output_type": "execute_result"
    }
   ],
   "source": [
    "tokenizer.vocab_size"
   ]
  },
  {
   "cell_type": "code",
   "execution_count": 222,
   "id": "0c7edc5b",
   "metadata": {},
   "outputs": [],
   "source": [
    "# 시작 토큰과 종료 토큰에 대한 정수 부여.\n",
    "START_TOKEN, END_TOKEN = [tokenizer.vocab_size], [tokenizer.vocab_size + 1]\n",
    "\n",
    "# 시작 토큰과 종료 토큰을 고려하여 단어 집합의 크기를 + 2\n",
    "VOCAB_SIZE = tokenizer.vocab_size + 2"
   ]
  },
  {
   "cell_type": "code",
   "execution_count": 223,
   "id": "a2492112",
   "metadata": {},
   "outputs": [
    {
     "name": "stdout",
     "output_type": "stream",
     "text": [
      "시작 토큰 번호 : [8173]\n",
      "종료 토큰 번호 : [8174]\n",
      "단어 집합의 크기 : 8175\n"
     ]
    }
   ],
   "source": [
    "print('시작 토큰 번호 :',START_TOKEN)\n",
    "print('종료 토큰 번호 :',END_TOKEN)\n",
    "print('단어 집합의 크기 :',VOCAB_SIZE)"
   ]
  },
  {
   "cell_type": "markdown",
   "id": "8a1c4f7e",
   "metadata": {},
   "source": [
    "#### 정수 인코딩(Integer encoding)과 패딩(padding)"
   ]
  },
  {
   "cell_type": "code",
   "execution_count": 224,
   "id": "9b1a31fb",
   "metadata": {},
   "outputs": [
    {
     "name": "stdout",
     "output_type": "stream",
     "text": [
      "정수 인코딩 후의 21번째 질문 샘플: [5763, 610, 2492, 4164]\n",
      "정수 인코딩 후의 21번째 답변 샘플: [2356, 7513, 7, 6276, 97, 1]\n"
     ]
    }
   ],
   "source": [
    "# 임의의 22번째 샘플에 대해서 정수 인코딩 작업을 수행.\n",
    "# 각 토큰을 고유한 정수로 변환\n",
    "print('정수 인코딩 후의 21번째 질문 샘플: {}'.format(tokenizer.encode(questions[21])))\n",
    "print('정수 인코딩 후의 21번째 답변 샘플: {}'.format(tokenizer.encode(answers[21])))"
   ]
  },
  {
   "cell_type": "code",
   "execution_count": 225,
   "id": "862e3a9e",
   "metadata": {},
   "outputs": [
    {
     "name": "stdout",
     "output_type": "stream",
     "text": [
      "정수 인코딩 후의 문장 [5763, 610, 2492, 4164]\n",
      "기존 문장: 가스비 장난 아님\n"
     ]
    }
   ],
   "source": [
    "# 서브워드텍스트인코더 토크나이저의 .encode()와 .decode() 테스트해보기\n",
    "# 임의의 입력 문장을 sample_string에 저장\n",
    "sample_string = questions[21]\n",
    "\n",
    "# encode() : 텍스트 시퀀스 --> 정수 시퀀스\n",
    "tokenized_string = tokenizer.encode(sample_string)\n",
    "print ('정수 인코딩 후의 문장 {}'.format(tokenized_string))\n",
    "\n",
    "# decode() : 정수 시퀀스 --> 텍스트 시퀀스\n",
    "original_string = tokenizer.decode(tokenized_string)\n",
    "print ('기존 문장: {}'.format(original_string))"
   ]
  },
  {
   "cell_type": "code",
   "execution_count": 226,
   "id": "ed9fe56b",
   "metadata": {},
   "outputs": [
    {
     "name": "stdout",
     "output_type": "stream",
     "text": [
      "5763 ----> 가스\n",
      "610 ----> 비 \n",
      "2492 ----> 장난 \n",
      "4164 ----> 아님\n"
     ]
    }
   ],
   "source": [
    "# 각 정수는 각 단어와 어떻게 mapping되는지 병렬로 출력\n",
    "# 서브워드텍스트인코더는 의미있는 단위의 서브워드로 토크나이징한다. 띄어쓰기 단위 X 형태소 분석 단위 X\n",
    "for ts in tokenized_string:\n",
    "  print ('{} ----> {}'.format(ts, tokenizer.decode([ts])))"
   ]
  },
  {
   "cell_type": "code",
   "execution_count": 227,
   "id": "0cf27513",
   "metadata": {},
   "outputs": [
    {
     "name": "stdout",
     "output_type": "stream",
     "text": [
      "40\n"
     ]
    }
   ],
   "source": [
    "# 샘플의 최대 허용 길이 또는 패딩 후의 최종 길이\n",
    "MAX_LENGTH = 40\n",
    "print(MAX_LENGTH)"
   ]
  },
  {
   "cell_type": "code",
   "execution_count": 228,
   "id": "37e2ac97",
   "metadata": {},
   "outputs": [],
   "source": [
    "# 정수 인코딩, 최대 길이를 초과하는 샘플 제거, 패딩\n",
    "def tokenize_and_filter(inputs, outputs):\n",
    "  tokenized_inputs, tokenized_outputs = [], []\n",
    "  \n",
    "  for (sentence1, sentence2) in zip(inputs, outputs):\n",
    "    # 정수 인코딩 과정에서 시작 토큰과 종료 토큰을 추가\n",
    "    sentence1 = START_TOKEN + tokenizer.encode(sentence1) + END_TOKEN\n",
    "    sentence2 = START_TOKEN + tokenizer.encode(sentence2) + END_TOKEN\n",
    "\n",
    "    # 최대 길이 40 이하인 경우에만 데이터셋으로 허용\n",
    "    if len(sentence1) <= MAX_LENGTH and len(sentence2) <= MAX_LENGTH:\n",
    "      tokenized_inputs.append(sentence1)\n",
    "      tokenized_outputs.append(sentence2)\n",
    "  \n",
    "  # 최대 길이 40으로 모든 데이터셋을 패딩\n",
    "  tokenized_inputs = tf.keras.preprocessing.sequence.pad_sequences(\n",
    "      tokenized_inputs, maxlen=MAX_LENGTH, padding='post')\n",
    "  tokenized_outputs = tf.keras.preprocessing.sequence.pad_sequences(\n",
    "      tokenized_outputs, maxlen=MAX_LENGTH, padding='post')\n",
    "  \n",
    "  return tokenized_inputs, tokenized_outputs"
   ]
  },
  {
   "cell_type": "code",
   "execution_count": 229,
   "id": "80a1ad9c",
   "metadata": {},
   "outputs": [
    {
     "name": "stdout",
     "output_type": "stream",
     "text": [
      "단어장의 크기 : 8175\n",
      "필터링 후의 질문 샘플 개수: 11823\n",
      "필터링 후의 답변 샘플 개수: 11823\n"
     ]
    }
   ],
   "source": [
    "questions, answers = tokenize_and_filter(questions, answers)\n",
    "print('단어장의 크기 :',(VOCAB_SIZE))\n",
    "print('필터링 후의 질문 샘플 개수: {}'.format(len(questions)))\n",
    "print('필터링 후의 답변 샘플 개수: {}'.format(len(answers)))"
   ]
  },
  {
   "cell_type": "code",
   "execution_count": 230,
   "id": "7eb9958e",
   "metadata": {},
   "outputs": [
    {
     "name": "stdout",
     "output_type": "stream",
     "text": [
      "[8173 5763  610 2492 4164 8174    0    0    0    0    0    0    0    0\n",
      "    0    0    0    0    0    0    0    0    0    0    0    0    0    0\n",
      "    0    0    0    0    0    0    0    0    0    0    0    0]\n",
      "[8173 2356 7513    7 6276   97    1 8174    0    0    0    0    0    0\n",
      "    0    0    0    0    0    0    0    0    0    0    0    0    0    0\n",
      "    0    0    0    0    0    0    0    0    0    0    0    0]\n"
     ]
    }
   ],
   "source": [
    "# 22번 샘플을 임의로 출력\n",
    "print(questions[21])\n",
    "print(answers[21])"
   ]
  },
  {
   "cell_type": "markdown",
   "id": "5c59a520",
   "metadata": {},
   "source": [
    "#### 교사 강요(Teacher Forcing) 사용하기"
   ]
  },
  {
   "cell_type": "code",
   "execution_count": 231,
   "id": "08e8c1dd",
   "metadata": {},
   "outputs": [],
   "source": [
    "# 텐서플로우 dataset을 이용하여 셔플(shuffle)을 수행하되, 배치 크기로 데이터를 묶는다.\n",
    "# 또한 이 과정에서 교사 강요(teacher forcing)을 사용하기 위해서 디코더의 입력과 실제값 시퀀스를 구성한다.\n",
    "BATCH_SIZE = 64\n",
    "BUFFER_SIZE = 20000\n",
    "\n",
    "# 디코더의 실제값 시퀀스에서는 시작 토큰을 제거해야 한다.\n",
    "dataset = tf.data.Dataset.from_tensor_slices((\n",
    "    {\n",
    "        'inputs': questions,\n",
    "        'dec_inputs': answers[:, :-1] # 디코더의 입력. 마지막 패딩 토큰이 제거된다.\n",
    "    },\n",
    "    {\n",
    "        'outputs': answers[:, 1:]  # 맨 처음 토큰이 제거된다. 다시 말해 시작 토큰이 제거된다.\n",
    "    },\n",
    "))\n",
    "\n",
    "dataset = dataset.cache()\n",
    "dataset = dataset.shuffle(BUFFER_SIZE)\n",
    "dataset = dataset.batch(BATCH_SIZE)\n",
    "dataset = dataset.prefetch(tf.data.experimental.AUTOTUNE)"
   ]
  },
  {
   "cell_type": "code",
   "execution_count": 232,
   "id": "b8d89483",
   "metadata": {},
   "outputs": [
    {
     "name": "stdout",
     "output_type": "stream",
     "text": [
      "[8173 3841   74 7891    1 8174    0    0    0    0    0    0    0    0\n",
      "    0    0    0    0    0    0    0    0    0    0    0    0    0    0\n",
      "    0    0    0    0    0    0    0    0    0    0    0    0]\n",
      "[[8173 3841   74 7891    1 8174    0    0    0    0    0    0    0    0\n",
      "     0    0    0    0    0    0    0    0    0    0    0    0    0    0\n",
      "     0    0    0    0    0    0    0    0    0    0    0]]\n",
      "[[3841   74 7891    1 8174    0    0    0    0    0    0    0    0    0\n",
      "     0    0    0    0    0    0    0    0    0    0    0    0    0    0\n",
      "     0    0    0    0    0    0    0    0    0    0    0]]\n"
     ]
    }
   ],
   "source": [
    "# 임의의 샘플에 대해서 [:, :-1]과 [:, 1:]이 어떤 의미를 가지는지 테스트해본다.\n",
    "print(answers[0]) # 기존 샘플\n",
    "print(answers[:1][:, :-1]) # 마지막 패딩 토큰 제거하면서 길이가 39가 된다.\n",
    "print(answers[:1][:, 1:]) # 맨 처음 토큰이 제거된다. 다시 말해 시작 토큰이 제거된다. 길이는 역시 39가 된다."
   ]
  },
  {
   "cell_type": "markdown",
   "id": "86e5d08a",
   "metadata": {},
   "source": [
    "## Step 4. 모델 구성하기"
   ]
  },
  {
   "cell_type": "code",
   "execution_count": 233,
   "id": "4152e143",
   "metadata": {},
   "outputs": [],
   "source": [
    "# 포지셔널 인코딩 레이어\n",
    "class PositionalEncoding(tf.keras.layers.Layer):\n",
    "\n",
    "  def __init__(self, position, d_model):\n",
    "    super(PositionalEncoding, self).__init__()\n",
    "    self.pos_encoding = self.positional_encoding(position, d_model)\n",
    "\n",
    "  def get_angles(self, position, i, d_model):\n",
    "    angles = 1 / tf.pow(10000, (2 * (i // 2)) / tf.cast(d_model, tf.float32))\n",
    "    return position * angles\n",
    "\n",
    "  def positional_encoding(self, position, d_model):\n",
    "    # 각도 배열 생성\n",
    "    angle_rads = self.get_angles(\n",
    "        position=tf.range(position, dtype=tf.float32)[:, tf.newaxis],\n",
    "        i=tf.range(d_model, dtype=tf.float32)[tf.newaxis, :],\n",
    "        d_model=d_model)\n",
    "\n",
    "    # 배열의 짝수 인덱스에는 sin 함수 적용\n",
    "    sines = tf.math.sin(angle_rads[:, 0::2])\n",
    "    # 배열의 홀수 인덱스에는 cosine 함수 적용\n",
    "    cosines = tf.math.cos(angle_rads[:, 1::2])\n",
    "\n",
    "    # sin과 cosine이 교차되도록 재배열\n",
    "    pos_encoding = tf.stack([sines, cosines], axis=0)\n",
    "    pos_encoding = tf.transpose(pos_encoding,[1, 2, 0]) \n",
    "    pos_encoding = tf.reshape(pos_encoding, [position, d_model])\n",
    "\n",
    "    pos_encoding = pos_encoding[tf.newaxis, ...]\n",
    "    return tf.cast(pos_encoding, tf.float32)\n",
    "\n",
    "  def call(self, inputs):\n",
    "    return inputs + self.pos_encoding[:, :tf.shape(inputs)[1], :]"
   ]
  },
  {
   "cell_type": "code",
   "execution_count": 234,
   "id": "97fff5b4",
   "metadata": {},
   "outputs": [],
   "source": [
    "# 스케일드 닷 프로덕트 어텐션 함수\n",
    "def scaled_dot_product_attention(query, key, value, mask):\n",
    "  # 어텐션 가중치는 Q와 K의 닷 프로덕트\n",
    "  matmul_qk = tf.matmul(query, key, transpose_b=True)\n",
    "\n",
    "  # 가중치를 정규화\n",
    "  depth = tf.cast(tf.shape(key)[-1], tf.float32)\n",
    "  logits = matmul_qk / tf.math.sqrt(depth)\n",
    "\n",
    "  # 패딩에 마스크 추가\n",
    "  if mask is not None:\n",
    "    logits += (mask * -1e9)\n",
    "\n",
    "  # softmax적용\n",
    "  attention_weights = tf.nn.softmax(logits, axis=-1)\n",
    "\n",
    "  # 최종 어텐션은 가중치와 V의 닷 프로덕트\n",
    "  output = tf.matmul(attention_weights, value)\n",
    "  return output"
   ]
  },
  {
   "cell_type": "code",
   "execution_count": 235,
   "id": "4a5f6baa",
   "metadata": {},
   "outputs": [],
   "source": [
    "class MultiHeadAttention(tf.keras.layers.Layer):\n",
    "\n",
    "  def __init__(self, d_model, num_heads, name=\"multi_head_attention\"):\n",
    "    super(MultiHeadAttention, self).__init__(name=name)\n",
    "    self.num_heads = num_heads\n",
    "    self.d_model = d_model\n",
    "\n",
    "    assert d_model % self.num_heads == 0\n",
    "\n",
    "    self.depth = d_model // self.num_heads\n",
    "\n",
    "    self.query_dense = tf.keras.layers.Dense(units=d_model)\n",
    "    self.key_dense = tf.keras.layers.Dense(units=d_model)\n",
    "    self.value_dense = tf.keras.layers.Dense(units=d_model)\n",
    "\n",
    "    self.dense = tf.keras.layers.Dense(units=d_model)\n",
    "\n",
    "  def split_heads(self, inputs, batch_size):\n",
    "    inputs = tf.reshape(\n",
    "        inputs, shape=(batch_size, -1, self.num_heads, self.depth))\n",
    "    return tf.transpose(inputs, perm=[0, 2, 1, 3])\n",
    "\n",
    "  def call(self, inputs):\n",
    "    query, key, value, mask = inputs['query'], inputs['key'], inputs[\n",
    "        'value'], inputs['mask']\n",
    "    batch_size = tf.shape(query)[0]\n",
    "\n",
    "    # Q, K, V에 각각 Dense를 적용합니다\n",
    "    query = self.query_dense(query)\n",
    "    key = self.key_dense(key)\n",
    "    value = self.value_dense(value)\n",
    "\n",
    "    # 병렬 연산을 위한 머리를 여러 개 만듭니다\n",
    "    query = self.split_heads(query, batch_size)\n",
    "    key = self.split_heads(key, batch_size)\n",
    "    value = self.split_heads(value, batch_size)\n",
    "\n",
    "    # 스케일드 닷 프로덕트 어텐션 함수\n",
    "    scaled_attention = scaled_dot_product_attention(query, key, value, mask)\n",
    "\n",
    "    scaled_attention = tf.transpose(scaled_attention, perm=[0, 2, 1, 3])\n",
    "\n",
    "    # 어텐션 연산 후에 각 결과를 다시 연결(concatenate)합니다\n",
    "    concat_attention = tf.reshape(scaled_attention,\n",
    "                                  (batch_size, -1, self.d_model))\n",
    "\n",
    "    # 최종 결과에도 Dense를 한 번 더 적용합니다\n",
    "    outputs = self.dense(concat_attention)\n",
    "\n",
    "    return outputs"
   ]
  },
  {
   "cell_type": "code",
   "execution_count": 236,
   "id": "cc0d4150",
   "metadata": {},
   "outputs": [],
   "source": [
    "def create_padding_mask(x):\n",
    "  mask = tf.cast(tf.math.equal(x, 0), tf.float32)\n",
    "  # (batch_size, 1, 1, sequence length)\n",
    "  return mask[:, tf.newaxis, tf.newaxis, :]"
   ]
  },
  {
   "cell_type": "code",
   "execution_count": 237,
   "id": "944e2619",
   "metadata": {},
   "outputs": [],
   "source": [
    "def create_look_ahead_mask(x):\n",
    "  seq_len = tf.shape(x)[1]\n",
    "  look_ahead_mask = 1 - tf.linalg.band_part(tf.ones((seq_len, seq_len)), -1, 0)\n",
    "  padding_mask = create_padding_mask(x)\n",
    "  return tf.maximum(look_ahead_mask, padding_mask)"
   ]
  },
  {
   "cell_type": "code",
   "execution_count": 238,
   "id": "8f60d34d",
   "metadata": {},
   "outputs": [],
   "source": [
    "# 인코더 하나의 레이어를 함수로 구현.\n",
    "# 이 하나의 레이어 안에는 두 개의 서브 레이어가 존재합니다.\n",
    "def encoder_layer(units, d_model, num_heads, dropout, name=\"encoder_layer\"):\n",
    "  inputs = tf.keras.Input(shape=(None, d_model), name=\"inputs\")\n",
    "\n",
    "  # 패딩 마스크 사용\n",
    "  padding_mask = tf.keras.Input(shape=(1, 1, None), name=\"padding_mask\")\n",
    "\n",
    "  # 첫 번째 서브 레이어 : 멀티 헤드 어텐션 수행 (셀프 어텐션)\n",
    "  attention = MultiHeadAttention(\n",
    "      d_model, num_heads, name=\"attention\")({\n",
    "          'query': inputs,\n",
    "          'key': inputs,\n",
    "          'value': inputs,\n",
    "          'mask': padding_mask\n",
    "      })\n",
    "\n",
    "  # 어텐션의 결과는 Dropout과 Layer Normalization이라는 훈련을 돕는 테크닉을 수행\n",
    "  attention = tf.keras.layers.Dropout(rate=dropout)(attention)\n",
    "  attention = tf.keras.layers.LayerNormalization(\n",
    "      epsilon=1e-6)(inputs + attention)\n",
    "\n",
    "  # 두 번째 서브 레이어 : 2개의 완전연결층\n",
    "  outputs = tf.keras.layers.Dense(units=units, activation='relu')(attention)\n",
    "  outputs = tf.keras.layers.Dense(units=d_model)(outputs)\n",
    "\n",
    "  # 완전연결층의 결과는 Dropout과 LayerNormalization이라는 훈련을 돕는 테크닉을 수행\n",
    "  outputs = tf.keras.layers.Dropout(rate=dropout)(outputs)\n",
    "  outputs = tf.keras.layers.LayerNormalization(\n",
    "      epsilon=1e-6)(attention + outputs)\n",
    "\n",
    "  return tf.keras.Model(\n",
    "      inputs=[inputs, padding_mask], outputs=outputs, name=name)"
   ]
  },
  {
   "cell_type": "code",
   "execution_count": 239,
   "id": "8c567f24",
   "metadata": {},
   "outputs": [],
   "source": [
    "def encoder(vocab_size,\n",
    "            num_layers,\n",
    "            units,\n",
    "            d_model,\n",
    "            num_heads,\n",
    "            dropout,\n",
    "            name=\"encoder\"):\n",
    "  inputs = tf.keras.Input(shape=(None,), name=\"inputs\")\n",
    "\n",
    "  # 패딩 마스크 사용\n",
    "  padding_mask = tf.keras.Input(shape=(1, 1, None), name=\"padding_mask\")\n",
    "\n",
    "  # 임베딩 레이어\n",
    "  embeddings = tf.keras.layers.Embedding(vocab_size, d_model)(inputs)\n",
    "  embeddings *= tf.math.sqrt(tf.cast(d_model, tf.float32))\n",
    "\n",
    "  # 포지셔널 인코딩\n",
    "  embeddings = PositionalEncoding(vocab_size, d_model)(embeddings)\n",
    "\n",
    "  outputs = tf.keras.layers.Dropout(rate=dropout)(embeddings)\n",
    "\n",
    "  # num_layers만큼 쌓아올린 인코더의 층.\n",
    "  for i in range(num_layers):\n",
    "    outputs = encoder_layer(\n",
    "        units=units,\n",
    "        d_model=d_model,\n",
    "        num_heads=num_heads,\n",
    "        dropout=dropout,\n",
    "        name=\"encoder_layer_{}\".format(i),\n",
    "    )([outputs, padding_mask])\n",
    "\n",
    "  return tf.keras.Model(\n",
    "      inputs=[inputs, padding_mask], outputs=outputs, name=name)"
   ]
  },
  {
   "cell_type": "code",
   "execution_count": 240,
   "id": "3d0d9303",
   "metadata": {},
   "outputs": [],
   "source": [
    "# 디코더 하나의 레이어를 함수로 구현.\n",
    "# 이 하나의 레이어 안에는 세 개의 서브 레이어가 존재합니다.\n",
    "def decoder_layer(units, d_model, num_heads, dropout, name=\"decoder_layer\"):\n",
    "  inputs = tf.keras.Input(shape=(None, d_model), name=\"inputs\")\n",
    "  enc_outputs = tf.keras.Input(shape=(None, d_model), name=\"encoder_outputs\")\n",
    "  look_ahead_mask = tf.keras.Input(\n",
    "      shape=(1, None, None), name=\"look_ahead_mask\")\n",
    "  padding_mask = tf.keras.Input(shape=(1, 1, None), name='padding_mask')\n",
    "\n",
    "  # 첫 번째 서브 레이어 : 멀티 헤드 어텐션 수행 (셀프 어텐션)\n",
    "  attention1 = MultiHeadAttention(\n",
    "      d_model, num_heads, name=\"attention_1\")(inputs={\n",
    "          'query': inputs,\n",
    "          'key': inputs,\n",
    "          'value': inputs,\n",
    "          'mask': look_ahead_mask\n",
    "      })\n",
    "\n",
    "  # 멀티 헤드 어텐션의 결과는 LayerNormalization이라는 훈련을 돕는 테크닉을 수행\n",
    "  attention1 = tf.keras.layers.LayerNormalization(\n",
    "      epsilon=1e-6)(attention1 + inputs)\n",
    "\n",
    "  # 두 번째 서브 레이어 : 마스크드 멀티 헤드 어텐션 수행 (인코더-디코더 어텐션)\n",
    "  attention2 = MultiHeadAttention(\n",
    "      d_model, num_heads, name=\"attention_2\")(inputs={\n",
    "          'query': attention1,\n",
    "          'key': enc_outputs,\n",
    "          'value': enc_outputs,\n",
    "          'mask': padding_mask\n",
    "      })\n",
    "\n",
    "  # 마스크드 멀티 헤드 어텐션의 결과는\n",
    "  # Dropout과 LayerNormalization이라는 훈련을 돕는 테크닉을 수행\n",
    "  attention2 = tf.keras.layers.Dropout(rate=dropout)(attention2)\n",
    "  attention2 = tf.keras.layers.LayerNormalization(\n",
    "      epsilon=1e-6)(attention2 + attention1)\n",
    "\n",
    "  # 세 번째 서브 레이어 : 2개의 완전연결층\n",
    "  outputs = tf.keras.layers.Dense(units=units, activation='relu')(attention2)\n",
    "  outputs = tf.keras.layers.Dense(units=d_model)(outputs)\n",
    "\n",
    "  # 완전연결층의 결과는 Dropout과 LayerNormalization 수행\n",
    "  outputs = tf.keras.layers.Dropout(rate=dropout)(outputs)\n",
    "  outputs = tf.keras.layers.LayerNormalization(\n",
    "      epsilon=1e-6)(outputs + attention2)\n",
    "\n",
    "  return tf.keras.Model(\n",
    "      inputs=[inputs, enc_outputs, look_ahead_mask, padding_mask],\n",
    "      outputs=outputs,\n",
    "      name=name)"
   ]
  },
  {
   "cell_type": "code",
   "execution_count": 241,
   "id": "dc8b6c74",
   "metadata": {},
   "outputs": [],
   "source": [
    "def decoder(vocab_size,\n",
    "            num_layers,\n",
    "            units,\n",
    "            d_model,\n",
    "            num_heads,\n",
    "            dropout,\n",
    "            name='decoder'):\n",
    "  inputs = tf.keras.Input(shape=(None,), name='inputs')\n",
    "  enc_outputs = tf.keras.Input(shape=(None, d_model), name='encoder_outputs')\n",
    "  look_ahead_mask = tf.keras.Input(\n",
    "      shape=(1, None, None), name='look_ahead_mask')\n",
    "\n",
    "  # 패딩 마스크\n",
    "  padding_mask = tf.keras.Input(shape=(1, 1, None), name='padding_mask')\n",
    "  \n",
    "  # 임베딩 레이어\n",
    "  embeddings = tf.keras.layers.Embedding(vocab_size, d_model)(inputs)\n",
    "  embeddings *= tf.math.sqrt(tf.cast(d_model, tf.float32))\n",
    "\n",
    "  # 포지셔널 인코딩\n",
    "  embeddings = PositionalEncoding(vocab_size, d_model)(embeddings)\n",
    "\n",
    "  # Dropout이라는 훈련을 돕는 테크닉을 수행\n",
    "  outputs = tf.keras.layers.Dropout(rate=dropout)(embeddings)\n",
    "\n",
    "  for i in range(num_layers):\n",
    "    outputs = decoder_layer(\n",
    "        units=units,\n",
    "        d_model=d_model,\n",
    "        num_heads=num_heads,\n",
    "        dropout=dropout,\n",
    "        name='decoder_layer_{}'.format(i),\n",
    "    )(inputs=[outputs, enc_outputs, look_ahead_mask, padding_mask])\n",
    "\n",
    "  return tf.keras.Model(\n",
    "      inputs=[inputs, enc_outputs, look_ahead_mask, padding_mask],\n",
    "      outputs=outputs,\n",
    "      name=name)"
   ]
  },
  {
   "cell_type": "code",
   "execution_count": 242,
   "id": "4c4c32c8",
   "metadata": {},
   "outputs": [],
   "source": [
    "def transformer(vocab_size,\n",
    "                num_layers,\n",
    "                units,\n",
    "                d_model,\n",
    "                num_heads,\n",
    "                dropout,\n",
    "                name=\"transformer\"):\n",
    "  inputs = tf.keras.Input(shape=(None,), name=\"inputs\")\n",
    "  dec_inputs = tf.keras.Input(shape=(None,), name=\"dec_inputs\")\n",
    "\n",
    "  # 인코더에서 패딩을 위한 마스크\n",
    "  enc_padding_mask = tf.keras.layers.Lambda(\n",
    "      create_padding_mask, output_shape=(1, 1, None),\n",
    "      name='enc_padding_mask')(inputs)\n",
    "\n",
    "  # 디코더에서 미래의 토큰을 마스크 하기 위해서 사용합니다.\n",
    "  # 내부적으로 패딩 마스크도 포함되어져 있습니다.\n",
    "  look_ahead_mask = tf.keras.layers.Lambda(\n",
    "      create_look_ahead_mask,\n",
    "      output_shape=(1, None, None),\n",
    "      name='look_ahead_mask')(dec_inputs)\n",
    "\n",
    "  # 두 번째 어텐션 블록에서 인코더의 벡터들을 마스킹\n",
    "  # 디코더에서 패딩을 위한 마스크\n",
    "  dec_padding_mask = tf.keras.layers.Lambda(\n",
    "      create_padding_mask, output_shape=(1, 1, None),\n",
    "      name='dec_padding_mask')(inputs)\n",
    "\n",
    "  # 인코더\n",
    "  enc_outputs = encoder(\n",
    "      vocab_size=vocab_size,\n",
    "      num_layers=num_layers,\n",
    "      units=units,\n",
    "      d_model=d_model,\n",
    "      num_heads=num_heads,\n",
    "      dropout=dropout,\n",
    "  )(inputs=[inputs, enc_padding_mask])\n",
    "\n",
    "  # 디코더\n",
    "  dec_outputs = decoder(\n",
    "      vocab_size=vocab_size,\n",
    "      num_layers=num_layers,\n",
    "      units=units,\n",
    "      d_model=d_model,\n",
    "      num_heads=num_heads,\n",
    "      dropout=dropout,\n",
    "  )(inputs=[dec_inputs, enc_outputs, look_ahead_mask, dec_padding_mask])\n",
    "\n",
    "  # 완전연결층\n",
    "  outputs = tf.keras.layers.Dense(units=vocab_size, name=\"outputs\")(dec_outputs)\n",
    "\n",
    "  return tf.keras.Model(inputs=[inputs, dec_inputs], outputs=outputs, name=name)\n"
   ]
  },
  {
   "cell_type": "markdown",
   "id": "29c22889",
   "metadata": {},
   "source": [
    "#### 모델 생성"
   ]
  },
  {
   "cell_type": "markdown",
   "id": "d71995b8",
   "metadata": {},
   "source": [
    "* 하이퍼파리미터 \n",
    "   * num_layers = 2\n",
    "   * d-model = 256\n",
    "   * num_heads = 8\n",
    "   * ff_units = 512 "
   ]
  },
  {
   "cell_type": "code",
   "execution_count": 189,
   "id": "1933a132",
   "metadata": {
    "scrolled": true
   },
   "outputs": [
    {
     "name": "stdout",
     "output_type": "stream",
     "text": [
      "Model: \"transformer\"\n",
      "__________________________________________________________________________________________________\n",
      "Layer (type)                    Output Shape         Param #     Connected to                     \n",
      "==================================================================================================\n",
      "inputs (InputLayer)             [(None, None)]       0                                            \n",
      "__________________________________________________________________________________________________\n",
      "dec_inputs (InputLayer)         [(None, None)]       0                                            \n",
      "__________________________________________________________________________________________________\n",
      "enc_padding_mask (Lambda)       (None, 1, 1, None)   0           inputs[0][0]                     \n",
      "__________________________________________________________________________________________________\n",
      "encoder (Functional)            (None, None, 256)    3147008     inputs[0][0]                     \n",
      "                                                                 enc_padding_mask[0][0]           \n",
      "__________________________________________________________________________________________________\n",
      "look_ahead_mask (Lambda)        (None, 1, None, None 0           dec_inputs[0][0]                 \n",
      "__________________________________________________________________________________________________\n",
      "dec_padding_mask (Lambda)       (None, 1, 1, None)   0           inputs[0][0]                     \n",
      "__________________________________________________________________________________________________\n",
      "decoder (Functional)            (None, None, 256)    3674368     dec_inputs[0][0]                 \n",
      "                                                                 encoder[0][0]                    \n",
      "                                                                 look_ahead_mask[0][0]            \n",
      "                                                                 dec_padding_mask[0][0]           \n",
      "__________________________________________________________________________________________________\n",
      "outputs (Dense)                 (None, None, 8175)   2100975     decoder[0][0]                    \n",
      "==================================================================================================\n",
      "Total params: 8,922,351\n",
      "Trainable params: 8,922,351\n",
      "Non-trainable params: 0\n",
      "__________________________________________________________________________________________________\n"
     ]
    }
   ],
   "source": [
    "tf.keras.backend.clear_session()\n",
    "\n",
    "# 하이퍼파라미터\n",
    "NUM_LAYERS = 2 # 인코더와 디코더의 층의 개수\n",
    "D_MODEL = 256 # 인코더와 디코더 내부의 입, 출력의 고정 차원\n",
    "NUM_HEADS = 8 # 멀티 헤드 어텐션에서의 헤드 수 \n",
    "UNITS = 512 # 피드 포워드 신경망의 은닉층의 크기\n",
    "DROPOUT = 0.1 # 드롭아웃의 비율\n",
    "\n",
    "model = transformer(\n",
    "    vocab_size=VOCAB_SIZE,\n",
    "    num_layers=NUM_LAYERS,\n",
    "    units=UNITS,\n",
    "    d_model=D_MODEL,\n",
    "    num_heads=NUM_HEADS,\n",
    "    dropout=DROPOUT)\n",
    "\n",
    "model.summary()"
   ]
  },
  {
   "cell_type": "markdown",
   "id": "ded94110",
   "metadata": {},
   "source": [
    "* 하이퍼파리미터 \n",
    "   * num_layers = 6\n",
    "   * d-model = 512\n",
    "   * num_heads = 8\n",
    "   * ff_units = 512 "
   ]
  },
  {
   "cell_type": "code",
   "execution_count": 243,
   "id": "0c1a505e",
   "metadata": {},
   "outputs": [
    {
     "name": "stdout",
     "output_type": "stream",
     "text": [
      "Model: \"transformer\"\n",
      "__________________________________________________________________________________________________\n",
      "Layer (type)                    Output Shape         Param #     Connected to                     \n",
      "==================================================================================================\n",
      "inputs (InputLayer)             [(None, None)]       0                                            \n",
      "__________________________________________________________________________________________________\n",
      "dec_inputs (InputLayer)         [(None, None)]       0                                            \n",
      "__________________________________________________________________________________________________\n",
      "enc_padding_mask (Lambda)       (None, 1, 1, None)   0           inputs[0][0]                     \n",
      "__________________________________________________________________________________________________\n",
      "encoder (Functional)            (None, None, 512)    13653504    inputs[0][0]                     \n",
      "                                                                 enc_padding_mask[0][0]           \n",
      "__________________________________________________________________________________________________\n",
      "look_ahead_mask (Lambda)        (None, 1, None, None 0           dec_inputs[0][0]                 \n",
      "__________________________________________________________________________________________________\n",
      "dec_padding_mask (Lambda)       (None, 1, 1, None)   0           inputs[0][0]                     \n",
      "__________________________________________________________________________________________________\n",
      "decoder (Functional)            (None, None, 512)    19963392    dec_inputs[0][0]                 \n",
      "                                                                 encoder[0][0]                    \n",
      "                                                                 look_ahead_mask[0][0]            \n",
      "                                                                 dec_padding_mask[0][0]           \n",
      "__________________________________________________________________________________________________\n",
      "outputs (Dense)                 (None, None, 8175)   4193775     decoder[0][0]                    \n",
      "==================================================================================================\n",
      "Total params: 37,810,671\n",
      "Trainable params: 37,810,671\n",
      "Non-trainable params: 0\n",
      "__________________________________________________________________________________________________\n"
     ]
    }
   ],
   "source": [
    "tf.keras.backend.clear_session()\n",
    "\n",
    "# 하이퍼파라미터\n",
    "NUM_LAYERS = 6 # 인코더와 디코더의 층의 개수\n",
    "D_MODEL = 512 # 인코더와 디코더 내부의 입, 출력의 고정 차원\n",
    "NUM_HEADS = 8 # 멀티 헤드 어텐션에서의 헤드 수 \n",
    "UNITS = 512 # 피드 포워드 신경망의 은닉층의 크기\n",
    "DROPOUT = 0.1 # 드롭아웃의 비율\n",
    "\n",
    "model = transformer(\n",
    "    vocab_size=VOCAB_SIZE,\n",
    "    num_layers=NUM_LAYERS,\n",
    "    units=UNITS,\n",
    "    d_model=D_MODEL,\n",
    "    num_heads=NUM_HEADS,\n",
    "    dropout=DROPOUT)\n",
    "\n",
    "model.summary()"
   ]
  },
  {
   "cell_type": "markdown",
   "id": "8ee3508e",
   "metadata": {},
   "source": [
    "#### 손실 함수(Loss function)"
   ]
  },
  {
   "cell_type": "code",
   "execution_count": 244,
   "id": "a965ae61",
   "metadata": {},
   "outputs": [],
   "source": [
    "def loss_function(y_true, y_pred):\n",
    "  y_true = tf.reshape(y_true, shape=(-1, MAX_LENGTH - 1))\n",
    "  \n",
    "  loss = tf.keras.losses.SparseCategoricalCrossentropy(\n",
    "      from_logits=True, reduction='none')(y_true, y_pred)\n",
    "\n",
    "  mask = tf.cast(tf.not_equal(y_true, 0), tf.float32)\n",
    "  loss = tf.multiply(loss, mask)\n",
    "\n",
    "  return tf.reduce_mean(loss)"
   ]
  },
  {
   "cell_type": "markdown",
   "id": "109fec21",
   "metadata": {},
   "source": [
    "#### 커스텀 된 학습률(Learning rate)"
   ]
  },
  {
   "cell_type": "code",
   "execution_count": 245,
   "id": "9440edac",
   "metadata": {},
   "outputs": [],
   "source": [
    "class CustomSchedule(tf.keras.optimizers.schedules.LearningRateSchedule):\n",
    "\n",
    "  def __init__(self, d_model, warmup_steps=4000):\n",
    "    super(CustomSchedule, self).__init__()\n",
    "\n",
    "    self.d_model = d_model\n",
    "    self.d_model = tf.cast(self.d_model, tf.float32)\n",
    "\n",
    "    self.warmup_steps = warmup_steps\n",
    "\n",
    "  def __call__(self, step):\n",
    "    arg1 = tf.math.rsqrt(step)\n",
    "    arg2 = step * (self.warmup_steps**-1.5)\n",
    "\n",
    "    return tf.math.rsqrt(self.d_model) * tf.math.minimum(arg1, arg2)"
   ]
  },
  {
   "cell_type": "code",
   "execution_count": 246,
   "id": "6d35af46",
   "metadata": {},
   "outputs": [
    {
     "data": {
      "text/plain": [
       "[<matplotlib.lines.Line2D at 0x7f59fc0a3c40>]"
      ]
     },
     "execution_count": 246,
     "metadata": {},
     "output_type": "execute_result"
    },
    {
     "data": {
      "text/plain": [
       "Text(0, 0.5, 'Learning Rate')"
      ]
     },
     "execution_count": 246,
     "metadata": {},
     "output_type": "execute_result"
    },
    {
     "data": {
      "text/plain": [
       "Text(0.5, 0, 'Train Step')"
      ]
     },
     "execution_count": 246,
     "metadata": {},
     "output_type": "execute_result"
    },
    {
     "data": {
      "image/png": "[encoded data removed]",
      "text/plain": [
       "<Figure size 432x288 with 1 Axes>"
      ]
     },
     "metadata": {
      "needs_background": "light"
     },
     "output_type": "display_data"
    }
   ],
   "source": [
    "sample_learning_rate = CustomSchedule(d_model=128)\n",
    "\n",
    "plt.plot(sample_learning_rate(tf.range(200000, dtype=tf.float32)))\n",
    "plt.ylabel(\"Learning Rate\")\n",
    "plt.xlabel(\"Train Step\")"
   ]
  },
  {
   "cell_type": "markdown",
   "id": "f4ba8a68",
   "metadata": {},
   "source": [
    "#### 모델 컴파일"
   ]
  },
  {
   "cell_type": "code",
   "execution_count": 247,
   "id": "1841adb9",
   "metadata": {},
   "outputs": [],
   "source": [
    "learning_rate = CustomSchedule(D_MODEL)\n",
    "\n",
    "optimizer = tf.keras.optimizers.Adam(\n",
    "    learning_rate, beta_1=0.9, beta_2=0.98, epsilon=1e-9)\n",
    "\n",
    "def accuracy(y_true, y_pred):\n",
    "  y_true = tf.reshape(y_true, shape=(-1, MAX_LENGTH - 1))\n",
    "  return tf.keras.metrics.sparse_categorical_accuracy(y_true, y_pred)\n",
    "\n",
    "model.compile(optimizer=optimizer, loss=loss_function, metrics=[accuracy])"
   ]
  },
  {
   "cell_type": "markdown",
   "id": "4e55f57b",
   "metadata": {},
   "source": [
    "* EPOCHS = 10 인 경우\n",
    "* 하이퍼파리미터 \n",
    "   * num_layers = 2\n",
    "   * d-model = 256\n",
    "   * num_heads = 8\n",
    "   * ff_units = 512 "
   ]
  },
  {
   "cell_type": "code",
   "execution_count": 128,
   "id": "dbc321a1",
   "metadata": {},
   "outputs": [
    {
     "name": "stdout",
     "output_type": "stream",
     "text": [
      "Epoch 1/10\n",
      "185/185 [==============================] - 27s 56ms/step - loss: 1.4489 - accuracy: 0.0265\n",
      "Epoch 2/10\n",
      "185/185 [==============================] - 10s 56ms/step - loss: 1.1780 - accuracy: 0.0493\n",
      "Epoch 3/10\n",
      "185/185 [==============================] - 11s 57ms/step - loss: 1.0061 - accuracy: 0.0504\n",
      "Epoch 4/10\n",
      "185/185 [==============================] - 10s 57ms/step - loss: 0.9285 - accuracy: 0.0542\n",
      "Epoch 5/10\n",
      "185/185 [==============================] - 10s 56ms/step - loss: 0.8703 - accuracy: 0.0577\n",
      "Epoch 6/10\n",
      "185/185 [==============================] - 10s 56ms/step - loss: 0.8099 - accuracy: 0.0618\n",
      "Epoch 7/10\n",
      "185/185 [==============================] - 10s 56ms/step - loss: 0.7435 - accuracy: 0.0678\n",
      "Epoch 8/10\n",
      "185/185 [==============================] - 10s 55ms/step - loss: 0.6708 - accuracy: 0.0757\n",
      "Epoch 9/10\n",
      "185/185 [==============================] - 10s 55ms/step - loss: 0.5922 - accuracy: 0.0843\n",
      "Epoch 10/10\n",
      "185/185 [==============================] - 10s 55ms/step - loss: 0.5100 - accuracy: 0.0938\n"
     ]
    },
    {
     "data": {
      "text/plain": [
       "<keras.callbacks.History at 0x7f5a6ea91e80>"
      ]
     },
     "execution_count": 128,
     "metadata": {},
     "output_type": "execute_result"
    }
   ],
   "source": [
    "EPOCHS = 10\n",
    "model.fit(dataset, epochs=EPOCHS, verbose=1)"
   ]
  },
  {
   "cell_type": "markdown",
   "id": "f2cac57d",
   "metadata": {},
   "source": [
    "* EPOCHS = 50 인 경우\n",
    "* 하이퍼파리미터 \n",
    "   * num_layers = 2\n",
    "   * d-model = 256\n",
    "   * num_heads = 8\n",
    "   * ff_units = 512 "
   ]
  },
  {
   "cell_type": "code",
   "execution_count": 171,
   "id": "18f69bf0",
   "metadata": {
    "scrolled": false
   },
   "outputs": [
    {
     "name": "stdout",
     "output_type": "stream",
     "text": [
      "Epoch 1/50\n",
      "185/185 [==============================] - 17s 55ms/step - loss: 1.4498 - accuracy: 0.0276\n",
      "Epoch 2/50\n",
      "185/185 [==============================] - 10s 55ms/step - loss: 1.1794 - accuracy: 0.0493\n",
      "Epoch 3/50\n",
      "185/185 [==============================] - 10s 55ms/step - loss: 1.0105 - accuracy: 0.0506\n",
      "Epoch 4/50\n",
      "185/185 [==============================] - 10s 54ms/step - loss: 0.9306 - accuracy: 0.0543\n",
      "Epoch 5/50\n",
      "185/185 [==============================] - 10s 54ms/step - loss: 0.8710 - accuracy: 0.0577\n",
      "Epoch 6/50\n",
      "185/185 [==============================] - 10s 54ms/step - loss: 0.8106 - accuracy: 0.0618\n",
      "Epoch 7/50\n",
      "185/185 [==============================] - 10s 53ms/step - loss: 0.7440 - accuracy: 0.0679\n",
      "Epoch 8/50\n",
      "185/185 [==============================] - 10s 54ms/step - loss: 0.6702 - accuracy: 0.0756\n",
      "Epoch 9/50\n",
      "185/185 [==============================] - 10s 54ms/step - loss: 0.5914 - accuracy: 0.0845\n",
      "Epoch 10/50\n",
      "185/185 [==============================] - 10s 54ms/step - loss: 0.5093 - accuracy: 0.0937\n",
      "Epoch 11/50\n",
      "185/185 [==============================] - 10s 54ms/step - loss: 0.4269 - accuracy: 0.1039\n",
      "Epoch 12/50\n",
      "185/185 [==============================] - 10s 54ms/step - loss: 0.3470 - accuracy: 0.1147\n",
      "Epoch 13/50\n",
      "185/185 [==============================] - 10s 54ms/step - loss: 0.2726 - accuracy: 0.1256\n",
      "Epoch 14/50\n",
      "185/185 [==============================] - 10s 54ms/step - loss: 0.2068 - accuracy: 0.1359\n",
      "Epoch 15/50\n",
      "185/185 [==============================] - 10s 54ms/step - loss: 0.1530 - accuracy: 0.1451\n",
      "Epoch 16/50\n",
      "185/185 [==============================] - 10s 54ms/step - loss: 0.1103 - accuracy: 0.1529\n",
      "Epoch 17/50\n",
      "185/185 [==============================] - 10s 54ms/step - loss: 0.0802 - accuracy: 0.1584\n",
      "Epoch 18/50\n",
      "185/185 [==============================] - 10s 54ms/step - loss: 0.0613 - accuracy: 0.1618\n",
      "Epoch 19/50\n",
      "185/185 [==============================] - 10s 54ms/step - loss: 0.0509 - accuracy: 0.1635\n",
      "Epoch 20/50\n",
      "185/185 [==============================] - 10s 54ms/step - loss: 0.0450 - accuracy: 0.1645\n",
      "Epoch 21/50\n",
      "185/185 [==============================] - 10s 54ms/step - loss: 0.0426 - accuracy: 0.1648\n",
      "Epoch 22/50\n",
      "185/185 [==============================] - 10s 54ms/step - loss: 0.0400 - accuracy: 0.1652\n",
      "Epoch 23/50\n",
      "185/185 [==============================] - 10s 54ms/step - loss: 0.0367 - accuracy: 0.1661\n",
      "Epoch 24/50\n",
      "185/185 [==============================] - 10s 54ms/step - loss: 0.0314 - accuracy: 0.1672\n",
      "Epoch 25/50\n",
      "185/185 [==============================] - 10s 54ms/step - loss: 0.0275 - accuracy: 0.1682\n",
      "Epoch 26/50\n",
      "185/185 [==============================] - 10s 54ms/step - loss: 0.0256 - accuracy: 0.1689\n",
      "Epoch 27/50\n",
      "185/185 [==============================] - 10s 54ms/step - loss: 0.0216 - accuracy: 0.1698\n",
      "Epoch 28/50\n",
      "185/185 [==============================] - 10s 54ms/step - loss: 0.0199 - accuracy: 0.1701\n",
      "Epoch 29/50\n",
      "185/185 [==============================] - 10s 54ms/step - loss: 0.0182 - accuracy: 0.1706\n",
      "Epoch 30/50\n",
      "185/185 [==============================] - 10s 54ms/step - loss: 0.0162 - accuracy: 0.1712\n",
      "Epoch 31/50\n",
      "185/185 [==============================] - 10s 54ms/step - loss: 0.0151 - accuracy: 0.1715\n",
      "Epoch 32/50\n",
      "185/185 [==============================] - 10s 54ms/step - loss: 0.0140 - accuracy: 0.1717\n",
      "Epoch 33/50\n",
      "185/185 [==============================] - 10s 54ms/step - loss: 0.0133 - accuracy: 0.1719\n",
      "Epoch 34/50\n",
      "185/185 [==============================] - 10s 54ms/step - loss: 0.0122 - accuracy: 0.1721\n",
      "Epoch 35/50\n",
      "185/185 [==============================] - 10s 54ms/step - loss: 0.0116 - accuracy: 0.1723\n",
      "Epoch 36/50\n",
      "185/185 [==============================] - 10s 54ms/step - loss: 0.0109 - accuracy: 0.1725\n",
      "Epoch 37/50\n",
      "185/185 [==============================] - 10s 54ms/step - loss: 0.0102 - accuracy: 0.1726\n",
      "Epoch 38/50\n",
      "185/185 [==============================] - 10s 54ms/step - loss: 0.0092 - accuracy: 0.1729\n",
      "Epoch 39/50\n",
      "185/185 [==============================] - 10s 54ms/step - loss: 0.0095 - accuracy: 0.1728\n",
      "Epoch 40/50\n",
      "185/185 [==============================] - 10s 54ms/step - loss: 0.0088 - accuracy: 0.1729\n",
      "Epoch 41/50\n",
      "185/185 [==============================] - 10s 54ms/step - loss: 0.0083 - accuracy: 0.1731\n",
      "Epoch 42/50\n",
      "185/185 [==============================] - 10s 54ms/step - loss: 0.0076 - accuracy: 0.1734\n",
      "Epoch 43/50\n",
      "185/185 [==============================] - 10s 54ms/step - loss: 0.0072 - accuracy: 0.1734\n",
      "Epoch 44/50\n",
      "185/185 [==============================] - 10s 54ms/step - loss: 0.0070 - accuracy: 0.1734\n",
      "Epoch 45/50\n",
      "185/185 [==============================] - 10s 54ms/step - loss: 0.0070 - accuracy: 0.1734\n",
      "Epoch 46/50\n",
      "185/185 [==============================] - 10s 54ms/step - loss: 0.0063 - accuracy: 0.1736\n",
      "Epoch 47/50\n",
      "185/185 [==============================] - 10s 54ms/step - loss: 0.0065 - accuracy: 0.1735\n",
      "Epoch 48/50\n",
      "185/185 [==============================] - 10s 54ms/step - loss: 0.0059 - accuracy: 0.1736\n",
      "Epoch 49/50\n",
      "185/185 [==============================] - 10s 54ms/step - loss: 0.0057 - accuracy: 0.1737\n",
      "Epoch 50/50\n",
      "185/185 [==============================] - 10s 54ms/step - loss: 0.0058 - accuracy: 0.1737\n"
     ]
    },
    {
     "data": {
      "text/plain": [
       "<keras.callbacks.History at 0x7f598bc42be0>"
      ]
     },
     "execution_count": 171,
     "metadata": {},
     "output_type": "execute_result"
    }
   ],
   "source": [
    "EPOCHS = 50\n",
    "model.fit(dataset, epochs=EPOCHS, verbose=1)"
   ]
  },
  {
   "cell_type": "markdown",
   "id": "9203610b",
   "metadata": {},
   "source": [
    "* EPOCHS = 80 인 경우\n",
    "* 하이퍼파리미터 \n",
    "   * num_layers = 2\n",
    "   * d-model = 256\n",
    "   * num_heads = 8\n",
    "   * ff_units = 512 "
   ]
  },
  {
   "cell_type": "code",
   "execution_count": 194,
   "id": "3cff578d",
   "metadata": {
    "scrolled": false
   },
   "outputs": [
    {
     "name": "stdout",
     "output_type": "stream",
     "text": [
      "Epoch 1/80\n",
      "185/185 [==============================] - 15s 54ms/step - loss: 1.4542 - accuracy: 0.0307\n",
      "Epoch 2/80\n",
      "185/185 [==============================] - 10s 54ms/step - loss: 1.1815 - accuracy: 0.0494\n",
      "Epoch 3/80\n",
      "185/185 [==============================] - 10s 54ms/step - loss: 1.0070 - accuracy: 0.0505\n",
      "Epoch 4/80\n",
      "185/185 [==============================] - 10s 54ms/step - loss: 0.9305 - accuracy: 0.0540\n",
      "Epoch 5/80\n",
      "185/185 [==============================] - 10s 54ms/step - loss: 0.8713 - accuracy: 0.0575\n",
      "Epoch 6/80\n",
      "185/185 [==============================] - 10s 54ms/step - loss: 0.8104 - accuracy: 0.0618\n",
      "Epoch 7/80\n",
      "185/185 [==============================] - 10s 53ms/step - loss: 0.7437 - accuracy: 0.0678\n",
      "Epoch 8/80\n",
      "185/185 [==============================] - 10s 53ms/step - loss: 0.6706 - accuracy: 0.0757\n",
      "Epoch 9/80\n",
      "185/185 [==============================] - 10s 54ms/step - loss: 0.5906 - accuracy: 0.0843\n",
      "Epoch 10/80\n",
      "185/185 [==============================] - 10s 54ms/step - loss: 0.5085 - accuracy: 0.0939\n",
      "Epoch 11/80\n",
      "185/185 [==============================] - 10s 54ms/step - loss: 0.4253 - accuracy: 0.1045\n",
      "Epoch 12/80\n",
      "185/185 [==============================] - 10s 54ms/step - loss: 0.3442 - accuracy: 0.1154\n",
      "Epoch 13/80\n",
      "185/185 [==============================] - 10s 54ms/step - loss: 0.2686 - accuracy: 0.1266\n",
      "Epoch 14/80\n",
      "185/185 [==============================] - 10s 54ms/step - loss: 0.2042 - accuracy: 0.1365\n",
      "Epoch 15/80\n",
      "185/185 [==============================] - 10s 54ms/step - loss: 0.1491 - accuracy: 0.1461\n",
      "Epoch 16/80\n",
      "185/185 [==============================] - 10s 53ms/step - loss: 0.1073 - accuracy: 0.1538\n",
      "Epoch 17/80\n",
      "185/185 [==============================] - 10s 53ms/step - loss: 0.0775 - accuracy: 0.1593\n",
      "Epoch 18/80\n",
      "185/185 [==============================] - 10s 54ms/step - loss: 0.0588 - accuracy: 0.1624\n",
      "Epoch 19/80\n",
      "185/185 [==============================] - 10s 54ms/step - loss: 0.0491 - accuracy: 0.1642\n",
      "Epoch 20/80\n",
      "185/185 [==============================] - 10s 54ms/step - loss: 0.0442 - accuracy: 0.1649\n",
      "Epoch 21/80\n",
      "185/185 [==============================] - 10s 54ms/step - loss: 0.0419 - accuracy: 0.1650\n",
      "Epoch 22/80\n",
      "185/185 [==============================] - 10s 54ms/step - loss: 0.0401 - accuracy: 0.1653\n",
      "Epoch 23/80\n",
      "185/185 [==============================] - 10s 54ms/step - loss: 0.0353 - accuracy: 0.1663\n",
      "Epoch 24/80\n",
      "185/185 [==============================] - 10s 54ms/step - loss: 0.0309 - accuracy: 0.1674\n",
      "Epoch 25/80\n",
      "185/185 [==============================] - 10s 54ms/step - loss: 0.0271 - accuracy: 0.1683\n",
      "Epoch 26/80\n",
      "185/185 [==============================] - 10s 54ms/step - loss: 0.0239 - accuracy: 0.1692\n",
      "Epoch 27/80\n",
      "185/185 [==============================] - 10s 54ms/step - loss: 0.0220 - accuracy: 0.1697\n",
      "Epoch 28/80\n",
      "185/185 [==============================] - 10s 54ms/step - loss: 0.0202 - accuracy: 0.1700\n",
      "Epoch 29/80\n",
      "185/185 [==============================] - 10s 54ms/step - loss: 0.0176 - accuracy: 0.1708\n",
      "Epoch 30/80\n",
      "185/185 [==============================] - 10s 54ms/step - loss: 0.0169 - accuracy: 0.1708\n",
      "Epoch 31/80\n",
      "185/185 [==============================] - 10s 54ms/step - loss: 0.0152 - accuracy: 0.1713\n",
      "Epoch 32/80\n",
      "185/185 [==============================] - 10s 54ms/step - loss: 0.0144 - accuracy: 0.1715\n",
      "Epoch 33/80\n",
      "185/185 [==============================] - 10s 54ms/step - loss: 0.0129 - accuracy: 0.1719\n",
      "Epoch 34/80\n",
      "185/185 [==============================] - 10s 54ms/step - loss: 0.0123 - accuracy: 0.1721\n",
      "Epoch 35/80\n",
      "185/185 [==============================] - 10s 54ms/step - loss: 0.0115 - accuracy: 0.1723\n",
      "Epoch 36/80\n",
      "185/185 [==============================] - 10s 54ms/step - loss: 0.0108 - accuracy: 0.1725\n",
      "Epoch 37/80\n",
      "185/185 [==============================] - 10s 54ms/step - loss: 0.0100 - accuracy: 0.1727\n",
      "Epoch 38/80\n",
      "185/185 [==============================] - 10s 54ms/step - loss: 0.0095 - accuracy: 0.1728\n",
      "Epoch 39/80\n",
      "185/185 [==============================] - 10s 54ms/step - loss: 0.0091 - accuracy: 0.1728\n",
      "Epoch 40/80\n",
      "185/185 [==============================] - 10s 54ms/step - loss: 0.0085 - accuracy: 0.1730\n",
      "Epoch 41/80\n",
      "185/185 [==============================] - 10s 54ms/step - loss: 0.0079 - accuracy: 0.1732\n",
      "Epoch 42/80\n",
      "185/185 [==============================] - 10s 54ms/step - loss: 0.0081 - accuracy: 0.1731\n",
      "Epoch 43/80\n",
      "185/185 [==============================] - 10s 54ms/step - loss: 0.0072 - accuracy: 0.1734\n",
      "Epoch 44/80\n",
      "185/185 [==============================] - 10s 54ms/step - loss: 0.0068 - accuracy: 0.1734\n",
      "Epoch 45/80\n",
      "185/185 [==============================] - 10s 54ms/step - loss: 0.0067 - accuracy: 0.1735\n",
      "Epoch 46/80\n",
      "185/185 [==============================] - 10s 54ms/step - loss: 0.0065 - accuracy: 0.1735\n",
      "Epoch 47/80\n",
      "185/185 [==============================] - 10s 54ms/step - loss: 0.0062 - accuracy: 0.1735\n",
      "Epoch 48/80\n",
      "185/185 [==============================] - 10s 54ms/step - loss: 0.0060 - accuracy: 0.1737\n",
      "Epoch 49/80\n",
      "185/185 [==============================] - 10s 54ms/step - loss: 0.0057 - accuracy: 0.1737\n",
      "Epoch 50/80\n",
      "185/185 [==============================] - 10s 53ms/step - loss: 0.0055 - accuracy: 0.1738\n",
      "Epoch 51/80\n",
      "185/185 [==============================] - 10s 54ms/step - loss: 0.0052 - accuracy: 0.1738\n",
      "Epoch 52/80\n",
      "185/185 [==============================] - 10s 53ms/step - loss: 0.0052 - accuracy: 0.1738\n",
      "Epoch 53/80\n",
      "185/185 [==============================] - 10s 53ms/step - loss: 0.0048 - accuracy: 0.1739\n",
      "Epoch 54/80\n",
      "185/185 [==============================] - 10s 53ms/step - loss: 0.0048 - accuracy: 0.1739\n",
      "Epoch 55/80\n",
      "185/185 [==============================] - 10s 54ms/step - loss: 0.0047 - accuracy: 0.1739\n",
      "Epoch 56/80\n",
      "185/185 [==============================] - 10s 54ms/step - loss: 0.0048 - accuracy: 0.1739\n",
      "Epoch 57/80\n",
      "185/185 [==============================] - 10s 53ms/step - loss: 0.0044 - accuracy: 0.1740\n",
      "Epoch 58/80\n",
      "185/185 [==============================] - 10s 54ms/step - loss: 0.0043 - accuracy: 0.1740\n",
      "Epoch 59/80\n",
      "185/185 [==============================] - 10s 53ms/step - loss: 0.0043 - accuracy: 0.1740\n",
      "Epoch 60/80\n",
      "185/185 [==============================] - 10s 54ms/step - loss: 0.0039 - accuracy: 0.1741\n",
      "Epoch 61/80\n",
      "185/185 [==============================] - 10s 54ms/step - loss: 0.0040 - accuracy: 0.1741\n",
      "Epoch 62/80\n",
      "185/185 [==============================] - 10s 54ms/step - loss: 0.0039 - accuracy: 0.1741\n",
      "Epoch 63/80\n",
      "185/185 [==============================] - 10s 54ms/step - loss: 0.0039 - accuracy: 0.1741\n",
      "Epoch 64/80\n",
      "185/185 [==============================] - 10s 54ms/step - loss: 0.0040 - accuracy: 0.1741\n",
      "Epoch 65/80\n",
      "185/185 [==============================] - 10s 53ms/step - loss: 0.0036 - accuracy: 0.1742\n",
      "Epoch 66/80\n",
      "185/185 [==============================] - 10s 54ms/step - loss: 0.0036 - accuracy: 0.1742\n",
      "Epoch 67/80\n",
      "185/185 [==============================] - 10s 53ms/step - loss: 0.0036 - accuracy: 0.1742\n",
      "Epoch 68/80\n",
      "185/185 [==============================] - 10s 54ms/step - loss: 0.0035 - accuracy: 0.1741\n",
      "Epoch 69/80\n",
      "185/185 [==============================] - 10s 54ms/step - loss: 0.0034 - accuracy: 0.1742\n",
      "Epoch 70/80\n",
      "185/185 [==============================] - 10s 54ms/step - loss: 0.0032 - accuracy: 0.1742\n",
      "Epoch 71/80\n",
      "185/185 [==============================] - 10s 54ms/step - loss: 0.0034 - accuracy: 0.1742\n",
      "Epoch 72/80\n",
      "185/185 [==============================] - 10s 54ms/step - loss: 0.0030 - accuracy: 0.1743\n",
      "Epoch 73/80\n",
      "185/185 [==============================] - 10s 54ms/step - loss: 0.0031 - accuracy: 0.1742\n",
      "Epoch 74/80\n",
      "185/185 [==============================] - 10s 54ms/step - loss: 0.0030 - accuracy: 0.1743\n",
      "Epoch 75/80\n",
      "185/185 [==============================] - 10s 54ms/step - loss: 0.0029 - accuracy: 0.1743\n",
      "Epoch 76/80\n",
      "185/185 [==============================] - 10s 54ms/step - loss: 0.0029 - accuracy: 0.1743\n",
      "Epoch 77/80\n",
      "185/185 [==============================] - 10s 54ms/step - loss: 0.0028 - accuracy: 0.1743\n",
      "Epoch 78/80\n",
      "185/185 [==============================] - 10s 54ms/step - loss: 0.0027 - accuracy: 0.1743\n",
      "Epoch 79/80\n",
      "185/185 [==============================] - 10s 54ms/step - loss: 0.0029 - accuracy: 0.1743\n",
      "Epoch 80/80\n"
     ]
    },
    {
     "name": "stdout",
     "output_type": "stream",
     "text": [
      "185/185 [==============================] - 10s 54ms/step - loss: 0.0028 - accuracy: 0.1743\n"
     ]
    },
    {
     "data": {
      "text/plain": [
       "<keras.callbacks.History at 0x7f59b87f2d90>"
      ]
     },
     "execution_count": 194,
     "metadata": {},
     "output_type": "execute_result"
    }
   ],
   "source": [
    "EPOCHS = 80\n",
    "model.fit(dataset, epochs=EPOCHS, verbose=1)"
   ]
  },
  {
   "cell_type": "markdown",
   "id": "dd611db0",
   "metadata": {},
   "source": [
    "* EPOCHS = 50 인 경우\n",
    "* 하이퍼파리미터 \n",
    "   * num_layers = 6\n",
    "   * d-model = 512\n",
    "   * num_heads = 8\n",
    "   * ff_units = 512 "
   ]
  },
  {
   "cell_type": "code",
   "execution_count": 248,
   "id": "c92a2ff5",
   "metadata": {
    "scrolled": false
   },
   "outputs": [
    {
     "name": "stdout",
     "output_type": "stream",
     "text": [
      "Epoch 1/50\n",
      "185/185 [==============================] - 57s 219ms/step - loss: 1.3456 - accuracy: 0.0229\n",
      "Epoch 2/50\n",
      "185/185 [==============================] - 40s 216ms/step - loss: 1.0782 - accuracy: 0.0485\n",
      "Epoch 3/50\n",
      "185/185 [==============================] - 40s 217ms/step - loss: 0.9827 - accuracy: 0.0508\n",
      "Epoch 4/50\n",
      "185/185 [==============================] - 40s 217ms/step - loss: 0.9392 - accuracy: 0.0528\n",
      "Epoch 5/50\n",
      "185/185 [==============================] - 40s 217ms/step - loss: 0.9037 - accuracy: 0.0550\n",
      "Epoch 6/50\n",
      "185/185 [==============================] - 40s 217ms/step - loss: 0.8653 - accuracy: 0.0571\n",
      "Epoch 7/50\n",
      "185/185 [==============================] - 40s 217ms/step - loss: 0.8250 - accuracy: 0.0591\n",
      "Epoch 8/50\n",
      "185/185 [==============================] - 40s 217ms/step - loss: 0.7793 - accuracy: 0.0620\n",
      "Epoch 9/50\n",
      "185/185 [==============================] - 40s 217ms/step - loss: 0.7278 - accuracy: 0.0659\n",
      "Epoch 10/50\n",
      "185/185 [==============================] - 40s 217ms/step - loss: 0.6735 - accuracy: 0.0707\n",
      "Epoch 11/50\n",
      "185/185 [==============================] - 40s 217ms/step - loss: 0.6166 - accuracy: 0.0765\n",
      "Epoch 12/50\n",
      "185/185 [==============================] - 40s 217ms/step - loss: 0.5593 - accuracy: 0.0830\n",
      "Epoch 13/50\n",
      "185/185 [==============================] - 40s 217ms/step - loss: 0.5032 - accuracy: 0.0896\n",
      "Epoch 14/50\n",
      "185/185 [==============================] - 40s 217ms/step - loss: 0.4521 - accuracy: 0.0965\n",
      "Epoch 15/50\n",
      "185/185 [==============================] - 40s 217ms/step - loss: 0.4060 - accuracy: 0.1030\n",
      "Epoch 16/50\n",
      "185/185 [==============================] - 40s 216ms/step - loss: 0.3677 - accuracy: 0.1078\n",
      "Epoch 17/50\n",
      "185/185 [==============================] - 40s 216ms/step - loss: 0.3375 - accuracy: 0.1115\n",
      "Epoch 18/50\n",
      "185/185 [==============================] - 40s 216ms/step - loss: 0.3122 - accuracy: 0.1150\n",
      "Epoch 19/50\n",
      "185/185 [==============================] - 40s 216ms/step - loss: 0.2939 - accuracy: 0.1173\n",
      "Epoch 20/50\n",
      "185/185 [==============================] - 40s 216ms/step - loss: 0.2786 - accuracy: 0.1196\n",
      "Epoch 21/50\n",
      "185/185 [==============================] - 40s 216ms/step - loss: 0.2668 - accuracy: 0.1214\n",
      "Epoch 22/50\n",
      "185/185 [==============================] - 40s 216ms/step - loss: 0.2582 - accuracy: 0.1226\n",
      "Epoch 23/50\n",
      "185/185 [==============================] - 40s 217ms/step - loss: 0.2446 - accuracy: 0.1248\n",
      "Epoch 24/50\n",
      "185/185 [==============================] - 40s 217ms/step - loss: 0.2295 - accuracy: 0.1274\n",
      "Epoch 25/50\n",
      "185/185 [==============================] - 40s 217ms/step - loss: 0.2151 - accuracy: 0.1294\n",
      "Epoch 26/50\n",
      "185/185 [==============================] - 40s 216ms/step - loss: 0.2044 - accuracy: 0.1314\n",
      "Epoch 27/50\n",
      "185/185 [==============================] - 40s 216ms/step - loss: 0.1940 - accuracy: 0.1331\n",
      "Epoch 28/50\n",
      "185/185 [==============================] - 40s 216ms/step - loss: 0.1836 - accuracy: 0.1348\n",
      "Epoch 29/50\n",
      "185/185 [==============================] - 40s 216ms/step - loss: 0.1745 - accuracy: 0.1362\n",
      "Epoch 30/50\n",
      "185/185 [==============================] - 40s 216ms/step - loss: 0.1662 - accuracy: 0.1374\n",
      "Epoch 31/50\n",
      "185/185 [==============================] - 40s 216ms/step - loss: 0.1598 - accuracy: 0.1384\n",
      "Epoch 32/50\n",
      "185/185 [==============================] - 40s 216ms/step - loss: 0.1521 - accuracy: 0.1396\n",
      "Epoch 33/50\n",
      "185/185 [==============================] - 40s 216ms/step - loss: 0.1449 - accuracy: 0.1409\n",
      "Epoch 34/50\n",
      "185/185 [==============================] - 40s 216ms/step - loss: 0.1384 - accuracy: 0.1422\n",
      "Epoch 35/50\n",
      "185/185 [==============================] - 40s 217ms/step - loss: 0.1336 - accuracy: 0.1429\n",
      "Epoch 36/50\n",
      "185/185 [==============================] - 40s 216ms/step - loss: 0.1269 - accuracy: 0.1442\n",
      "Epoch 37/50\n",
      "185/185 [==============================] - 40s 217ms/step - loss: 0.1236 - accuracy: 0.1448\n",
      "Epoch 38/50\n",
      "185/185 [==============================] - 40s 217ms/step - loss: 0.1187 - accuracy: 0.1458\n",
      "Epoch 39/50\n",
      "185/185 [==============================] - 40s 217ms/step - loss: 0.1150 - accuracy: 0.1464\n",
      "Epoch 40/50\n",
      "185/185 [==============================] - 40s 216ms/step - loss: 0.1113 - accuracy: 0.1471\n",
      "Epoch 41/50\n",
      "185/185 [==============================] - 40s 216ms/step - loss: 0.1064 - accuracy: 0.1481\n",
      "Epoch 42/50\n",
      "185/185 [==============================] - 40s 216ms/step - loss: 0.1033 - accuracy: 0.1488\n",
      "Epoch 43/50\n",
      "185/185 [==============================] - 40s 216ms/step - loss: 0.0992 - accuracy: 0.1496\n",
      "Epoch 44/50\n",
      "185/185 [==============================] - 40s 216ms/step - loss: 0.0965 - accuracy: 0.1499\n",
      "Epoch 45/50\n",
      "185/185 [==============================] - 40s 216ms/step - loss: 0.0927 - accuracy: 0.1511\n",
      "Epoch 46/50\n",
      "185/185 [==============================] - 40s 217ms/step - loss: 0.0896 - accuracy: 0.1515\n",
      "Epoch 47/50\n",
      "185/185 [==============================] - 40s 217ms/step - loss: 0.0871 - accuracy: 0.1521\n",
      "Epoch 48/50\n",
      "185/185 [==============================] - 40s 217ms/step - loss: 0.0841 - accuracy: 0.1527\n",
      "Epoch 49/50\n",
      "185/185 [==============================] - 40s 216ms/step - loss: 0.0820 - accuracy: 0.1533\n",
      "Epoch 50/50\n",
      "185/185 [==============================] - 40s 216ms/step - loss: 0.0787 - accuracy: 0.1540\n"
     ]
    },
    {
     "data": {
      "text/plain": [
       "<keras.callbacks.History at 0x7f59a09db310>"
      ]
     },
     "execution_count": 248,
     "metadata": {},
     "output_type": "execute_result"
    }
   ],
   "source": [
    "EPOCHS = 50\n",
    "model.fit(dataset, epochs=EPOCHS, verbose=1)"
   ]
  },
  {
   "cell_type": "markdown",
   "id": "49283455",
   "metadata": {},
   "source": [
    "## Step 5. 모델 평가하기"
   ]
  },
  {
   "cell_type": "code",
   "execution_count": 129,
   "id": "9892e740",
   "metadata": {},
   "outputs": [],
   "source": [
    "def decoder_inference(sentence):\n",
    "  sentence = preprocess_sentence(sentence)\n",
    "\n",
    "  # 입력된 문장을 정수 인코딩 후, 시작 토큰과 종료 토큰을 앞뒤로 추가.\n",
    "  # ex) Where have you been? → [[8331   86   30    5 1059    7 8332]]\n",
    "  sentence = tf.expand_dims(\n",
    "      START_TOKEN + tokenizer.encode(sentence) + END_TOKEN, axis=0)\n",
    "\n",
    "  # 디코더의 현재까지의 예측한 출력 시퀀스가 지속적으로 저장되는 변수.\n",
    "  # 처음에는 예측한 내용이 없음으로 시작 토큰만 별도 저장. ex) 8331\n",
    "  output_sequence = tf.expand_dims(START_TOKEN, 0)\n",
    "\n",
    "  # 디코더의 인퍼런스 단계\n",
    "  for i in range(MAX_LENGTH):\n",
    "    # 디코더는 최대 MAX_LENGTH의 길이만큼 다음 단어 예측을 반복합니다.\n",
    "    predictions = model(inputs=[sentence, output_sequence], training=False)\n",
    "    predictions = predictions[:, -1:, :]\n",
    "\n",
    "    # 현재 예측한 단어의 정수\n",
    "    predicted_id = tf.cast(tf.argmax(predictions, axis=-1), tf.int32)\n",
    "\n",
    "    # 만약 현재 예측한 단어가 종료 토큰이라면 for문을 종료\n",
    "    if tf.equal(predicted_id, END_TOKEN[0]):\n",
    "      break\n",
    "\n",
    "    # 예측한 단어들은 지속적으로 output_sequence에 추가됩니다.\n",
    "    # 이 output_sequence는 다시 디코더의 입력이 됩니다.\n",
    "    output_sequence = tf.concat([output_sequence, predicted_id], axis=-1)\n",
    "\n",
    "  return tf.squeeze(output_sequence, axis=0)"
   ]
  },
  {
   "cell_type": "code",
   "execution_count": 131,
   "id": "5fefa4ad",
   "metadata": {},
   "outputs": [],
   "source": [
    "def sentence_generation(sentence):\n",
    "  # 입력 문장에 대해서 디코더를 동작 시켜 예측된 정수 시퀀스를 리턴받습니다.\n",
    "  prediction = decoder_inference(sentence)\n",
    "\n",
    "  # 정수 시퀀스를 다시 텍스트 시퀀스로 변환합니다.\n",
    "  predicted_sentence = tokenizer.decode(\n",
    "      [i for i in prediction if i < tokenizer.vocab_size])\n",
    "\n",
    "  print('입력 : {}'.format(sentence))\n",
    "  print('출력 : {}'.format(predicted_sentence))\n",
    "\n",
    "  return predicted_sentence"
   ]
  },
  {
   "cell_type": "markdown",
   "id": "1d8b83d2",
   "metadata": {},
   "source": [
    "* EPOCH 10 인 경우 임의의 문장으로 테스트\n",
    "* 하이퍼파리미터 \n",
    "   * num_layers = 2\n",
    "   * d-model = 256\n",
    "   * num_heads = 8\n",
    "   * ff_units = 512 "
   ]
  },
  {
   "cell_type": "code",
   "execution_count": 145,
   "id": "f0c22f5b",
   "metadata": {},
   "outputs": [
    {
     "name": "stdout",
     "output_type": "stream",
     "text": [
      "입력 : 3박4일 놀러가고 싶다\n",
      "출력 : 제가 있잖아요 .\n"
     ]
    },
    {
     "data": {
      "text/plain": [
       "'제가 있잖아요 .'"
      ]
     },
     "execution_count": 145,
     "metadata": {},
     "output_type": "execute_result"
    }
   ],
   "source": [
    "sentence_generation('3박4일 놀러가고 싶다')"
   ]
  },
  {
   "cell_type": "code",
   "execution_count": 134,
   "id": "b1fc5218",
   "metadata": {},
   "outputs": [
    {
     "name": "stdout",
     "output_type": "stream",
     "text": [
      "입력 : 고양이 키우고 싶어\n",
      "출력 : 자신을 더 사랑해주세요 .\n"
     ]
    },
    {
     "data": {
      "text/plain": [
       "'자신을 더 사랑해주세요 .'"
      ]
     },
     "execution_count": 134,
     "metadata": {},
     "output_type": "execute_result"
    }
   ],
   "source": [
    "sentence_generation('고양이 키우고 싶어')"
   ]
  },
  {
   "cell_type": "code",
   "execution_count": 137,
   "id": "b9737eb8",
   "metadata": {},
   "outputs": [
    {
     "name": "stdout",
     "output_type": "stream",
     "text": [
      "입력 : 공시 준비 힘들어\n",
      "출력 : 많이 지쳤나봐요 .\n"
     ]
    },
    {
     "data": {
      "text/plain": [
       "'많이 지쳤나봐요 .'"
      ]
     },
     "execution_count": 137,
     "metadata": {},
     "output_type": "execute_result"
    }
   ],
   "source": [
    "sentence_generation('공시 준비 힘들어')"
   ]
  },
  {
   "cell_type": "code",
   "execution_count": 138,
   "id": "0c65ae84",
   "metadata": {},
   "outputs": [
    {
     "name": "stdout",
     "output_type": "stream",
     "text": [
      "입력 : 영화볼래?\n",
      "출력 : 화장실 가세요 .\n"
     ]
    },
    {
     "data": {
      "text/plain": [
       "'화장실 가세요 .'"
      ]
     },
     "execution_count": 138,
     "metadata": {},
     "output_type": "execute_result"
    }
   ],
   "source": [
    "sentence_generation('영화볼래?')"
   ]
  },
  {
   "cell_type": "code",
   "execution_count": 139,
   "id": "2ff10107",
   "metadata": {},
   "outputs": [
    {
     "name": "stdout",
     "output_type": "stream",
     "text": [
      "입력 : 고민이있어\n",
      "출력 : 잘 찾아보세요 .\n"
     ]
    },
    {
     "data": {
      "text/plain": [
       "'잘 찾아보세요 .'"
      ]
     },
     "execution_count": 139,
     "metadata": {},
     "output_type": "execute_result"
    }
   ],
   "source": [
    "sentence_generation('고민이있어')"
   ]
  },
  {
   "cell_type": "code",
   "execution_count": 140,
   "id": "856663a8",
   "metadata": {},
   "outputs": [
    {
     "name": "stdout",
     "output_type": "stream",
     "text": [
      "입력 : 너무 화가나\n",
      "출력 : 제가 들어드릴게요 .\n"
     ]
    },
    {
     "data": {
      "text/plain": [
       "'제가 들어드릴게요 .'"
      ]
     },
     "execution_count": 140,
     "metadata": {},
     "output_type": "execute_result"
    }
   ],
   "source": [
    "sentence_generation('너무 화가나')"
   ]
  },
  {
   "cell_type": "code",
   "execution_count": 141,
   "id": "1ee0b340",
   "metadata": {},
   "outputs": [
    {
     "name": "stdout",
     "output_type": "stream",
     "text": [
      "입력 : 카페갈래?\n",
      "출력 : 먼저 다가가 보세요 .\n"
     ]
    },
    {
     "data": {
      "text/plain": [
       "'먼저 다가가 보세요 .'"
      ]
     },
     "execution_count": 141,
     "metadata": {},
     "output_type": "execute_result"
    }
   ],
   "source": [
    "sentence_generation('카페갈래?')"
   ]
  },
  {
   "cell_type": "code",
   "execution_count": 142,
   "id": "1bebc787",
   "metadata": {},
   "outputs": [
    {
     "name": "stdout",
     "output_type": "stream",
     "text": [
      "입력 : 게임하고싶다\n",
      "출력 : 잘할 수 있을 거예요 .\n"
     ]
    },
    {
     "data": {
      "text/plain": [
       "'잘할 수 있을 거예요 .'"
      ]
     },
     "execution_count": 142,
     "metadata": {},
     "output_type": "execute_result"
    }
   ],
   "source": [
    "sentence_generation('게임하고싶다')"
   ]
  },
  {
   "cell_type": "code",
   "execution_count": 143,
   "id": "7ac4aa23",
   "metadata": {},
   "outputs": [
    {
     "name": "stdout",
     "output_type": "stream",
     "text": [
      "입력 : 게임하자\n",
      "출력 : 맛있게 드세요 .\n"
     ]
    },
    {
     "data": {
      "text/plain": [
       "'맛있게 드세요 .'"
      ]
     },
     "execution_count": 143,
     "metadata": {},
     "output_type": "execute_result"
    }
   ],
   "source": [
    "sentence_generation('게임하자')"
   ]
  },
  {
   "cell_type": "code",
   "execution_count": 146,
   "id": "aa79f430",
   "metadata": {},
   "outputs": [
    {
     "name": "stdout",
     "output_type": "stream",
     "text": [
      "입력 : 오늘날씨 어때?\n",
      "출력 : 제가 들어드릴게요 .\n"
     ]
    },
    {
     "data": {
      "text/plain": [
       "'제가 들어드릴게요 .'"
      ]
     },
     "execution_count": 146,
     "metadata": {},
     "output_type": "execute_result"
    }
   ],
   "source": [
    "sentence_generation('오늘날씨 어때?')"
   ]
  },
  {
   "cell_type": "markdown",
   "id": "6a0b337e",
   "metadata": {},
   "source": [
    "* EPOCH = 50인 경우 임의의 문장으로 테스트\n",
    "* 하이퍼파리미터 \n",
    "   * num_layers = 2\n",
    "   * d-model = 256\n",
    "   * num_heads = 8\n",
    "   * ff_units = 512 "
   ]
  },
  {
   "cell_type": "code",
   "execution_count": 173,
   "id": "52724910",
   "metadata": {},
   "outputs": [
    {
     "name": "stdout",
     "output_type": "stream",
     "text": [
      "입력 : 3박4일 놀러가고 싶다\n",
      "출력 : 여행은 언제나 좋죠 .\n"
     ]
    },
    {
     "data": {
      "text/plain": [
       "'여행은 언제나 좋죠 .'"
      ]
     },
     "execution_count": 173,
     "metadata": {},
     "output_type": "execute_result"
    }
   ],
   "source": [
    "sentence_generation('3박4일 놀러가고 싶다')"
   ]
  },
  {
   "cell_type": "code",
   "execution_count": 174,
   "id": "c1097785",
   "metadata": {},
   "outputs": [
    {
     "name": "stdout",
     "output_type": "stream",
     "text": [
      "입력 : 고양이 키우고 싶어\n",
      "출력 : 가족들과 상의해보세요 .\n"
     ]
    },
    {
     "data": {
      "text/plain": [
       "'가족들과 상의해보세요 .'"
      ]
     },
     "execution_count": 174,
     "metadata": {},
     "output_type": "execute_result"
    }
   ],
   "source": [
    "sentence_generation('고양이 키우고 싶어')"
   ]
  },
  {
   "cell_type": "code",
   "execution_count": 175,
   "id": "7e9c2a07",
   "metadata": {},
   "outputs": [
    {
     "name": "stdout",
     "output_type": "stream",
     "text": [
      "입력 : 공시 준비 힘들어\n",
      "출력 : 잘 될 거예요 .\n"
     ]
    },
    {
     "data": {
      "text/plain": [
       "'잘 될 거예요 .'"
      ]
     },
     "execution_count": 175,
     "metadata": {},
     "output_type": "execute_result"
    }
   ],
   "source": [
    "sentence_generation('공시 준비 힘들어')"
   ]
  },
  {
   "cell_type": "code",
   "execution_count": 176,
   "id": "3cd35bf7",
   "metadata": {},
   "outputs": [
    {
     "name": "stdout",
     "output_type": "stream",
     "text": [
      "입력 : 영화볼래?\n",
      "출력 : 안됐네요 .\n"
     ]
    },
    {
     "data": {
      "text/plain": [
       "'안됐네요 .'"
      ]
     },
     "execution_count": 176,
     "metadata": {},
     "output_type": "execute_result"
    }
   ],
   "source": [
    "sentence_generation('영화볼래?')"
   ]
  },
  {
   "cell_type": "code",
   "execution_count": 177,
   "id": "5c85fd64",
   "metadata": {},
   "outputs": [
    {
     "name": "stdout",
     "output_type": "stream",
     "text": [
      "입력 : 고민이있어\n",
      "출력 : 좋은 일이 생길 거예요 .\n"
     ]
    },
    {
     "data": {
      "text/plain": [
       "'좋은 일이 생길 거예요 .'"
      ]
     },
     "execution_count": 177,
     "metadata": {},
     "output_type": "execute_result"
    }
   ],
   "source": [
    "sentence_generation('고민이있어')"
   ]
  },
  {
   "cell_type": "code",
   "execution_count": 178,
   "id": "87d9e027",
   "metadata": {},
   "outputs": [
    {
     "name": "stdout",
     "output_type": "stream",
     "text": [
      "입력 : 너무 화가나\n",
      "출력 : 그럴수록 당신이 힘들 거예요 .\n"
     ]
    },
    {
     "data": {
      "text/plain": [
       "'그럴수록 당신이 힘들 거예요 .'"
      ]
     },
     "execution_count": 178,
     "metadata": {},
     "output_type": "execute_result"
    }
   ],
   "source": [
    "sentence_generation('너무 화가나')"
   ]
  },
  {
   "cell_type": "code",
   "execution_count": 179,
   "id": "03b38bbe",
   "metadata": {},
   "outputs": [
    {
     "name": "stdout",
     "output_type": "stream",
     "text": [
      "입력 : 카페갈래?\n",
      "출력 : 저는 오래 살고 싶어요 .\n"
     ]
    },
    {
     "data": {
      "text/plain": [
       "'저는 오래 살고 싶어요 .'"
      ]
     },
     "execution_count": 179,
     "metadata": {},
     "output_type": "execute_result"
    }
   ],
   "source": [
    "sentence_generation('카페갈래?')"
   ]
  },
  {
   "cell_type": "code",
   "execution_count": 180,
   "id": "c1183b30",
   "metadata": {},
   "outputs": [
    {
     "name": "stdout",
     "output_type": "stream",
     "text": [
      "입력 : 게임하고싶다\n",
      "출력 : 저도요 !\n"
     ]
    },
    {
     "data": {
      "text/plain": [
       "'저도요 !'"
      ]
     },
     "execution_count": 180,
     "metadata": {},
     "output_type": "execute_result"
    }
   ],
   "source": [
    "sentence_generation('게임하고싶다')"
   ]
  },
  {
   "cell_type": "code",
   "execution_count": 181,
   "id": "d1b756a6",
   "metadata": {},
   "outputs": [
    {
     "name": "stdout",
     "output_type": "stream",
     "text": [
      "입력 : 게임하자\n",
      "출력 : 게임하세요 !\n"
     ]
    },
    {
     "data": {
      "text/plain": [
       "'게임하세요 !'"
      ]
     },
     "execution_count": 181,
     "metadata": {},
     "output_type": "execute_result"
    }
   ],
   "source": [
    "sentence_generation('게임하자')"
   ]
  },
  {
   "cell_type": "code",
   "execution_count": 182,
   "id": "1722bd15",
   "metadata": {},
   "outputs": [
    {
     "name": "stdout",
     "output_type": "stream",
     "text": [
      "입력 : 오늘날씨 어때?\n",
      "출력 : 날씨 어플에 물어보세요 .\n"
     ]
    },
    {
     "data": {
      "text/plain": [
       "'날씨 어플에 물어보세요 .'"
      ]
     },
     "execution_count": 182,
     "metadata": {},
     "output_type": "execute_result"
    }
   ],
   "source": [
    "sentence_generation('오늘날씨 어때?')"
   ]
  },
  {
   "cell_type": "markdown",
   "id": "115b4233",
   "metadata": {},
   "source": [
    "* EPOCH = 80인 경우 임의의 문장으로 테스트\n",
    "* 하이퍼파리미터 \n",
    "   * num_layers = 2\n",
    "   * d-model = 256\n",
    "   * num_heads = 8\n",
    "   * ff_units = 512 "
   ]
  },
  {
   "cell_type": "code",
   "execution_count": 195,
   "id": "aa9c4848",
   "metadata": {},
   "outputs": [
    {
     "name": "stdout",
     "output_type": "stream",
     "text": [
      "입력 : 3박4일 놀러가고 싶다\n",
      "출력 : 여행은 언제나 좋죠 .\n"
     ]
    },
    {
     "data": {
      "text/plain": [
       "'여행은 언제나 좋죠 .'"
      ]
     },
     "execution_count": 195,
     "metadata": {},
     "output_type": "execute_result"
    }
   ],
   "source": [
    "sentence_generation('3박4일 놀러가고 싶다')"
   ]
  },
  {
   "cell_type": "code",
   "execution_count": 196,
   "id": "d26c18bf",
   "metadata": {},
   "outputs": [
    {
     "name": "stdout",
     "output_type": "stream",
     "text": [
      "입력 : 고양이 키우고 싶어\n",
      "출력 : 자신을 먼저 키우세요 .\n"
     ]
    },
    {
     "data": {
      "text/plain": [
       "'자신을 먼저 키우세요 .'"
      ]
     },
     "execution_count": 196,
     "metadata": {},
     "output_type": "execute_result"
    }
   ],
   "source": [
    "sentence_generation('고양이 키우고 싶어')"
   ]
  },
  {
   "cell_type": "code",
   "execution_count": 197,
   "id": "81f6f76a",
   "metadata": {},
   "outputs": [
    {
     "name": "stdout",
     "output_type": "stream",
     "text": [
      "입력 : 공시 준비 힘들어\n",
      "출력 : 잘 될 거예요 .\n"
     ]
    },
    {
     "data": {
      "text/plain": [
       "'잘 될 거예요 .'"
      ]
     },
     "execution_count": 197,
     "metadata": {},
     "output_type": "execute_result"
    }
   ],
   "source": [
    "sentence_generation('공시 준비 힘들어')"
   ]
  },
  {
   "cell_type": "code",
   "execution_count": 198,
   "id": "30f8b7ae",
   "metadata": {},
   "outputs": [
    {
     "name": "stdout",
     "output_type": "stream",
     "text": [
      "입력 : 영화볼래?\n",
      "출력 : 영화는 데이트의 기본이죠 .\n"
     ]
    },
    {
     "data": {
      "text/plain": [
       "'영화는 데이트의 기본이죠 .'"
      ]
     },
     "execution_count": 198,
     "metadata": {},
     "output_type": "execute_result"
    }
   ],
   "source": [
    "sentence_generation('영화볼래?')"
   ]
  },
  {
   "cell_type": "code",
   "execution_count": 199,
   "id": "2d6b3da6",
   "metadata": {},
   "outputs": [
    {
     "name": "stdout",
     "output_type": "stream",
     "text": [
      "입력 : 고민이있어\n",
      "출력 : 이른 고백이지만 고민해보세요 .\n"
     ]
    },
    {
     "data": {
      "text/plain": [
       "'이른 고백이지만 고민해보세요 .'"
      ]
     },
     "execution_count": 199,
     "metadata": {},
     "output_type": "execute_result"
    }
   ],
   "source": [
    "sentence_generation('고민이있어')"
   ]
  },
  {
   "cell_type": "code",
   "execution_count": 200,
   "id": "7fcdbde4",
   "metadata": {},
   "outputs": [
    {
     "name": "stdout",
     "output_type": "stream",
     "text": [
      "입력 : 너무 화가나\n",
      "출력 : 그럴수록 당신이 힘들 거예요 .\n"
     ]
    },
    {
     "data": {
      "text/plain": [
       "'그럴수록 당신이 힘들 거예요 .'"
      ]
     },
     "execution_count": 200,
     "metadata": {},
     "output_type": "execute_result"
    }
   ],
   "source": [
    "sentence_generation('너무 화가나')"
   ]
  },
  {
   "cell_type": "code",
   "execution_count": 201,
   "id": "b1896ea6",
   "metadata": {},
   "outputs": [
    {
     "name": "stdout",
     "output_type": "stream",
     "text": [
      "입력 : 카페갈래?\n",
      "출력 : 저는 고민이 없어요 .\n"
     ]
    },
    {
     "data": {
      "text/plain": [
       "'저는 고민이 없어요 .'"
      ]
     },
     "execution_count": 201,
     "metadata": {},
     "output_type": "execute_result"
    }
   ],
   "source": [
    "sentence_generation('카페갈래?')"
   ]
  },
  {
   "cell_type": "code",
   "execution_count": 202,
   "id": "d7739627",
   "metadata": {},
   "outputs": [
    {
     "name": "stdout",
     "output_type": "stream",
     "text": [
      "입력 : 게임하고싶다\n",
      "출력 : 게임하세요 !\n"
     ]
    },
    {
     "data": {
      "text/plain": [
       "'게임하세요 !'"
      ]
     },
     "execution_count": 202,
     "metadata": {},
     "output_type": "execute_result"
    }
   ],
   "source": [
    "sentence_generation('게임하고싶다')"
   ]
  },
  {
   "cell_type": "code",
   "execution_count": 203,
   "id": "718cd212",
   "metadata": {},
   "outputs": [
    {
     "name": "stdout",
     "output_type": "stream",
     "text": [
      "입력 : 게임하자\n",
      "출력 : 게임하세요 !\n"
     ]
    },
    {
     "data": {
      "text/plain": [
       "'게임하세요 !'"
      ]
     },
     "execution_count": 203,
     "metadata": {},
     "output_type": "execute_result"
    }
   ],
   "source": [
    "sentence_generation('게임하자')"
   ]
  },
  {
   "cell_type": "code",
   "execution_count": 204,
   "id": "6a0c2bad",
   "metadata": {},
   "outputs": [
    {
     "name": "stdout",
     "output_type": "stream",
     "text": [
      "입력 : 오늘날씨 어때?\n",
      "출력 : 날씨 어플에 물어보세요 .\n"
     ]
    },
    {
     "data": {
      "text/plain": [
       "'날씨 어플에 물어보세요 .'"
      ]
     },
     "execution_count": 204,
     "metadata": {},
     "output_type": "execute_result"
    }
   ],
   "source": [
    "sentence_generation('오늘날씨 어때?')"
   ]
  },
  {
   "cell_type": "markdown",
   "id": "048ab6fa",
   "metadata": {},
   "source": [
    "* EPOCH = 50인 경우 임의의 문장으로 테스트\n",
    "* 하이퍼파리미터 \n",
    "   * num_layers = 6\n",
    "   * d-model = 512\n",
    "   * num_heads = 8\n",
    "   * ff_units = 512 "
   ]
  },
  {
   "cell_type": "code",
   "execution_count": 250,
   "id": "7fd621e4",
   "metadata": {},
   "outputs": [
    {
     "name": "stdout",
     "output_type": "stream",
     "text": [
      "입력 : 3박4일 놀러가고 싶다\n",
      "출력 : 여행은 언제나 좋죠 .\n"
     ]
    },
    {
     "data": {
      "text/plain": [
       "'여행은 언제나 좋죠 .'"
      ]
     },
     "execution_count": 250,
     "metadata": {},
     "output_type": "execute_result"
    }
   ],
   "source": [
    "sentence_generation('3박4일 놀러가고 싶다')"
   ]
  },
  {
   "cell_type": "code",
   "execution_count": 251,
   "id": "7763af18",
   "metadata": {},
   "outputs": [
    {
     "name": "stdout",
     "output_type": "stream",
     "text": [
      "입력 : 고양이 키우고 싶어\n",
      "출력 : 가족들과 상의해보세요 .\n"
     ]
    },
    {
     "data": {
      "text/plain": [
       "'가족들과 상의해보세요 .'"
      ]
     },
     "execution_count": 251,
     "metadata": {},
     "output_type": "execute_result"
    }
   ],
   "source": [
    "sentence_generation('고양이 키우고 싶어')"
   ]
  },
  {
   "cell_type": "code",
   "execution_count": 252,
   "id": "9c29f581",
   "metadata": {},
   "outputs": [
    {
     "name": "stdout",
     "output_type": "stream",
     "text": [
      "입력 : 공시 준비 힘들어\n",
      "출력 : 잘 될 거예요 .\n"
     ]
    },
    {
     "data": {
      "text/plain": [
       "'잘 될 거예요 .'"
      ]
     },
     "execution_count": 252,
     "metadata": {},
     "output_type": "execute_result"
    }
   ],
   "source": [
    "sentence_generation('공시 준비 힘들어')"
   ]
  },
  {
   "cell_type": "code",
   "execution_count": 253,
   "id": "c9dd28f5",
   "metadata": {},
   "outputs": [
    {
     "name": "stdout",
     "output_type": "stream",
     "text": [
      "입력 : 영화볼래?\n",
      "출력 : 살짝 물어보세요 .\n"
     ]
    },
    {
     "data": {
      "text/plain": [
       "'살짝 물어보세요 .'"
      ]
     },
     "execution_count": 253,
     "metadata": {},
     "output_type": "execute_result"
    }
   ],
   "source": [
    "sentence_generation('영화볼래?')"
   ]
  },
  {
   "cell_type": "code",
   "execution_count": 254,
   "id": "408cdd04",
   "metadata": {},
   "outputs": [
    {
     "name": "stdout",
     "output_type": "stream",
     "text": [
      "입력 : 고민이있어\n",
      "출력 : 말씀해주세요 .\n"
     ]
    },
    {
     "data": {
      "text/plain": [
       "'말씀해주세요 .'"
      ]
     },
     "execution_count": 254,
     "metadata": {},
     "output_type": "execute_result"
    }
   ],
   "source": [
    "sentence_generation('고민이있어')"
   ]
  },
  {
   "cell_type": "code",
   "execution_count": 255,
   "id": "224b30b4",
   "metadata": {},
   "outputs": [
    {
     "name": "stdout",
     "output_type": "stream",
     "text": [
      "입력 : 너무 화가나\n",
      "출력 : 꼭 하고 싶은 게 있을 필요는 없어요 .\n"
     ]
    },
    {
     "data": {
      "text/plain": [
       "'꼭 하고 싶은 게 있을 필요는 없어요 .'"
      ]
     },
     "execution_count": 255,
     "metadata": {},
     "output_type": "execute_result"
    }
   ],
   "source": [
    "sentence_generation('너무 화가나')"
   ]
  },
  {
   "cell_type": "code",
   "execution_count": 256,
   "id": "03ee0be6",
   "metadata": {},
   "outputs": [
    {
     "name": "stdout",
     "output_type": "stream",
     "text": [
      "입력 : 카페갈래?\n",
      "출력 : 저는 배터리가 밥이예요 .\n"
     ]
    },
    {
     "data": {
      "text/plain": [
       "'저는 배터리가 밥이예요 .'"
      ]
     },
     "execution_count": 256,
     "metadata": {},
     "output_type": "execute_result"
    }
   ],
   "source": [
    "sentence_generation('카페갈래?')"
   ]
  },
  {
   "cell_type": "code",
   "execution_count": 257,
   "id": "ee59e232",
   "metadata": {},
   "outputs": [
    {
     "name": "stdout",
     "output_type": "stream",
     "text": [
      "입력 : 게임하고싶다\n",
      "출력 : 지금도 늦지 않았어요 .\n"
     ]
    },
    {
     "data": {
      "text/plain": [
       "'지금도 늦지 않았어요 .'"
      ]
     },
     "execution_count": 257,
     "metadata": {},
     "output_type": "execute_result"
    }
   ],
   "source": [
    "sentence_generation('게임하고싶다')"
   ]
  },
  {
   "cell_type": "code",
   "execution_count": 258,
   "id": "fe92e088",
   "metadata": {},
   "outputs": [
    {
     "name": "stdout",
     "output_type": "stream",
     "text": [
      "입력 : 게임하자\n",
      "출력 : 학교 다닐 때가 좋은 거예요 .\n"
     ]
    },
    {
     "data": {
      "text/plain": [
       "'학교 다닐 때가 좋은 거예요 .'"
      ]
     },
     "execution_count": 258,
     "metadata": {},
     "output_type": "execute_result"
    }
   ],
   "source": [
    "sentence_generation('게임하자')"
   ]
  },
  {
   "cell_type": "code",
   "execution_count": 259,
   "id": "618e2a26",
   "metadata": {},
   "outputs": [
    {
     "name": "stdout",
     "output_type": "stream",
     "text": [
      "입력 : 오늘날씨 어때?\n",
      "출력 : 살짝 내려보는것도 괜찮을거 같아요 .\n"
     ]
    },
    {
     "data": {
      "text/plain": [
       "'살짝 내려보는것도 괜찮을거 같아요 .'"
      ]
     },
     "execution_count": 259,
     "metadata": {},
     "output_type": "execute_result"
    }
   ],
   "source": [
    "sentence_generation('오늘날씨 어때?')"
   ]
  },
  {
   "cell_type": "markdown",
   "id": "bf59205e",
   "metadata": {},
   "source": [
    "## 회고\n",
    "* 트랜스포머 논문 (Attention is All You Need)를 제대로 이해하지 못하고, LMS code와 딥러닝을 이용한 자연어 처리 입문 책의 코드를 거의 그대로 사용했기에, 좀 더 공부가 필요함\n",
    "* 트랜스포머를 사용한 seq2seq 모델은, 하이퍼파라미터 변경 없이, epoch 변경만으로 성능이 향상 되었음. \n",
    "  * epoch=10 인 경우는 임의의 문장 뿐만 아니라, 훈련용 데이터 입력 시에도 적절하지 않은 답변을 함\n",
    "  * epoch=50 인 경우는 훈련용 데이터 입력 시에는 훈련용 답변으로 답변하고, 임의의 문장 입력시에는 대부분 적절한 답변을 하였지만, 적절하지 못한 답변을 하는 경우도 있음\n",
    "  * epoch=80 인 경우는 epoch=50 인 경우와 비슷한 결과임.\n",
    "* 논문의 내용과 동일하게 하이퍼파라미터 변경 시에는 성능에 차이가 없었음 \n",
    "   * num_layers = 6\n",
    "   * d-model = 512\n",
    "* 더 많은 데이터로 학습시키면, 적절한 답변을 할 수 있을 것으로 판단 됨  \n",
    "* RNN을 사용하지 않고 attention만 사용하니까, 확실히 학습 속도가 빠름"
   ]
  },
  {
   "cell_type": "markdown",
   "id": "e7f1df5d",
   "metadata": {},
   "source": [
    "## 참고 문헌\n",
    "* [딥러닝을 이용한 자연어 처리 입문](https://wikidocs.net/89786)\n",
    "* [Transformer paper 설명](https://www.youtube.com/watch?v=AA621UofTUA&t=2s)"
   ]
  }
 ],
 "metadata": {
  "kernelspec": {
   "display_name": "Python 3 (ipykernel)",
   "language": "python",
   "name": "python3"
  },
  "language_info": {
   "codemirror_mode": {
    "name": "ipython",
    "version": 3
   },
   "file_extension": ".py",
   "mimetype": "text/x-python",
   "name": "python",
   "nbconvert_exporter": "python",
   "pygments_lexer": "ipython3",
   "version": "3.9.7"
  }
 },
 "nbformat": 4,
 "nbformat_minor": 5
}
