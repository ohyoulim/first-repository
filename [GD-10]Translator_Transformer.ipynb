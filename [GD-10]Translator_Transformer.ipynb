{
 "cells": [
  {
   "cell_type": "markdown",
   "id": "b3243294",
   "metadata": {},
   "source": [
    "# 루브릭\n",
    "|평가문항|상세기준|self check|\n",
    "|:-------|:-------|:-----------------------|\n",
    "|1. 번역기 모델 학습에 필요한 텍스트 데이터 전처리가 잘 이루어졌다.|데이터 정제, SentencePiece를 활용한 토큰화 및 데이터셋 구축의 과정이 지시대로 진행되었다.|OK|\n",
    "|2. Transformer 번역기 모델이 정상적으로 구동된다.|Transformer 모델의 학습과 추론 과정이 정상적으로 진행되어, 한-영 번역기능이 정상 동작한다.|OK|\n",
    "|3. 테스트 결과 의미가 통하는 수준의 번역문이 생성되었다.|제시된 문장에 대한 그럴듯한 영어 번역문이 생성되며, 시각화된 Attention Map으로 결과를 뒷받침한다.|OK|"
   ]
  },
  {
   "cell_type": "markdown",
   "id": "d524015f",
   "metadata": {},
   "source": [
    "### dataset\n",
    "1.[한영 병렬 데이터](https://github.com/jungyeul/korean-parallel-corpora/tree/master/korean-english-news-v1)\n",
    "### 적용할 알고리즘\n",
    "1. SentencePiece\n",
    "2. Transformer"
   ]
  },
  {
   "cell_type": "markdown",
   "id": "b254fb8b",
   "metadata": {},
   "source": [
    "## 문제 정의  \n",
    "\n",
    "> Transformer로 한영 번역기 만들기"
   ]
  },
  {
   "cell_type": "markdown",
   "id": "4a2dfb40",
   "metadata": {},
   "source": [
    "## 분석환경"
   ]
  },
  {
   "cell_type": "code",
   "execution_count": 1,
   "id": "17ff7910",
   "metadata": {},
   "outputs": [],
   "source": [
    "from IPython.core.interactiveshell import InteractiveShell\n",
    "InteractiveShell.ast_node_interactivity = \"all\"\n",
    "from IPython.display import Image\n",
    "#Image(filename='optimizer.png') "
   ]
  },
  {
   "cell_type": "code",
   "execution_count": 2,
   "id": "2f9069e0",
   "metadata": {},
   "outputs": [
    {
     "name": "stdout",
     "output_type": "stream",
     "text": [
      "2.6.0\n",
      "1.21.4\n",
      "3.4.3\n"
     ]
    }
   ],
   "source": [
    "import tensorflow\n",
    "import numpy\n",
    "import matplotlib\n",
    "\n",
    "print(tensorflow.__version__)\n",
    "print(numpy.__version__)\n",
    "print(matplotlib.__version__)"
   ]
  },
  {
   "cell_type": "code",
   "execution_count": 3,
   "id": "c1d316ac",
   "metadata": {},
   "outputs": [
    {
     "name": "stdout",
     "output_type": "stream",
     "text": [
      "2.6.0\n"
     ]
    }
   ],
   "source": [
    "import tensorflow as tf\n",
    "import numpy as np\n",
    "\n",
    "from sklearn.model_selection import train_test_split\n",
    "\n",
    "import matplotlib.ticker as ticker\n",
    "import matplotlib.pyplot as plt\n",
    "\n",
    "import time\n",
    "import re\n",
    "import os\n",
    "import io\n",
    "\n",
    "print(tf.__version__)"
   ]
  },
  {
   "cell_type": "markdown",
   "id": "b99bd497",
   "metadata": {},
   "source": [
    "#### Attention Map 확인위해 한글어를 지원하는 폰트로 변경"
   ]
  },
  {
   "cell_type": "code",
   "execution_count": 4,
   "id": "2c72d3f0",
   "metadata": {},
   "outputs": [
    {
     "data": {
      "text/plain": [
       "'/usr/share/fonts/truetype/nanum/NanumBarunGothic.ttf'"
      ]
     },
     "execution_count": 4,
     "metadata": {},
     "output_type": "execute_result"
    }
   ],
   "source": [
    "import matplotlib as mpl\n",
    "import matplotlib.pyplot as plt\n",
    "import matplotlib.font_manager as fm\n",
    "\n",
    "%config InlineBackend.figure_format = 'retina'\n",
    " \n",
    "fontpath = '/usr/share/fonts/truetype/nanum/NanumBarunGothic.ttf'\n",
    "font = fm.FontProperties(fname=fontpath, size=9)\n",
    "plt.rc('font', family='NanumBarunGothic') \n",
    "mpl.font_manager.findfont(font)"
   ]
  },
  {
   "cell_type": "markdown",
   "id": "7bef49b2",
   "metadata": {},
   "source": [
    "## Step 1. 데이터 다운로드"
   ]
  },
  {
   "cell_type": "markdown",
   "id": "51be2500",
   "metadata": {},
   "source": [
    "* [한영 병렬 데이터](https://github.com/jungyeul/korean-parallel-corpora/tree/master/korean-english-news-v1)"
   ]
  },
  {
   "cell_type": "markdown",
   "id": "12509f5b",
   "metadata": {},
   "source": [
    "## Step 2. 데이터 정제 및 토큰화"
   ]
  },
  {
   "cell_type": "markdown",
   "id": "222f270d",
   "metadata": {},
   "source": [
    "### 1. 중복 제거\n",
    "* set 데이터형이 중복을 허용하지 않는다는 것을 활용해 중복된 데이터를 제거\n",
    "* 데이터의 병렬 쌍이 흐트러지지 않게 주의! \n",
    "* 중복을 제거한 데이터를 cleaned_corpus 에 저장"
   ]
  },
  {
   "cell_type": "code",
   "execution_count": 5,
   "id": "d83369fd",
   "metadata": {},
   "outputs": [
    {
     "name": "stdout",
     "output_type": "stream",
     "text": [
      "corpus size 94123\n",
      "cleaned_corpus size 78968\n"
     ]
    }
   ],
   "source": [
    "kor_path = \"./data/korean-english-park.train.ko\"\n",
    "eng_path = \"./data/korean-english-park.train.en\"\n",
    "\n",
    "# 데이터 정제 및 토큰화\n",
    "def clean_corpus(kor_path, eng_path):\n",
    "    with open(kor_path, \"r\") as f: \n",
    "        kor = f.read().splitlines()\n",
    "    with open(eng_path, \"r\") as f: \n",
    "        eng = f.read().splitlines()\n",
    "    \n",
    "    assert len(kor) == len(eng)\n",
    "    \n",
    "    corpus = list(zip(kor,eng))\n",
    "    cleaned_corpus = list(set(corpus))\n",
    "    print(\"corpus size\",len(corpus))\n",
    "    print(\"cleaned_corpus size\",len(cleaned_corpus))\n",
    "\n",
    "    return cleaned_corpus\n",
    "\n",
    "cleaned_corpus = clean_corpus(kor_path, eng_path)"
   ]
  },
  {
   "cell_type": "code",
   "execution_count": 6,
   "id": "c4d9948b",
   "metadata": {},
   "outputs": [
    {
     "data": {
      "text/plain": [
       "[('이것은 각기 다른 교육 수준(즉, 무학력, 초등 교육, 중등 교육, 고등 교육)을 이수한 25세 이상의 남녀 비율을 계산해 낸 것이다.',\n",
       "  'This calculated the proportion of men and women over 25 who had completed different levels of schooling (ie, none;'),\n",
       " ('오크 그로브 학교 교장인 모건 포니스 씨는 학교에 물이 밀려들어오는 것을 막을 방법이 거의 없었다고 전했습니다.',\n",
       "  \"Oak Grove School principal, Morgan Forness, says there is little that could've been done to keep the water out of the buildings:\"),\n",
       " ('권터 플라터 오스트리아 내무부장관은 7일 (현지 시간) 기자들에게 \"이번 사건은 오스트리아에서 적발된 최대 포르노 유통 사건이다.',\n",
       "  '\"This is the biggest case of child porn distribution ever discovered in Austria,\" Interior Minister Guenther Platter told reporters on Wednesday.'),\n",
       " ('미 하원 금융위원회 위원장 바니 프랭크는, 많은 의원들이 논란이 있는 7000억 달러 구제 금융 법안에 투표하느니 차라리 당장 있을 재선에 대비해 선거 운동을 하는 편이 나을 것이라고 속내를 비췄습니다.',\n",
       "  'House Financial Services Committee Chairman Barney Frank says frankly, many Congress members would rather be campaigning for reelection right now than casting a controversial vote on the $700 billion bailout deal.'),\n",
       " ('• 금연법은 간접 흡연 노출에 직접적인 감소를 가져온다.',\n",
       "  'The ordinance led to an immediate decrease in secondhand smoke exposure.')]"
      ]
     },
     "execution_count": 6,
     "metadata": {},
     "output_type": "execute_result"
    }
   ],
   "source": [
    "cleaned_corpus[:5]"
   ]
  },
  {
   "cell_type": "markdown",
   "id": "b7235fb6",
   "metadata": {},
   "source": [
    "### 2. 정제 함수를 아래 조건을 만족하게 정의하기\n",
    " * 모든 입력을 소문자로 변환\n",
    " * 알파벳, 문장부호, 한글만 남기고 모두 제거\n",
    " * 문장부호 양옆에 공백을 추가\n",
    " * 문장 앞뒤의 불필요한 공백을 제거"
   ]
  },
  {
   "cell_type": "code",
   "execution_count": 7,
   "id": "c04e47a3",
   "metadata": {},
   "outputs": [
    {
     "data": {
      "text/plain": [
       "'abc dcf 안녕하세요 ? 만나서 유'"
      ]
     },
     "execution_count": 7,
     "metadata": {},
     "output_type": "execute_result"
    }
   ],
   "source": [
    "import re\n",
    "def preprocess_sentence(sentence):\n",
    "\n",
    "    sentence = sentence.lower().strip()\n",
    "    sentence = re.sub(r\"([?.!,])\", r\" \\1 \", sentence)\n",
    "    sentence = re.sub(r'[\" \"]+', \" \", sentence)\n",
    "    #sentence = re.sub(r\"[^ㄱ-ㅎㅏ-ㅣ가-힣a-zA-Z?.!,]+\", \" \", sentence)\n",
    "    #sentence = re.sub(r\"[^가-힣a-zA-Z1-9?.!, ]+\", \"\", sentence)\n",
    "    sentence = re.sub(r\"[^가-힣a-zA-Z?.!, ]+\", \"\", sentence)\n",
    "\n",
    "    sentence = sentence.strip()\n",
    "\n",
    "    return sentence\n",
    "\n",
    "preprocess_sentence('ABC DCF 12345안녕하세요? 만ㅠㅠㅠㅠㅠㅠ나서 ㅎㅎㅋㅋㅋㅋㅋㅋ유ㅏㄴ ㅏ')"
   ]
  },
  {
   "cell_type": "markdown",
   "id": "c2d9a47a",
   "metadata": {},
   "source": [
    "### 3. SentencePiece로 토큰화하기 \n",
    "* 토큰화에는 Sentencepiece 활용.  \n",
    "  * 한글 말뭉치 kor_corpus 와 영문 말뭉치 eng_corpus 를 각각 분리한 후, 정제하여 토큰화 진행  \n",
    "* generate_tokenizer() 함수 정의하기\n",
    "  > * 단어 사전을 매개변수로 받아 원하는 크기의 사전을 정의 (기본: 20,000)\n",
    "  > * 학습 후 저장된 model 파일을 SentencePieceProcessor() 클래스에 Load()한 후 반환\n",
    "  > * 특수 토큰의 인덱스를 아래와 동일하게 지정\n",
    "  > \\<PAD> : 0 / \\<BOS> : 1 / \\<EOS> : 2 / \\<UNK> : 3\n",
    "* 최종적으로 ko_tokenizer 과 en_tokenizer 를 얻기 \n",
    "  > * en_tokenizer에는 set_encode_extra_options(\"bos:eos\") 함수를 실행해 타겟 입력이 문장의 시작 토큰과 끝 토큰을 포함할 수 있게 구현"
   ]
  },
  {
   "cell_type": "code",
   "execution_count": 9,
   "id": "12e44ec7",
   "metadata": {},
   "outputs": [],
   "source": [
    "import sentencepiece as spm"
   ]
  },
  {
   "cell_type": "markdown",
   "id": "5d01f968",
   "metadata": {},
   "source": [
    "#### sentencepiece 모델 생성"
   ]
  },
  {
   "cell_type": "code",
   "execution_count": 10,
   "id": "6195bba3",
   "metadata": {
    "scrolled": false
   },
   "outputs": [
    {
     "name": "stdout",
     "output_type": "stream",
     "text": [
      "Korean: 이것은 각기 다른 교육 수준즉 , 무학력 , 초등 교육 , 중등 교육 , 고등 교육을 이수한 세 이상의 남녀 비율을 계산해 낸 것이다 .\n",
      "English: this calculated the proportion of men and women over  who had completed different levels of schooling ie , none\n"
     ]
    },
    {
     "name": "stderr",
     "output_type": "stream",
     "text": [
      "sentencepiece_trainer.cc(177) LOG(INFO) Running command: --input=./sp_tokenizer/kor_corpus.txt                      --model_prefix=kor_20000_spm                      --vocab_size=20000                      --model_type=unigram                      --pad_id=0 --pad_piece=[PAD]                      --bos_id=1 --bos_piece=[BOS]                      --eos_id=2 --eos_piece=[EOS]                      --unk_id=3 --unk_piece=[UNK]\n",
      "sentencepiece_trainer.cc(77) LOG(INFO) Starts training with : \n",
      "trainer_spec {\n",
      "  input: ./sp_tokenizer/kor_corpus.txt\n",
      "  input_format: \n",
      "  model_prefix: kor_20000_spm\n",
      "  model_type: UNIGRAM\n",
      "  vocab_size: 20000\n",
      "  self_test_sample_size: 0\n",
      "  character_coverage: 0.9995\n",
      "  input_sentence_size: 0\n",
      "  shuffle_input_sentence: 1\n",
      "  seed_sentencepiece_size: 1000000\n",
      "  shrinking_factor: 0.75\n",
      "  max_sentence_length: 4192\n",
      "  num_threads: 16\n",
      "  num_sub_iterations: 2\n",
      "  max_sentencepiece_length: 16\n",
      "  split_by_unicode_script: 1\n",
      "  split_by_number: 1\n",
      "  split_by_whitespace: 1\n",
      "  split_digits: 0\n",
      "  treat_whitespace_as_suffix: 0\n",
      "  allow_whitespace_only_pieces: 0\n",
      "  required_chars: \n",
      "  byte_fallback: 0\n",
      "  vocabulary_output_piece_score: 1\n",
      "  train_extremely_large_corpus: 0\n",
      "  hard_vocab_limit: 1\n",
      "  use_all_vocab: 0\n",
      "  unk_id: 3\n",
      "  bos_id: 1\n",
      "  eos_id: 2\n",
      "  pad_id: 0\n",
      "  unk_piece: [UNK]\n",
      "  bos_piece: [BOS]\n",
      "  eos_piece: [EOS]\n",
      "  pad_piece: [PAD]\n",
      "  unk_surface:  ⁇ \n",
      "}\n",
      "normalizer_spec {\n",
      "  name: nmt_nfkc\n",
      "  add_dummy_prefix: 1\n",
      "  remove_extra_whitespaces: 1\n",
      "  escape_whitespaces: 1\n",
      "  normalization_rule_tsv: \n",
      "}\n",
      "denormalizer_spec {}\n",
      "trainer_interface.cc(329) LOG(INFO) SentenceIterator is not specified. Using MultiFileSentenceIterator.\n",
      "trainer_interface.cc(178) LOG(INFO) Loading corpus: ./sp_tokenizer/kor_corpus.txt\n",
      "trainer_interface.cc(385) LOG(INFO) Loaded all 78967 sentences\n",
      "trainer_interface.cc(400) LOG(INFO) Adding meta_piece: [PAD]\n",
      "trainer_interface.cc(400) LOG(INFO) Adding meta_piece: [BOS]\n",
      "trainer_interface.cc(400) LOG(INFO) Adding meta_piece: [EOS]\n",
      "trainer_interface.cc(400) LOG(INFO) Adding meta_piece: [UNK]\n",
      "trainer_interface.cc(405) LOG(INFO) Normalizing sentences...\n",
      "trainer_interface.cc(466) LOG(INFO) all chars count=5019361\n",
      "trainer_interface.cc(477) LOG(INFO) Done: 99.9501% characters are covered.\n",
      "trainer_interface.cc(487) LOG(INFO) Alphabet size=1186\n",
      "trainer_interface.cc(488) LOG(INFO) Final character coverage=0.999501\n",
      "trainer_interface.cc(520) LOG(INFO) Done! preprocessed 78967 sentences.\n",
      "unigram_model_trainer.cc(139) LOG(INFO) Making suffix array...\n",
      "unigram_model_trainer.cc(143) LOG(INFO) Extracting frequent sub strings...\n",
      "unigram_model_trainer.cc(194) LOG(INFO) Initialized 165883 seed sentencepieces\n",
      "trainer_interface.cc(526) LOG(INFO) Tokenizing input sentences with whitespace: 78967\n",
      "trainer_interface.cc(537) LOG(INFO) Done! 201607\n",
      "unigram_model_trainer.cc(489) LOG(INFO) Using 201607 sentences for EM training\n",
      "unigram_model_trainer.cc(505) LOG(INFO) EM sub_iter=0 size=85871 obj=12.7304 num_tokens=394618 num_tokens/piece=4.59547\n",
      "unigram_model_trainer.cc(505) LOG(INFO) EM sub_iter=1 size=73667 obj=11.5814 num_tokens=395984 num_tokens/piece=5.37532\n",
      "unigram_model_trainer.cc(505) LOG(INFO) EM sub_iter=0 size=55242 obj=11.5827 num_tokens=413718 num_tokens/piece=7.48919\n",
      "unigram_model_trainer.cc(505) LOG(INFO) EM sub_iter=1 size=55216 obj=11.5458 num_tokens=414100 num_tokens/piece=7.49964\n",
      "unigram_model_trainer.cc(505) LOG(INFO) EM sub_iter=0 size=41410 obj=11.6907 num_tokens=438463 num_tokens/piece=10.5883\n",
      "unigram_model_trainer.cc(505) LOG(INFO) EM sub_iter=1 size=41409 obj=11.6549 num_tokens=438640 num_tokens/piece=10.5929\n",
      "unigram_model_trainer.cc(505) LOG(INFO) EM sub_iter=0 size=31056 obj=11.8567 num_tokens=465508 num_tokens/piece=14.9893\n",
      "unigram_model_trainer.cc(505) LOG(INFO) EM sub_iter=1 size=31056 obj=11.8136 num_tokens=465506 num_tokens/piece=14.9892\n",
      "unigram_model_trainer.cc(505) LOG(INFO) EM sub_iter=0 size=23292 obj=12.0575 num_tokens=493140 num_tokens/piece=21.1721\n",
      "unigram_model_trainer.cc(505) LOG(INFO) EM sub_iter=1 size=23292 obj=12.0106 num_tokens=493141 num_tokens/piece=21.1721\n",
      "unigram_model_trainer.cc(505) LOG(INFO) EM sub_iter=0 size=22000 obj=12.0658 num_tokens=498462 num_tokens/piece=22.6574\n",
      "unigram_model_trainer.cc(505) LOG(INFO) EM sub_iter=1 size=22000 obj=12.0562 num_tokens=498459 num_tokens/piece=22.6572\n",
      "trainer_interface.cc(615) LOG(INFO) Saving model: kor_20000_spm.model\n",
      "trainer_interface.cc(626) LOG(INFO) Saving vocabs: kor_20000_spm.vocab\n",
      "sentencepiece_trainer.cc(177) LOG(INFO) Running command: --input=./sp_tokenizer/eng_corpus.txt                      --model_prefix=eng_20000_spm                      --vocab_size=20000                      --model_type=unigram                      --pad_id=0 --pad_piece=[PAD]                      --bos_id=1 --bos_piece=[BOS]                      --eos_id=2 --eos_piece=[EOS]                      --unk_id=3 --unk_piece=[UNK]\n",
      "sentencepiece_trainer.cc(77) LOG(INFO) Starts training with : \n",
      "trainer_spec {\n",
      "  input: ./sp_tokenizer/eng_corpus.txt\n",
      "  input_format: \n",
      "  model_prefix: eng_20000_spm\n",
      "  model_type: UNIGRAM\n",
      "  vocab_size: 20000\n",
      "  self_test_sample_size: 0\n",
      "  character_coverage: 0.9995\n",
      "  input_sentence_size: 0\n",
      "  shuffle_input_sentence: 1\n",
      "  seed_sentencepiece_size: 1000000\n",
      "  shrinking_factor: 0.75\n",
      "  max_sentence_length: 4192\n",
      "  num_threads: 16\n",
      "  num_sub_iterations: 2\n",
      "  max_sentencepiece_length: 16\n",
      "  split_by_unicode_script: 1\n",
      "  split_by_number: 1\n",
      "  split_by_whitespace: 1\n",
      "  split_digits: 0\n",
      "  treat_whitespace_as_suffix: 0\n",
      "  allow_whitespace_only_pieces: 0\n",
      "  required_chars: \n",
      "  byte_fallback: 0\n",
      "  vocabulary_output_piece_score: 1\n",
      "  train_extremely_large_corpus: 0\n",
      "  hard_vocab_limit: 1\n",
      "  use_all_vocab: 0\n",
      "  unk_id: 3\n",
      "  bos_id: 1\n",
      "  eos_id: 2\n",
      "  pad_id: 0\n",
      "  unk_piece: [UNK]\n",
      "  bos_piece: [BOS]\n",
      "  eos_piece: [EOS]\n",
      "  pad_piece: [PAD]\n",
      "  unk_surface:  ⁇ \n",
      "}\n",
      "normalizer_spec {\n",
      "  name: nmt_nfkc\n",
      "  add_dummy_prefix: 1\n",
      "  remove_extra_whitespaces: 1\n",
      "  escape_whitespaces: 1\n",
      "  normalization_rule_tsv: \n",
      "}\n",
      "denormalizer_spec {}\n",
      "trainer_interface.cc(329) LOG(INFO) SentenceIterator is not specified. Using MultiFileSentenceIterator.\n",
      "trainer_interface.cc(178) LOG(INFO) Loading corpus: ./sp_tokenizer/eng_corpus.txt\n",
      "trainer_interface.cc(385) LOG(INFO) Loaded all 78956 sentences\n",
      "trainer_interface.cc(400) LOG(INFO) Adding meta_piece: [PAD]\n",
      "trainer_interface.cc(400) LOG(INFO) Adding meta_piece: [BOS]\n",
      "trainer_interface.cc(400) LOG(INFO) Adding meta_piece: [EOS]\n",
      "trainer_interface.cc(400) LOG(INFO) Adding meta_piece: [UNK]\n",
      "trainer_interface.cc(405) LOG(INFO) Normalizing sentences...\n",
      "trainer_interface.cc(466) LOG(INFO) all chars count=10615973\n",
      "trainer_interface.cc(477) LOG(INFO) Done: 99.9909% characters are covered.\n",
      "trainer_interface.cc(487) LOG(INFO) Alphabet size=29\n",
      "trainer_interface.cc(488) LOG(INFO) Final character coverage=0.999909\n",
      "trainer_interface.cc(520) LOG(INFO) Done! preprocessed 78956 sentences.\n",
      "unigram_model_trainer.cc(139) LOG(INFO) Making suffix array...\n",
      "unigram_model_trainer.cc(143) LOG(INFO) Extracting frequent sub strings...\n",
      "unigram_model_trainer.cc(194) LOG(INFO) Initialized 101028 seed sentencepieces\n",
      "trainer_interface.cc(526) LOG(INFO) Tokenizing input sentences with whitespace: 78956\n",
      "trainer_interface.cc(537) LOG(INFO) Done! 52168\n",
      "unigram_model_trainer.cc(489) LOG(INFO) Using 52168 sentences for EM training\n",
      "unigram_model_trainer.cc(505) LOG(INFO) EM sub_iter=0 size=38183 obj=9.87227 num_tokens=98093 num_tokens/piece=2.56902\n",
      "unigram_model_trainer.cc(505) LOG(INFO) EM sub_iter=1 size=29565 obj=7.93807 num_tokens=98455 num_tokens/piece=3.33012\n",
      "unigram_model_trainer.cc(505) LOG(INFO) EM sub_iter=0 size=22169 obj=7.86854 num_tokens=103084 num_tokens/piece=4.64992\n",
      "unigram_model_trainer.cc(505) LOG(INFO) EM sub_iter=1 size=22148 obj=7.8475 num_tokens=103281 num_tokens/piece=4.66322\n",
      "unigram_model_trainer.cc(505) LOG(INFO) EM sub_iter=0 size=21955 obj=7.84596 num_tokens=103323 num_tokens/piece=4.70613\n",
      "unigram_model_trainer.cc(505) LOG(INFO) EM sub_iter=1 size=21954 obj=7.84461 num_tokens=103388 num_tokens/piece=4.7093\n",
      "trainer_interface.cc(615) LOG(INFO) Saving model: eng_20000_spm.model\n",
      "trainer_interface.cc(626) LOG(INFO) Saving vocabs: eng_20000_spm.vocab\n"
     ]
    },
    {
     "data": {
      "text/plain": [
       "True"
      ]
     },
     "execution_count": 10,
     "metadata": {},
     "output_type": "execute_result"
    }
   ],
   "source": [
    "# Sentencepiece를 활용하여 학습한 tokenizer를 생성합니다.\n",
    "def generate_tokenizer(corpus,\n",
    "                        vocab_size,\n",
    "                        lang=\"ko\",\n",
    "                        pad_id=0,\n",
    "                        bos_id=1,\n",
    "                        eos_id=2,\n",
    "                        unk_id=3):\n",
    "\n",
    "    \n",
    "    if(lang == \"ko\"):\n",
    "        input_file = './sp_tokenizer/kor_corpus.txt'\n",
    "        model_prefix = 'kor_20000_spm' \n",
    "        \n",
    "        with open(input_file, 'w', encoding='utf8') as f:\n",
    "            for row in corpus:   # 이전 스텝에서 정제했던 kor_corpus를 활용\n",
    "                f.write(str(row) + '\\n')\n",
    "        \n",
    "    \n",
    "    if(lang == \"en\"):\n",
    "        input_file = './sp_tokenizer/eng_corpus.txt'\n",
    "        model_prefix = 'eng_20000_spm'\n",
    "        \n",
    "        with open(input_file, 'w', encoding='utf8') as f:\n",
    "            for row in corpus:   # 이전 스텝에서 정제했던 eng_corpus를 활용.\n",
    "                f.write(str(row) + '\\n')\n",
    "       \n",
    "\n",
    "    model_type = 'unigram'\n",
    "    \n",
    "    templates = '--input={} \\\n",
    "                     --model_prefix={} \\\n",
    "                     --vocab_size={} \\\n",
    "                     --model_type={} \\\n",
    "                     --pad_id={} --pad_piece=[PAD] \\\n",
    "                     --bos_id={} --bos_piece=[BOS] \\\n",
    "                     --eos_id={} --eos_piece=[EOS] \\\n",
    "                     --unk_id={} --unk_piece=[UNK]'\n",
    "        \n",
    "    cmd = templates.format(input_file, model_prefix, vocab_size, model_type, pad_id, bos_id, eos_id, unk_id)\n",
    "\n",
    "    \n",
    "    spm.SentencePieceTrainer.Train(cmd)    \n",
    "    tokenizer = spm.SentencePieceProcessor()\n",
    "    tokenizer.Load('{}.model'.format(model_prefix))    \n",
    "\n",
    "    return tokenizer\n",
    "    \n",
    "\n",
    "SRC_VOCAB_SIZE = TGT_VOCAB_SIZE = 20000\n",
    "\n",
    "kor_corpus = []\n",
    "eng_corpus = []\n",
    "\n",
    "for kor, eng in cleaned_corpus:\n",
    "    kor_corpus.append(preprocess_sentence(kor))\n",
    "    eng_corpus.append(preprocess_sentence(eng))\n",
    "\n",
    "print(\"Korean:\", kor_corpus[0])   \n",
    "print(\"English:\", eng_corpus[0])  \n",
    "\n",
    "ko_tokenizer = generate_tokenizer(kor_corpus, SRC_VOCAB_SIZE, \"ko\")\n",
    "en_tokenizer = generate_tokenizer(eng_corpus, TGT_VOCAB_SIZE, \"en\")\n",
    "en_tokenizer.set_encode_extra_options(\"bos:eos\")"
   ]
  },
  {
   "cell_type": "markdown",
   "id": "4d505c13",
   "metadata": {},
   "source": [
    "#### 이미 만들어진 SentencePiece 모델 사용"
   ]
  },
  {
   "cell_type": "code",
   "execution_count": 11,
   "id": "45bb332f",
   "metadata": {},
   "outputs": [
    {
     "name": "stdout",
     "output_type": "stream",
     "text": [
      "Korean: 이것은 각기 다른 교육 수준즉 , 무학력 , 초등 교육 , 중등 교육 , 고등 교육을 이수한 세 이상의 남녀 비율을 계산해 낸 것이다 .\n",
      "English: this calculated the proportion of men and women over  who had completed different levels of schooling ie , none\n"
     ]
    },
    {
     "data": {
      "text/plain": [
       "True"
      ]
     },
     "execution_count": 11,
     "metadata": {},
     "output_type": "execute_result"
    }
   ],
   "source": [
    "# Sentencepiece를 활용하여 학습한 tokenizer를 생성합니다.\n",
    "def generate_tokenizer(corpus,\n",
    "                        vocab_size,\n",
    "                        lang=\"ko\",\n",
    "                        pad_id=0,\n",
    "                        bos_id=1,\n",
    "                        eos_id=2,\n",
    "                        unk_id=3):\n",
    "    \n",
    "    if(lang == \"ko\"):\n",
    "        model_prefix = 'kor_20000_spm'      \n",
    "    \n",
    "    if(lang == \"en\"):\n",
    "        model_prefix = 'eng_20000_spm'\n",
    "   \n",
    "    #spm.SentencePieceTrainer.Train(cmd)    \n",
    "    tokenizer = spm.SentencePieceProcessor()\n",
    "    tokenizer.Load('{}.model'.format(model_prefix))    \n",
    "\n",
    "    return tokenizer\n",
    "    \n",
    "\n",
    "SRC_VOCAB_SIZE = TGT_VOCAB_SIZE = 20000\n",
    "\n",
    "kor_corpus = []\n",
    "eng_corpus = []\n",
    "\n",
    "for kor, eng in cleaned_corpus:\n",
    "    kor_corpus.append(preprocess_sentence(kor))\n",
    "    eng_corpus.append(preprocess_sentence(eng))\n",
    "\n",
    "print(\"Korean:\", kor_corpus[0])   \n",
    "print(\"English:\", eng_corpus[0])  \n",
    "\n",
    "ko_tokenizer = generate_tokenizer(kor_corpus, SRC_VOCAB_SIZE, \"ko\")\n",
    "en_tokenizer = generate_tokenizer(eng_corpus, TGT_VOCAB_SIZE, \"en\")\n",
    "en_tokenizer.set_encode_extra_options(\"bos:eos\")"
   ]
  },
  {
   "cell_type": "code",
   "execution_count": 12,
   "id": "fc7bfcac",
   "metadata": {},
   "outputs": [
    {
     "data": {
      "text/plain": [
       "20000"
      ]
     },
     "execution_count": 12,
     "metadata": {},
     "output_type": "execute_result"
    },
    {
     "data": {
      "text/plain": [
       "20000"
      ]
     },
     "execution_count": 12,
     "metadata": {},
     "output_type": "execute_result"
    }
   ],
   "source": [
    "ko_tokenizer.GetPieceSize()\n",
    "en_tokenizer.GetPieceSize()"
   ]
  },
  {
   "cell_type": "code",
   "execution_count": 13,
   "id": "25e5b158",
   "metadata": {},
   "outputs": [
    {
     "data": {
      "text/plain": [
       "'[EOS]'"
      ]
     },
     "execution_count": 13,
     "metadata": {},
     "output_type": "execute_result"
    },
    {
     "data": {
      "text/plain": [
       "0"
      ]
     },
     "execution_count": 13,
     "metadata": {},
     "output_type": "execute_result"
    }
   ],
   "source": [
    "ko_tokenizer.IdToPiece(2)\n",
    "ko_tokenizer.PieceToId('[PAD]')"
   ]
  },
  {
   "cell_type": "code",
   "execution_count": 14,
   "id": "efc89174",
   "metadata": {},
   "outputs": [
    {
     "name": "stdout",
     "output_type": "stream",
     "text": [
      "이것은 각기 다른 교육 수준즉 , 무학력 , 초등 교육 , 중등 교육 , 고등 교육을 이수한 세 이상의 남녀 비율을 계산해 낸 것이다 .\n",
      "['▁이것', '은', '▁각', '기', '▁다른', '▁교육', '▁수준', '즉', '▁,', '▁무', '학', '력', '▁,', '▁초', '등', '▁교육', '▁,', '▁중', '등', '▁교육', '▁,', '▁고등', '▁교육', '을', '▁이', '수', '한', '▁세', '▁이상의', '▁남녀', '▁비율', '을', '▁계산', '해', '▁낸', '▁것이다', '▁.']\n",
      "[1218, 9, 892, 65, 73, 1035, 1038, 19739, 12, 513, 1192, 749, 12, 312, 1619, 1035, 12, 58, 1619, 1035, 12, 10887, 1035, 5, 19, 171, 18, 106, 694, 6822, 4639, 5, 5642, 57, 3278, 113, 4]\n"
     ]
    }
   ],
   "source": [
    "print(kor_corpus[0])\n",
    "print(ko_tokenizer.encode_as_pieces(kor_corpus[0]))\n",
    "print(ko_tokenizer.encode_as_ids(kor_corpus[0]))"
   ]
  },
  {
   "cell_type": "code",
   "execution_count": 15,
   "id": "2d985ab6",
   "metadata": {},
   "outputs": [
    {
     "name": "stdout",
     "output_type": "stream",
     "text": [
      "this calculated the proportion of men and women over  who had completed different levels of schooling ie , none\n",
      "['[BOS]', '▁this', '▁calculat', 'ed', '▁the', '▁proportion', '▁of', '▁men', '▁and', '▁women', '▁over', '▁who', '▁had', '▁complet', 'ed', '▁different', '▁levels', '▁of', '▁school', 'ing', '▁i', 'e', '▁,', '▁none', '[EOS]']\n",
      "[1, 51, 9148, 11, 4, 8545, 10, 337, 13, 291, 74, 45, 48, 2794, 11, 786, 1488, 10, 392, 14, 61, 43, 6, 2492, 2]\n"
     ]
    }
   ],
   "source": [
    "print(eng_corpus[0])\n",
    "print(en_tokenizer.encode_as_pieces(eng_corpus[0]))\n",
    "print(en_tokenizer.encode_as_ids(eng_corpus[0]))"
   ]
  },
  {
   "cell_type": "markdown",
   "id": "7de6a799",
   "metadata": {},
   "source": [
    "### 4. 토크나이저를 활용해 토큰의 길이가 50 이하인 데이터를 선별하여 src_corpus 와 tgt_corpus 를 각각 구축하고, 텐서 enc_train 과 dec_train 으로 변환하기 \n",
    "(❗모든 데이터를 사용할 경우 학습에 굉장히 오랜 시간이 걸립니다.)\n"
   ]
  },
  {
   "cell_type": "code",
   "execution_count": 16,
   "id": "3db69225",
   "metadata": {
    "scrolled": true
   },
   "outputs": [
    {
     "name": "stderr",
     "output_type": "stream",
     "text": [
      "100%|██████████| 78968/78968 [00:08<00:00, 9805.93it/s] \n"
     ]
    },
    {
     "name": "stdout",
     "output_type": "stream",
     "text": [
      "Korean Vocab Size: 20000\n",
      "English Vocab Size: 20000\n"
     ]
    }
   ],
   "source": [
    "import tensorflow as tf\n",
    "#from tqdm.notebook import tqdm    # Process 과정을 보기 위해\n",
    "from tqdm import tqdm\n",
    "\n",
    "src_corpus = []\n",
    "tgt_corpus = []\n",
    "sequence_len = 50 #토큰 길이\n",
    "\n",
    "assert len(kor_corpus) == len(eng_corpus)\n",
    "\n",
    "# 토큰의 길이가 50 이하인 문장만 남깁니다. \n",
    "for idx in tqdm(range(len(kor_corpus))):\n",
    "    if (len(ko_tokenizer.EncodeAsIds(kor_corpus[idx])) <= sequence_len) & (len(en_tokenizer.EncodeAsIds(eng_corpus[idx])) <= sequence_len): \n",
    "        src_corpus.append(ko_tokenizer.encode_as_ids(kor_corpus[idx]))\n",
    "        tgt_corpus.append(en_tokenizer.encode_as_ids(eng_corpus[idx]))\n",
    "        \n",
    "\n",
    "# 패딩처리를 완료하여 학습용 데이터를 완성합니다. \n",
    "enc_tensor = tf.keras.preprocessing.sequence.pad_sequences(src_corpus, padding='post')\n",
    "dec_tensor = tf.keras.preprocessing.sequence.pad_sequences(tgt_corpus, padding='post')\n",
    "\n",
    "# 훈련 데이터와 검증 데이터로 분리하기\n",
    "enc_train, enc_val, dec_train, dec_val = \\\n",
    "train_test_split(enc_tensor, dec_tensor, test_size=0.2)\n",
    "\n",
    "print(\"Korean Vocab Size:\", ko_tokenizer.GetPieceSize())\n",
    "print(\"English Vocab Size:\", en_tokenizer.GetPieceSize())"
   ]
  },
  {
   "cell_type": "code",
   "execution_count": 17,
   "id": "8f8c965b",
   "metadata": {
    "scrolled": false
   },
   "outputs": [
    {
     "data": {
      "text/plain": [
       "(58705, 50)"
      ]
     },
     "execution_count": 17,
     "metadata": {},
     "output_type": "execute_result"
    },
    {
     "data": {
      "text/plain": [
       "(14677, 50)"
      ]
     },
     "execution_count": 17,
     "metadata": {},
     "output_type": "execute_result"
    },
    {
     "data": {
      "text/plain": [
       "array([14063,     7,    97,   245,     6,   147,  1349,    12,  2578,\n",
       "          12,  2788,   118,   145,  2706, 10475,   829,     8, 11953,\n",
       "          15,   356,    36,  2894,  7257,  9211,   178, 10475,   829,\n",
       "           8,  6019,   348,   353,  1268,   244,     8,  2530,    30,\n",
       "          48,    27,     4,     0,     0,     0,     0,     0,     0,\n",
       "           0,     0,     0,     0,     0], dtype=int32)"
      ]
     },
     "execution_count": 17,
     "metadata": {},
     "output_type": "execute_result"
    },
    {
     "data": {
      "text/plain": [
       "array([13559,    14,  3193, 15371,    21,  7967,   398,   172,     7,\n",
       "        2135,  2444,   619,     5,    25,    32,   770,    21, 15942,\n",
       "           4,     0,     0,     0,     0,     0,     0,     0,     0,\n",
       "           0,     0,     0,     0,     0,     0,     0,     0,     0,\n",
       "           0,     0,     0,     0,     0,     0,     0,     0,     0,\n",
       "           0,     0,     0,     0,     0], dtype=int32)"
      ]
     },
     "execution_count": 17,
     "metadata": {},
     "output_type": "execute_result"
    },
    {
     "data": {
      "text/plain": [
       "array([    1,   229,    31,    50,   728,     8, 11339,     4, 16526,\n",
       "          12,     4,    75,   383,  3136,     6,    23,    18,  1015,\n",
       "           6,  1514,    13,   284,  1505,     6,  4440,    32,    15,\n",
       "           5,   116,    70,    31,     8,   470,     8,   167,    19,\n",
       "       11339,     4, 16526,    10,    51,   613,    21,    60,   799,\n",
       "        4631,     5,     2,     0,     0], dtype=int32)"
      ]
     },
     "execution_count": 17,
     "metadata": {},
     "output_type": "execute_result"
    }
   ],
   "source": [
    "enc_train.shape\n",
    "enc_val.shape\n",
    "enc_train[0]\n",
    "enc_val[0]\n",
    "dec_train[0]"
   ]
  },
  {
   "cell_type": "markdown",
   "id": "00fa1d33",
   "metadata": {},
   "source": [
    "## Step 3. Transformer 모델 설계"
   ]
  },
  {
   "cell_type": "markdown",
   "id": "82b3d5a4",
   "metadata": {},
   "source": [
    "### 1. 내부 모듈 구현"
   ]
  },
  {
   "cell_type": "markdown",
   "id": "9603a256",
   "metadata": {},
   "source": [
    "### Positional Encoding"
   ]
  },
  {
   "cell_type": "code",
   "execution_count": 18,
   "id": "4c7f6d36",
   "metadata": {},
   "outputs": [],
   "source": [
    "#def positional_encoding(pos, d_model):\n",
    "#    def cal_angle(position, i):\n",
    "#        return position / np.power(10000, int(i) / d_model)\n",
    "#\n",
    "#    def get_posi_angle_vec(position):\n",
    "#        return [cal_angle(position, i) for i in range(d_model)]\n",
    "#\n",
    "#    sinusoid_table = np.array([get_posi_angle_vec(pos_i) for pos_i in range(pos)])\n",
    "#    sinusoid_table[:, 0::2] = np.sin(sinusoid_table[:, 0::2])\n",
    "#    sinusoid_table[:, 1::2] = np.cos(sinusoid_table[:, 1::2])\n",
    "#    return sinusoid_table"
   ]
  },
  {
   "cell_type": "code",
   "execution_count": 19,
   "id": "1c1e8016",
   "metadata": {},
   "outputs": [],
   "source": [
    "# Positional Encoding 구현\n",
    "def positional_encoding(pos, d_model):\n",
    "    def cal_angle(position, i):\n",
    "        return position / np.power(10000, (2*(i//2)) / np.float32(d_model))\n",
    "\n",
    "    def get_posi_angle_vec(position):\n",
    "        return [cal_angle(position, i) for i in range(d_model)]\n",
    "\n",
    "    sinusoid_table = np.array([get_posi_angle_vec(pos_i) for pos_i in range(pos)])\n",
    "\n",
    "    sinusoid_table[:, 0::2] = np.sin(sinusoid_table[:, 0::2])\n",
    "    sinusoid_table[:, 1::2] = np.cos(sinusoid_table[:, 1::2])\n",
    "\n",
    "    return sinusoid_table"
   ]
  },
  {
   "cell_type": "markdown",
   "id": "0a400aef",
   "metadata": {},
   "source": [
    "### Multi-Head Attention"
   ]
  },
  {
   "cell_type": "code",
   "execution_count": 20,
   "id": "bfdf1817",
   "metadata": {},
   "outputs": [],
   "source": [
    "class MultiHeadAttention(tf.keras.layers.Layer):\n",
    "    def __init__(self, d_model, num_heads):\n",
    "        super(MultiHeadAttention, self).__init__()\n",
    "        self.num_heads = num_heads\n",
    "        self.d_model = d_model\n",
    "            \n",
    "        self.depth = d_model // self.num_heads\n",
    "            \n",
    "        self.W_q = tf.keras.layers.Dense(d_model)\n",
    "        self.W_k = tf.keras.layers.Dense(d_model)\n",
    "        self.W_v = tf.keras.layers.Dense(d_model)\n",
    "            \n",
    "        self.linear = tf.keras.layers.Dense(d_model)\n",
    "\n",
    "    def scaled_dot_product_attention(self, Q, K, V, mask):\n",
    "        d_k = tf.cast(K.shape[-1], tf.float32)\n",
    "        QK = tf.matmul(Q, K, transpose_b=True)\n",
    "\n",
    "        scaled_qk = QK / tf.math.sqrt(d_k)\n",
    "\n",
    "        if mask is not None: scaled_qk += (mask * -1e9)  \n",
    "\n",
    "        attentions = tf.nn.softmax(scaled_qk, axis=-1)\n",
    "        out = tf.matmul(attentions, V)\n",
    "\n",
    "        return out, attentions\n",
    "            \n",
    "\n",
    "    def split_heads(self, x):\n",
    "        batch_size = x.shape[0]\n",
    "        split_x = tf.reshape(x, (batch_size, -1, self.num_heads, self.depth))\n",
    "        split_x = tf.transpose(split_x, perm=[0, 2, 1, 3])\n",
    "\n",
    "        return split_x\n",
    "\n",
    "    def combine_heads(self, x):\n",
    "        batch_size = x.shape[0]\n",
    "        combined_x = tf.transpose(x, perm=[0, 2, 1, 3])\n",
    "        combined_x = tf.reshape(combined_x, (batch_size, -1, self.d_model))\n",
    "\n",
    "        return combined_x\n",
    "\n",
    "        \n",
    "    def call(self, Q, K, V, mask):\n",
    "        WQ = self.W_q(Q)\n",
    "        WK = self.W_k(K)\n",
    "        WV = self.W_v(V)\n",
    "        \n",
    "        WQ_splits = self.split_heads(WQ)\n",
    "        WK_splits = self.split_heads(WK)\n",
    "        WV_splits = self.split_heads(WV)\n",
    "            \n",
    "        out, attention_weights = self.scaled_dot_product_attention(\n",
    "            WQ_splits, WK_splits, WV_splits, mask)\n",
    "       \n",
    "        out = self.combine_heads(out)\n",
    "        out = self.linear(out)\n",
    "                \n",
    "        return out, attention_weights"
   ]
  },
  {
   "cell_type": "markdown",
   "id": "a88a1658",
   "metadata": {},
   "source": [
    "### Position-wise Feed-Forward Network"
   ]
  },
  {
   "cell_type": "code",
   "execution_count": 21,
   "id": "818f9821",
   "metadata": {},
   "outputs": [],
   "source": [
    "class PoswiseFeedForwardNet(tf.keras.layers.Layer):\n",
    "    def __init__(self, d_model, d_ff):\n",
    "        super(PoswiseFeedForwardNet, self).__init__()\n",
    "        self.w_1 = tf.keras.layers.Dense(d_ff, activation='relu')\n",
    "        self.w_2 = tf.keras.layers.Dense(d_model)\n",
    "\n",
    "    def call(self, x):\n",
    "        out = self.w_1(x)\n",
    "        out = self.w_2(out)\n",
    "            \n",
    "        return out"
   ]
  },
  {
   "cell_type": "markdown",
   "id": "df0745a2",
   "metadata": {},
   "source": [
    "### 2. 모듈 조립"
   ]
  },
  {
   "cell_type": "markdown",
   "id": "4333d74c",
   "metadata": {},
   "source": [
    "### Encoder 레이어 구현하기"
   ]
  },
  {
   "cell_type": "code",
   "execution_count": 22,
   "id": "5a14e3e7",
   "metadata": {},
   "outputs": [],
   "source": [
    "class EncoderLayer(tf.keras.layers.Layer):\n",
    "    def __init__(self, d_model, n_heads, d_ff, dropout):\n",
    "        super(EncoderLayer, self).__init__()\n",
    "\n",
    "        self.enc_self_attn = MultiHeadAttention(d_model, n_heads)\n",
    "        self.ffn = PoswiseFeedForwardNet(d_model, d_ff)\n",
    "\n",
    "        self.norm_1 = tf.keras.layers.LayerNormalization(epsilon=1e-6)\n",
    "        self.norm_2 = tf.keras.layers.LayerNormalization(epsilon=1e-6)\n",
    "\n",
    "        self.dropout = tf.keras.layers.Dropout(dropout)\n",
    "        \n",
    "    def call(self, x, mask):\n",
    "\n",
    "        \"\"\"\n",
    "        Multi-Head Attention\n",
    "        \"\"\"\n",
    "        residual = x\n",
    "        out = self.norm_1(x)\n",
    "        out, enc_attn = self.enc_self_attn(out, out, out, mask)\n",
    "        out = self.dropout(out)\n",
    "        out += residual\n",
    "        \n",
    "        \"\"\"\n",
    "        Position-Wise Feed Forward Network\n",
    "        \"\"\"\n",
    "        residual = out\n",
    "        out = self.norm_2(out)\n",
    "        out = self.ffn(out)\n",
    "        out = self.dropout(out)\n",
    "        out += residual\n",
    "        \n",
    "        return out, enc_attn"
   ]
  },
  {
   "cell_type": "markdown",
   "id": "0eaa00c2",
   "metadata": {},
   "source": [
    "### Decoder 레이어 구현하기"
   ]
  },
  {
   "cell_type": "code",
   "execution_count": 23,
   "id": "37e60049",
   "metadata": {},
   "outputs": [],
   "source": [
    "class DecoderLayer(tf.keras.layers.Layer):\n",
    "    def __init__(self, d_model, num_heads, d_ff, dropout):\n",
    "        super(DecoderLayer, self).__init__()\n",
    "\n",
    "        self.dec_self_attn = MultiHeadAttention(d_model, num_heads)\n",
    "        self.enc_dec_attn = MultiHeadAttention(d_model, num_heads)\n",
    "\n",
    "        self.ffn = PoswiseFeedForwardNet(d_model, d_ff)\n",
    "\n",
    "        self.norm_1 = tf.keras.layers.LayerNormalization(epsilon=1e-6)\n",
    "        self.norm_2 = tf.keras.layers.LayerNormalization(epsilon=1e-6)\n",
    "        self.norm_3 = tf.keras.layers.LayerNormalization(epsilon=1e-6)\n",
    "\n",
    "        self.dropout = tf.keras.layers.Dropout(dropout)\n",
    "    \n",
    "    def call(self, x, enc_out, causality_mask, padding_mask):\n",
    "\n",
    "        \"\"\"\n",
    "        Masked Multi-Head Attention\n",
    "        \"\"\"\n",
    "        residual = x\n",
    "        out = self.norm_1(x)\n",
    "        out, dec_attn = self.dec_self_attn(out, out, out, padding_mask)\n",
    "        out = self.dropout(out)\n",
    "        out += residual\n",
    "\n",
    "        \"\"\"\n",
    "        Multi-Head Attention\n",
    "        \"\"\"\n",
    "        residual = out\n",
    "        out = self.norm_2(out)\n",
    "        out, dec_enc_attn = self.enc_dec_attn(out, enc_out, enc_out, causality_mask)\n",
    "        out = self.dropout(out)\n",
    "        out += residual\n",
    "        \n",
    "        \"\"\"\n",
    "        Position-Wise Feed Forward Network\n",
    "        \"\"\"\n",
    "        residual = out\n",
    "        out = self.norm_3(out)\n",
    "        out = self.ffn(out)\n",
    "        out = self.dropout(out)\n",
    "        out += residual\n",
    "\n",
    "        return out, dec_attn, dec_enc_attn"
   ]
  },
  {
   "cell_type": "markdown",
   "id": "c6f2f210",
   "metadata": {},
   "source": [
    "### Encoder 모델 설계"
   ]
  },
  {
   "cell_type": "code",
   "execution_count": 24,
   "id": "32715d8d",
   "metadata": {},
   "outputs": [],
   "source": [
    "class Encoder(tf.keras.Model):\n",
    "    def __init__(self,\n",
    "                 n_layers,\n",
    "                 d_model,\n",
    "                 n_heads,\n",
    "                 d_ff,\n",
    "                 dropout):\n",
    "        super(Encoder, self).__init__()\n",
    "        self.n_layers = n_layers\n",
    "        self.enc_layers = [EncoderLayer(d_model, n_heads, d_ff, dropout) \n",
    "                        for _ in range(n_layers)]\n",
    "        \n",
    "    def call(self, x, mask):\n",
    "        out = x\n",
    "    \n",
    "        enc_attns = list()\n",
    "        for i in range(self.n_layers):\n",
    "            out, enc_attn = self.enc_layers[i](out, mask)\n",
    "            enc_attns.append(enc_attn)\n",
    "        \n",
    "        return out, enc_attns"
   ]
  },
  {
   "cell_type": "markdown",
   "id": "1488c0db",
   "metadata": {},
   "source": [
    "### Decoder 모델 설계"
   ]
  },
  {
   "cell_type": "code",
   "execution_count": 25,
   "id": "eee077ba",
   "metadata": {},
   "outputs": [],
   "source": [
    "class Decoder(tf.keras.Model):\n",
    "    def __init__(self,\n",
    "                 n_layers,\n",
    "                 d_model,\n",
    "                 n_heads,\n",
    "                 d_ff,\n",
    "                 dropout):\n",
    "        super(Decoder, self).__init__()\n",
    "        self.n_layers = n_layers\n",
    "        self.dec_layers = [DecoderLayer(d_model, n_heads, d_ff, dropout) \n",
    "                            for _ in range(n_layers)]\n",
    "                            \n",
    "                            \n",
    "    def call(self, x, enc_out, causality_mask, padding_mask):\n",
    "        out = x\n",
    "    \n",
    "        dec_attns = list()\n",
    "        dec_enc_attns = list()\n",
    "        for i in range(self.n_layers):\n",
    "            out, dec_attn, dec_enc_attn = \\\n",
    "            self.dec_layers[i](out, enc_out, causality_mask, padding_mask)\n",
    "\n",
    "            dec_attns.append(dec_attn)\n",
    "            dec_enc_attns.append(dec_enc_attn)\n",
    "\n",
    "        return out, dec_attns, dec_enc_attns"
   ]
  },
  {
   "cell_type": "markdown",
   "id": "d614e839",
   "metadata": {},
   "source": [
    "### Transformer 구조 설계"
   ]
  },
  {
   "cell_type": "code",
   "execution_count": 26,
   "id": "31599d7a",
   "metadata": {},
   "outputs": [],
   "source": [
    "class Transformer(tf.keras.Model):\n",
    "    def __init__(self,\n",
    "                    n_layers,\n",
    "                    d_model,\n",
    "                    n_heads,\n",
    "                    d_ff,\n",
    "                    src_vocab_size,\n",
    "                    tgt_vocab_size,\n",
    "                    pos_len,\n",
    "                    dropout=0.2,\n",
    "                    shared=True):\n",
    "        super(Transformer, self).__init__()\n",
    "        self.d_model = tf.cast(d_model, tf.float32)\n",
    "\n",
    "        \"\"\"\n",
    "        1. Embedding Layer 정의\n",
    "        2. Positional Encoding 정의\n",
    "        3. Encoder / Decoder 정의\n",
    "        4. Output Linear 정의\n",
    "        5. Shared Weights\n",
    "        6. Dropout 정의\n",
    "        \"\"\"\n",
    "        self.enc_emb = tf.keras.layers.Embedding(src_vocab_size, d_model)\n",
    "        self.dec_emb = tf.keras.layers.Embedding(tgt_vocab_size, d_model)\n",
    "\n",
    "        self.pos_encoding = positional_encoding(pos_len, d_model)\n",
    "        self.dropout = tf.keras.layers.Dropout(dropout)\n",
    "\n",
    "        self.encoder = Encoder(n_layers, d_model, n_heads, d_ff, dropout)\n",
    "        self.decoder = Decoder(n_layers, d_model, n_heads, d_ff, dropout)\n",
    "\n",
    "        self.fc = tf.keras.layers.Dense(tgt_vocab_size)\n",
    "\n",
    "        self.shared = shared\n",
    "\n",
    "        if shared: self.fc.set_weights(tf.transpose(self.dec_emb.weights))\n",
    "\n",
    "    def embedding(self, emb, x):\n",
    "        \n",
    "        \"\"\"\n",
    "        입력된 정수 배열을 Embedding + Pos Encoding\n",
    "        + Shared일 경우 Scaling 작업 포함\n",
    "\n",
    "        x: [ batch x length ]\n",
    "        return: [ batch x length x emb ]\n",
    "        \"\"\"\n",
    "        \n",
    "        seq_len = x.shape[1]\n",
    "        out = emb(x)\n",
    "\n",
    "        if self.shared: out *= tf.math.sqrt(self.d_model)\n",
    "\n",
    "        out += self.pos_encoding[np.newaxis, ...][:, :seq_len, :]\n",
    "        out = self.dropout(out)\n",
    "\n",
    "        return out\n",
    "\n",
    "        \n",
    "    def call(self, enc_in, dec_in, enc_mask, causality_mask, dec_mask):\n",
    "        \n",
    "        \"\"\"\n",
    "        아래 순서에 따라 소스를 작성하세요.\n",
    "\n",
    "        Step 1: Embedding(enc_in, dec_in) -> enc_in, dec_in\n",
    "        Step 2: Encoder(enc_in, enc_mask) -> enc_out, enc_attns\n",
    "        Step 3: Decoder(dec_in, enc_out, mask)\n",
    "                -> dec_out, dec_attns, dec_enc_attns\n",
    "        Step 4: Out Linear(dec_out) -> logits\n",
    "        \"\"\"\n",
    "        enc_in = self.embedding(self.enc_emb, enc_in)\n",
    "        dec_in = self.embedding(self.dec_emb, dec_in)\n",
    "\n",
    "        enc_out, enc_attns = self.encoder(enc_in, enc_mask)\n",
    "        \n",
    "        dec_out, dec_attns, dec_enc_attns = \\\n",
    "        self.decoder(dec_in, enc_out, causality_mask, dec_mask)\n",
    "        \n",
    "        logits = self.fc(dec_out)\n",
    "        \n",
    "        return logits, enc_attns, dec_attns, dec_enc_attns"
   ]
  },
  {
   "cell_type": "markdown",
   "id": "3d8fa87f",
   "metadata": {},
   "source": [
    "### Masking "
   ]
  },
  {
   "cell_type": "code",
   "execution_count": 27,
   "id": "9d04f25c",
   "metadata": {},
   "outputs": [],
   "source": [
    "import numpy as np\n",
    "import tensorflow as tf\n",
    "\n",
    "def generate_padding_mask(seq):\n",
    "    seq = tf.cast(tf.math.equal(seq, 0), tf.float32)\n",
    "    return seq[:, tf.newaxis, tf.newaxis, :]\n",
    "\n",
    "def generate_causality_mask(src_len, tgt_len):\n",
    "    mask = 1 - np.cumsum(np.eye(src_len, tgt_len), 0)\n",
    "    return tf.cast(mask, tf.float32)\n",
    "\n",
    "def generate_masks(src, tgt):\n",
    "    enc_mask = generate_padding_mask(src)\n",
    "    dec_mask = generate_padding_mask(tgt)\n",
    "\n",
    "    #print(tgt.shape, src.shape)\n",
    "    dec_enc_causality_mask = generate_causality_mask(tgt.shape[1], src.shape[1])\n",
    "    dec_enc_mask = tf.maximum(enc_mask, dec_enc_causality_mask)\n",
    "\n",
    "    dec_causality_mask = generate_causality_mask(tgt.shape[1], tgt.shape[1])\n",
    "    dec_mask = tf.maximum(dec_mask, dec_causality_mask)\n",
    "    \n",
    "    #print(dec_enc_causality_mask,dec_causality_mask)\n",
    "\n",
    "    return enc_mask, dec_enc_mask, dec_mask"
   ]
  },
  {
   "cell_type": "markdown",
   "id": "69cfe018",
   "metadata": {},
   "source": [
    "## Step 4. 훈련하기"
   ]
  },
  {
   "cell_type": "markdown",
   "id": "176f86d4",
   "metadata": {},
   "source": [
    "### 1. 2 Layer를 가지는 Transformer를 선언하기\n",
    "* 하이퍼파라미터는 자유롭게 조절"
   ]
  },
  {
   "cell_type": "markdown",
   "id": "5ade6049",
   "metadata": {},
   "source": [
    "#### 시도 1"
   ]
  },
  {
   "cell_type": "code",
   "execution_count": 29,
   "id": "aa849955",
   "metadata": {},
   "outputs": [],
   "source": [
    "# Hyperparameters\n",
    "n_layers = 2\n",
    "d_model = 512 \n",
    "n_heads = 8 \n",
    "d_ff = 2048\n",
    "src_vocab_size = SRC_VOCAB_SIZE # 20000\n",
    "tgt_vocab_size = TGT_VOCAB_SIZE # 20000\n",
    "pos_len = sequence_len # 50\n",
    "dropout = 0.1\n",
    "\n",
    "\n",
    "transformer = Transformer(\n",
    "                    n_layers,\n",
    "                    d_model,\n",
    "                    n_heads,\n",
    "                    d_ff,\n",
    "                    src_vocab_size,\n",
    "                    tgt_vocab_size,\n",
    "                    pos_len,\n",
    "                    dropout\n",
    "                    )\n",
    "\n",
    "#transformer.summary()"
   ]
  },
  {
   "cell_type": "markdown",
   "id": "365910fc",
   "metadata": {},
   "source": [
    "#### 시도 2"
   ]
  },
  {
   "cell_type": "code",
   "execution_count": 28,
   "id": "dd3d7ec3",
   "metadata": {},
   "outputs": [],
   "source": [
    "# Hyperparameters\n",
    "n_layers = 2\n",
    "d_model = 512 \n",
    "n_heads = 8 \n",
    "d_ff = 2048\n",
    "src_vocab_size = SRC_VOCAB_SIZE # 20000\n",
    "tgt_vocab_size = TGT_VOCAB_SIZE # 20000\n",
    "pos_len = sequence_len # 50\n",
    "dropout = 0.1\n",
    "\n",
    "\n",
    "transformer = Transformer(\n",
    "                    n_layers,\n",
    "                    d_model,\n",
    "                    n_heads,\n",
    "                    d_ff,\n",
    "                    src_vocab_size,\n",
    "                    tgt_vocab_size,\n",
    "                    pos_len,\n",
    "                    dropout\n",
    "                    )\n",
    "\n",
    "#transformer.summary()"
   ]
  },
  {
   "cell_type": "markdown",
   "id": "f978e886",
   "metadata": {},
   "source": [
    "#### 시도 3"
   ]
  },
  {
   "cell_type": "code",
   "execution_count": 56,
   "id": "fb31cd9f",
   "metadata": {},
   "outputs": [],
   "source": [
    "# Hyperparameters\n",
    "n_layers = 2\n",
    "d_model = 512 \n",
    "n_heads = 8 \n",
    "d_ff = 2048\n",
    "src_vocab_size = SRC_VOCAB_SIZE # 20000\n",
    "tgt_vocab_size = TGT_VOCAB_SIZE # 20000\n",
    "pos_len = sequence_len # 50\n",
    "dropout = 0.3\n",
    "\n",
    "\n",
    "transformer = Transformer(\n",
    "                    n_layers,\n",
    "                    d_model,\n",
    "                    n_heads,\n",
    "                    d_ff,\n",
    "                    src_vocab_size,\n",
    "                    tgt_vocab_size,\n",
    "                    pos_len,\n",
    "                    dropout\n",
    "                    )\n",
    "\n",
    "#transformer.summary()"
   ]
  },
  {
   "cell_type": "markdown",
   "id": "20d7ab77",
   "metadata": {},
   "source": [
    "### Learning Rate Scheduler & Adam Optimizer 선언\n",
    "* 논문과 동일하게 설정"
   ]
  },
  {
   "cell_type": "code",
   "execution_count": 30,
   "id": "263c7798",
   "metadata": {
    "scrolled": true
   },
   "outputs": [
    {
     "data": {
      "image/png": "[encoded data removed]",
      "text/plain": [
       "<IPython.core.display.Image object>"
      ]
     },
     "execution_count": 30,
     "metadata": {},
     "output_type": "execute_result"
    }
   ],
   "source": [
    "Image(filename='./data/optimizer.png') "
   ]
  },
  {
   "cell_type": "code",
   "execution_count": 31,
   "id": "c71a0c22",
   "metadata": {},
   "outputs": [],
   "source": [
    "class LearningRateScheduler(tf.keras.optimizers.schedules.LearningRateSchedule):\n",
    "    def __init__(self, d_model, warmup_steps=4000):\n",
    "        super(LearningRateScheduler, self).__init__()\n",
    "        self.d_model = d_model\n",
    "        self.warmup_steps = warmup_steps\n",
    "    \n",
    "    def __call__(self, step):\n",
    "        arg1 = step ** -0.5\n",
    "        arg2 = step * (self.warmup_steps ** -1.5)\n",
    "        \n",
    "        return (self.d_model ** -0.5) * tf.math.minimum(arg1, arg2)"
   ]
  },
  {
   "cell_type": "code",
   "execution_count": 32,
   "id": "a6d7df68",
   "metadata": {},
   "outputs": [],
   "source": [
    "# de_model = 512\n",
    "learning_rate = LearningRateScheduler(d_model)\n",
    "optimizer = tf.keras.optimizers.Adam(learning_rate,\n",
    "                                     beta_1=0.9,\n",
    "                                     beta_2=0.98, \n",
    "                                     epsilon=1e-9)"
   ]
  },
  {
   "cell_type": "markdown",
   "id": "c0c87025",
   "metadata": {},
   "source": [
    "### 3. Loss 함수를 정의하세요.  \n",
    "Sequence-to-sequence 모델에서 사용했던 Loss와 유사하되, Masking 되지 않은 입력의 개수로 Scaling하는 과정을 추가합니다. (트랜스포머가 모든 입력에 대한 Loss를 한 번에 구하기 때문입니다.)"
   ]
  },
  {
   "cell_type": "code",
   "execution_count": 33,
   "id": "e8d1d30f",
   "metadata": {},
   "outputs": [],
   "source": [
    "loss_object = tf.keras.losses.SparseCategoricalCrossentropy(\n",
    "    from_logits=True, reduction='none')\n",
    "\n",
    "def loss_function(real, pred):\n",
    "    mask = tf.math.logical_not(tf.math.equal(real, 0))\n",
    "    loss_ = loss_object(real, pred)\n",
    "\n",
    "    # Masking 되지 않은 입력의 개수로 Scaling하는 과정\n",
    "    mask = tf.cast(mask, dtype=loss_.dtype)\n",
    "    loss_ *= mask\n",
    "\n",
    "    return tf.reduce_sum(loss_)/tf.reduce_sum(mask)"
   ]
  },
  {
   "cell_type": "markdown",
   "id": "a622d3b2",
   "metadata": {},
   "source": [
    "### 4. train_step 함수를 정의\n",
    "* 입력 데이터에 알맞은 Mask를 생성하고, 이를 모델에 전달하여 연산에서 사용할 수 있게 하기"
   ]
  },
  {
   "cell_type": "code",
   "execution_count": 34,
   "id": "255680af",
   "metadata": {},
   "outputs": [],
   "source": [
    "# Train Step 함수 정의\n",
    "\n",
    "@tf.function()\n",
    "def train_step(src, tgt, model, optimizer):\n",
    "    gold = tgt[:, 1:]\n",
    "    \n",
    "    #print(tgt.shape, gold.shape)\n",
    "    #print(\"tgt: \",tgt, \"gold\", gold)\n",
    "    #print()\n",
    "    #print(\"gold: \", gold)\n",
    "        \n",
    "    enc_mask, dec_enc_mask, dec_mask = generate_masks(src, tgt)\n",
    "\n",
    "    # 계산된 loss에 tf.GradientTape()를 적용해 학습을 진행합니다.\n",
    "    with tf.GradientTape() as tape:\n",
    "        predictions, enc_attns, dec_attns, dec_enc_attns = \\\n",
    "        model(src, tgt, enc_mask, dec_enc_mask, dec_mask)\n",
    "        loss = loss_function(gold, predictions[:, :-1])\n",
    "        \n",
    "        #print(predictions.shape,predictions[:, :-1].shape )\n",
    "        #print(\"predictions::::\",predictions )\n",
    "        #print()\n",
    "        #print(\"predictions-1::::\",predictions[:, :-1] )\n",
    "\n",
    "    # 최종적으로 optimizer.apply_gradients()가 사용됩니다. \n",
    "    gradients = tape.gradient(loss, model.trainable_variables)    \n",
    "    optimizer.apply_gradients(zip(gradients, model.trainable_variables))\n",
    "    \n",
    "       \n",
    "    return loss, enc_attns, dec_attns, dec_enc_attns"
   ]
  },
  {
   "cell_type": "code",
   "execution_count": 35,
   "id": "74557edf",
   "metadata": {},
   "outputs": [],
   "source": [
    "# Eval Step 함수 정의\n",
    "\n",
    "@tf.function()\n",
    "def eval_step(src, tgt, model, optimizer):\n",
    "    gold = tgt[:, 1:]\n",
    "        \n",
    "    enc_mask, dec_enc_mask, dec_mask = generate_masks(src, tgt)\n",
    "\n",
    "    predictions, enc_attns, dec_attns, dec_enc_attns = \\\n",
    "    model(src, tgt, enc_mask, dec_enc_mask, dec_mask)\n",
    "    loss = loss_function(gold, predictions[:, :-1])\n",
    "    \n",
    "    return loss, enc_attns, dec_attns, dec_enc_attns"
   ]
  },
  {
   "cell_type": "markdown",
   "id": "8a075f5c",
   "metadata": {},
   "source": [
    "\n",
    "### 5. 학습 진행"
   ]
  },
  {
   "cell_type": "markdown",
   "id": "955e45bd",
   "metadata": {},
   "source": [
    "* 매 Epoch 마다 제시된 예문에 대한 번역을 생성 \n",
    "* 멋진 번역이 생성되면 그때의 하이퍼파라미터와 생성된 번역을 제출\n",
    "\n",
    "**<예문>**\n",
    "1. 오바마는 대통령이다.\n",
    "2. 시민들은 도시 속에 산다.\n",
    "3. 커피는 필요 없다.\n",
    "4. 일곱 명의 사망자가 발생했다.\n",
    "\n",
    "**<결과>**\n",
    "**Translations**\n",
    " 1. obama is the president elect .\n",
    " 2. they are in the city .\n",
    " 3. they don t need to be a lot of drink .\n",
    " 4. seven other people have been killed in the attacks .\n",
    "\n",
    "**Hyperparameters**  \n",
    "   n_layers: 2  \n",
    "   d_model: 512  \n",
    "   n_heads: 8  \n",
    "   d_ff: 2048  \n",
    "   dropout: 0.3  \n",
    "\n",
    "**Training Parameters**  \n",
    " Warmup Steps: 4000  \n",
    " Batch Size: 64  \n",
    " Epoch At: 5  "
   ]
  },
  {
   "cell_type": "code",
   "execution_count": 36,
   "id": "f60cd7ba",
   "metadata": {},
   "outputs": [],
   "source": [
    "# Attention 시각화 함수\n",
    "\n",
    "def visualize_attention(src, tgt, enc_attns, dec_attns, dec_enc_attns):\n",
    "    def draw(data, ax, x=\"auto\", y=\"auto\"):\n",
    "        import seaborn\n",
    "        seaborn.heatmap(data, \n",
    "                        square=True,\n",
    "                        vmin=0.0, vmax=1.0, \n",
    "                        cbar=False, ax=ax,\n",
    "                        xticklabels=x,\n",
    "                        yticklabels=y,annot=True )\n",
    "        \n",
    "    for layer in range(0, 2, 1):\n",
    "        fig, axs = plt.subplots(1, 4, figsize=(20, 10))\n",
    "        print(\"Encoder Layer\", layer + 1)\n",
    "        for h in range(4):\n",
    "            draw(enc_attns[layer][0, h, :len(src), :len(src)], axs[h], src, src)\n",
    "        plt.show()\n",
    "        \n",
    "    for layer in range(0, 2, 1):\n",
    "        fig, axs = plt.subplots(1, 4, figsize=(20, 10))\n",
    "        print(\"Decoder Self Layer\", layer+1)\n",
    "        for h in range(4):\n",
    "            draw(dec_attns[layer][0, h, :len(tgt), :len(tgt)], axs[h], tgt, tgt)\n",
    "        plt.show()\n",
    "\n",
    "        print(\"Decoder Src Layer\", layer+1)\n",
    "        fig, axs = plt.subplots(1, 4, figsize=(20, 10))\n",
    "        for h in range(4):\n",
    "            draw(dec_enc_attns[layer][0, h, :len(tgt), :len(src)], axs[h], src, tgt)\n",
    "        plt.show()"
   ]
  },
  {
   "cell_type": "code",
   "execution_count": 37,
   "id": "281dea42",
   "metadata": {},
   "outputs": [],
   "source": [
    "# 번역 생성 함수\n",
    "\n",
    "def evaluate(sentence, model, src_tokenizer, tgt_tokenizer):\n",
    "    sentence = preprocess_sentence(sentence)\n",
    "\n",
    "    pieces = src_tokenizer.encode_as_pieces(sentence)\n",
    "    tokens = src_tokenizer.encode_as_ids(sentence)\n",
    "\n",
    "    _input = tf.keras.preprocessing.sequence.pad_sequences([tokens],\n",
    "                                                           maxlen=enc_train.shape[-1],\n",
    "                                                           padding='post')\n",
    "    \n",
    "    ids = []\n",
    "    output = tf.expand_dims([tgt_tokenizer.bos_id()], 0)\n",
    "    for i in range(dec_train.shape[-1]):\n",
    "        enc_padding_mask, combined_mask, dec_padding_mask = \\\n",
    "        generate_masks(_input, output)\n",
    "\n",
    "        predictions, enc_attns, dec_attns, dec_enc_attns =\\\n",
    "        model(_input, \n",
    "              output,\n",
    "              enc_padding_mask,\n",
    "              combined_mask,\n",
    "              dec_padding_mask)\n",
    "\n",
    "        predicted_id = \\\n",
    "        tf.argmax(tf.math.softmax(predictions, axis=-1)[0, -1]).numpy().item()\n",
    "\n",
    "        if tgt_tokenizer.eos_id() == predicted_id:\n",
    "            result = tgt_tokenizer.decode_ids(ids)\n",
    "            return pieces, result, enc_attns, dec_attns, dec_enc_attns\n",
    "\n",
    "        ids.append(predicted_id)\n",
    "        output = tf.concat([output, tf.expand_dims([predicted_id], 0)], axis=-1)\n",
    "\n",
    "    result = tgt_tokenizer.decode_ids(ids)\n",
    "\n",
    "    return pieces, result, enc_attns, dec_attns, dec_enc_attns"
   ]
  },
  {
   "cell_type": "code",
   "execution_count": 38,
   "id": "e49faa34",
   "metadata": {},
   "outputs": [],
   "source": [
    "# 번역 생성 및 Attention 시각화 결합\n",
    "\n",
    "def translate(sentence, model, src_tokenizer, tgt_tokenizer, plot_attention=False):\n",
    "    pieces, result, enc_attns, dec_attns, dec_enc_attns = \\\n",
    "    evaluate(sentence, model, src_tokenizer, tgt_tokenizer)\n",
    "    \n",
    "    print('Input: %s' % (sentence))\n",
    "    print('Predicted translation: {}'.format(result))\n",
    "\n",
    "    if plot_attention:\n",
    "        visualize_attention(pieces, result.split(), enc_attns, dec_attns, dec_enc_attns)"
   ]
  },
  {
   "cell_type": "markdown",
   "id": "4b741d63",
   "metadata": {},
   "source": [
    "#### 시도 1"
   ]
  },
  {
   "cell_type": "code",
   "execution_count": 39,
   "id": "ff30fa7c",
   "metadata": {
    "scrolled": false
   },
   "outputs": [
    {
     "name": "stdout",
     "output_type": "stream",
     "text": [
      "Hyperparameters \n",
      "       n_layers=2 \n",
      "       d_model=512 \n",
      "       n_heads=8 \n",
      "       d_ff=2048 \n",
      "       src_vocab_size=20000 \n",
      "       tgt_vocab_size=20000 \n",
      "       dropout=0.1\n",
      "Training Parameters \n",
      "       Warmup Steps=4000 \n",
      "       BATCH_SIZE=64\n"
     ]
    },
    {
     "name": "stderr",
     "output_type": "stream",
     "text": [
      "Epoch  1: 100%|██████████| 918/918 [02:47<00:00,  5.48it/s, Loss 6.2323]\n",
      "Test Epoch  1: 100%|██████████| 230/230 [00:17<00:00, 13.49it/s, Test Loss 5.2128]\n"
     ]
    },
    {
     "name": "stdout",
     "output_type": "stream",
     "text": [
      "Input: 오바마는 대통령이다.\n",
      "Predicted translation: obamas campaign .\n",
      "Input: 시민들은 도시 속에 산다.\n",
      "Predicted translation: the same of the worlds largest .\n",
      "Input: 커피는 필요 없다.\n",
      "Predicted translation: the dow is no .\n",
      "Input: 일곱 명의 사망자가 발생했다.\n",
      "Predicted translation: the deaths were injured .\n"
     ]
    },
    {
     "name": "stderr",
     "output_type": "stream",
     "text": [
      "Epoch  2: 100%|██████████| 918/918 [02:47<00:00,  5.48it/s, Loss 4.7320]\n",
      "Test Epoch  2: 100%|██████████| 230/230 [00:15<00:00, 14.45it/s, Test Loss 4.5624]\n"
     ]
    },
    {
     "name": "stdout",
     "output_type": "stream",
     "text": [
      "Input: 오바마는 대통령이다.\n",
      "Predicted translation: obamas president .\n",
      "Input: 시민들은 도시 속에 산다.\n",
      "Predicted translation: theyre just a lot of people .\n",
      "Input: 커피는 필요 없다.\n",
      "Predicted translation: coffee is not a coffee .\n",
      "Input: 일곱 명의 사망자가 발생했다.\n",
      "Predicted translation: sundays death toll was killed .\n"
     ]
    },
    {
     "name": "stderr",
     "output_type": "stream",
     "text": [
      "Epoch  3: 100%|██████████| 918/918 [02:47<00:00,  5.48it/s, Loss 4.0588]\n",
      "Test Epoch  3: 100%|██████████| 230/230 [00:15<00:00, 14.46it/s, Test Loss 4.3251]\n"
     ]
    },
    {
     "name": "stdout",
     "output_type": "stream",
     "text": [
      "Input: 오바마는 대통령이다.\n",
      "Predicted translation: obamas campaigned in the first lady .\n",
      "Input: 시민들은 도시 속에 산다.\n",
      "Predicted translation: the city city city city city .\n",
      "Input: 커피는 필요 없다.\n",
      "Predicted translation: the coffee is not a coffee .\n",
      "Input: 일곱 명의 사망자가 발생했다.\n",
      "Predicted translation: the death toll was killed .\n"
     ]
    },
    {
     "name": "stderr",
     "output_type": "stream",
     "text": [
      "Epoch  4: 100%|██████████| 918/918 [02:47<00:00,  5.48it/s, Loss 3.5656]\n",
      "Test Epoch  4: 100%|██████████| 230/230 [00:15<00:00, 14.49it/s, Test Loss 4.2930]\n"
     ]
    },
    {
     "name": "stdout",
     "output_type": "stream",
     "text": [
      "Input: 오바마는 대통령이다.\n",
      "Predicted translation: obama is a former president .\n",
      "Input: 시민들은 도시 속에 산다.\n",
      "Predicted translation: the mountain is about the mountain .\n",
      "Input: 커피는 필요 없다.\n",
      "Predicted translation: no need is needed to be the united states .\n",
      "Input: 일곱 명의 사망자가 발생했다.\n",
      "Predicted translation: death toll from the death toll .\n"
     ]
    },
    {
     "name": "stderr",
     "output_type": "stream",
     "text": [
      "Epoch  5: 100%|██████████| 918/918 [02:47<00:00,  5.49it/s, Loss 3.1463]\n",
      "Test Epoch  5: 100%|██████████| 230/230 [00:15<00:00, 14.48it/s, Test Loss 4.3437]\n"
     ]
    },
    {
     "name": "stdout",
     "output_type": "stream",
     "text": [
      "Input: 오바마는 대통령이다.\n",
      "Predicted translation: obama is a former president .\n",
      "Input: 시민들은 도시 속에 산다.\n",
      "Predicted translation: the city is the city of chided .\n",
      "Input: 커피는 필요 없다.\n",
      "Predicted translation: the coffee chain has never asked .\n",
      "Input: 일곱 명의 사망자가 발생했다.\n",
      "Predicted translation: on sunday , a day of the deadly wounded .\n"
     ]
    },
    {
     "name": "stderr",
     "output_type": "stream",
     "text": [
      "Epoch  6: 100%|██████████| 918/918 [02:47<00:00,  5.48it/s, Loss 2.4890]\n",
      "Test Epoch  6: 100%|██████████| 230/230 [00:15<00:00, 14.43it/s, Test Loss 4.5837]\n"
     ]
    },
    {
     "name": "stdout",
     "output_type": "stream",
     "text": [
      "Input: 오바마는 대통령이다.\n",
      "Predicted translation: obama is a very sorry .\n",
      "Input: 시민들은 도시 속에 산다.\n",
      "Predicted translation: the home is a city in the city .\n",
      "Input: 커피는 필요 없다.\n",
      "Predicted translation: no coffee is done .\n",
      "Input: 일곱 명의 사망자가 발생했다.\n",
      "Predicted translation: the death toll rose to .\n"
     ]
    },
    {
     "name": "stderr",
     "output_type": "stream",
     "text": [
      "Epoch  7: 100%|██████████| 918/918 [02:47<00:00,  5.48it/s, Loss 1.8350]\n",
      "Test Epoch  7: 100%|██████████| 230/230 [00:15<00:00, 14.42it/s, Test Loss 4.9897]\n"
     ]
    },
    {
     "name": "stdout",
     "output_type": "stream",
     "text": [
      "Input: 오바마는 대통령이다.\n",
      "Predicted translation: obamas president , obama said .\n",
      "Input: 시민들은 도시 속에 산다.\n",
      "Predicted translation: they had just like the city .\n",
      "Input: 커피는 필요 없다.\n",
      "Predicted translation: there is no doubt coffee .\n",
      "Input: 일곱 명의 사망자가 발생했다.\n",
      "Predicted translation: twelve deaths were dead monday .\n"
     ]
    },
    {
     "name": "stderr",
     "output_type": "stream",
     "text": [
      "Epoch  8: 100%|██████████| 918/918 [02:47<00:00,  5.48it/s, Loss 1.3089]\n",
      "Test Epoch  8: 100%|██████████| 230/230 [00:15<00:00, 14.44it/s, Test Loss 5.4908]\n"
     ]
    },
    {
     "name": "stdout",
     "output_type": "stream",
     "text": [
      "Input: 오바마는 대통령이다.\n",
      "Predicted translation: obama is being held in the democratic presidential race .\n",
      "Input: 시민들은 도시 속에 산다.\n",
      "Predicted translation: .\n",
      "Input: 커피는 필요 없다.\n",
      "Predicted translation: thats needed a chain of coffee .\n",
      "Input: 일곱 명의 사망자가 발생했다.\n",
      "Predicted translation: deaths civilian deaths have been .\n"
     ]
    },
    {
     "name": "stderr",
     "output_type": "stream",
     "text": [
      "Epoch  9: 100%|██████████| 918/918 [02:47<00:00,  5.48it/s, Loss 0.9267]\n",
      "Test Epoch  9: 100%|██████████| 230/230 [00:15<00:00, 14.46it/s, Test Loss 6.0524]\n"
     ]
    },
    {
     "name": "stdout",
     "output_type": "stream",
     "text": [
      "Input: 오바마는 대통령이다.\n",
      "Predicted translation: obama is one of the presidents most democratic partys seeking a  ⁇ \n",
      "Input: 시민들은 도시 속에 산다.\n",
      "Predicted translation: in one town , citizens in town .\n",
      "Input: 커피는 필요 없다.\n",
      "Predicted translation: thats needed u . n . coffee .\n",
      "Input: 일곱 명의 사망자가 발생했다.\n",
      "Predicted translation: deaths in the southern dead were up to nine monday , seven other deaths occurred monday .\n"
     ]
    },
    {
     "name": "stderr",
     "output_type": "stream",
     "text": [
      "Epoch 10: 100%|██████████| 918/918 [02:47<00:00,  5.47it/s, Loss 0.6802]\n",
      "Test Epoch 10: 100%|██████████| 230/230 [00:15<00:00, 14.39it/s, Test Loss 6.5568]\n"
     ]
    },
    {
     "name": "stdout",
     "output_type": "stream",
     "text": [
      "Input: 오바마는 대통령이다.\n",
      "Predicted translation: obama is expected to be president of the same kind of a very president , obamas a gave a massive set of his old trip to president barack obama .\n",
      "Input: 시민들은 도시 속에 산다.\n",
      "Predicted translation: three cities\n",
      "Input: 커피는 필요 없다.\n",
      "Predicted translation: no doubts for us needs .\n",
      "Input: 일곱 명의 사망자가 발생했다.\n",
      "Predicted translation: deaths in the seven other deaths .\n"
     ]
    }
   ],
   "source": [
    "# 학습\n",
    "\n",
    "#from tqdm.notebook import tqdm\n",
    "from tqdm import tqdm\n",
    "\n",
    "import random\n",
    "\n",
    "BATCH_SIZE = 64\n",
    "#EPOCHS = 20\n",
    "#EPOCHS = 10\n",
    "EPOCHS = 10\n",
    "\n",
    "examples = [\n",
    "            \"오바마는 대통령이다.\",\n",
    "            \"시민들은 도시 속에 산다.\",\n",
    "            \"커피는 필요 없다.\",\n",
    "            \"일곱 명의 사망자가 발생했다.\"\n",
    "]\n",
    "\n",
    "\n",
    "# Hyperparameters\n",
    "print(f\"Hyperparameters \\n \\\n",
    "      n_layers={n_layers} \\n \\\n",
    "      d_model={d_model} \\n \\\n",
    "      n_heads={n_heads} \\n \\\n",
    "      d_ff={d_ff} \\n \\\n",
    "      src_vocab_size={src_vocab_size} \\n \\\n",
    "      tgt_vocab_size={tgt_vocab_size} \\n \\\n",
    "      dropout={dropout}\")\n",
    "\n",
    "print(f\"Training Parameters \\n \\\n",
    "      Warmup Steps={4000} \\n \\\n",
    "      BATCH_SIZE={BATCH_SIZE}\")\n",
    "\n",
    "\n",
    "\n",
    "for epoch in range(EPOCHS):\n",
    "    total_loss = 0\n",
    "    \n",
    "    idx_list = list(range(0, enc_train.shape[0], BATCH_SIZE))\n",
    "    random.shuffle(idx_list)\n",
    "    t = tqdm(idx_list)\n",
    "\n",
    "    for (batch, idx) in enumerate(t):\n",
    "        batch_loss, enc_attns, dec_attns, dec_enc_attns = \\\n",
    "        train_step(enc_train[idx:idx+BATCH_SIZE],\n",
    "                    dec_train[idx:idx+BATCH_SIZE],\n",
    "                    transformer,\n",
    "                    optimizer)\n",
    "\n",
    "        total_loss += batch_loss\n",
    "        \n",
    "        t.set_description_str('Epoch %2d' % (epoch + 1))\n",
    "        t.set_postfix_str('Loss %.4f' % (total_loss.numpy() / (batch + 1)))\n",
    "        \n",
    "    test_loss = 0\n",
    "    \n",
    "    idx_list = list(range(0, enc_val.shape[0], BATCH_SIZE))\n",
    "    random.shuffle(idx_list)\n",
    "    t = tqdm(idx_list)    \n",
    "    \n",
    "    for (test_batch, idx) in enumerate(t):\n",
    "        test_batch_loss, enc_attns, dec_attns, dec_enc_attns = \\\n",
    "        eval_step(enc_val[idx:idx+BATCH_SIZE],\n",
    "                    dec_val[idx:idx+BATCH_SIZE],\n",
    "                    transformer,\n",
    "                    optimizer)\n",
    "\n",
    "        test_loss += test_batch_loss\n",
    "        \n",
    "        t.set_description_str('Test Epoch %2d' % (epoch + 1))\n",
    "        t.set_postfix_str('Test Loss %.4f' % (test_loss.numpy() / (test_batch + 1)))\n",
    "\n",
    "        \n",
    "    for example in examples:\n",
    "        translate(example, transformer, ko_tokenizer, en_tokenizer)\n",
    "        \n",
    "    "
   ]
  },
  {
   "cell_type": "markdown",
   "id": "45257697",
   "metadata": {},
   "source": [
    "####  시도 2"
   ]
  },
  {
   "cell_type": "code",
   "execution_count": 38,
   "id": "503edade",
   "metadata": {
    "scrolled": false
   },
   "outputs": [
    {
     "name": "stdout",
     "output_type": "stream",
     "text": [
      "Hyperparameters \n",
      "       n_layers=2 \n",
      "       d_model=512 \n",
      "       n_heads=8 \n",
      "       d_ff=2048 \n",
      "       src_vocab_size=20000 \n",
      "       tgt_vocab_size=20000 \n",
      "       pos_len = 50 \n",
      "       dropout=0.2\n",
      "Training Parameters \n",
      "       Warmup Steps=4000 \n",
      "       BATCH_SIZE=64\n"
     ]
    },
    {
     "name": "stderr",
     "output_type": "stream",
     "text": [
      "Epoch  1: 100%|██████████| 918/918 [02:48<00:00,  5.43it/s, Loss 6.2436] \n",
      "Test Epoch  1: 100%|██████████| 230/230 [00:17<00:00, 13.43it/s, Test Loss 5.2060]\n"
     ]
    },
    {
     "name": "stdout",
     "output_type": "stream",
     "text": [
      "Input: 오바마는 대통령이다.\n",
      "Predicted translation: president roh moohyun .\n",
      "Input: 시민들은 도시 속에 산다.\n",
      "Predicted translation: the dow is a fewer .\n",
      "Input: 커피는 필요 없다.\n",
      "Predicted translation: theyre not to the economy .\n",
      "Input: 일곱 명의 사망자가 발생했다.\n",
      "Predicted translation: the blast was killed in the death toll .\n"
     ]
    },
    {
     "name": "stderr",
     "output_type": "stream",
     "text": [
      "Epoch  2: 100%|██████████| 918/918 [02:47<00:00,  5.48it/s, Loss 4.7447]\n",
      "Test Epoch  2: 100%|██████████| 230/230 [00:15<00:00, 14.47it/s, Test Loss 4.5541]\n"
     ]
    },
    {
     "name": "stdout",
     "output_type": "stream",
     "text": [
      "Input: 오바마는 대통령이다.\n",
      "Predicted translation: obamas president roh has left his first time .\n",
      "Input: 시민들은 도시 속에 산다.\n",
      "Predicted translation: the city is a small city .\n",
      "Input: 커피는 필요 없다.\n",
      "Predicted translation: theyre not just a good thing .\n",
      "Input: 일곱 명의 사망자가 발생했다.\n",
      "Predicted translation: the death toll from the death toll .\n"
     ]
    },
    {
     "name": "stderr",
     "output_type": "stream",
     "text": [
      "Epoch  3: 100%|██████████| 918/918 [02:47<00:00,  5.47it/s, Loss 4.0768]\n",
      "Test Epoch  3: 100%|██████████| 230/230 [00:15<00:00, 14.47it/s, Test Loss 4.3140]\n"
     ]
    },
    {
     "name": "stdout",
     "output_type": "stream",
     "text": [
      "Input: 오바마는 대통령이다.\n",
      "Predicted translation: obama is only picked up .\n",
      "Input: 시민들은 도시 속에 산다.\n",
      "Predicted translation: the streets are in cities .\n",
      "Input: 커피는 필요 없다.\n",
      "Predicted translation: coffees arent enough .\n",
      "Input: 일곱 명의 사망자가 발생했다.\n",
      "Predicted translation: the number of deadly injured people .\n"
     ]
    },
    {
     "name": "stderr",
     "output_type": "stream",
     "text": [
      "Epoch  4: 100%|██████████| 918/918 [02:47<00:00,  5.48it/s, Loss 3.5852]\n",
      "Test Epoch  4: 100%|██████████| 230/230 [00:15<00:00, 14.45it/s, Test Loss 4.2794]\n"
     ]
    },
    {
     "name": "stdout",
     "output_type": "stream",
     "text": [
      "Input: 오바마는 대통령이다.\n",
      "Predicted translation: i think that president obama is not the president .\n",
      "Input: 시민들은 도시 속에 산다.\n",
      "Predicted translation: the city of bear is so long .\n",
      "Input: 커피는 필요 없다.\n",
      "Predicted translation: no one is needed to be a good\n",
      "Input: 일곱 명의 사망자가 발생했다.\n",
      "Predicted translation: the death toll was not known .\n"
     ]
    },
    {
     "name": "stderr",
     "output_type": "stream",
     "text": [
      "Epoch  5: 100%|██████████| 918/918 [02:49<00:00,  5.41it/s, Loss 3.1572]\n",
      "Test Epoch  5: 100%|██████████| 230/230 [00:17<00:00, 12.95it/s, Test Loss 4.3250]\n"
     ]
    },
    {
     "name": "stdout",
     "output_type": "stream",
     "text": [
      "Input: 오바마는 대통령이다.\n",
      "Predicted translation: obama is a good president .\n",
      "Input: 시민들은 도시 속에 산다.\n",
      "Predicted translation: citizens in urban city .\n",
      "Input: 커피는 필요 없다.\n",
      "Predicted translation: no one is needed to be coffee .\n",
      "Input: 일곱 명의 사망자가 발생했다.\n",
      "Predicted translation: the death toll rose from the nearby fatality .\n"
     ]
    },
    {
     "name": "stderr",
     "output_type": "stream",
     "text": [
      "Epoch  6: 100%|██████████| 918/918 [02:51<00:00,  5.36it/s, Loss 2.5048]\n",
      "Test Epoch  6: 100%|██████████| 230/230 [00:15<00:00, 14.47it/s, Test Loss 4.5456]\n"
     ]
    },
    {
     "name": "stdout",
     "output_type": "stream",
     "text": [
      "Input: 오바마는 대통령이다.\n",
      "Predicted translation: obama then took the first .\n",
      "Input: 시민들은 도시 속에 산다.\n",
      "Predicted translation: the town is happy .\n",
      "Input: 커피는 필요 없다.\n",
      "Predicted translation: it doesnt sound .\n",
      "Input: 일곱 명의 사망자가 발생했다.\n",
      "Predicted translation: seven people died in the seven subway .\n"
     ]
    },
    {
     "name": "stderr",
     "output_type": "stream",
     "text": [
      "Epoch  7: 100%|██████████| 918/918 [02:47<00:00,  5.48it/s, Loss 1.8523]\n",
      "Test Epoch  7: 100%|██████████| 230/230 [00:15<00:00, 14.47it/s, Test Loss 4.9290]\n"
     ]
    },
    {
     "name": "stdout",
     "output_type": "stream",
     "text": [
      "Input: 오바마는 대통령이다.\n",
      "Predicted translation: obama has picked up .\n",
      "Input: 시민들은 도시 속에 산다.\n",
      "Predicted translation: they are no strangers in the north .\n",
      "Input: 커피는 필요 없다.\n",
      "Predicted translation: it is not needed for an average woman needed\n",
      "Input: 일곱 명의 사망자가 발생했다.\n",
      "Predicted translation: at least seven people have been killed since the attack began .\n"
     ]
    },
    {
     "name": "stderr",
     "output_type": "stream",
     "text": [
      "Epoch  8: 100%|██████████| 918/918 [02:47<00:00,  5.47it/s, Loss 1.3182]\n",
      "Test Epoch  8: 100%|██████████| 230/230 [00:15<00:00, 14.47it/s, Test Loss 5.4544]\n"
     ]
    },
    {
     "name": "stdout",
     "output_type": "stream",
     "text": [
      "Input: 오바마는 대통령이다.\n",
      "Predicted translation: obama has won the first .\n",
      "Input: 시민들은 도시 속에 산다.\n",
      "Predicted translation: they are d happy .\n",
      "Input: 커피는 필요 없다.\n",
      "Predicted translation: it is the place for where theyre needs to live .\n",
      "Input: 일곱 명의 사망자가 발생했다.\n",
      "Predicted translation: the seven deaths were on wednesday .\n"
     ]
    },
    {
     "name": "stderr",
     "output_type": "stream",
     "text": [
      "Epoch  9: 100%|██████████| 918/918 [02:47<00:00,  5.48it/s, Loss 0.9388]\n",
      "Test Epoch  9: 100%|██████████| 230/230 [00:15<00:00, 14.42it/s, Test Loss 6.0397]\n"
     ]
    },
    {
     "name": "stdout",
     "output_type": "stream",
     "text": [
      "Input: 오바마는 대통령이다.\n",
      "Predicted translation: obama may have kind of appalling\n",
      "Input: 시민들은 도시 속에 산다.\n",
      "Predicted translation: they took a d . d . c .\n",
      "Input: 커피는 필요 없다.\n",
      "Predicted translation: no need to be required .\n",
      "Input: 일곱 명의 사망자가 발생했다.\n",
      "Predicted translation: seven other deaths were hit .\n"
     ]
    },
    {
     "name": "stderr",
     "output_type": "stream",
     "text": [
      "Epoch 10: 100%|██████████| 918/918 [02:47<00:00,  5.48it/s, Loss 0.6851]\n",
      "Test Epoch 10: 100%|██████████| 230/230 [00:15<00:00, 14.43it/s, Test Loss 6.5335]\n"
     ]
    },
    {
     "name": "stdout",
     "output_type": "stream",
     "text": [
      "Input: 오바마는 대통령이다.\n",
      "Predicted translation: obama has .\n",
      "Input: 시민들은 도시 속에 산다.\n",
      "Predicted translation: they have a small in town .\n",
      "Input: 커피는 필요 없다.\n",
      "Predicted translation: no one needs to be needed .\n",
      "Input: 일곱 명의 사망자가 발생했다.\n",
      "Predicted translation: the seven deaths were recorded .\n"
     ]
    }
   ],
   "source": [
    "# 학습\n",
    "\n",
    "#from tqdm.notebook import tqdm\n",
    "from tqdm import tqdm\n",
    "\n",
    "import random\n",
    "\n",
    "BATCH_SIZE = 64\n",
    "#EPOCHS = 20\n",
    "EPOCHS = 10\n",
    "#EPOCHS = 1\n",
    "\n",
    "examples = [\n",
    "            \"오바마는 대통령이다.\",\n",
    "            \"시민들은 도시 속에 산다.\",\n",
    "            \"커피는 필요 없다.\",\n",
    "            \"일곱 명의 사망자가 발생했다.\"\n",
    "]\n",
    "\n",
    "\n",
    "# Hyperparameters\n",
    "print(f\"Hyperparameters \\n \\\n",
    "      n_layers={n_layers} \\n \\\n",
    "      d_model={d_model} \\n \\\n",
    "      n_heads={n_heads} \\n \\\n",
    "      d_ff={d_ff} \\n \\\n",
    "      src_vocab_size={src_vocab_size} \\n \\\n",
    "      tgt_vocab_size={tgt_vocab_size} \\n \\\n",
    "      pos_len = {pos_len} \\n \\\n",
    "      dropout={dropout}\")\n",
    "\n",
    "print(f\"Training Parameters \\n \\\n",
    "      Warmup Steps={4000} \\n \\\n",
    "      BATCH_SIZE={BATCH_SIZE}\")\n",
    "\n",
    "\n",
    "\n",
    "for epoch in range(EPOCHS):\n",
    "    total_loss = 0\n",
    "    \n",
    "    idx_list = list(range(0, enc_train.shape[0], BATCH_SIZE))\n",
    "    random.shuffle(idx_list)\n",
    "    t = tqdm(idx_list)\n",
    "\n",
    "    for (batch, idx) in enumerate(t):\n",
    "        batch_loss, enc_attns, dec_attns, dec_enc_attns = \\\n",
    "        train_step(enc_train[idx:idx+BATCH_SIZE],\n",
    "                    dec_train[idx:idx+BATCH_SIZE],\n",
    "                    transformer,\n",
    "                    optimizer)\n",
    "\n",
    "        total_loss += batch_loss\n",
    "        \n",
    "        t.set_description_str('Epoch %2d' % (epoch + 1))\n",
    "        t.set_postfix_str('Loss %.4f' % (total_loss.numpy() / (batch + 1)))\n",
    "        \n",
    "    test_loss = 0\n",
    "    \n",
    "    idx_list = list(range(0, enc_val.shape[0], BATCH_SIZE))\n",
    "    random.shuffle(idx_list)\n",
    "    t = tqdm(idx_list)    \n",
    "    \n",
    "    for (test_batch, idx) in enumerate(t):\n",
    "        test_batch_loss, enc_attns, dec_attns, dec_enc_attns = \\\n",
    "        eval_step(enc_val[idx:idx+BATCH_SIZE],\n",
    "                    dec_val[idx:idx+BATCH_SIZE],\n",
    "                    transformer,\n",
    "                    optimizer)\n",
    "\n",
    "        test_loss += test_batch_loss\n",
    "        \n",
    "        t.set_description_str('Test Epoch %2d' % (epoch + 1))\n",
    "        t.set_postfix_str('Test Loss %.4f' % (test_loss.numpy() / (test_batch + 1)))\n",
    "\n",
    "        \n",
    "    for example in examples:\n",
    "        translate(example, transformer, ko_tokenizer, en_tokenizer)\n",
    "        \n",
    "    "
   ]
  },
  {
   "cell_type": "markdown",
   "id": "b9eae059",
   "metadata": {},
   "source": [
    "#### 시도 3"
   ]
  },
  {
   "cell_type": "code",
   "execution_count": 66,
   "id": "edcc5d99",
   "metadata": {
    "scrolled": false
   },
   "outputs": [
    {
     "name": "stdout",
     "output_type": "stream",
     "text": [
      "Hyperparameters \n",
      "       n_layers=2 \n",
      "       d_model=512 \n",
      "       n_heads=8 \n",
      "       d_ff=2048 \n",
      "       src_vocab_size=20000 \n",
      "       tgt_vocab_size=20000 \n",
      "       dropout=0.3\n",
      "Training Parameters \n",
      "       Warmup Steps=4000 \n",
      "       BATCH_SIZE=64\n"
     ]
    },
    {
     "name": "stderr",
     "output_type": "stream",
     "text": [
      "Epoch  1: 100%|██████████| 918/918 [04:46<00:00,  3.20it/s, Loss 6.2304] \n",
      "Test Epoch  1: 100%|██████████| 230/230 [00:17<00:00, 13.50it/s, Test Loss 5.2119]\n"
     ]
    },
    {
     "name": "stdout",
     "output_type": "stream",
     "text": [
      "Input: 오바마는 대통령이다.\n",
      "Predicted translation: obamas obama says the president roh moohyun is now .\n",
      "Input: 시민들은 도시 속에 산다.\n",
      "Predicted translation: the dow is also the world .\n",
      "Input: 커피는 필요 없다.\n",
      "Predicted translation: the dow is not to youre .\n",
      "Input: 일곱 명의 사망자가 발생했다.\n",
      "Predicted translation: the dead , the dead , the dead , the dead .\n"
     ]
    },
    {
     "name": "stderr",
     "output_type": "stream",
     "text": [
      "Epoch  2: 100%|██████████| 918/918 [02:47<00:00,  5.47it/s, Loss 4.7486]\n",
      "Test Epoch  2: 100%|██████████| 230/230 [00:15<00:00, 14.49it/s, Test Loss 4.5552]\n"
     ]
    },
    {
     "name": "stdout",
     "output_type": "stream",
     "text": [
      "Input: 오바마는 대통령이다.\n",
      "Predicted translation: obamas president obamas obama is a obama .\n",
      "Input: 시민들은 도시 속에 산다.\n",
      "Predicted translation: the city city of the city .\n",
      "Input: 커피는 필요 없다.\n",
      "Predicted translation: coffee is not a lot of coffee .\n",
      "Input: 일곱 명의 사망자가 발생했다.\n",
      "Predicted translation: more than people were killed .\n"
     ]
    },
    {
     "name": "stderr",
     "output_type": "stream",
     "text": [
      "Epoch  3: 100%|██████████| 918/918 [02:47<00:00,  5.48it/s, Loss 4.0745]\n",
      "Test Epoch  3: 100%|██████████| 230/230 [00:15<00:00, 14.48it/s, Test Loss 4.3110]\n"
     ]
    },
    {
     "name": "stdout",
     "output_type": "stream",
     "text": [
      "Input: 오바마는 대통령이다.\n",
      "Predicted translation: obamas president is the president .\n",
      "Input: 시민들은 도시 속에 산다.\n",
      "Predicted translation: the city is a major city .\n",
      "Input: 커피는 필요 없다.\n",
      "Predicted translation: if you dont have no one thing .\n",
      "Input: 일곱 명의 사망자가 발생했다.\n",
      "Predicted translation: sundays death toll was killed .\n"
     ]
    },
    {
     "name": "stderr",
     "output_type": "stream",
     "text": [
      "Epoch  4: 100%|██████████| 918/918 [02:47<00:00,  5.48it/s, Loss 3.5774]\n",
      "Test Epoch  4: 100%|██████████| 230/230 [00:15<00:00, 14.50it/s, Test Loss 4.2738]\n"
     ]
    },
    {
     "name": "stdout",
     "output_type": "stream",
     "text": [
      "Input: 오바마는 대통령이다.\n",
      "Predicted translation: obamas president elect barack obama will be the president .\n",
      "Input: 시민들은 도시 속에 산다.\n",
      "Predicted translation: they are buried .\n",
      "Input: 커피는 필요 없다.\n",
      "Predicted translation: there are no shortages .\n",
      "Input: 일곱 명의 사망자가 발생했다.\n",
      "Predicted translation: the death toll was killed in the death of a death in the southern territory .\n"
     ]
    },
    {
     "name": "stderr",
     "output_type": "stream",
     "text": [
      "Epoch  5: 100%|██████████| 918/918 [02:47<00:00,  5.49it/s, Loss 3.1562]\n",
      "Test Epoch  5: 100%|██████████| 230/230 [00:15<00:00, 14.51it/s, Test Loss 4.3305]\n"
     ]
    },
    {
     "name": "stdout",
     "output_type": "stream",
     "text": [
      "Input: 오바마는 대통령이다.\n",
      "Predicted translation: obama also faces a first reaction to obama .\n",
      "Input: 시민들은 도시 속에 산다.\n",
      "Predicted translation: the man is a city of d wine .\n",
      "Input: 커피는 필요 없다.\n",
      "Predicted translation: for coffee is a coffee drink .\n",
      "Input: 일곱 명의 사망자가 발생했다.\n",
      "Predicted translation: four were killed in the incident .\n"
     ]
    },
    {
     "name": "stderr",
     "output_type": "stream",
     "text": [
      "Epoch  6: 100%|██████████| 918/918 [02:47<00:00,  5.49it/s, Loss 2.5120]\n",
      "Test Epoch  6: 100%|██████████| 230/230 [00:15<00:00, 14.50it/s, Test Loss 4.5477]\n"
     ]
    },
    {
     "name": "stdout",
     "output_type": "stream",
     "text": [
      "Input: 오바마는 대통령이다.\n",
      "Predicted translation: obamas comments are the president .\n",
      "Input: 시민들은 도시 속에 산다.\n",
      "Predicted translation: the zone is a city of the city .\n",
      "Input: 커피는 필요 없다.\n",
      "Predicted translation: it needs to drink .\n",
      "Input: 일곱 명의 사망자가 발생했다.\n",
      "Predicted translation: seven people were killed in the clashes saturday .\n"
     ]
    },
    {
     "name": "stderr",
     "output_type": "stream",
     "text": [
      "Epoch  7: 100%|██████████| 918/918 [02:54<00:00,  5.26it/s, Loss 1.8546]\n",
      "Test Epoch  7: 100%|██████████| 230/230 [00:31<00:00,  7.20it/s, Test Loss 4.9536]\n"
     ]
    },
    {
     "name": "stdout",
     "output_type": "stream",
     "text": [
      "Input: 오바마는 대통령이다.\n",
      "Predicted translation: obamas stump .\n",
      "Input: 시민들은 도시 속에 산다.\n",
      "Predicted translation: they are worried about politicians .\n",
      "Input: 커피는 필요 없다.\n",
      "Predicted translation: it is necessary .\n",
      "Input: 일곱 명의 사망자가 발생했다.\n",
      "Predicted translation: seven days later killed seven people .\n"
     ]
    },
    {
     "name": "stderr",
     "output_type": "stream",
     "text": [
      "Epoch  8: 100%|██████████| 918/918 [03:47<00:00,  4.03it/s, Loss 1.3268]\n",
      "Test Epoch  8: 100%|██████████| 230/230 [00:15<00:00, 14.47it/s, Test Loss 5.4873]\n"
     ]
    },
    {
     "name": "stdout",
     "output_type": "stream",
     "text": [
      "Input: 오바마는 대통령이다.\n",
      "Predicted translation: obamas left for the president .\n",
      "Input: 시민들은 도시 속에 산다.\n",
      "Predicted translation: the neighbors are just a city .\n",
      "Input: 커피는 필요 없다.\n",
      "Predicted translation: for coffee , a stop you should stop take off .\n",
      "Input: 일곱 명의 사망자가 발생했다.\n",
      "Predicted translation: seven other people were killed .\n"
     ]
    },
    {
     "name": "stderr",
     "output_type": "stream",
     "text": [
      "Epoch  9: 100%|██████████| 918/918 [02:47<00:00,  5.48it/s, Loss 0.9420]\n",
      "Test Epoch  9: 100%|██████████| 230/230 [00:15<00:00, 14.45it/s, Test Loss 6.0338]\n"
     ]
    },
    {
     "name": "stdout",
     "output_type": "stream",
     "text": [
      "Input: 오바마는 대통령이다.\n",
      "Predicted translation: obamas comments come on obamas amid his plan .\n",
      "Input: 시민들은 도시 속에 산다.\n",
      "Predicted translation: they spent on the cities .\n",
      "Input: 커피는 필요 없다.\n",
      "Predicted translation: the request is necessary .\n",
      "Input: 일곱 명의 사망자가 발생했다.\n",
      "Predicted translation: seven people were killed , according to officials .\n"
     ]
    },
    {
     "name": "stderr",
     "output_type": "stream",
     "text": [
      "Epoch 10: 100%|██████████| 918/918 [02:47<00:00,  5.48it/s, Loss 0.6876]\n",
      "Test Epoch 10: 100%|██████████| 230/230 [00:15<00:00, 14.45it/s, Test Loss 6.5036]\n"
     ]
    },
    {
     "name": "stdout",
     "output_type": "stream",
     "text": [
      "Input: 오바마는 대통령이다.\n",
      "Predicted translation: obamas grandmother dos face .\n",
      "Input: 시민들은 도시 속에 산다.\n",
      "Predicted translation: the zone is a chinese town of wine .\n",
      "Input: 커피는 필요 없다.\n",
      "Predicted translation: it needs to calm coffee do .\n",
      "Input: 일곱 명의 사망자가 발생했다.\n",
      "Predicted translation: seven other missiles have been killed .\n"
     ]
    }
   ],
   "source": [
    "# 학습\n",
    "\n",
    "#from tqdm.notebook import tqdm\n",
    "from tqdm import tqdm\n",
    "import random\n",
    "\n",
    "BATCH_SIZE = 64\n",
    "#EPOCHS = 20\n",
    "EPOCHS = 10\n",
    "#EPOCHS = 1\n",
    "\n",
    "examples = [\n",
    "            \"오바마는 대통령이다.\",\n",
    "            \"시민들은 도시 속에 산다.\",\n",
    "            \"커피는 필요 없다.\",\n",
    "            \"일곱 명의 사망자가 발생했다.\"\n",
    "]\n",
    "\n",
    "\n",
    "# Hyperparameters\n",
    "print(f\"Hyperparameters \\n \\\n",
    "      n_layers={n_layers} \\n \\\n",
    "      d_model={d_model} \\n \\\n",
    "      n_heads={n_heads} \\n \\\n",
    "      d_ff={d_ff} \\n \\\n",
    "      src_vocab_size={src_vocab_size} \\n \\\n",
    "      tgt_vocab_size={tgt_vocab_size} \\n \\\n",
    "      dropout={dropout}\")\n",
    "\n",
    "print(f\"Training Parameters \\n \\\n",
    "      Warmup Steps={4000} \\n \\\n",
    "      BATCH_SIZE={BATCH_SIZE}\")\n",
    "\n",
    "\n",
    "\n",
    "for epoch in range(EPOCHS):\n",
    "    total_loss = 0\n",
    "    \n",
    "    idx_list = list(range(0, enc_train.shape[0], BATCH_SIZE))\n",
    "    random.shuffle(idx_list)\n",
    "    t = tqdm(idx_list)\n",
    "\n",
    "    for (batch, idx) in enumerate(t):\n",
    "        batch_loss, enc_attns, dec_attns, dec_enc_attns = \\\n",
    "        train_step(enc_train[idx:idx+BATCH_SIZE],\n",
    "                    dec_train[idx:idx+BATCH_SIZE],\n",
    "                    transformer,\n",
    "                    optimizer)\n",
    "\n",
    "        total_loss += batch_loss\n",
    "        \n",
    "        t.set_description_str('Epoch %2d' % (epoch + 1))\n",
    "        t.set_postfix_str('Loss %.4f' % (total_loss.numpy() / (batch + 1)))\n",
    "        \n",
    "    test_loss = 0\n",
    "    \n",
    "    idx_list = list(range(0, enc_val.shape[0], BATCH_SIZE))\n",
    "    random.shuffle(idx_list)\n",
    "    t = tqdm(idx_list)    \n",
    "    \n",
    "    for (test_batch, idx) in enumerate(t):\n",
    "        test_batch_loss, enc_attns, dec_attns, dec_enc_attns = \\\n",
    "        eval_step(enc_val[idx:idx+BATCH_SIZE],\n",
    "                    dec_val[idx:idx+BATCH_SIZE],\n",
    "                    transformer,\n",
    "                    optimizer)\n",
    "\n",
    "        test_loss += test_batch_loss\n",
    "        \n",
    "        t.set_description_str('Test Epoch %2d' % (epoch + 1))\n",
    "        t.set_postfix_str('Test Loss %.4f' % (test_loss.numpy() / (test_batch + 1)))\n",
    "\n",
    "        \n",
    "    for example in examples:\n",
    "        translate(example, transformer, ko_tokenizer, en_tokenizer)\n",
    "        "
   ]
  },
  {
   "cell_type": "markdown",
   "id": "99c6339b",
   "metadata": {},
   "source": [
    "## 회고"
   ]
  },
  {
   "cell_type": "markdown",
   "id": "a9f06b81",
   "metadata": {},
   "source": [
    "* Attention Map 추가 시에 용량 초과로 인해, git hub에서 열리지 않아서, 삭제함\n",
    "* 생성된 번역 및 하이퍼파라미터 "
   ]
  },
  {
   "cell_type": "code",
   "execution_count": 54,
   "id": "6a41b1f2",
   "metadata": {},
   "outputs": [
    {
     "data": {
      "image/png": "[encoded data removed]",
      "text/plain": [
       "<IPython.core.display.Image object>"
      ]
     },
     "execution_count": 54,
     "metadata": {},
     "output_type": "execute_result"
    },
    {
     "data": {
      "image/png": "[encoded data removed]",
      "text/plain": [
       "<IPython.core.display.Image object>"
      ]
     },
     "execution_count": 54,
     "metadata": {},
     "output_type": "execute_result"
    }
   ],
   "source": [
    "Image(filename='./data/gd10_2.png')\n",
    "Image(filename='./data/gd10_1.png')"
   ]
  },
  {
   "cell_type": "markdown",
   "id": "a33aab2a",
   "metadata": {},
   "source": [
    "* Transformer 한영 번역기와 Attential seq2seq 한영 번역기 비교\n",
    "  * 속도면에서는 확실히 rnn이 없어서 그런지 빠르다\n",
    "  * 둘 다 번역이 생각했던거 만큼 잘 되는지 않지만, 트랜스포머의 경우는 문장은 번역이 완전하지 않지만, 확실히 문장 안의 단어는 정확하게 번역이 되는 편임 \n",
    "  \n",
    "* loss 의 의미\n",
    "  * train loss는 epoch가 증가할 수록 감소하지만, test loss는 4.3 이하로는 떨어지지 않음."
   ]
  }
 ],
 "metadata": {
  "kernelspec": {
   "display_name": "Python 3 (ipykernel)",
   "language": "python",
   "name": "python3"
  },
  "language_info": {
   "codemirror_mode": {
    "name": "ipython",
    "version": 3
   },
   "file_extension": ".py",
   "mimetype": "text/x-python",
   "name": "python",
   "nbconvert_exporter": "python",
   "pygments_lexer": "ipython3",
   "version": "3.9.7"
  }
 },
 "nbformat": 4,
 "nbformat_minor": 5
}
